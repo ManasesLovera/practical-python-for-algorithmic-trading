{
  "cells": [
    {
      "attachments": {},
      "cell_type": "markdown",
      "id": "77c2423c-3021-4dd3-b694-ab5851e7eacc",
      "metadata": {},
      "source": [
        "# Data Preprocessing"
      ]
    },
    {
      "attachments": {},
      "cell_type": "markdown",
      "id": "3d3ee75d-48b4-41a7-9763-7071b4637947",
      "metadata": {},
      "source": [
        "## Download & export data tables"
      ]
    },
    {
      "attachments": {},
      "cell_type": "markdown",
      "id": "4822cef5-421a-4235-b822-16187585b343",
      "metadata": {},
      "source": [
        "### Download Microsoft OHLCV with `yfinance` library"
      ]
    },
    {
      "attachments": {},
      "cell_type": "markdown",
      "id": "d34f3f90",
      "metadata": {},
      "source": [
        "**Search for the ticker code**\n",
        "\n",
        "YFinance: https://finance.yahoo.com/\n",
        "\n",
        "- [ ] Microsoft: ???"
      ]
    },
    {
      "cell_type": "code",
      "execution_count": 1,
      "id": "a42ca1cf",
      "metadata": {},
      "outputs": [],
      "source": [
        "import yfinance as yf"
      ]
    },
    {
      "cell_type": "code",
      "execution_count": 36,
      "id": "edec7b00",
      "metadata": {},
      "outputs": [
        {
          "name": "stderr",
          "output_type": "stream",
          "text": [
            "/tmp/ipykernel_10318/2999053980.py:2: FutureWarning:\n",
            "\n",
            "YF.download() has changed argument auto_adjust default to True\n",
            "\n",
            "[*********************100%***********************]  1 of 1 completed\n"
          ]
        },
        {
          "data": {
            "text/plain": [
              "[('Close', 'MSFT'),\n",
              " ('High', 'MSFT'),\n",
              " ('Low', 'MSFT'),\n",
              " ('Open', 'MSFT'),\n",
              " ('Volume', 'MSFT')]"
            ]
          },
          "execution_count": 36,
          "metadata": {},
          "output_type": "execute_result"
        }
      ],
      "source": [
        "ticker = 'MSFT'\n",
        "df_MSFT = yf.download(tickers=ticker, start='2015-01-01')\n",
        "assert df_MSFT is not None\n",
        "df_MSFT.columns.tolist()"
      ]
    },
    {
      "cell_type": "code",
      "execution_count": 37,
      "id": "e63dfe5f",
      "metadata": {},
      "outputs": [
        {
          "data": {
            "text/plain": [
              "['Close', 'High', 'Low', 'Open', 'Volume']"
            ]
          },
          "execution_count": 37,
          "metadata": {},
          "output_type": "execute_result"
        }
      ],
      "source": [
        "# To avoid the other column 'MSFT' we just keep the columns names we want: Close, High, etc...\n",
        "assert df_MSFT is not None\n",
        "df_MSFT.columns = df_MSFT.columns.droplevel(1)\n",
        "df_MSFT.columns.tolist()"
      ]
    },
    {
      "cell_type": "code",
      "execution_count": 38,
      "id": "42c49b00",
      "metadata": {},
      "outputs": [
        {
          "data": {
            "text/html": [
              "<div>\n",
              "<style scoped>\n",
              "    .dataframe tbody tr th:only-of-type {\n",
              "        vertical-align: middle;\n",
              "    }\n",
              "\n",
              "    .dataframe tbody tr th {\n",
              "        vertical-align: top;\n",
              "    }\n",
              "\n",
              "    .dataframe thead th {\n",
              "        text-align: right;\n",
              "    }\n",
              "</style>\n",
              "<table border=\"1\" class=\"dataframe\">\n",
              "  <thead>\n",
              "    <tr style=\"text-align: right;\">\n",
              "      <th>Price</th>\n",
              "      <th>Close</th>\n",
              "      <th>High</th>\n",
              "      <th>Low</th>\n",
              "      <th>Open</th>\n",
              "      <th>Volume</th>\n",
              "    </tr>\n",
              "    <tr>\n",
              "      <th>Date</th>\n",
              "      <th></th>\n",
              "      <th></th>\n",
              "      <th></th>\n",
              "      <th></th>\n",
              "      <th></th>\n",
              "    </tr>\n",
              "  </thead>\n",
              "  <tbody>\n",
              "    <tr>\n",
              "      <th>2015-01-02</th>\n",
              "      <td>39.933052</td>\n",
              "      <td>40.496692</td>\n",
              "      <td>39.745174</td>\n",
              "      <td>39.847653</td>\n",
              "      <td>27913900</td>\n",
              "    </tr>\n",
              "    <tr>\n",
              "      <th>2015-01-05</th>\n",
              "      <td>39.565838</td>\n",
              "      <td>39.907436</td>\n",
              "      <td>39.497516</td>\n",
              "      <td>39.599995</td>\n",
              "      <td>39673900</td>\n",
              "    </tr>\n",
              "    <tr>\n",
              "      <th>2015-01-06</th>\n",
              "      <td>38.985119</td>\n",
              "      <td>39.924518</td>\n",
              "      <td>38.891178</td>\n",
              "      <td>39.608539</td>\n",
              "      <td>36447900</td>\n",
              "    </tr>\n",
              "    <tr>\n",
              "      <th>2015-01-07</th>\n",
              "      <td>39.480434</td>\n",
              "      <td>39.676854</td>\n",
              "      <td>38.848476</td>\n",
              "      <td>39.266934</td>\n",
              "      <td>29114100</td>\n",
              "    </tr>\n",
              "    <tr>\n",
              "      <th>2015-01-08</th>\n",
              "      <td>40.641872</td>\n",
              "      <td>40.778512</td>\n",
              "      <td>39.898893</td>\n",
              "      <td>39.924512</td>\n",
              "      <td>29645200</td>\n",
              "    </tr>\n",
              "    <tr>\n",
              "      <th>...</th>\n",
              "      <td>...</td>\n",
              "      <td>...</td>\n",
              "      <td>...</td>\n",
              "      <td>...</td>\n",
              "      <td>...</td>\n",
              "    </tr>\n",
              "    <tr>\n",
              "      <th>2025-10-06</th>\n",
              "      <td>528.570007</td>\n",
              "      <td>531.030029</td>\n",
              "      <td>518.200012</td>\n",
              "      <td>518.609985</td>\n",
              "      <td>21388600</td>\n",
              "    </tr>\n",
              "    <tr>\n",
              "      <th>2025-10-07</th>\n",
              "      <td>523.979980</td>\n",
              "      <td>529.799988</td>\n",
              "      <td>521.440002</td>\n",
              "      <td>528.289978</td>\n",
              "      <td>14615200</td>\n",
              "    </tr>\n",
              "    <tr>\n",
              "      <th>2025-10-08</th>\n",
              "      <td>524.849976</td>\n",
              "      <td>526.950012</td>\n",
              "      <td>523.090027</td>\n",
              "      <td>523.280029</td>\n",
              "      <td>13363400</td>\n",
              "    </tr>\n",
              "    <tr>\n",
              "      <th>2025-10-09</th>\n",
              "      <td>522.400024</td>\n",
              "      <td>524.330017</td>\n",
              "      <td>517.400024</td>\n",
              "      <td>522.340027</td>\n",
              "      <td>18343600</td>\n",
              "    </tr>\n",
              "    <tr>\n",
              "      <th>2025-10-10</th>\n",
              "      <td>510.959991</td>\n",
              "      <td>523.580017</td>\n",
              "      <td>509.630005</td>\n",
              "      <td>519.640015</td>\n",
              "      <td>24065400</td>\n",
              "    </tr>\n",
              "  </tbody>\n",
              "</table>\n",
              "<p>2710 rows × 5 columns</p>\n",
              "</div>"
            ],
            "text/plain": [
              "Price            Close        High         Low        Open    Volume\n",
              "Date                                                                \n",
              "2015-01-02   39.933052   40.496692   39.745174   39.847653  27913900\n",
              "2015-01-05   39.565838   39.907436   39.497516   39.599995  39673900\n",
              "2015-01-06   38.985119   39.924518   38.891178   39.608539  36447900\n",
              "2015-01-07   39.480434   39.676854   38.848476   39.266934  29114100\n",
              "2015-01-08   40.641872   40.778512   39.898893   39.924512  29645200\n",
              "...                ...         ...         ...         ...       ...\n",
              "2025-10-06  528.570007  531.030029  518.200012  518.609985  21388600\n",
              "2025-10-07  523.979980  529.799988  521.440002  528.289978  14615200\n",
              "2025-10-08  524.849976  526.950012  523.090027  523.280029  13363400\n",
              "2025-10-09  522.400024  524.330017  517.400024  522.340027  18343600\n",
              "2025-10-10  510.959991  523.580017  509.630005  519.640015  24065400\n",
              "\n",
              "[2710 rows x 5 columns]"
            ]
          },
          "execution_count": 38,
          "metadata": {},
          "output_type": "execute_result"
        }
      ],
      "source": [
        "df_MSFT"
      ]
    },
    {
      "attachments": {},
      "cell_type": "markdown",
      "id": "7d765173-3def-41b6-9a2f-3b5c9e1dc974",
      "metadata": {},
      "source": [
        "### Download any ticker"
      ]
    },
    {
      "attachments": {},
      "cell_type": "markdown",
      "id": "e8939293-f380-4613-b382-c7326b1f6175",
      "metadata": {},
      "source": [
        "- [x] Microsoft: MSFT\n",
        "- [ ] Bitcoin: ???"
      ]
    },
    {
      "cell_type": "code",
      "execution_count": 4,
      "id": "267848a7-f793-4f14-9dc1-5e599b83baf6",
      "metadata": {},
      "outputs": [
        {
          "name": "stderr",
          "output_type": "stream",
          "text": [
            "[*********************100%***********************]  1 of 1 completed\n"
          ]
        },
        {
          "data": {
            "text/html": [
              "<div>\n",
              "<style scoped>\n",
              "    .dataframe tbody tr th:only-of-type {\n",
              "        vertical-align: middle;\n",
              "    }\n",
              "\n",
              "    .dataframe tbody tr th {\n",
              "        vertical-align: top;\n",
              "    }\n",
              "\n",
              "    .dataframe thead th {\n",
              "        text-align: right;\n",
              "    }\n",
              "</style>\n",
              "<table border=\"1\" class=\"dataframe\">\n",
              "  <thead>\n",
              "    <tr style=\"text-align: right;\">\n",
              "      <th></th>\n",
              "      <th>Adj Close</th>\n",
              "      <th>Close</th>\n",
              "      <th>High</th>\n",
              "      <th>Low</th>\n",
              "      <th>Open</th>\n",
              "      <th>Volume</th>\n",
              "    </tr>\n",
              "    <tr>\n",
              "      <th>Date</th>\n",
              "      <th></th>\n",
              "      <th></th>\n",
              "      <th></th>\n",
              "      <th></th>\n",
              "      <th></th>\n",
              "      <th></th>\n",
              "    </tr>\n",
              "  </thead>\n",
              "  <tbody>\n",
              "    <tr>\n",
              "      <th>2025-09-12</th>\n",
              "      <td>116101.578125</td>\n",
              "      <td>116101.578125</td>\n",
              "      <td>116769.382812</td>\n",
              "      <td>114794.484375</td>\n",
              "      <td>115507.789062</td>\n",
              "      <td>54785725894</td>\n",
              "    </tr>\n",
              "    <tr>\n",
              "      <th>2025-09-13</th>\n",
              "      <td>115950.507812</td>\n",
              "      <td>115950.507812</td>\n",
              "      <td>116334.632812</td>\n",
              "      <td>115248.273438</td>\n",
              "      <td>116093.562500</td>\n",
              "      <td>34549454947</td>\n",
              "    </tr>\n",
              "    <tr>\n",
              "      <th>2025-09-14</th>\n",
              "      <td>115407.656250</td>\n",
              "      <td>115407.656250</td>\n",
              "      <td>116181.500000</td>\n",
              "      <td>115222.398438</td>\n",
              "      <td>115950.289062</td>\n",
              "      <td>32798036057</td>\n",
              "    </tr>\n",
              "    <tr>\n",
              "      <th>2025-09-15</th>\n",
              "      <td>115444.875000</td>\n",
              "      <td>115444.875000</td>\n",
              "      <td>116747.882812</td>\n",
              "      <td>114461.062500</td>\n",
              "      <td>115399.632812</td>\n",
              "      <td>52937859416</td>\n",
              "    </tr>\n",
              "    <tr>\n",
              "      <th>2025-09-16</th>\n",
              "      <td>116843.187500</td>\n",
              "      <td>116843.187500</td>\n",
              "      <td>117005.273438</td>\n",
              "      <td>114813.093750</td>\n",
              "      <td>115423.757812</td>\n",
              "      <td>45781744593</td>\n",
              "    </tr>\n",
              "    <tr>\n",
              "      <th>2025-09-17</th>\n",
              "      <td>116468.507812</td>\n",
              "      <td>116468.507812</td>\n",
              "      <td>117328.609375</td>\n",
              "      <td>114794.976562</td>\n",
              "      <td>116840.507812</td>\n",
              "      <td>60528025996</td>\n",
              "    </tr>\n",
              "    <tr>\n",
              "      <th>2025-09-18</th>\n",
              "      <td>117137.203125</td>\n",
              "      <td>117137.203125</td>\n",
              "      <td>117911.789062</td>\n",
              "      <td>116188.796875</td>\n",
              "      <td>116461.265625</td>\n",
              "      <td>49457272032</td>\n",
              "    </tr>\n",
              "    <tr>\n",
              "      <th>2025-09-19</th>\n",
              "      <td>115688.859375</td>\n",
              "      <td>115688.859375</td>\n",
              "      <td>117479.757812</td>\n",
              "      <td>115141.820312</td>\n",
              "      <td>117137.671875</td>\n",
              "      <td>38828473971</td>\n",
              "    </tr>\n",
              "    <tr>\n",
              "      <th>2025-09-20</th>\n",
              "      <td>115721.960938</td>\n",
              "      <td>115721.960938</td>\n",
              "      <td>116191.148438</td>\n",
              "      <td>115473.523438</td>\n",
              "      <td>115691.125000</td>\n",
              "      <td>22864449614</td>\n",
              "    </tr>\n",
              "    <tr>\n",
              "      <th>2025-09-21</th>\n",
              "      <td>115306.093750</td>\n",
              "      <td>115306.093750</td>\n",
              "      <td>115901.085938</td>\n",
              "      <td>115252.578125</td>\n",
              "      <td>115730.226562</td>\n",
              "      <td>22495852193</td>\n",
              "    </tr>\n",
              "    <tr>\n",
              "      <th>2025-09-22</th>\n",
              "      <td>112748.507812</td>\n",
              "      <td>112748.507812</td>\n",
              "      <td>115431.312500</td>\n",
              "      <td>112037.648438</td>\n",
              "      <td>115309.218750</td>\n",
              "      <td>70684158591</td>\n",
              "    </tr>\n",
              "    <tr>\n",
              "      <th>2025-09-23</th>\n",
              "      <td>112014.500000</td>\n",
              "      <td>112014.500000</td>\n",
              "      <td>113351.914062</td>\n",
              "      <td>111535.570312</td>\n",
              "      <td>112757.476562</td>\n",
              "      <td>47211853279</td>\n",
              "    </tr>\n",
              "    <tr>\n",
              "      <th>2025-09-24</th>\n",
              "      <td>113328.632812</td>\n",
              "      <td>113328.632812</td>\n",
              "      <td>113986.273438</td>\n",
              "      <td>111229.640625</td>\n",
              "      <td>112007.664062</td>\n",
              "      <td>48044595085</td>\n",
              "    </tr>\n",
              "    <tr>\n",
              "      <th>2025-09-25</th>\n",
              "      <td>109049.289062</td>\n",
              "      <td>109049.289062</td>\n",
              "      <td>113541.085938</td>\n",
              "      <td>108713.398438</td>\n",
              "      <td>113330.164062</td>\n",
              "      <td>75528654284</td>\n",
              "    </tr>\n",
              "    <tr>\n",
              "      <th>2025-09-26</th>\n",
              "      <td>109712.828125</td>\n",
              "      <td>109712.828125</td>\n",
              "      <td>110359.195312</td>\n",
              "      <td>108728.976562</td>\n",
              "      <td>109041.296875</td>\n",
              "      <td>57738288949</td>\n",
              "    </tr>\n",
              "    <tr>\n",
              "      <th>2025-09-27</th>\n",
              "      <td>109681.945312</td>\n",
              "      <td>109681.945312</td>\n",
              "      <td>109778.500000</td>\n",
              "      <td>109144.296875</td>\n",
              "      <td>109707.140625</td>\n",
              "      <td>26308042910</td>\n",
              "    </tr>\n",
              "    <tr>\n",
              "      <th>2025-09-28</th>\n",
              "      <td>112122.640625</td>\n",
              "      <td>112122.640625</td>\n",
              "      <td>112375.484375</td>\n",
              "      <td>109236.945312</td>\n",
              "      <td>109681.945312</td>\n",
              "      <td>33371048505</td>\n",
              "    </tr>\n",
              "    <tr>\n",
              "      <th>2025-09-29</th>\n",
              "      <td>114400.382812</td>\n",
              "      <td>114400.382812</td>\n",
              "      <td>114473.570312</td>\n",
              "      <td>111589.953125</td>\n",
              "      <td>112117.875000</td>\n",
              "      <td>60000147466</td>\n",
              "    </tr>\n",
              "    <tr>\n",
              "      <th>2025-09-30</th>\n",
              "      <td>114056.085938</td>\n",
              "      <td>114056.085938</td>\n",
              "      <td>114836.617188</td>\n",
              "      <td>112740.562500</td>\n",
              "      <td>114396.523438</td>\n",
              "      <td>58986330258</td>\n",
              "    </tr>\n",
              "    <tr>\n",
              "      <th>2025-10-01</th>\n",
              "      <td>118648.929688</td>\n",
              "      <td>118648.929688</td>\n",
              "      <td>118648.929688</td>\n",
              "      <td>113981.398438</td>\n",
              "      <td>114057.593750</td>\n",
              "      <td>71328680132</td>\n",
              "    </tr>\n",
              "    <tr>\n",
              "      <th>2025-10-02</th>\n",
              "      <td>120681.257812</td>\n",
              "      <td>120681.257812</td>\n",
              "      <td>121086.406250</td>\n",
              "      <td>118383.156250</td>\n",
              "      <td>118652.382812</td>\n",
              "      <td>71415163912</td>\n",
              "    </tr>\n",
              "    <tr>\n",
              "      <th>2025-10-03</th>\n",
              "      <td>122266.531250</td>\n",
              "      <td>122266.531250</td>\n",
              "      <td>123944.703125</td>\n",
              "      <td>119344.312500</td>\n",
              "      <td>120656.984375</td>\n",
              "      <td>83941392228</td>\n",
              "    </tr>\n",
              "    <tr>\n",
              "      <th>2025-10-04</th>\n",
              "      <td>122425.429688</td>\n",
              "      <td>122425.429688</td>\n",
              "      <td>122857.640625</td>\n",
              "      <td>121577.570312</td>\n",
              "      <td>122267.468750</td>\n",
              "      <td>36769171735</td>\n",
              "    </tr>\n",
              "    <tr>\n",
              "      <th>2025-10-05</th>\n",
              "      <td>123513.476562</td>\n",
              "      <td>123513.476562</td>\n",
              "      <td>125559.210938</td>\n",
              "      <td>122191.960938</td>\n",
              "      <td>122419.671875</td>\n",
              "      <td>73689317763</td>\n",
              "    </tr>\n",
              "    <tr>\n",
              "      <th>2025-10-06</th>\n",
              "      <td>124752.531250</td>\n",
              "      <td>124752.531250</td>\n",
              "      <td>126198.070312</td>\n",
              "      <td>123196.046875</td>\n",
              "      <td>123510.453125</td>\n",
              "      <td>72568881188</td>\n",
              "    </tr>\n",
              "    <tr>\n",
              "      <th>2025-10-07</th>\n",
              "      <td>121451.382812</td>\n",
              "      <td>121451.382812</td>\n",
              "      <td>125184.023438</td>\n",
              "      <td>120681.968750</td>\n",
              "      <td>124752.140625</td>\n",
              "      <td>76149412513</td>\n",
              "    </tr>\n",
              "    <tr>\n",
              "      <th>2025-10-08</th>\n",
              "      <td>123354.867188</td>\n",
              "      <td>123354.867188</td>\n",
              "      <td>124167.093750</td>\n",
              "      <td>121119.179688</td>\n",
              "      <td>121448.351562</td>\n",
              "      <td>65354305286</td>\n",
              "    </tr>\n",
              "    <tr>\n",
              "      <th>2025-10-09</th>\n",
              "      <td>121705.585938</td>\n",
              "      <td>121705.585938</td>\n",
              "      <td>123739.343750</td>\n",
              "      <td>119812.031250</td>\n",
              "      <td>123337.070312</td>\n",
              "      <td>74653009425</td>\n",
              "    </tr>\n",
              "    <tr>\n",
              "      <th>2025-10-10</th>\n",
              "      <td>113214.367188</td>\n",
              "      <td>113214.367188</td>\n",
              "      <td>122509.664062</td>\n",
              "      <td>104582.414062</td>\n",
              "      <td>121704.742188</td>\n",
              "      <td>153125018868</td>\n",
              "    </tr>\n",
              "    <tr>\n",
              "      <th>2025-10-11</th>\n",
              "      <td>110807.882812</td>\n",
              "      <td>110807.882812</td>\n",
              "      <td>113429.726562</td>\n",
              "      <td>109760.562500</td>\n",
              "      <td>113236.429688</td>\n",
              "      <td>110236934340</td>\n",
              "    </tr>\n",
              "    <tr>\n",
              "      <th>2025-10-12</th>\n",
              "      <td>113203.421875</td>\n",
              "      <td>113203.421875</td>\n",
              "      <td>113726.710938</td>\n",
              "      <td>109766.054688</td>\n",
              "      <td>110799.890625</td>\n",
              "      <td>76740091904</td>\n",
              "    </tr>\n",
              "  </tbody>\n",
              "</table>\n",
              "</div>"
            ],
            "text/plain": [
              "                Adj Close          Close           High            Low  \\\n",
              "Date                                                                     \n",
              "2025-09-12  116101.578125  116101.578125  116769.382812  114794.484375   \n",
              "2025-09-13  115950.507812  115950.507812  116334.632812  115248.273438   \n",
              "2025-09-14  115407.656250  115407.656250  116181.500000  115222.398438   \n",
              "2025-09-15  115444.875000  115444.875000  116747.882812  114461.062500   \n",
              "2025-09-16  116843.187500  116843.187500  117005.273438  114813.093750   \n",
              "2025-09-17  116468.507812  116468.507812  117328.609375  114794.976562   \n",
              "2025-09-18  117137.203125  117137.203125  117911.789062  116188.796875   \n",
              "2025-09-19  115688.859375  115688.859375  117479.757812  115141.820312   \n",
              "2025-09-20  115721.960938  115721.960938  116191.148438  115473.523438   \n",
              "2025-09-21  115306.093750  115306.093750  115901.085938  115252.578125   \n",
              "2025-09-22  112748.507812  112748.507812  115431.312500  112037.648438   \n",
              "2025-09-23  112014.500000  112014.500000  113351.914062  111535.570312   \n",
              "2025-09-24  113328.632812  113328.632812  113986.273438  111229.640625   \n",
              "2025-09-25  109049.289062  109049.289062  113541.085938  108713.398438   \n",
              "2025-09-26  109712.828125  109712.828125  110359.195312  108728.976562   \n",
              "2025-09-27  109681.945312  109681.945312  109778.500000  109144.296875   \n",
              "2025-09-28  112122.640625  112122.640625  112375.484375  109236.945312   \n",
              "2025-09-29  114400.382812  114400.382812  114473.570312  111589.953125   \n",
              "2025-09-30  114056.085938  114056.085938  114836.617188  112740.562500   \n",
              "2025-10-01  118648.929688  118648.929688  118648.929688  113981.398438   \n",
              "2025-10-02  120681.257812  120681.257812  121086.406250  118383.156250   \n",
              "2025-10-03  122266.531250  122266.531250  123944.703125  119344.312500   \n",
              "2025-10-04  122425.429688  122425.429688  122857.640625  121577.570312   \n",
              "2025-10-05  123513.476562  123513.476562  125559.210938  122191.960938   \n",
              "2025-10-06  124752.531250  124752.531250  126198.070312  123196.046875   \n",
              "2025-10-07  121451.382812  121451.382812  125184.023438  120681.968750   \n",
              "2025-10-08  123354.867188  123354.867188  124167.093750  121119.179688   \n",
              "2025-10-09  121705.585938  121705.585938  123739.343750  119812.031250   \n",
              "2025-10-10  113214.367188  113214.367188  122509.664062  104582.414062   \n",
              "2025-10-11  110807.882812  110807.882812  113429.726562  109760.562500   \n",
              "2025-10-12  113203.421875  113203.421875  113726.710938  109766.054688   \n",
              "\n",
              "                     Open        Volume  \n",
              "Date                                     \n",
              "2025-09-12  115507.789062   54785725894  \n",
              "2025-09-13  116093.562500   34549454947  \n",
              "2025-09-14  115950.289062   32798036057  \n",
              "2025-09-15  115399.632812   52937859416  \n",
              "2025-09-16  115423.757812   45781744593  \n",
              "2025-09-17  116840.507812   60528025996  \n",
              "2025-09-18  116461.265625   49457272032  \n",
              "2025-09-19  117137.671875   38828473971  \n",
              "2025-09-20  115691.125000   22864449614  \n",
              "2025-09-21  115730.226562   22495852193  \n",
              "2025-09-22  115309.218750   70684158591  \n",
              "2025-09-23  112757.476562   47211853279  \n",
              "2025-09-24  112007.664062   48044595085  \n",
              "2025-09-25  113330.164062   75528654284  \n",
              "2025-09-26  109041.296875   57738288949  \n",
              "2025-09-27  109707.140625   26308042910  \n",
              "2025-09-28  109681.945312   33371048505  \n",
              "2025-09-29  112117.875000   60000147466  \n",
              "2025-09-30  114396.523438   58986330258  \n",
              "2025-10-01  114057.593750   71328680132  \n",
              "2025-10-02  118652.382812   71415163912  \n",
              "2025-10-03  120656.984375   83941392228  \n",
              "2025-10-04  122267.468750   36769171735  \n",
              "2025-10-05  122419.671875   73689317763  \n",
              "2025-10-06  123510.453125   72568881188  \n",
              "2025-10-07  124752.140625   76149412513  \n",
              "2025-10-08  121448.351562   65354305286  \n",
              "2025-10-09  123337.070312   74653009425  \n",
              "2025-10-10  121704.742188  153125018868  \n",
              "2025-10-11  113236.429688  110236934340  \n",
              "2025-10-12  110799.890625   76740091904  "
            ]
          },
          "execution_count": 4,
          "metadata": {},
          "output_type": "execute_result"
        }
      ],
      "source": [
        "ticker = 'BTC-USD'\n",
        "df_BTC = yf.download(ticker, multi_level_index=False, auto_adjust=False)\n",
        "df_BTC"
      ]
    },
    {
      "attachments": {},
      "cell_type": "markdown",
      "id": "2a998ed9-3eef-4709-a943-758e168c0906",
      "metadata": {},
      "source": [
        "## Visualize the data with plotly\n",
        "\n",
        "https://plotly.com/python/candlestick-charts/"
      ]
    },
    {
      "cell_type": "code",
      "execution_count": 59,
      "id": "0fe59d86-90af-4d35-b5eb-3cd79fc6fc68",
      "metadata": {},
      "outputs": [
        {
          "data": {
            "application/vnd.plotly.v1+json": {
              "config": {
                "plotlyServerURL": "https://plot.ly"
              },
              "data": [
                {
                  "close": {
                    "bdata": "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",
                    "dtype": "f8"
                  },
                  "high": {
                    "bdata": "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",
                    "dtype": "f8"
                  },
                  "low": {
                    "bdata": "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",
                    "dtype": "f8"
                  },
                  "open": {
                    "bdata": "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",
                    "dtype": "f8"
                  },
                  "type": "candlestick",
                  "x": {
                    "bdata": "AAABAAIAAwAEAAUABgAHAAgACQAKAAsADAANAA4ADwAQABEAEgATABQAFQAWABcAGAAZABoAGwAcAB0AHgAfACAAIQAiACMAJAAlACYAJwAoACkAKgArACwALQAuAC8AMAAxADIAMwA0ADUANgA3ADgAOQA6ADsAPAA9AD4APwBAAEEAQgBDAEQARQBGAEcASABJAEoASwBMAE0ATgBPAFAAUQBSAFMAVABVAFYAVwBYAFkAWgBbAFwAXQBeAF8AYABhAGIAYwBkAGUAZgBnAGgAaQBqAGsAbABtAG4AbwBwAHEAcgBzAHQAdQB2AHcAeAB5AHoAewB8AH0AfgB/AIAAgQCCAIMAhACFAIYAhwCIAIkAigCLAIwAjQCOAI8AkACRAJIAkwCUAJUAlgCXAJgAmQCaAJsAnACdAJ4AnwCgAKEAogCjAKQApQCmAKcAqACpAKoAqwCsAK0ArgCvALAAsQCyALMAtAC1ALYAtwC4ALkAugC7ALwAvQC+AL8AwADBAMIAwwDEAMUAxgDHAMgAyQDKAMsAzADNAM4AzwDQANEA0gDTANQA1QDWANcA2ADZANoA2wDcAN0A3gDfAOAA4QDiAOMA5ADlAOYA5wDoAOkA6gDrAOwA7QDuAO8A8ADxAPIA8wD0APUA9gD3APgA+QD6APsA/AD9AP4A/wAAAQEBAgEDAQQBBQEGAQcBCAEJAQoBCwEMAQ0BDgEPARABEQESARMBFAEVARYBFwEYARkBGgEbARwBHQEeAR8BIAEhASIBIwEkASUBJgEnASgBKQEqASsBLAEtAS4BLwEwATEBMgEzATQBNQE2ATcBOAE5AToBOwE8AT0BPgE/AUABQQFCAUMBRAFFAUYBRwFIAUkBSgFLAUwBTQFOAU8BUAFRAVIBUwFUAVUBVgFXAVgBWQFaAVsBXAFdAV4BXwFgAWEBYgFjAWQBZQFmAWcBaAFpAWoBawFsAW0BbgFvAXABcQFyAXMBdAF1AXYBdwF4AXkBegF7AXwBfQF+AX8BgAGBAYIBgwGEAYUBhgGHAYgBiQGKAYsBjAGNAY4BjwGQAZEBkgGTAZQBlQGWAZcBmAGZAZoBmwGcAZ0BngGfAaABoQGiAaMBpAGlAaYBpwGoAakBqgGrAawBrQGuAa8BsAGxAbIBswG0AbUBtgG3AbgBuQG6AbsBvAG9Ab4BvwHAAcEBwgHDAcQBxQHGAccByAHJAcoBywHMAc0BzgHPAdAB0QHSAdMB1AHVAdYB1wHYAdkB2gHbAdwB3QHeAd8B4AHhAeIB4wHkAeUB5gHnAegB6QHqAesB7AHtAe4B7wHwAfEB8gHzAfQB9QH2AfcB+AH5AQ==",
                    "dtype": "i2"
                  }
                }
              ],
              "layout": {
                "template": {
                  "data": {
                    "bar": [
                      {
                        "error_x": {
                          "color": "#2a3f5f"
                        },
                        "error_y": {
                          "color": "#2a3f5f"
                        },
                        "marker": {
                          "line": {
                            "color": "#E5ECF6",
                            "width": 0.5
                          },
                          "pattern": {
                            "fillmode": "overlay",
                            "size": 10,
                            "solidity": 0.2
                          }
                        },
                        "type": "bar"
                      }
                    ],
                    "barpolar": [
                      {
                        "marker": {
                          "line": {
                            "color": "#E5ECF6",
                            "width": 0.5
                          },
                          "pattern": {
                            "fillmode": "overlay",
                            "size": 10,
                            "solidity": 0.2
                          }
                        },
                        "type": "barpolar"
                      }
                    ],
                    "carpet": [
                      {
                        "aaxis": {
                          "endlinecolor": "#2a3f5f",
                          "gridcolor": "white",
                          "linecolor": "white",
                          "minorgridcolor": "white",
                          "startlinecolor": "#2a3f5f"
                        },
                        "baxis": {
                          "endlinecolor": "#2a3f5f",
                          "gridcolor": "white",
                          "linecolor": "white",
                          "minorgridcolor": "white",
                          "startlinecolor": "#2a3f5f"
                        },
                        "type": "carpet"
                      }
                    ],
                    "choropleth": [
                      {
                        "colorbar": {
                          "outlinewidth": 0,
                          "ticks": ""
                        },
                        "type": "choropleth"
                      }
                    ],
                    "contour": [
                      {
                        "colorbar": {
                          "outlinewidth": 0,
                          "ticks": ""
                        },
                        "colorscale": [
                          [
                            0,
                            "#0d0887"
                          ],
                          [
                            0.1111111111111111,
                            "#46039f"
                          ],
                          [
                            0.2222222222222222,
                            "#7201a8"
                          ],
                          [
                            0.3333333333333333,
                            "#9c179e"
                          ],
                          [
                            0.4444444444444444,
                            "#bd3786"
                          ],
                          [
                            0.5555555555555556,
                            "#d8576b"
                          ],
                          [
                            0.6666666666666666,
                            "#ed7953"
                          ],
                          [
                            0.7777777777777778,
                            "#fb9f3a"
                          ],
                          [
                            0.8888888888888888,
                            "#fdca26"
                          ],
                          [
                            1,
                            "#f0f921"
                          ]
                        ],
                        "type": "contour"
                      }
                    ],
                    "contourcarpet": [
                      {
                        "colorbar": {
                          "outlinewidth": 0,
                          "ticks": ""
                        },
                        "type": "contourcarpet"
                      }
                    ],
                    "heatmap": [
                      {
                        "colorbar": {
                          "outlinewidth": 0,
                          "ticks": ""
                        },
                        "colorscale": [
                          [
                            0,
                            "#0d0887"
                          ],
                          [
                            0.1111111111111111,
                            "#46039f"
                          ],
                          [
                            0.2222222222222222,
                            "#7201a8"
                          ],
                          [
                            0.3333333333333333,
                            "#9c179e"
                          ],
                          [
                            0.4444444444444444,
                            "#bd3786"
                          ],
                          [
                            0.5555555555555556,
                            "#d8576b"
                          ],
                          [
                            0.6666666666666666,
                            "#ed7953"
                          ],
                          [
                            0.7777777777777778,
                            "#fb9f3a"
                          ],
                          [
                            0.8888888888888888,
                            "#fdca26"
                          ],
                          [
                            1,
                            "#f0f921"
                          ]
                        ],
                        "type": "heatmap"
                      }
                    ],
                    "histogram": [
                      {
                        "marker": {
                          "pattern": {
                            "fillmode": "overlay",
                            "size": 10,
                            "solidity": 0.2
                          }
                        },
                        "type": "histogram"
                      }
                    ],
                    "histogram2d": [
                      {
                        "colorbar": {
                          "outlinewidth": 0,
                          "ticks": ""
                        },
                        "colorscale": [
                          [
                            0,
                            "#0d0887"
                          ],
                          [
                            0.1111111111111111,
                            "#46039f"
                          ],
                          [
                            0.2222222222222222,
                            "#7201a8"
                          ],
                          [
                            0.3333333333333333,
                            "#9c179e"
                          ],
                          [
                            0.4444444444444444,
                            "#bd3786"
                          ],
                          [
                            0.5555555555555556,
                            "#d8576b"
                          ],
                          [
                            0.6666666666666666,
                            "#ed7953"
                          ],
                          [
                            0.7777777777777778,
                            "#fb9f3a"
                          ],
                          [
                            0.8888888888888888,
                            "#fdca26"
                          ],
                          [
                            1,
                            "#f0f921"
                          ]
                        ],
                        "type": "histogram2d"
                      }
                    ],
                    "histogram2dcontour": [
                      {
                        "colorbar": {
                          "outlinewidth": 0,
                          "ticks": ""
                        },
                        "colorscale": [
                          [
                            0,
                            "#0d0887"
                          ],
                          [
                            0.1111111111111111,
                            "#46039f"
                          ],
                          [
                            0.2222222222222222,
                            "#7201a8"
                          ],
                          [
                            0.3333333333333333,
                            "#9c179e"
                          ],
                          [
                            0.4444444444444444,
                            "#bd3786"
                          ],
                          [
                            0.5555555555555556,
                            "#d8576b"
                          ],
                          [
                            0.6666666666666666,
                            "#ed7953"
                          ],
                          [
                            0.7777777777777778,
                            "#fb9f3a"
                          ],
                          [
                            0.8888888888888888,
                            "#fdca26"
                          ],
                          [
                            1,
                            "#f0f921"
                          ]
                        ],
                        "type": "histogram2dcontour"
                      }
                    ],
                    "mesh3d": [
                      {
                        "colorbar": {
                          "outlinewidth": 0,
                          "ticks": ""
                        },
                        "type": "mesh3d"
                      }
                    ],
                    "parcoords": [
                      {
                        "line": {
                          "colorbar": {
                            "outlinewidth": 0,
                            "ticks": ""
                          }
                        },
                        "type": "parcoords"
                      }
                    ],
                    "pie": [
                      {
                        "automargin": true,
                        "type": "pie"
                      }
                    ],
                    "scatter": [
                      {
                        "fillpattern": {
                          "fillmode": "overlay",
                          "size": 10,
                          "solidity": 0.2
                        },
                        "type": "scatter"
                      }
                    ],
                    "scatter3d": [
                      {
                        "line": {
                          "colorbar": {
                            "outlinewidth": 0,
                            "ticks": ""
                          }
                        },
                        "marker": {
                          "colorbar": {
                            "outlinewidth": 0,
                            "ticks": ""
                          }
                        },
                        "type": "scatter3d"
                      }
                    ],
                    "scattercarpet": [
                      {
                        "marker": {
                          "colorbar": {
                            "outlinewidth": 0,
                            "ticks": ""
                          }
                        },
                        "type": "scattercarpet"
                      }
                    ],
                    "scattergeo": [
                      {
                        "marker": {
                          "colorbar": {
                            "outlinewidth": 0,
                            "ticks": ""
                          }
                        },
                        "type": "scattergeo"
                      }
                    ],
                    "scattergl": [
                      {
                        "marker": {
                          "colorbar": {
                            "outlinewidth": 0,
                            "ticks": ""
                          }
                        },
                        "type": "scattergl"
                      }
                    ],
                    "scattermap": [
                      {
                        "marker": {
                          "colorbar": {
                            "outlinewidth": 0,
                            "ticks": ""
                          }
                        },
                        "type": "scattermap"
                      }
                    ],
                    "scattermapbox": [
                      {
                        "marker": {
                          "colorbar": {
                            "outlinewidth": 0,
                            "ticks": ""
                          }
                        },
                        "type": "scattermapbox"
                      }
                    ],
                    "scatterpolar": [
                      {
                        "marker": {
                          "colorbar": {
                            "outlinewidth": 0,
                            "ticks": ""
                          }
                        },
                        "type": "scatterpolar"
                      }
                    ],
                    "scatterpolargl": [
                      {
                        "marker": {
                          "colorbar": {
                            "outlinewidth": 0,
                            "ticks": ""
                          }
                        },
                        "type": "scatterpolargl"
                      }
                    ],
                    "scatterternary": [
                      {
                        "marker": {
                          "colorbar": {
                            "outlinewidth": 0,
                            "ticks": ""
                          }
                        },
                        "type": "scatterternary"
                      }
                    ],
                    "surface": [
                      {
                        "colorbar": {
                          "outlinewidth": 0,
                          "ticks": ""
                        },
                        "colorscale": [
                          [
                            0,
                            "#0d0887"
                          ],
                          [
                            0.1111111111111111,
                            "#46039f"
                          ],
                          [
                            0.2222222222222222,
                            "#7201a8"
                          ],
                          [
                            0.3333333333333333,
                            "#9c179e"
                          ],
                          [
                            0.4444444444444444,
                            "#bd3786"
                          ],
                          [
                            0.5555555555555556,
                            "#d8576b"
                          ],
                          [
                            0.6666666666666666,
                            "#ed7953"
                          ],
                          [
                            0.7777777777777778,
                            "#fb9f3a"
                          ],
                          [
                            0.8888888888888888,
                            "#fdca26"
                          ],
                          [
                            1,
                            "#f0f921"
                          ]
                        ],
                        "type": "surface"
                      }
                    ],
                    "table": [
                      {
                        "cells": {
                          "fill": {
                            "color": "#EBF0F8"
                          },
                          "line": {
                            "color": "white"
                          }
                        },
                        "header": {
                          "fill": {
                            "color": "#C8D4E3"
                          },
                          "line": {
                            "color": "white"
                          }
                        },
                        "type": "table"
                      }
                    ]
                  },
                  "layout": {
                    "annotationdefaults": {
                      "arrowcolor": "#2a3f5f",
                      "arrowhead": 0,
                      "arrowwidth": 1
                    },
                    "autotypenumbers": "strict",
                    "coloraxis": {
                      "colorbar": {
                        "outlinewidth": 0,
                        "ticks": ""
                      }
                    },
                    "colorscale": {
                      "diverging": [
                        [
                          0,
                          "#8e0152"
                        ],
                        [
                          0.1,
                          "#c51b7d"
                        ],
                        [
                          0.2,
                          "#de77ae"
                        ],
                        [
                          0.3,
                          "#f1b6da"
                        ],
                        [
                          0.4,
                          "#fde0ef"
                        ],
                        [
                          0.5,
                          "#f7f7f7"
                        ],
                        [
                          0.6,
                          "#e6f5d0"
                        ],
                        [
                          0.7,
                          "#b8e186"
                        ],
                        [
                          0.8,
                          "#7fbc41"
                        ],
                        [
                          0.9,
                          "#4d9221"
                        ],
                        [
                          1,
                          "#276419"
                        ]
                      ],
                      "sequential": [
                        [
                          0,
                          "#0d0887"
                        ],
                        [
                          0.1111111111111111,
                          "#46039f"
                        ],
                        [
                          0.2222222222222222,
                          "#7201a8"
                        ],
                        [
                          0.3333333333333333,
                          "#9c179e"
                        ],
                        [
                          0.4444444444444444,
                          "#bd3786"
                        ],
                        [
                          0.5555555555555556,
                          "#d8576b"
                        ],
                        [
                          0.6666666666666666,
                          "#ed7953"
                        ],
                        [
                          0.7777777777777778,
                          "#fb9f3a"
                        ],
                        [
                          0.8888888888888888,
                          "#fdca26"
                        ],
                        [
                          1,
                          "#f0f921"
                        ]
                      ],
                      "sequentialminus": [
                        [
                          0,
                          "#0d0887"
                        ],
                        [
                          0.1111111111111111,
                          "#46039f"
                        ],
                        [
                          0.2222222222222222,
                          "#7201a8"
                        ],
                        [
                          0.3333333333333333,
                          "#9c179e"
                        ],
                        [
                          0.4444444444444444,
                          "#bd3786"
                        ],
                        [
                          0.5555555555555556,
                          "#d8576b"
                        ],
                        [
                          0.6666666666666666,
                          "#ed7953"
                        ],
                        [
                          0.7777777777777778,
                          "#fb9f3a"
                        ],
                        [
                          0.8888888888888888,
                          "#fdca26"
                        ],
                        [
                          1,
                          "#f0f921"
                        ]
                      ]
                    },
                    "colorway": [
                      "#636efa",
                      "#EF553B",
                      "#00cc96",
                      "#ab63fa",
                      "#FFA15A",
                      "#19d3f3",
                      "#FF6692",
                      "#B6E880",
                      "#FF97FF",
                      "#FECB52"
                    ],
                    "font": {
                      "color": "#2a3f5f"
                    },
                    "geo": {
                      "bgcolor": "white",
                      "lakecolor": "white",
                      "landcolor": "#E5ECF6",
                      "showlakes": true,
                      "showland": true,
                      "subunitcolor": "white"
                    },
                    "hoverlabel": {
                      "align": "left"
                    },
                    "hovermode": "closest",
                    "mapbox": {
                      "style": "light"
                    },
                    "paper_bgcolor": "white",
                    "plot_bgcolor": "#E5ECF6",
                    "polar": {
                      "angularaxis": {
                        "gridcolor": "white",
                        "linecolor": "white",
                        "ticks": ""
                      },
                      "bgcolor": "#E5ECF6",
                      "radialaxis": {
                        "gridcolor": "white",
                        "linecolor": "white",
                        "ticks": ""
                      }
                    },
                    "scene": {
                      "xaxis": {
                        "backgroundcolor": "#E5ECF6",
                        "gridcolor": "white",
                        "gridwidth": 2,
                        "linecolor": "white",
                        "showbackground": true,
                        "ticks": "",
                        "zerolinecolor": "white"
                      },
                      "yaxis": {
                        "backgroundcolor": "#E5ECF6",
                        "gridcolor": "white",
                        "gridwidth": 2,
                        "linecolor": "white",
                        "showbackground": true,
                        "ticks": "",
                        "zerolinecolor": "white"
                      },
                      "zaxis": {
                        "backgroundcolor": "#E5ECF6",
                        "gridcolor": "white",
                        "gridwidth": 2,
                        "linecolor": "white",
                        "showbackground": true,
                        "ticks": "",
                        "zerolinecolor": "white"
                      }
                    },
                    "shapedefaults": {
                      "line": {
                        "color": "#2a3f5f"
                      }
                    },
                    "ternary": {
                      "aaxis": {
                        "gridcolor": "white",
                        "linecolor": "white",
                        "ticks": ""
                      },
                      "baxis": {
                        "gridcolor": "white",
                        "linecolor": "white",
                        "ticks": ""
                      },
                      "bgcolor": "#E5ECF6",
                      "caxis": {
                        "gridcolor": "white",
                        "linecolor": "white",
                        "ticks": ""
                      }
                    },
                    "title": {
                      "x": 0.05
                    },
                    "xaxis": {
                      "automargin": true,
                      "gridcolor": "white",
                      "linecolor": "white",
                      "ticks": "",
                      "title": {
                        "standoff": 15
                      },
                      "zerolinecolor": "white",
                      "zerolinewidth": 2
                    },
                    "yaxis": {
                      "automargin": true,
                      "gridcolor": "white",
                      "linecolor": "white",
                      "ticks": "",
                      "title": {
                        "standoff": 15
                      },
                      "zerolinecolor": "white",
                      "zerolinewidth": 2
                    }
                  }
                }
              }
            }
          },
          "metadata": {},
          "output_type": "display_data"
        }
      ],
      "source": [
        "import plotly.graph_objects as go\n",
        "\n",
        "import pandas as pd\n",
        "\n",
        "df = pd.read_csv('https://raw.githubusercontent.com/plotly/datasets/master/finance-charts-apple.csv')\n",
        "\n",
        "fig = go.Figure(data=[go.Candlestick(x=df.index,\n",
        "                open=df['AAPL.Open'],\n",
        "                high=df['AAPL.High'],\n",
        "                low=df['AAPL.Low'],\n",
        "                close=df['AAPL.Close'])])\n",
        "\n",
        "fig.show()"
      ]
    },
    {
      "cell_type": "code",
      "execution_count": 60,
      "id": "c84c1eb6-e6b7-452b-a726-02eab0dfedfc",
      "metadata": {},
      "outputs": [
        {
          "data": {
            "application/vnd.plotly.v1+json": {
              "config": {
                "plotlyServerURL": "https://plot.ly"
              },
              "data": [
                {
                  "close": {
                    "bdata": "AAAAQG73Q0AAAABgbchDQAAAAGAYfkNAAAAA4H69Q0AAAADgKFJEQAAAAEBvJkRAAAAAAPHlQ0AAAACgtMtDQAAAAED7n0NAAAAAIINrQ0AAAADAlr5DQAAAAGD8zkNAAAAAgJubQ0AAAACg4B9EQAAAAIBXJURAAAAAIMISREAAAADgQDdCQAAAACCQlkFAAAAAADPwQUAAAAAANUBBQAAAAMBmoEFAAAAAoGHDQUAAAADAnd1BQAAAAKBLIEJAAAAAgOwbQkAAAAAAdRZCQAAAAICxMEJAAAAA4KQYQkAAAAAAQmZCQAAAAACFu0JAAAAAoLi9QkAAAABAN7hCQAAAACDqtEJAAAAAoIvcQkAAAAAgefxCQAAAACDe9UJAAAAAwNvqQkAAAACAkPJCQAAAAKBx20JAAAAAoL/eQkAAAABgsZxCQAAAAGB5hEJAAAAAYPqJQkAAAABgaTdCQAAAAGBbbUJAAAAAIBUTQkAAAADAkw1CQAAAAADko0FAAAAA4IXLQUAAAAAAV99BQAAAAODA7kFAAAAAANNGQkAAAABgtC9CQAAAAECocEJAAAAAwHRuQkAAAABg3HJCQAAAAMBU1EFAAAAA4M64QUAAAADAYp5BQAAAAEBJnUFAAAAAIEJ8QUAAAABA3YJBQAAAAACGU0FAAAAAAD3eQUAAAABgCdxBQAAAAMDsz0FAAAAA4IfWQUAAAACA9PBBQAAAAEBb9UFAAAAAYD/pQUAAAAAAZyxCQAAAAIBkIUJAAAAA4PHlQUAAAAAA9nNCQAAAAIA8VkJAAAAAgMR8QkAAAAAATaNCQAAAAOABlkRAAAAAYJ+nREAAAADABSRFQAAAAEAEGUVAAAAAQMbqREAAAACg+uxEQAAAAKC9vkRAAAAAgEh4REAAAADA9uZDQAAAAKAzFURAAAAAAMyIREAAAACg9l5EQAAAAMDCXERAAAAAIJZ7REAAAACAlfNEQAAAAABZxURAAAAAAGulREAAAACAH5hEQAAAAIAfmERAAAAAAGWGREAAAACgxkxEQAAAAKBsKkRAAAAAwHKbREAAAAAguIlEQAAAAKBXSERAAAAAIFdxREAAAACA/U5EQAAAAOA7R0RAAAAA4PAQREAAAACAkPhDQAAAAOAhy0NAAAAAYETCQ0AAAAAApCxEQAAAAADOGURAAAAA4LnlQ0AAAACAbq9DQAAAAKA21kNAAAAA4LnlQ0AAAACg1DhEQAAAAEAh9ENAAAAAQIkCREAAAADgE99DQAAAAOAowUNAAAAAYETCQ0AAAADgDZdDQAAAAIBvNENAAAAAoA8cQ0AAAABATT1DQAAAAKDCN0NAAAAA4KY2Q0AAAACgrixDQAAAAIAIJkNAAAAAAA9FQ0AAAADAB09DQAAAAEAUtkNAAAAA4PG+Q0AAAADAdM5DQAAAAIAuMkRAAAAA4L8tREAAAACA/U5EQAAAAEDhdkRAAAAAQBS2Q0AAAAAgPfVDQAAAAKBm4kNAAAAAgAahQ0AAAAAA659DQAAAAOAuCURAAAAAgI9KREAAAABgnTZEQAAAAADNQkRAAAAAILGTREAAAACAH5hEQAAAAOC/LURAAAAAQAw7REAAAADga3xEQAAAAEB7FkRAAAAAQAw7REAAAAAg8DlEQAAAAADbV0RAAAAAAFB7REAAAAAgUJhEQAAAAOCyTkRAAAAA4L3kQ0AAAAAA3MNCQAAAAGDTKEJAAAAAoN2hQUAAAADAtZtCQAAAAOBvIENAAAAAAMgjQ0AAAACADfZCQAAAACBxOEJAAAAAQDXkQkAAAABg0vNCQAAAACCOkEJAAAAAQFIfQ0AAAAAA3MNCQAAAAIBm3EJAAAAAgJfxQkAAAACgg8BCQAAAAIBbKUNAAAAAgAxNQ0AAAACAeUdDQAAAAICX8UJAAAAAINw3Q0AAAADgbyBDQAAAAEAXHUNAAAAAQI0hQ0AAAACA5SRDQAAAAIBm3EJAAAAA4CDtQkAAAAAAl0hDQAAAAMCgb0NAAAAAoLPaQ0AAAAAA7lBEQAAAAIBQXkRAAAAAAORjREAAAACgY6xEQAAAAGB3hkRAAAAAADN6REAAAADA7W1EQAAAAOCBVkRAAAAAAFB7REAAAADgFLNEQAAAAOBZv0RAAAAAoBTQREAAAACAgZBEQAAAAMAU7URAAAAAQOoIR0AAAACg1aJHQAAAAMBfZEdAAAAAYLiER0AAAACAkT9HQAAAAIBD70ZAAAAAQC8yR0AAAABArpdHQAAAAECRs0dAAAAAoFWxR0AAAACAkO1HQAAAAMDLmEdAAAAAIExQR0AAAAAA6l9HQAAAAIAbO0dAAAAAwJEFR0AAAAAATG1HQAAAAGDkO0dAAAAAQLSeR0AAAADgz6hHQAAAAMDhxEdAAAAAwOHER0AAAACgnstHQAAAAEC9jEdAAAAAYLCnR0AAAABg2dZHQAAAAACKOEhAAAAAIGo3SEAAAAAgAcZHQAAAAMAEhkhAAAAAIMp6SEAAAAAgi3hIQAAAAMCWHUhAAAAAYCc+SEAAAAAASbZHQAAAACCOL0hAAAAAIEs2SEAAAADguJ5IQAAAAMBvbkhAAAAA4CS+R0AAAAAgvwxIQAAAAGAjR0hAAAAAwOl7SEAAAABgEWtIQAAAAGCCikhAAAAAIOLNSEAAAABA77JIQAAAAEC8VUhAAAAAIGEJSEAAAABAcyVIQAAAAEAptUdAAAAAQA/iRkAAAAAgB/RGQAAAAGCo8EZAAAAAQI4mR0AAAACAjKZGQAAAAMCcS0dAAAAAgI9dRkAAAABgRy1GQAAAAOAaR0ZAAAAAQEskRkAAAABgie9GQAAAAEBkt0ZAAAAAQA/iRkAAAAAgY3dGQAAAACC11UZAAAAAIPEpSEAAAADARf9HQAAAAIBCP0dAAAAA4O/gRkAAAADg+M5GQAAAAABdAEZAAAAAYCWsRUAAAABgjJ1FQAAAACDVzUVAAAAAYJbLRUAAAABgiiZGQAAAAMD6kUZAAAAAAGUoR0AAAAAAYg5HQAAAAOCJ5EZAAAAAQGhCR0AAAABgKJxGQAAAAOCDsEZAAAAAYDQER0AAAACAuqlGQAAAAOA6ekZAAAAAoH06R0AAAAAAVmRHQAAAAKB6IEdAAAAA4En8RkAAAACAMYtGQAAAAOBP0UZAAAAAIOVXR0AAAADgjP5GQAAAAODncUdAAAAAYDd9R0AAAAAAt6xHQAAAAGCqAkhAAAAAYLklSEAAAADAZ6FHQAAAACBAy0dAAAAAAADjR0AAAAAgsddHQAAAAGDV8kdAAAAAYA+nR0AAAABAYStIQAAAACDVUUhAAAAAgDBmSEAAAAAApIxIQAAAAADPfEhAAAAAgGoaSEAAAADAv1lIQAAAAIAbD0hAAAAAQJUKSEAAAABgJP5HQAAAACCYJEhAAAAAgMJzSEAAAADA5HRIQAAAAGCwlUhAAAAAgEvxSEAAAADAYOlIQAAAAADnjkhAAAAAIGSkSEAAAAAABOBGQAAAAOBVBUdAAAAAIJC5RkAAAABABIFGQAAAAOBlC0ZAAAAAQAEIRkAAAADgsVtGQAAAACDT/UVAAAAAQAEIRkAAAACg6w9GQAAAAGDQQkZAAAAAoJ8eRkAAAAAgEIpGQAAAAGB0jUZAAAAAYHrBRkAAAAAg2ZBGQAAAAKCr5UZAAAAAAFd4RkAAAAAggZpGQAAAACCzYkZAAAAAwN2ERkAAAACArEFGQAAAAABW80ZAAAAAoLEvR0AAAABggBVHQAAAAAB5RkdAAAAA4OmTR0AAAACg1IJHQAAAACCxWEdAAAAAgBwKR0AAAABA1TBHQAAAAIBqLUdAAAAAQJUmR0AAAACAwPZGQAAAACDP5kZAAAAA4DNORkAAAADA5SpGQAAAAIDzGkZAAAAAAKxqRkAAAADAD01GQAAAACA7RkZAAAAAIMjFRkAAAAAgAa9GQAAAAGDHF0dAAAAAwOUqRkAAAABAdYtFQAAAAOB7/kVAAAAAoMF7RkAAAADggMNGQAAAAIBdwkZAAAAA4IDDRkAAAABAa9tGQAAAAEBr20ZAAAAA4DFER0AAAACAOGVHQAAAAGDUq0dAAAAAoP7NR0AAAACgMOhHQAAAAOCh40dAAAAAgD4BSEAAAAAAKp5HQAAAAMBR30hAAAAAgMrSSEAAAADgeypJQAAAAKC0PElAAAAAwB5ASUAAAADgNP9IQAAAAGB8AUlAAAAAgAI3SUAAAACAnytJQAAAAICfK0lAAAAAgAlYSUAAAADg3odJQAAAAMDIyElAAAAAgCzUSUAAAAAAHuRJQAAAAMCdz0lAAAAAIIHvSUAAAADAgcZJQAAAAEAB20lAAAAAoFW2SUAAAAAgFsRJQAAAAICryElAAAAAQPbKSUAAAAAAsdBJQAAAACDn6UlAAAAAQMfwSUAAAABA/QlKQAAAAGDy+UlAAAAAgPcBSkAAAAAg5+lJQAAAAICguElAAAAAQIbHSUAAAAAAsdBJQAAAAADRyUlAAAAAAIzPSUAAAACgMLVJQAAAAEBiKUlAAAAAQKSJSUAAAADgDU5JQAAAAOAcL0lAAAAAALCZSUAAAABgj6BJQAAAAGDke0lAAAAA4CNuSUAAAAAgAdtJQAAAAKDh4UlAAAAAoDC1SUAAAAAgdHhJQAAAAEDH8ElAAAAAYPL5SUAAAAAAwLFJQAAAAICryElAAAAA4Aq0SUAAAACAap9JQAAAAABBzUlAAAAAwLbYSUAAAACAlt9JQAAAAMAX+0lAAAAAALCZSUAAAADAhJBJQAAAAAC/eklAAAAA4Aq0SUAAAAAAIJ1JQAAAAACMz0lAAAAA4KXASUAAAABgj6BJQAAAAAC8tEpAAAAAIEtOS0AAAAAAJk1LQAAAAMDkI0tAAAAAICjnSkAAAACgzMxKQAAAAMCH0kpAAAAAgMfESkAAAADAYJpKQAAAAAArgUpAAAAAAN9HSkAAAACg0wtLQAAAAOCOEUtAAAAAAC7vSkAAAABAuUZKQAAAAIBla0pAAAAAYEIESkAAAAAAyIdKQAAAAMDE4UpAAAAAgPtTS0AAAABghjJLQAAAAGBdbUtAAAAAYFyLS0AAAACASzhLQAAAAABLR0tAAAAAoIVQS0AAAAAg5odLQAAAAIAkKEtAAAAAINqtSkAAAADAnrNKQAAAACCHI0tAAAAA4GAES0AAAAAANKhLQAAAACCrfktAAAAAwGztS0AAAADAfwRMQAAAAIDyYUxAAAAAIFY/TEAAAADAzDNMQAAAAAB/E0xAAAAAYMirTEAAAAAAjqJMQAAAAACOokxAAAAAQLWjTEAAAADA8X9MQAAAAKCOhExAAAAA4BljTEAAAADgt1hMQAAAACAJAUxAAAAAwMwzTEAAAAAAfxNMQAAAAAB/E0xAAAAAAMxRTEAAAADAuDpMQAAAACBqOExAAAAAgCx6TEAAAACAQjdMQAAAAOCkQUxAAAAAAAguTEAAAACgkSpMQAAAAAB/E0xAAAAAQEJGTEAAAADAo19MQAAAAEA/oExAAAAAoLSyTEAAAAAAxvZMQAAAAOD6pE1AAAAAgP1ZTUAAAABAnSJNQAAAACArp0xAAAAAIN53TEAAAACgtLJMQAAAAEAXrkxAAAAAAN2VTEAAAADgeotMQAAAAGCL3kxAAAAA4J/XTEAAAABgsCpNQAAAAACMRk1AAAAAgOdBTUAAAADgvUBNQAAAAMBZTE1AAAAAAEM9TUAAAABALC5NQAAAAMBZTE1AAAAAwFlMTUAAAABgFR9NQAAAAAARAk1AAAAAIH5xTUAAAACAjAVNQAAAAKBnIU1AAAAAoLkjTUAAAABg0DJNQAAAAOBKd01AAAAA4B1ZTUAAAABgVHBNQAAAAGDLVk1AAAAA4PkzTUAAAAAgcFtNQAAAAICrTk1AAAAAwF1pTUAAAABgVHBNQAAAAMDCHE1AAAAAwO97TUAAAADAXWlNQAAAAIAidk1AAAAAABCETUAAAACAHZpNQAAAAAACr01AAAAAoN3KTUAAAABgRtxNQAAAAABLuE1AAAAAoC/NTUAAAADgc7lNQAAAAKAvzU1AAAAAAGLHTUAAAAAg+LVNQAAAAOAqsE1AAAAA4CaTTUAAAADApnJNQAAAAOAqsE1AAAAA4LilTUAAAACAGX1NQAAAAEB9sk1AAAAAoPMaTkAAAAAgG55OQAAAACBgy05AAAAAQO7ATkAAAAAAAPROQAAAAOANCk9AAAAAIFF4T0AAAADAjGtPQAAAAAAEUk9AAAAAIK0yT0AAAACgukhPQAAAAIDEQU9AAAAAQF9NT0AAAACAtWxPQAAAAOANCk9AAAAAoMQAT0AAAABAkgZPQAAAAKB/pk9AAAAAYDPFTkAAAADADOBOQAAAAMC23U5AAAAAoG42T0AAAAAASFFPQAAAAODJW09AAAAAAAO/T0AAAABAs+ZPQAAAACCdDVBAAAAAQLHYT0AAAABgC/dPQAAAAGBpXFBAAAAA4MJ6UEAAAADAxIhQQAAAAEAugVBAAAAA4H9nUEAAAADgXAhQQAAAAMCv0U9AAAAAYJ8bUEAAAACAcQVQQAAAAGCx309AAAAAgF7rT0AAAACgdihQQAAAACDd4E9AAAAAgHEFUEAAAABA3ARQQAAAAEBPPFBAAAAAwJ4UUEAAAAAAJo9PQAAAACAG1E9AAAAAABo7T0AAAACgdm5PQAAAACC/FU9AAAAAIPl/T0AAAAAAcURPQAAAAEBVrE9AAAAAAAnpT0AAAADgMupPQAAAAKDOOFBAAAAAoP5cUEAAAABA8pdQQAAAACA3uVBAAAAAgEu2UEAAAAAA+9ZQQAAAAGD+61BAAAAAAOXSUEAAAAAgzsdQQAAAAOA96lBAAAAAIBLiUEAAAACgH65QQAAAAEAep1BAAAAAoEaTUEAAAAAgRYxQQAAAAACYeVBAAAAAYCxzUEAAAADAG5JQQAAAACDEgVBAAAAAIIeYUEAAAADA2YVQQAAAAID7R1BAAAAAAJqHUEAAAACAOMdQQAAAAGBlyFBAAAAAoKDhUEAAAACgR5hQQAAAAGCPnVBAAAAAYJyJUEAAAADg38RQQAAAAGAOq1BAAAAAwEupUEAAAADA7LBQQAAAAMCCsVBAAAAAQGu+UEAAAAAgwPZQQAAAAMBYI1FAAAAAoKTyUEAAAACgR99QQAAAACD10lBAAAAAQB0KUUAAAAAA/vRQQAAAAEDCIlFAAAAA4BAeUUAAAABgKj1RQAAAAMBYI1FAAAAAQAhDUUAAAADAOjpRQAAAAOCoSlFAAAAAQFItUUAAAADAfAJRQAAAAKA4DlFAAAAA4L3KUEAAAADgvcpQQAAAAMBc7VBAAAAAQInuUEAAAACg6hJRQAAAAAD1GVFAAAAA4GsFUUAAAADAph5RQAAAAEDCaVFAAAAAIIVrUUAAAABgiXxRQAAAAGCJfFFAAAAAICqEUUAAAAAgPa1RQAAAACDzwlFAAAAAoFbMUUAAAACA0chRQAAAACD+yVFAAAAAYJjbUUAAAABAZxBSQAAAACCUEVJAAAAAwFYTUkAAAADg1wVSQAAAAKB4DVJAAAAAAMs1U0AAAADgfDpTQAAAAMDTEFNAAAAAwNMQU0AAAACg4ENTQAAAAEAoSVNAAAAA4IVcU0AAAABAyVBTQAAAAIDNYVNAAAAAgDlGU0AAAACgUDlTQAAAAODVPFNAAAAAoOBDU0AAAACAix1TQAAAAICEKlNAAAAAAFf7UkAAAADgAQNTQAAAACAvSVNAAAAAQDYlU0AAAABgDi5TQAAAAMAHUlNAAAAAIJiNU0AAAABAxjJTQAAAAMC4Y1NAAAAAoAdpU0AAAABAf61SQAAAAECSy1JAAAAAIMARU0AAAAAApgBTQAAAAAAiY1NAAAAAgDuiU0AAAADA37ZTQAAAAABPqVNAAAAAQGOCU0AAAACAxAFUQAAAAEAN5lNAAAAA4J3FU0AAAACgVbNTQAAAAOAnslNAAAAAIL+yU0AAAAAgQqxTQAAAAGCKvlNAAAAAACG/U0AAAADgg7RTQAAAAICxzFNAAAAAgEjkU0AAAABgGhFUQAAAAODKUFRAAAAAwBlWVEAAAACgj1JUQAAAAOD4OlRAAAAAYE5KVEAAAACA8aNUQAAAAAA6WlRAAAAA4MnDVEAAAADgbcFUQAAAAECIu1RAAAAAgHoaVUAAAABAlCtVQAAAAMDcJlVAAAAAQPBEVUAAAAAA9qpVQAAAAMC0olVAAAAAQB5dVUAAAAAg/OJVQAAAAEDBtlVAAAAAwIAkVUAAAACAlkVUQAAAAGD3CVVAAAAAgIikVEAAAAAgQpVTQAAAAMAzUFRAAAAAoDmIVEAAAABAgbFUQAAAAOB0BFVAAAAAQBFyVUAAAADg9kpVQAAAAGCfdVVAAAAAAL8sVUAAAAAg9zpVQAAAAIAExVVAAAAAYJkVVkAAAAAgUM1VQAAAAMDVs1VAAAAAIFN9VUAAAAAgLYlVQAAAAAAirFVAAAAAQCyZVUAAAABgK7lVQAAAAKDw2lVAAAAA4PRXVkAAAABAlWVWQAAAAEDB2VVAAAAA4JK4VUAAAADgIMxVQAAAAAAD5VVAAAAAwLF/VUAAAACg6o1VQAAAAEBnZ1VAAAAAwAXIVEAAAABAYS1UQAAAAEBttFVAAAAAwA+1VEAAAABAUrBUQAAAAOC1H1VAAAAAgMZ8VEAAAABASMNUQAAAAMCDXlVAAAAAQHphVUAAAABgF+JUQAAAAAAWAlVAAAAAoBp/VUAAAABgq0JVQAAAAOCTqFVAAAAA4POKVUAAAAAgictVQAAAAMAbPFZAAAAAQAhSVkAAAADgej5WQAAAAIC2/FVAAAAAQHMRVkAAAACgUo1VQAAAAOBUXVVAAAAAAN7QVUAAAAAgTC1WQAAAAOAFpVVAAAAAgLb8VUAAAAAAbqRVQAAAAECcxVVAAAAAYDEGVkAAAABA/0RWQAAAAAC0LFZAAAAAAKhvVkAAAADAIKlWQAAAAKCvnFZAAAAAYD2wVkAAAACgK4ZWQAAAAAAMlVZAAAAAAFRbVkAAAACgCWZWQAAAAIDTr1ZAAAAAIOCpVkAAAAAg5+5WQAAAAGAT2lZAAAAAAA3dVkAAAABAOchWQAAAAOAoAFdAAAAAQJ35VkAAAADgpm1XQAAAAIAEoldAAAAAIPbAV0AAAAAA0NJXQAAAAAACc1dAAAAAIKOfV0AAAADAH31XQAAAACCYjFdAAAAAwDhxV0AAAADAI5NXQAAAAKBgRldAAAAAQNFxV0AAAABA0XFXQAAAAADrrVdAAAAAwHqCV0AAAAAACldXQAAAACDW3lZAAAAAYOUHV0AAAAAgQaxWQAAAAOAd7VZAAAAAYO3rVkAAAABgPD9XQAAAACAcBldAAAAA4FswV0AAAABgq4NXQAAAAGC6rFdAAAAAYMu8V0AAAADAdrRXQAAAACD5N1hAAAAAoMKBWEAAAABA0WJYQAAAAEC0oFhAAAAAwFBvWEAAAAAgeERYQAAAACC/s1hAAAAAYOgYWUAAAAAAdgZZQAAAAIAYw1lAAAAA4Bd7WUAAAACApgdZQAAAACAxflhAAAAAoHCoWEAAAACgV7RYQAAAAOAaAVlAAAAAgBIdWUAAAACAbSJZQAAAAOAOT1lAAAAAYFtzWUAAAACAEX5ZQAAAAOAyVllAAAAAQDAnWUAAAACAhXdZQAAAAIAdH1lAAAAAYOsdWUAAAADAVRpZQAAAAADs71hAAAAAAMK6WEAAAAAgRvtYQAAAAAAkGVlAAAAAgFFLWUAAAAAgAJNZQAAAAEBtullAAAAAYI8jWkAAAADgYB9aQAAAACAUNlpAAAAAAAsRWkAAAADgsVBZQAAAAAChX1lAAAAAIPg/WUAAAADg24VZQAAAAID39FlAAAAAAAsRWkAAAACAuVhaQAAAAOAzdFpAAAAA4LoqWkAAAACApWpaQAAAAAByEFpAAAAAoCaAWkAAAABgXqlaQAAAAODbwVpAAAAAALi0WkAAAABgpJhaQAAAAKBTslpAAAAAgPCvWkAAAACgAvpaQAAAAGCI3lpAAAAAYLrfWkAAAACgjlFaQAAAAIAhKlpAAAAAgKvdWUAAAACg5TFaQAAAAOCCxVhAAAAAIJS2WEAAAABgNZFZQAAAAMCHG1lAAAAAYKHmWUAAAAAAT9VZQAAAAKBKUVlAAAAAgNlaWUAAAABgy5RZQAAAAKBlOVlAAAAAoCDgV0AAAABAWEVZQAAAAMBM9VhAAAAAoIU7WEAAAAAgWzRYQAAAACBX7FhAAAAAoCy3WEAAAADggsVYQAAAAGAnFllAAAAAwLIiWUAAAAAA+h9aQAAAAMBuE1pAAAAAYDWRWUAAAAAA7O9YQAAAAKAa9FhAAAAAwIOZWEAAAADgGSRZQAAAAMCxYFlAAAAAgISEWEAAAACg79VXQAAAAODsKVhAAAAAIIcnWEAAAAAggfNYQAAAAGCzG1lAAAAAgHkKWkAAAABgrtJZQAAAACCt/FlAAAAAAKtEWkAAAADgfW5ZQAAAAKCvlllAAAAAoIOQWEAAAACAsjZZQAAAAACxcllAAAAAQBaQWUAAAAAgSaZZQAAAAEAb2VhAAAAAgLocWEAAAABghV1YQAAAACC5TFhAAAAAwO/JV0AAAACAKAVXQAAAAIAvD1ZAAAAA4PGQV0AAAADAI7ZXQAAAAIC+hldAAAAAYInNV0AAAABAirJXQAAAAEBd01ZAAAAAYCLjV0AAAADA7upXQAAAAEBUF1hAAAAAAIVvWEAAAACAUkdYQAAAAEBUF1hAAAAAoFXqV0AAAAAA6ptYQAAAAIAcslhAAAAAIILeWEAAAACA5T1ZQAAAAGAcxFhAAAAAQOcBWUAAAACATuNYQAAAAKCAHVlAAAAAQB2gWEAAAACAuh9YQAAAAKAa7lhAAAAAYB55WEAAAAAAIRZYQAAAAKC1x1hAAAAA4H8gWUAAAABAG9lYQAAAACCDq1hAAAAAgILDWEAAAAAgUKpYQAAAAAC0DFlAAAAAYOcHWUAAAAAgTQ1ZQAAAAKB+XFlAAAAAQH5ZWUAAAADgwDdZQAAAACDrv1lAAAAAQOgdWkAAAAAgQ0NaQAAAAACocVpAAAAAIDVmWkAAAAAAxl1aQAAAAMDle1pAAAAAgKFrWkAAAACg40laQAAAAGDnTFpAAAAAgPb6WUAAAABgMQJaQAAAAID4jVpAAAAAIJK9WkAAAADAlvJaQAAAACAD+FpAAAAAoIpHW0AAAAAgjqtbQAAAACBgsFtAAAAAIIuoW0AAAADgN0tcQAAAAOA5jFtAAAAAgPqwW0AAAAAgCsBbQAAAAIBbe1tAAAAA4P6EW0AAAAAg2cFbQAAAAMDqAlxAAAAAICkNXEAAAACgJzxcQAAAAABnF1xAAAAAwFU3XEAAAABgvjlcQAAAAACVElxAAAAA4GhJXEAAAACA2FFcQAAAAOAyd1xAAAAAgDl9XEAAAACgWmxcQAAAAKCaqFxAAAAAQAEJXUAAAACggCBdQAAAAIC4hV1AAAAAYNBrXUAAAAAgP2VeQAAAAGDUkV5AAAAAgJqKXkAAAAAAnLxeQAAAACC7GF5AAAAAAB20XUAAAAAgL1ZeQAAAACD/KF5AAAAAAIqKXUAAAACA8IldQAAAAMBViV1AAAAA4IrrXUAAAABgzAddQAAAAGDxWl1AAAAAIMXEXUAAAAAAv3ReQAAAAKC9QF5AAAAAQN3QXUAAAACA/PldQAAAAECNKF5AAAAAgHLOXUAAAADgEtJdQAAAAKA8zV1AAAAAAHaDXUAAAAAAPLNdQAAAAMBDN11AAAAAgAxPXEAAAACA0RddQAAAAMBHuV1AAAAAAJ8xXkAAAADgHApfQAAAAKCuUl9AAAAAYHE0X0AAAACAjg9fQAAAAOC/QV9AAAAAQJxJX0AAAABAzGFfQAAAAOB97V9AAAAAQMUGYEAAAAAg3ixgQAAAAAB5LWBAAAAAAPdFYEAAAADA34RfQAAAAKAbo19AAAAA4GmwX0AAAADA7KRfQAAAAAB4BmBAAAAAoK4hYEAAAADgSTxgQAAAAKAxMGBAAAAAwCstYEAAAADADR5gQAAAACAVSGBAAAAAALZYYEAAAABA1GdgQAAAAEDUZ2BAAAAAAM0wYEAAAACgThhgQAAAAKDXHGBAAAAA4OMiYEAAAABAnllgQAAAAICfc2BAAAAA4NueYEAAAACg1Y5gQAAAAACbsWBAAAAAwDuoYEAAAABArJNgQAAAAKBOGGBAAAAAgG5OYEAAAABAWytgQAAAACAZO19AAAAAIBLRX0AAAABAv/RfQAAAAMCGZ2BAAAAAYNlDYEAAAABAywlgQAAAAGDCXmBAAAAAwBzBX0AAAADA6K5fQAAAACDIIWBAAAAAQPNmYEAAAADgD0RgQAAAAEB6cmBAAAAAQNZTYEAAAADgUJ1fQAAAAOAmDWBAAAAAQPMVYEAAAABAfRBgQAAAAOAmXmBAAAAAoENWYEAAAAAADR9gQAAAAIBJT2BAAAAA4LOYYEAAAADA4XtgQAAAAEDzS2BAAAAAoEMgYEAAAACAeiFgQAAAAEDzS2BAAAAAwOFFYEAAAAAg2SdgQAAAAKABSGBAAAAAgElqYEAAAABApbdgQAAAAIAyhmBAAAAAoBh9YEAAAAAAtEdgQAAAAADFg2BAAAAAwDqJYEAAAABAUlJgQAAAAODBeWBAAAAAgEw+YEAAAAAAxOlfQAAAAABVJmBAAAAA4CZeYEAAAABg0D9gQAAAAIDTE2BAAAAA4MphYEAAAADA4XtgQAAAAAB6jWBAAAAAwIiJYEAAAADA0MZgQAAAAMCfo2BAAAAAIMiNYEAAAADAnEhgQAAAAECOZ2BAAAAAIBApYEAAAACgdENgQAAAAGBdlWBAAAAAIFWtYEAAAABATBZhQAAAAAAK7WBAAAAAIAojYUAAAAAAbP1gQAAAACAKCGFAAAAAIDghYUAAAAAgfR5hQAAAAKBaEmFAAAAA4GsYYUAAAABg/kthQAAAAICLUGFAAAAAIKttYUAAAAAA83RhQAAAAICzi2FAAAAAYKXFYUAAAACg3tBhQAAAAGBj0mFAAAAAIHnKYUAAAAAANsZhQAAAAECPyWFAAAAAAHv7YUAAAACg1RNiQAAAAGCpHGJAAAAAIAwAYkAAAACgV8hhQAAAAEAJwWFAAAAA4HnRYUAAAACg6NNhQAAAAGBPC2JAAAAAYHD/YUAAAADgb/hhQAAAAODJCWJAAAAAoKo4YkAAAABA719iQAAAAOBffmJAAAAAIM5kYkAAAABgEFtiQAAAAODag2JAAAAAoJq3YkAAAACgmrdiQAAAAICwtmJAAAAAQPXdYkAAAAAgyeZiQAAAAAAVvWJAAAAAIG7AYkAAAADgUBljQAAAAIBv3GJAAAAA4OroYkAAAADgxrxiQAAAAMAuCWNAAAAA4A9GY0AAAABgOy9jQAAAAGBJamNAAAAA4EdHY0AAAAAAPmdjQAAAAIBCwmNAAAAAwJHeY0AAAADgTcxjQAAAAMDzs2NAAAAAYADTY0AAAADg3J9jQAAAAADZS2NAAAAA4KWsY0AAAADALvtjQAAAAIB4i2RAAAAA4Ng9ZEAAAABALLxkQAAAAMDmamVAAAAAADRkZUAAAADgvtVlQAAAACCp3WVAAAAAABRwZkAAAAAgZ+5lQAAAAICf9mVAAAAAwC7YZUAAAACgGgpmQAAAAABVQ2ZAAAAAoGxUZkAAAACAIP1lQAAAAAAtS2VAAAAAQCVgZEAAAADgEQpkQAAAAGArSmRAAAAAgDHcYkAAAAAgGVFjQAAAAMAjmmRAAAAAAGidY0AAAACgxFVkQAAAAOAg02NAAAAAAKtDY0AAAABgb/VhQAAAAODTL2NAAAAA4E9RYkAAAACglZRgQAAAAKAI8GJAAAAAAHslYEAAAAAA0XlhQAAAAIB8vWBAAAAAIP8DYUAAAAAAZGBgQAAAAKCSNmBAAAAAwNevYUAAAADgf4RhQAAAAAADnWJAAAAA4FrZYUAAAABgxBpjQAAAAEDZzWJAAAAAgOoiYkAAAACAEINiQAAAAMBqV2JAAAAAwJq0Y0AAAAAARn5jQAAAAOBUsGNAAAAAwKKwY0AAAACg7btjQAAAAGDqtWRAAAAAYF1+ZEAAAACA3RtlQAAAAEB7S2VAAAAA4G3fZEAAAACAcAJkQAAAAGBssGRAAAAA4FJwZEAAAADg3M9kQAAAAMCZwGRAAAAAIC4/ZEAAAACAxCdlQAAAAAAaXmVAAAAAwHjQZEAAAACAzlJlQAAAAIBpjWVAAAAAYL7DZUAAAABgGeRlQAAAAIAQBWZAAAAAYPFDZkAAAAAg1MJlQAAAAACVbmVAAAAAIGSGZUAAAADgqtZlQAAAAKAVDGZAAAAAIAPlZUAAAACgwjJmQAAAAACB7mVAAAAAQPPwZUAAAAAAkrVlQAAAAODqvGVAAAAA4F2wZUAAAAAg/uhlQAAAAIAj3GVAAAAAwM0bZkAAAADgkylmQAAAAKDk3mVAAAAAYOVhZkAAAABAZ4VmQAAAAIB6sWZAAAAAYPaIZ0AAAACAbkVmQAAAAABtcmZAAAAAwCeXZkAAAAAg3yRnQAAAACBhOWdAAAAA4At5Z0AAAACgO1VnQAAAAGAh+2dAAAAAYCUkaEAAAABAkqdnQAAAAEAX9GdAAAAAAFp5Z0AAAACA77lnQAAAAKAeVWhAAAAAQIt5aEAAAAAAS6loQAAAAMAxMWlAAAAAQDTmaEAAAAAAZHJpQAAAAID/n2lAAAAAABqMaUAAAABgFsJoQAAAAOBD6WhAAAAAoMbfaEAAAABAq2FoQAAAAGDWQWhAAAAAIL5MaUAAAADAgfVoQAAAAEBVUWlAAAAAAG43aEAAAADAeRFoQAAAAMCGX2hAAAAAQIMnaEAAAABg9GVoQAAAAMAOYWhAAAAAgAiDaEAAAADA8uNpQAAAAIB4gGlAAAAA4MF1aUAAAADgId5pQAAAAECtZ2lAAAAAQDTmaEAAAABAJFFoQAAAACD6AmlAAAAAQPrzaEAAAABgGfpoQAAAAKBWJGlAAAAAQGBJaUAAAABAGiJpQAAAAEDVt2lAAAAA4PeHaUAAAABghpxpQAAAACDS8WlAAAAAQGqBakAAAAAgBShrQAAAAOCCb2tAAAAAAM4Ha0AAAAAgMT1rQAAAAICUw2tAAAAAwEkLakAAAADgtK1pQAAAAMAYSmhAAAAAIONSaUAAAABgP51oQAAAAMAhdGhAAAAAQHmeaEAAAADg3wVpQAAAAIBtk2hAAAAAoMRRaEAAAADgcgRoQAAAAEBqRmhAAAAAYCXcaEAAAACAlQpoQAAAACBcWmhAAAAAYGvoaEAAAAAAIBppQAAAAIA812hAAAAAoG41aUAAAABAyXZpQAAAAEBotmhAAAAAgPc2aUAAAADA0K1oQAAAAEAXJmlAAAAAQBo9aUAAAABgkt1pQAAAAAAWiWpAAAAAAOK1akAAAABAhHhqQAAAAGCzU2pAAAAAYLNTakAAAAAgyaxpQAAAAAD7uWlAAAAAQJW+aUAAAADgV8FpQAAAAEB16mlAAAAA4MItaUAAAAAgBo9pQAAAAEC2SmhAAAAA4E2JaEAAAACARERoQAAAAAD5P2hAAAAAIMW9aEAAAAAAXu9pQAAAACATw2pAAAAAAEXQakAAAABAuyxqQAAAAKBLSmlAAAAAwEb0aUAAAAAgONJpQAAAAMAM82lAAAAAACQJakAAAABgJrRpQAAAAEBmXWlAAAAAAJ+GaUAAAAAgLEhpQAAAAECPP2lAAAAAgOuyaUAAAAAgOrNpQAAAAMAQ3WlAAAAAYGG5aUAAAACgNvtpQAAAAABf4WlAAAAAgJy+aUAAAADgTMJpQAAAAEAmwGlAAAAAQA/1aUAAAACAjHNpQAAAAOArTGlAAAAAYHagaUAAAAAgYb1pQAAAAOA5u2lAAAAAIKdZakAAAADg9V1qQAAAAKBtRGpAAAAAYHq/akAAAADgAelqQAAAAIAuj2pAAAAAgGbEakAAAAAgYwhrQAAAAAB472pAAAAAQHyjakAAAADAP7pqQAAAAMC9KGpAAAAAoDMvakAAAABAZIFpQAAAAMAyO2pAAAAAwBxkakAAAADAliJqQAAAAODV02lAAAAAQDb/aUAAAABgFJlpQAAAAGCyjWlAAAAA4EkCakAAAABAUPVqQAAAAMCxCGtAAAAAoNcma0AAAADA+JRrQAAAAKAb62tAAAAAYKT8a0AAAAAgJLZsQAAAAOC532tAAAAAgErMbEAAAAAA/MdsQAAAAOBYM21AAAAAQOQUbUAAAACgvBptQAAAAGAKI21AAAAAwAhLbUAAAABAzy1tQAAAAGAuYW1AAAAAYJBwbUAAAABA4UhtQAAAAACQaW1AAAAAAOxcbUAAAACg+AVtQAAAACDJPmxAAAAAgI0YbEAAAADgBEBsQAAAAGCVlGtAAAAAIBz9a0AAAABAtolsQAAAAIANK2xAAAAAwH1oa0AAAACA5k5rQAAAAIAP5WtAAAAAIEBja0AAAAAgRyhsQAAAAOBX/mtAAAAAIJKPbEAAAAAABWVsQAAAAEAJSGxAAAAA4HOhbEAAAABAy4xsQAAAAEDtyWtAAAAAwIS+a0AAAABga2xsQAAAAOBxnWxAAAAAwBNcbEAAAACg4PtrQAAAAECHe2xAAAAAgEtVbEAAAAAAxexrQAAAAKCiZWxAAAAAoIUwbUAAAAAguf9tQAAAAABq2m1AAAAAYFAZbkAAAACgm4BuQAAAAIDG0G5AAAAAIKDSbkAAAABALSJvQAAAAADCyG5AAAAAgFFBb0AAAABgjWdvQAAAAGDiKW9AAAAAgBUbb0AAAADgnWJvQAAAAKB5+W5AAAAAgDF0b0AAAADAhoBvQAAAAAB6jW9AAAAAoP+obkAAAADAymluQAAAAGCdX25AAAAA4L9VbkAAAADAQdhtQAAAAGCOr21AAAAAoBIUbkAAAACgP2huQAAAAMByxW1AAAAAoCeobUAAAACAOslsQAAAAOB8RW1AAAAAIFvjbUAAAACgx4dtQAAAAKAHR21AAAAAgJJZbUAAAACgacFtQAAAAGDtmG1AAAAAoE1GbkAAAABAWmNuQAAAAKA+XG5AAAAAoN8YbkAAAADATiRuQAAAAGDY3W1AAAAAQMHabUAAAADAnaltQAAAAOCcRm5AAAAAAPKjbkAAAABgn31uQAAAACAlnW5AAAAAwPINb0AAAABACSJvQAAAAODYX29AAAAAwI8wb0AAAACARhJvQAAAAOAOf29AAAAAQKFRb0AAAADghrRvQAAAAODDBnBAAAAAwA4DcEAAAAAAABlwQAAAAIBj/m9AAAAAQF44cEAAAABgx2FwQAAAAKANWnBAAAAAYN9kcEAAAACgW8JwQAAAAECDwnBAAAAAoJblcEAAAAAAzr5wQAAAAMDWxnBAAAAAIEK9cEAAAABg0PVwQAAAAMB0DXFAAAAAQJb2cEAAAACgQvJwQAAAAMB3uHBAAAAA4CnccEAAAAAgTvxwQAAAAGCMRXFAAAAAYBh8cUAAAADgg3JxQAAAAMC6S3FAAAAAAMlGcUAAAABgHEtxQAAAAMCKMnFAAAAAwCYxcUAAAAAgsVRxQAAAAEBES3FAAAAAAMd5cUAAAADA2XhxQAAAAIBjZ3FAAAAAIC9KcUAAAACgEFJxQAAAAEBCfnFAAAAA4DutcUAAAACARshxQAAAAMDJsHFAAAAAYBOVcUAAAADglfJxQAAAAEAYaHJAAAAAoJVsckAAAAAAKE1yQAAAAEC2Q3JAAAAAIIEWckAAAABAQiByQAAAAKAsXHJAAAAAILNBckAAAADA7EByQAAAAOBlNnJAAAAAQD42ckAAAAAgYSdyQAAAAADYJ3JAAAAAgAT6cUAAAAAALeJxQAAAAAD+9XFAAAAAoFchckAAAABgN29yQAAAAMBodXJAAAAAwJQickAAAACAWMxxQAAAAEAW1HFAAAAA4JsOckAAAADAxx1yQAAAAACIGnJAAAAAwFXKcUAAAAAgcyVxQAAAAMDhLHFAAAAA4K0McUAAAAAg13txQAAAACAaH3FAAAAAYJN2cUAAAAAA7LlxQAAAAGDc1HFAAAAAYNzUcUAAAAAgQ8txQAAAAMBctnFAAAAAIHfrcUAAAAAAK09yQAAAAMDFZXJAAAAAIHWVckAAAACAAqRyQAAAAKBQl3JAAAAA4C3LckAAAACAaLJyQAAAAIB2onJAAAAAwB3BckAAAACgT4tzQAAAAGCUnXNAAAAAACIOdEAAAACgTOtzQAAAAECDJXRAAAAA4PoydEAAAACgwVh0QAAAAIDfUnRAAAAAgEVhdEAAAADAK1F0QAAAACBwAXRAAAAAIKwadEAAAABgF110QAAAAIAHU3RAAAAAYEmIdEAAAACg2ot0QAAAAIAzrXRAAAAAAL3JdEAAAADA3ZZ0QAAAAOCEdXRAAAAAIBZ5dEAAAAAAcPlzQAAAAKA7ZXRAAAAA4IwHdEAAAADAo/9zQAAAAIB99nNAAAAAoPuRc0AAAADgTcNzQAAAAKC1SnRAAAAAQHxLdEAAAACAey50QAAAAADmwHRAAAAAYDKQdEAAAABAp+RzQAAAAKCFRnRAAAAAQEyvc0AAAABgPJ5zQAAAAMDmYXNAAAAAIF7Uc0AAAACACDB0QAAAAKAkR3RAAAAAwIC/dEAAAAAA5Kx0QAAAAKC/t3RAAAAAwPSOdEAAAADgbGB0QAAAAAATSHRAAAAAoAvvc0AAAAAgJitzQAAAAKBfBHNAAAAAANsGc0AAAAAgbApzQAAAAEBvFXNAAAAA4HZIc0AAAABAindyQAAAAKBLy3JAAAAAQDFWckAAAABgvWByQAAAACDoRXJAAAAAwIPvcUAAAADgyfRxQAAAACCRenFAAAAA4A/6cUAAAADgmypyQAAAAIA0rXJAAAAA4GTXckAAAAAg9rRyQAAAAODb/XJAAAAAgHpAckAAAADAOIlyQAAAAGDTO3JAAAAAINFzckAAAADg9dpyQAAAACABUnJAAAAA4CjgcUAAAAAAit9xQAAAAKBhNHJAAAAAwPAuckAAAABgoqZxQAAAAKAde3FAAAAA4Nl3cUAAAACgDwRxQAAAAOCg4nFAAAAAIOcMckAAAABA6CNyQAAAAGA56HFAAAAAYKo5ckAAAACATPdxQAAAAMAcmXFAAAAAQOzucEAAAAAgXb9wQAAAAGD5g3FAAAAA4L5WcUAAAADg8wBxQAAAAICIyHBAAAAAIP5ucUAAAAAAhd9xQAAAAGBr7HFAAAAAIGU9ckAAAAAgqClyQAAAAEDQdXJAAAAAAMkuckAAAACgb3ZyQAAAAKDob3JAAAAAQATdckAAAAAgOCZzQAAAAOAgDnNAAAAAYN63ckAAAAAgH8lyQAAAAGBhH3NAAAAAANDfckAAAADA8C5yQAAAAEABTHJAAAAAgJ4HckAAAABAnlFxQAAAAIDhH3FAAAAAIEx2cUAAAADgOP1wQAAAAGDyB3FAAAAAAD1ScUAAAADAtmJxQAAAAEB0DHFAAAAAwBOjcEAAAADgDQtxQAAAACDcZ3BAAAAAQOkxcUAAAABgiZVxQAAAAKBR2XBAAAAAwFZFcUAAAADghxtxQAAAAID6mnFAAAAAgK3WcEAAAADA9K1wQAAAAIAzEHBAAAAAYKtccEAAAACAIaNvQAAAAIB9AW9AAAAAANm0b0AAAADgqMBvQAAAACAEM3BAAAAAgGjsbkAAAABgHs9uQAAAAIAMvW5AAAAAwBu5b0AAAADABJlvQAAAAGBf829AAAAAwFcucEAAAACAsKBwQAAAAMBYi3BAAAAAQOqTcEAAAABAkLVwQAAAAGCGbnBAAAAAgL1acEAAAAAgKZVwQAAAAACadHBAAAAAAA0dcEAAAABgcspuQAAAAEAhfG1AAAAAQJzBbUAAAABAH6RuQAAAAMCQ0G1AAAAAQBEkbkAAAACA0OFuQAAAAODOzm5AAAAAoFaBb0AAAABgYkpwQAAAAMCbHnBAAAAAQC83b0AAAAAg9axvQAAAAAAXQm9AAAAA4MWXb0AAAADAp/1vQAAAAOArM3BAAAAA4ElVcEAAAACgwklwQAAAAECwGHBAAAAAIKLfbkAAAACgCMJuQAAAAIBo7G5AAAAAoKk+b0AAAABgtPFuQAAAAMA2lm9AAAAAoJXrb0AAAAAg1B1wQAAAAMASsG9AAAAAoGeAb0AAAAAgfKhuQAAAAACWWnBAAAAAgBLScEAAAABAhxVxQAAAAMD/6nBAAAAAoE25cEAAAACgejBxQAAAAODcQnFAAAAAgFU3cUAAAABg/A5xQAAAAMDULXFAAAAAQLOYcUAAAABgXHdxQAAAAKCKw3FAAAAAANjbcUAAAAAAAdBxQAAAAMD7w3FAAAAAwAeycUAAAAAgRXNxQAAAACAi8HBAAAAAgK7bcEAAAADgiNFwQAAAAEBOAXFAAAAAwFJZcEAAAACgrCxwQAAAAIBkCXBAAAAAoPPjb0AAAADAisJvQAAAAIAIO29AAAAAwEvjbkAAAABganpvQAAAAIDXh29AAAAAoKcgcEAAAAAA2EJwQAAAAGD0u25AAAAAwCLDbkAAAABAke1tQAAAACCW2W1AAAAAYLfSbUAAAACgFZJtQAAAAKDNJG1AAAAAgC9kbUAAAABgpARtQAAAAOD39WxAAAAAAH/VbEAAAAAA/2ZtQAAAAECH92xAAAAAwOZnbEAAAABAsVxtQAAAAKDZWm5AAAAAYNdkbkAAAADglxluQAAAAKC9kWxAAAAA4O/1a0AAAABACn5rQAAAAOCniGtAAAAAoL2RbEAAAACgZOBrQAAAAOB2+GxAAAAAwMAWbUAAAAAgrtdsQAAAAMBgzWxAAAAAwMeHbUAAAADA9CduQAAAAIBtkm5AAAAAgJE2bEAAAADg4KdrQAAAAICixGxAAAAAQNxPbEAAAABAN9RrQAAAAIA+2GpAAAAAQJYhakAAAADAhQBrQAAAAEDZymtAAAAAgBLqa0AAAABg8GFrQAAAAACiom1AAAAAgJUjbkAAAADA+3VtQAAAAKAYg21AAAAAwN+QbUAAAADATo9tQAAAAKDngG1AAAAAwOSabUAAAABgM/htQAAAAKALSG5AAAAAADpFbkAAAAAg0JFtQAAAAOAJZW1AAAAA4ME0b0AAAAAAqyZvQAAAAGAAMW9AAAAAQBSabkAAAADABPttQAAAAACJ421AAAAAoGhCbkAAAABAaQRuQAAAAOBo4m5AAAAA4H1sb0AAAAAA43VvQAAAAODRdG5AAAAAYI7tbUAAAACAy2htQAAAAAARk21AAAAAAGrlbUAAAABgCCJtQAAAAMDwMm1AAAAA4IT7bEAAAADgbq9sQAAAAIBUem1AAAAAwBFVbUAAAADgjU1tQAAAAGBpBWxAAAAAIM8wa0AAAAAA2IJrQAAAAGBqx2tAAAAA4JX9a0AAAADgQdZsQAAAAAANLG1AAAAAYJhCbUAAAAAAqmVtQAAAAOCC12xAAAAA4AVebEAAAAAAmGFtQAAAAAB9q21AAAAAgJSabUAAAAAAzm1tQAAAACAyVW5AAAAAgDRabkAAAAAAj69tQAAAAMA+T25AAAAAYOzpbkAAAABgey5wQAAAAEBEmW9AAAAAYMtnb0AAAABg0lxwQAAAAMDTT3BAAAAAgCMfcEAAAABA/xZwQAAAACCwl3BAAAAAoP6kcEAAAADg74JwQAAAAKBnEnBAAAAAwGykb0AAAABAPPtuQAAAAKDS1m5AAAAAICc9b0AAAACg8I5uQAAAAGByrG5AAAAAwDeVbkAAAABAVzJuQAAAAGBEym5AAAAA4HlNb0AAAAAgEn9vQAAAAOCwKW9AAAAA4JAbb0AAAADAP/BuQAAAAAAqe25AAAAAwHgib0AAAADAHvpvQAAAAGAKRnBAAAAAAOvucEAAAABgnCFxQAAAAOCbsHBAAAAAgO/IcEAAAAAAjbFwQAAAAADVBXFAAAAA4IAzcUAAAADgvfFwQAAAAICx33BAAAAA4I8ycUAAAABAH2pxQAAAACDTrHFAAAAAIAiccUAAAAAgP5txQAAAAGCsbnFAAAAAAJ7gcUAAAAAA771xQAAAAED5VnFAAAAAQFVhcUAAAADA/sRxQAAAAKDsinFAAAAAAKy0cUAAAACg7K1xQAAAAOAtr3FAAAAAAHSKcUAAAADA9YRxQAAAAEBWRnFAAAAAwKzicEAAAACgyRtyQAAAAMBCsHJAAAAAAGbWckAAAADAt7tyQAAAACBduXJAAAAAAIOpckAAAAAgXblyQAAAAOCaC3NAAAAAADfsckAAAACAUdJyQAAAAICoJXNAAAAAICEDc0AAAADAPPFyQAAAAIDt+HJAAAAAQLYcc0AAAADA9EpzQAAAACANknNAAAAAgDiPc0AAAAAg5LtzQAAAAGDGXnNAAAAAwJhIc0AAAACAcgZ0QAAAAKAUdHRAAAAAoKdZdEAAAACgTC10QAAAAAA0b3RAAAAAYI+bdEAAAACgDaR0QAAAAICBgHRAAAAAwH7ec0AAAAAAEfxzQAAAAOAhFHRAAAAAoLhjdEAAAADgGYp0QAAAAAATunRAAAAAIFJjdUAAAAAAkAh1QAAAAMA9xXRAAAAAYJ5+dEAAAAAgWt90QAAAACCVlXRAAAAAAJowdEAAAAAggY50QAAAAGCjonRAAAAAIA6WdEAAAABgaOx0QAAAAGBMxHRAAAAAgNDGdEAAAADg4/d0QAAAAAAwuHRAAAAAAGhjdEAAAABAeW10QAAAAEDft3RAAAAAIMENdUAAAADAVTZ1QAAAAOAKPnVAAAAAgHkWdkAAAAAgHNF1QAAAACD5T3VAAAAAoDYfdUAAAABgSjR1QAAAAOCekHVAAAAAQNbAdEAAAACg8lF0QAAAAGBGynRAAAAAIL2jdEAAAABgWKp0QAAAAMBMH3RAAAAAYBYSdEAAAABAtCN0QAAAAABaSHRAAAAAAH4IdEAAAAAgaMxzQAAAAMBq13NAAAAAoDe5c0AAAABg4OhzQAAAAECWxnNAAAAA4Eq6c0AAAAAgz4JzQAAAAMCAfHNAAAAAIJ/Rc0AAAAAgw9pzQAAAAABTInRAAAAAwIOzc0AAAADA9eJzQAAAACBP7nNAAAAAoIw4dEAAAAAgij50QAAAAABOLnRAAAAAoH08dEAAAABgkYl0QAAAAAACf3RAAAAAYDFQdEAAAAAA65R0QAAAAADEznRAAAAA4IJtdEAAAADgIbF0QAAAAOC+2nRAAAAAgBRVdEAAAABgy0J0QAAAACBVPHRAAAAA4B/Ac0AAAAAglKxzQAAAAKDbhHNAAAAAYDaNc0AAAAAAGDhzQAAAACBXQnNAAAAAIL1Pc0AAAAAg/3BzQAAAAABc0HNAAAAAQMxLc0AAAABAmKNzQAAAACDmqXNAAAAAYGwmdEAAAABgxk50QAAAACA8OHRAAAAAAMJ3dEAAAACA5WN0QAAAAODULXRAAAAAoDl7dEAAAABAFXJ0QAAAAGBYU3RAAAAAIGtmdEAAAACgHx10QAAAAMDkRnRAAAAAQPdZdEAAAAAAzPl0QAAAAGBaMHRAAAAAAJ5OdEAAAADg1cR0QAAAAABy0XRAAAAAQOpOdUAAAABgYXJ1QAAAAAD/uHVAAAAAIMrzdUAAAAAA1zJ2QAAAAODsXHZAAAAAwFw1dkAAAACg6MJ2QAAAAGDHk3ZAAAAAoF3MdkAAAABAvM52QAAAAGBmNXdAAAAAQJTRdkAAAABgdUl3QAAAAOBvBHdAAAAAQO9Pd0AAAADgTEl3QAAAAADwW3dAAAAAoImcd0AAAACAul93QAAAAACtYHdAAAAAYC4bd0AAAABgXcZ2QAAAAADA+3ZAAAAAoP7AdkAAAAAg9OJ2QAAAAADCFndAAAAAAHvodkAAAABgIBl3QAAAAED4GHdAAAAA4KmTdkAAAACAet92QAAAAIDN/XZAAAAAAHAHd0AAAABAvd12QAAAAGDcC3dAAAAAQEkcd0AAAADgjB13QAAAACA7FHdAAAAAwFcnd0AAAABgWDN3QAAAAGCw4XZAAAAAoGzddkAAAABgabN2QAAAAOBosHZAAAAAIAYed0AAAADAZS93QAAAAKCknXdAAAAAQAW7d0AAAADgq/d3QAAAAOAZFHhAAAAAQHcHeEAAAAAA9kx4QAAAAEDGmHhAAAAAwKh2eEAAAABgaJx4QAAAAAA31nhAAAAAILP6eEAAAABg2ut4QAAAAIBNR3lAAAAAoHQ1eUAAAAAAj4d4QAAAAAB86XhAAAAAwP5eeUAAAAAgBQd5QAAAAAB+BHlAAAAAYLGLeUAAAADgo4x5QAAAAGBb8nlAAAAAAM6eeUAAAABAmhF5QAAAAIChT3lAAAAAgEQheUAAAACAtfl4QAAAAMCc5XhAAAAAoPXbeEAAAABgz3F5QAAAAMAUXXlAAAAAgMYweUAAAABA0y95QAAAAGCfM3lAAAAAoEyReUAAAAAgu655QAAAAMCNpXlAAAAAgGXjeEAAAAAgidp4QAAAAOAXSnlAAAAAIOMbeUAAAACg/AB5QAAAAOA/q3lAAAAA4GaoeUAAAACAiUh6QAAAAABKvXlAAAAAwIfLeUAAAADAPwx6QAAAAACySHpAAAAAgDSKekAAAACAPIB6QAAAAGAxI3pAAAAA4AsQekAAAACgkAx6QAAAAKBUAXpAAAAAgEA+ekAAAABAuQx6QAAAAAAP/XlAAAAAQGTUeUAAAADgSE16QAAAAGCRPnpAAAAAQE9ZekAAAADghSl6QAAAAGBrc3pAAAAAwAAUekAAAACgTJF5QAAAAEAsoHlAAAAAANF0eUAAAAAACP14QAAAAACKq3hAAAAAwKfIeEAAAADgPzF5QAAAAIDTSHlAAAAAAEaqeEAAAABgeB15QAAAAGAR3XhAAAAAIKAQeEAAAACAZWl4QAAAAABJl3hAAAAAgNkieUAAAADAt495QAAAAOBBTXlAAAAA4D5geUAAAACAaXx5QAAAAIC0onlAAAAAoJCSeUAAAAAggb95QAAAAADAMnpAAAAAYJ4RekAAAADgQAV6QAAAAICTVnpAAAAAoDqRekAAAACgsKh6QAAAAADkcHpAAAAAwPuiekAAAAAAhaV6QAAAACBKk3pAAAAAwG6teUAAAACgubR5QAAAAOAzm3lAAAAAQKDDeUAAAAAAfkF6QAAAAKCTSXpAAAAAoPQ+ekAAAACArn56QAAAAGDuynpAAAAAoMVPe0AAAADgA1h7QAAAAIC1Z3tAAAAAwKbDe0AAAADgeKN7QAAAAMBTmXtAAAAA4ADae0AAAABgjrh7QAAAAACN7HtAAAAAYLv/e0AAAACAqwp8QAAAAGAkrXtAAAAAQC1IfEAAAABgmXB8QAAAAAA4iHxAAAAAANvzfEAAAABg7t58QAAAAMC4dHxAAAAA4BbffEAAAAAg/yd8QAAAACDEFXxAAAAAAEQcfEAAAADA4dV7QAAAAKDEdntAAAAAoNVEe0AAAAAAKBF7QAAAAACTbXtAAAAAQNqLe0AAAABgAo96QAAAAMCP6HlAAAAAQHdVekAAAABAnGx6QAAAAMA2MHpAAAAA4MTneUAAAACgHNR5QAAAAEB3S3lAAAAAgP93eEAAAADgsr54QAAAAED+q3hAAAAAAIbveEAAAACgTyR5QAAAAIDVMHlAAAAAgPiieUAAAAAgJtB5QAAAAEBIHnpAAAAAoKD1eUAAAAAAOSZ6QAAAACAnWnpAAAAAIKxPekAAAACAQcd5QAAAAKDy2nlAAAAAoIqmeUAAAACAGax5QAAAAGCleHlAAAAAQKqgeUAAAADAgeB5QAAAAGA5ZnlAAAAAIKZdeUAAAACgjFV5QAAAAKBO63hAAAAA4CUreUAAAAAg0bF5QAAAACA0PnpAAAAAQBd9ekAAAABAGrZ6QAAAAEADwnpAAAAA4IT+ekAAAADAmLl6QAAAAMC8NntAAAAAgGwAe0AAAACAeeR6QAAAAGCNn3pAAAAAwD3OekAAAABgicF6QAAAAABKjXpAAAAAQH+xekAAAAAg4hh6QAAAAABZ4HlAAAAAYPrWeUAAAAAAW895QAAAAADQZ3lAAAAAgOq5eUAAAACAluV5QAAAAGDcy3lAAAAAAHzTeUAAAACARAB6QAAAAGDq+XlAAAAAwE7QeUAAAAAg1tl5QAAAAGC08HlAAAAAII36eUAAAACgMIV6QAAAACD6VnpAAAAAoApZekAAAACgWo96QAAAAGCUdnpAAAAAgLPLekAAAABA6dR6QAAAACAnNXlAAAAAYP50eUAAAABAqVZ5QAAAAKBNhnlAAAAAoMgQekAAAABgKGR6QAAAAEBDNnpAAAAAoFLueUAAAAAgCz56QAAAAGCBYHpAAAAAIFh7ekAAAACAhb55QAAAAECXynlAAAAAQNTqeUAAAACATcZ5QAAAAMDRqXlAAAAAwInreUAAAACgBQh6QAAAAOBqmnpAAAAA4NpKekAAAABgVVJ6QAAAACD/yXpAAAAAQH/NekAAAAAgeTB7QAAAAOA3g3tAAAAA4FWSe0AAAAAgUrl7QAAAACCEjntAAAAA4JToe0AAAADApvF7QAAAACA2zXtAAAAAIPQRfEAAAABgnz98QAAAAAD/L3tAAAAAYEQqe0AAAADgbCN7QAAAAGDxDXtAAAAAoN1Oe0AAAADgczt7QAAAAODVwnpAAAAAQCJoekAAAAAgJTN6QAAAACCuBHpAAAAAQJVQekAAAACgMJh6QAAAACD9QHpAAAAAQNZjekAAAABgkQp6QAAAAOCP7nlAAAAAAGDWeUAAAAAgr396QAAAAMAnZHpAAAAAYPeqekAAAACAiKJ6QAAAAIAvvHtAAAAA4EzEe0AAAAAAIpp7QAAAAID2AntAAAAAIBnMe0AAAABgmn57QAAAAOCNy3lAAAAAAKvMeUAAAACAyop5QAAAAADdoXlAAAAAwICweUAAAADgwth5QAAAACAseHlAAAAAAHqfeUAAAACgEJN5QAAAAMDfbHlAAAAAQL6EeUAAAADgKmN5QAAAAABsdnlAAAAAoA3IeUAAAADg+Op5QAAAAACxbHlAAAAAwJApeUAAAADATch4QAAAAIB75XhAAAAAwK5yeEAAAABgy7l4QAAAAEBEMnhAAAAAAC40eEAAAAAADfp4QAAAAGAzuHhAAAAAgB5/eEAAAAAgc613QAAAAMASsndAAAAAYAnfd0AAAABASZd3QAAAAABiM3hAAAAAgJ01eEAAAADABeN3QAAAAKCVJ3hAAAAAQPUXeEAAAADgbl54QAAAAKBze3hAAAAA4J2ceEAAAABg3Ul4QAAAACCXU3hAAAAAwMOXd0AAAAAAZWF3QAAAACDRzXdAAAAAAAXNd0AAAABgCj13QAAAAEB1aXZAAAAAQONJdkAAAABgRRV2QAAAAMAnUnhAAAAAYGzAd0AAAAAgoTF4QAAAAKBsJ3hAAAAAoEIGeEAAAADAHyV3QAAAAIAO6HZAAAAAQPpddkAAAAAgwNh2QAAAACBzUXdAAAAA4EofeEAAAAAg12d4QAAAAKDWXHhAAAAAQMKKeEAAAAAANp54QAAAAODGfnpAAAAAAE8ce0AAAADAfyp7QAAAAODl/HpAAAAAIIn9ekAAAABgY0p7QAAAAEBRU3tAAAAAQDb7e0AAAACgTPl7QAAAAEDjNXxAAAAAYC5GfEAAAAAgZFh8QAAAAMDeoXxAAAAAYLCWfEAAAABgPD18QAAAAMDQYXxAAAAAAA8XfEAAAABA8b58QAAAAADAiXxAAAAA4NWefEAAAADAq7l8QAAAAKBj03xAAAAA4FzjfEAAAAAgvfF8QAAAAECZLn1AAAAAYLpZfUAAAAAAln99QAAAAKBaYn1AAAAAYIJ9fUAAAABgWOF9QAAAAEDjon1AAAAAgKjlfUAAAABAFtR9QAAAAKA6931AAAAAIN3JfUAAAADgPFN+QAAAAMDjlH5AAAAAoGS3fkAAAAAgIwp/QAAAAGAE8n5AAAAAoH8Jf0AAAAAA4bN+QAAAAGCLpH5AAAAAQFcgf0AAAABAcw5/QAAAAADh/H5AAAAAQPBqf0AAAAAAg0p/QAAAAEDnZ39AAAAAYBxjf0AAAABg1o9/QAAAAICkjH9AAAAAYMPtf0AAAAAAaNN/QAAAAOCQ039AAAAAQA2Hf0AAAADgopB/QAAAACCq4H9AAAAAgO8GgEAAAADAivp/QAAAAACp+39AAAAAYC4DgEAAAADA/qSAQAAAAKD/WYBAAAAAYBa2gEAAAAAgEneAQAAAAMCgYIBAAAAAwOE/gEAAAABAd0mAQAAAAEBPR4BAAAAAoPiCgEAAAAAgzj2AQAAAAOD6TIBAAAAAwIc6gEAAAACgAiKAQAAAAADvzn9AAAAAgD2Of0AAAAAA14N/QAAAACCus39AAAAAACmEf0AAAADgo2B/QAAAAADXq39AAAAAgD3af0AAAABACqt/QAAAAIDrkX9AAAAAoJmVf0AAAAAghb9/QAAAAAAA8H5AAAAAQDMjf0AAAABgjyZ/QAAAAIDrRX9AAAAAAClQf0AAAABgZt5/QAAAAEDhGoBAAAAA4KPQf0AAAADgUeB/QAAAAEAzx39AAAAAoHAvgEAAAACgmROAQAAAACCu039AAAAAYGbif0AAAADgerB/QAAAACBc939AAAAAwMwUgEAAAACgmS+AQAAAACCuPYBAAAAAgOsdgEAAAADAzCqAQAAAAGCPhIBAAAAAANdfgEAAAADAzGaAQAAAAEAzU4BAAAAAIFzvf0A=",
                    "dtype": "f8"
                  },
                  "high": {
                    "bdata": "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",
                    "dtype": "f8"
                  },
                  "low": {
                    "bdata": "XRxh3mHfQ0BTrPKcrr9DQKLebyESckNACIOa3JpsQ0DQJ8ztDvNDQHopiAG8BkRAJjRo7bTLQ0BRgJh76apDQOy/tLnQekNARbjyQtxjQ0CZlufln0lDQApaMplZdUNAGGkhooJrQ0A4rKKQGa1DQNr/bpjN+0NA6Uy8oZa+Q0BggFHBIftBQMDwhKRIk0FAhSFWu9ZqQUBblmi4vTpBQIaHGrGfLUFAqVlIgkKHQUBYl39/JalBQFctCSLN30FAuAy7vID/QUAsAzxgDwZCQHduslHIAkJAbCJSjw8GQkAMSEpK2yZCQL7N66zQbEJA1JPgJsmSQkBaLJ6kzahCQLyQl7xfg0JAKsnBTsudQkDAvESbbcVCQBIh5vMm40JABSaS5/DVQkBurhBU2d9CQGpHjOOGxkJAgaT0K2u6QkBoT3mjxodCQJXvtGuocEJASTZcRQ1qQkBcX6b2SiBCQB4lDpKyJEJAAAAAIBUTQkAJBHgkKv5BQI2CGLhGkkFAzW6F7cB2QUArNEqtg8BBQJcOLzk0skFAwcB65gTGQUB6vEyS/ydCQD627+K4RUJAoYNNDqZlQkCJh1TgWGJCQIxMihMh0kFAhy/TxOGYQUBtA6Ek+Y5BQHcWmx7Il0FAc0btMAxvQUA6QKs1ulVBQCc3jdTOQEFA95teRmpHQUC8+zou0cNBQNBdXUcXpkFAGnXGyjW9QUBfrve3085BQNJpL4+fzEFA+xvmuZ/MQUDA+1DljOxBQO0vDUT2+0FA0cVvtE2zQUAUrnHhjOxBQKbHZFkgSkJAQp7n5VNMQkAZi88h2mdCQPzgB5yboUNAPqByLnNOREBW/1CNSoNEQEMWsbRd20RAo6s7517mREBsrhkVW9BEQMQfr5oiuERAJ1JHgFtYREC8omg1V8pDQDYkBsPA2UNAxdMa6nlvREAAAACg9l5EQLzrZIRg9kNApz2hGvt0REB/7hQjn6dEQMJbMD3TqURA85S32mF5REC9zMn6zGtEQELR+fDFdURAVLYX3fZYRED5kANH6UNEQJWzcBsa/kNAUI1YKsAtREDqOjkdEoNEQA2JtL1sKkRA86tju78tRECVrUiqvy1EQLvziezoQ0RAwMa1STb/Q0BJVkypUtdDQNe2V917xENATxIMuzatQ0BoGjMNs8ZDQHI/l4x090NAFMkOQPjdQ0A7Cp4TdnxDQHxMQHh8m0NAk4QLeyKiQ0AmG7Qh4/tDQB4dZg/x50NAI635n8f6Q0BJCUCn8b5DQDNT4ukvt0NAmEVtZ6WxQ0AbOtipkX1DQG66wuJTM0NAiCw3pMoEQ0DZkZYEhRZDQDl8Nh4WEkNAk8ELy+UFQ0AN0STDF8BCQEQ/UoTDDkNAyFPCqddCQ0CVGpETmUpDQPUhyDG0dENAcZFWbJicQ0ChQcf246lDQGRB39255UNAj84+B9wFREDtLB2+zRlEQKoOmlI8HkRAUWzYvWeQQ0AaCOo1U4VDQD6mQ2Dj0kNAzt227PGVQ0BG2Cue+WJDQHeVrKANl0NAF3SMlkvhQ0BAbzkddCBEQNdVRSjpGkRAO9szLWY0REDP3onTsJNEQLGG58KdDURA9dDtYNwFRECy6M1kIEZEQCL9XIn43UNANkV3/erIQ0Ao5rFMWB9EQHPFtj2rIkRAwzfvWzUoREAJ7gnIvFhEQP4jQVQfLERAAAAA4L3kQ0AAAAAA3MNCQDuvGQk3TkFAGulGUPGYQUByq0vvrONBQEj6Ji8/tEJA5arpOI3nQkCEwfETNcdCQCf5x5uYJkJAKjxBcSI/QkAAgAmgSNtCQDDxr0vTYkJAmpl0i1zSQkBC8XB8A7JCQF8dIbcroEJALddht1y1QkBLbk8IcKxCQB0LJKb5xEJAtEotCb4ZQ0DZisJ/gzRDQKNGwJPc4EJALiNT5/n+QkDwZ3dzod5CQDSUlw/w9EJA/H3OLyvaQkAPu0no0RBDQHYs7C9600JADaKXIKHBQkB01z8XqwVDQOvNyO60D0NAkM7Bt6oiQ0DiUmh4M+lDQG4QyE8zI0RAYDlRyBUFREBuVJUEbkJEQGsPVTBGcURAvrNRX25CRECyPyo8H0lEQE/26tfGRURAy2eZdMZFREAuFdp7C29EQFocgPdtfERALKOQsG18REDYafezd4ZEQFMCBbs8hERAVc8bRMPDRkAZY4xxpd9GQHJbAvwaWEdAIoA3xMwHR0CvffAP9C9HQKGr+GsI7UZAewySJwjtRkDsNamxQgxHQJW2WiOljUdAnadIXPOGR0C1hrFnfYJHQA39tNjfVUdAJFM0aIc1R0DpMv3PuEpHQIJd5YubLEdARawENP7iRkD/OTn1rgZHQM6lh89qLkdAEQAdhAM9R0CeupmQ2JZHQGLo4MCTXUdAViTSrXmTR0Bv8r4NY4BHQAAAAEC9jEdAPFAY/veXR0Ca9XprjK9HQDLQYuQ70UdAV+fsVZImSEAOsKPFr6dHQBqhz/jGukdA9/iwV2ZASEB2Tm+Uth5IQDxZATzQ6EdAC6nbbfUgSEDhunugq7BHQFNmP2ydi0dAZzlcFPEpSEDUXn0r4wRIQINBWuxYW0hAVR4wPeqyR0BlNq6iX8lHQJHaRo+x50dA6oATWT5RSEDfWZJ3HlBIQPNE2QCXHUhAva9PydyWSEAIF5JSsLBIQG6Mtnf/TkhA4UURrA1rR0B+1pr8LuxHQA9/FoQfh0dAVUM+udTWRkA1pGDj0N9GQCGOXvpVkkZABHrUarXVRkC9azD0XoBGQO4YAFSwnkZAOiecv5IURkB0hYSEIvVFQES3CIxWiUVAVX+ZAxUQRkCdGjo34XtGQAz5T96rp0ZAJRjz8XCcRkAdtzX27WBGQMNcxBHBekZAn48tTIyvR0AomWItsedHQAUj1Yv1F0dAP3jAsuB7RkBirSsMO4hGQG+slp39vEVAySjUkycjRUCuTQB6DVlFQJe/3Hp/uEVAkcwpbRZHRUAmnZoXU9JFQDwE5sJoJUZAfS3kibG6RkC73oJONARHQG/FOL29w0ZA7kp65I8YR0CK6u/uiYVGQJjbgXFTLUZAAvO9zrFbRkCRZQgPHJNGQN9Pr2BZYUZAFWUyB8F+RkBVBm7P/QpHQPhYLe8D4EZAKHb/NRnYRkDvrPwkTVhGQLp2mRWQWkZAjifNExDpRkAWG6iF5ZlGQJjYcffeI0dAQbF6UiVAR0DplIbClUxHQD5U3fg5l0dA+FyS/xTbR0B0Gryj4ZxHQGOlw6kSYkdAZoSmMwOeR0A6HHgnrr1HQP0pNWGMvEdAwLr5dU+PR0B+SL2n4ZxHQJF1S2DeQEhAgeTzQFg8SEBqT0TnixtIQJkgZZYtTEhAsodUORsPSEAd7spX1fJHQCdAkocY9UdAmh6KFUb/R0DcDc3KAv1HQF7Yjarwv0dALkjlj7w/SEA27KucGFRIQNHI/jaeWEhAgE05YO1jSEDo0ZPJFJlIQLRYqdWXg0hACkDnWa17SEAdx/prym1GQHq/hOEMz0ZA8nvn7vqRRkAiqz3y6FRGQNCLAyjy5EVAnEbpJDLNRUBmduaT0/1FQDvYUb136UVAi/iZ5KLZRUCgaR22K/hFQCvuq1pB8EVAx3Si/LQWRkAmwVjUMSxGQMMW2srMh0ZAPBdposB+RkDg6L8DU4xGQDllmUyHa0ZA1dpJ4EFnRkAwrdc3bGBGQLJeD9TBKUZATghe0M9rRkBQKNfK+jtGQN1m1Q/Qa0ZA4jlaqhwKR0AJiHZ4JNlGQEKNG/3VB0dANeHwsSMrR0D9ZzQ+I1RHQG22uzPOD0dAknpHDnn0RkDeIPEYgBVHQAAAAIBqLUdADCcj6TgTR0ALPVx78udGQP4CYiOztEZAyAug9TTTRUC6nOh9SQ1GQAAAAIDzGkZAvpH57HMGRkCeZ0vJwSlGQCTF/+msQUZADeMy63pQRkAx9w7qcqpGQJt8M+05wUZA53e6yJcHRkCVEl75Cl9FQICn38/KpkVAXMOeK3snRkBUzIRYM3dGQCchzZQduEZAQM65f4iSRkCvH0kmrGpGQEvQ5EgduEZA7aai68fuRkBBwZz6jVdHQNfOzH7/e0dA4ignqmmoR0Djc3Dk99VHQKXc1hLUq0dAWvC3HY3SR0DrcIFE8YtHQN/Ca/gKtEhA74IXSjzOSEDUuki2g9BIQDnhCO0tB0lAWFnvGaYjSUD2WZ6QGPZIQIy4K66uyUhAHGrQEkPvSEBBXkdng/lIQC/Kab7fDElANwlhTl8hSUDzgryF3zVJQKbilvOzjklABf9vIkm0SUAE24wpns9JQHs+7M7WuElAk5erXsHQSUCezhFJEKJJQIvVxYTIyElAbKCGgdqiSUBPJ6kWRZ5JQEFhTJPaoklAwOSDDdWaSUA4R/IdtaFJQKI5SKVR5UlA/t9w6WvWSUARWyIbTN1JQKpe6wX80klAAAAAgPcBSkB6u0X+0MlJQGtEx7FKpklAqtqLIg+FSUC4CxnsCrRJQERWG276m0lANty/6+WySUAfCMqLiphJQAAAAEBiKUlA10tfAqDkSEA4sP90DBdJQK4qYInBFElAUNnvFAcPSUBrICc5Q2dJQEjGiGq5cklAcZnyp0NnSUAPksmJFI1JQPMXCcQbzElA3jjj1HWvSUDljJqXbnBJQGDQGR8+X0lAy1KLSLHQSUAIrb8H+ptJQAyTtRvgqklAkL+45cmKSUAMHbyueYBJQGKGjiu1oUlAcEII9v+jSUAnHxKsCrRJQPlmrISc50lAPB19IE93SUB0JfT+Jz9JQKAFd0H9NUlAYEAcAaqRSUDGovQ4BHVJQDbcv+vlsklAwXg7PMCxSUDhC5Pz8lxJQJz/uOFAoUpA9I5KR63TSkAUbTkHYDdLQApUufGOEUtAR4qnzwLmSkAvR2UukatKQAAAAMCH0kpAjf3YjMCFSkBAI6z/eotKQJsL4Gm1dUpAimH5IxkySkBbtgRofMJKQOSqikPj7EpApnvS2QWASkBXDwxpG8xJQAgclcGn90lAf/B+3v+jSUB+/iAMVEhKQKV4wsTbgEpA0Gv+ca8GS0Bmr06swSxLQI1QCiCaOktAU5nXwJhnS0Bq6eFH/SZLQE4w7UQlGUtAiDNnyF8iS0CBhDl5I0ZLQMUptjSHI0tAhuPcF9uPSkBLh480tH9KQCiDcF1i10pASAnvpxLzSkAxp5jZEvNKQCXt4VAOa0tAAmXWxIOMS0D9ZclQldBLQHcMXQmTDExAKrTf5wcuTEDYeMkDfxNMQH/BLMi6/ktA4X0q9lYhTEBB29lXt2dMQGXn03MZckxAJ7s/cI6TTECISJp/Lk1MQNtrNTh7fExA6nw/XKRQTEDB2rbzGkVMQIUyLVBY9EtAEuNoNOL/S0B/wSzIuv5LQD8iQ6xY9EtA0zIebID1S0Ci43ZYLy9MQAxySmQwEUxAQl30VX4iTECnlo29HetLQPV467tDGUxAF3WCwFj0S0Caqbx8uv5LQHayeJj1B0xAjiDkZ5IbTEAUuq1QpTJMQM1JEjBVXUxA0U1rtCuYTEDnGTE9taNMQF3q3DFNPk1A99vNSeszTUB4gHnQnvVMQO5ID1B6mkxA1IK4sGlHTEDmdrWQVGxMQFCioABodExAWfYbFMp+TEDXAmnEon1MQJpPUOoriUxAYK/oK1HVTEC2GUvonuZMQLx7wnS1Bk1ATnF1ofUWTUBYKrD2dDdNQAVOOGw1J01AC5I/bp44TUCDoQ0fMQpNQDrW+ulwGk1AwxFQJaMUTUAWAFPtMApNQOsIgfuH6ExA/+AtfLUGTUDo8OC0dfZMQLzjbw5I2ExA7AyUiFXuTEDnK8KOcBpNQIfiTutmIU1Al9gcfRk8TUAgj5rtb1tNQAsPPn+LRk1AuPLZScwVTUCgyhFaZyFNQFnh8AA1J01ApNiYGlBTTUCScuCO9FdNQOlBp5x5E01ALGflilASTUBGpNE2wl1NQJKSpXuZXE1A+nGT1gItTUB7IyHZ1E9NQOkcCtSmck1AT4ok7T2iTUCgUgK2r6xNQDVfABuCjk1AAFVsZPSYTUDEohFlhqtNQJ3G6TwrsE1AIWC2z4arTUBBZr7gPKJNQHR4sTILZ01AtAblKjmFTUAAAADApnJNQJQaQnmdeU1Aj2/N4gaLTUAAZvdrsGtNQJPn+Vq0iE1A91xVnq+sTUDXX4NLMmxOQLhZeMw7pk5A9QRwbo6oTkB1dOLN6aNOQEyxyImusE5AfYYtsbEOT0Cw22tG0VdPQJTbxecRJ09AU0NY4PEeT0ApAUeniA1PQAL4KVNpBU9ARNjyWpYjT0D2raQ8cT9PQPNHH2CX4k5ArIpDIE7ZTkAykCSUwKJOQHbrJMmUFE9Ae0MrF12/TkA4gSf0gp1OQPTIvuFcv05AQzbSConHTkDWY6m/Qi5PQAGBbAtvNk9AvHgVeyFsT0D8E6NGVrNPQOVptV+E0E9AEP86xTDVT0CEngrQKqtPQIWJb5GxA1BAMvb9JVRfUEDVnnJELXpQQP7cv8N/Z1BAUvc+DTxNUEASq9eNxkZPQCKKpVUTEU9AZL5N0LLmT0Dayfip1KhPQPNOpi5JX09AX3FRH1GQT0BQMe3BHApQQEpmN74x3E9AVEWOf13kT0DaYkxIhMlPQDunGEcI4k9Acp7LB14PUEA/D0mFpYtPQK9TklofXk9ApIxTaGgMT0Ac5ESeSFhPQOJP2n88BE9AmgOl/JQbT0DkPXNZ6Q9PQOGk13KdU09Aukm7ZPuNT0A281rQLs5PQNFEx3zJFVBAR288WSVCUEB4o3vdFWhQQLRbwb5xlFBAIV2OrPCQUECH9PXADL9QQFgunesgtVBA/+Zs9rSuUECTXyZmX6xQQIHQBej3wVBAm22s+g/UUECe/kdYGH1QQO8ziknviVBAQVhukFmCUECZqtBKBIdQQHm56Z67SVBAsUj+v6lhUEDIMD5DbXhQQPZVYUOYeVBAUhn1gNNbUEDzMJgqVm1QQMbwD+h6RFBAqBFu02RAUEAGLbCs3aFQQCCDI37VvVBAdxv0O3bFUEAAAACgR5hQQI3td1mzfFBAYYyanDRvUECUi6VZWJVQQEBs7T7on1BAQVCsWuqEUECu6vx6+ZxQQAX/vbwUoVBAsUfJtr2DUECEJFy0grFQQI58/PJt6lBApiMTHgrhUEAJmXcYULpQQEh4igAG0FBAMGyfV7HeUECol8/gxuxQQBF3KX1aCFFALcGxO+ALUUCdfgk3cBZRQE3YOF2tFFFApcEYkkX6UEAP+tQfMDNRQDQO6JttMVFAOlM9m1oIUUAd2lienvxQQCFvgHxc7VBAP+8cfsq2UED9keT+5bpQQIAqChl2xVBAEOr6G63NUEAG86p5H+9QQDjsFlzEB1FALswbX1ABUUCdsYCXJeVQQHtb9HZ+LlFAbKzWOodQUUDOdJgbTmNRQEJp9R68c1FAzG+C+5VoUUDwlIX4OoFRQIFq39w2t1FACrn4Hby6UUCXNvE63rRRQNbEe/zou1FAF/LRO7y6UUA+FziZyO1RQLh4J594DVJASZ1PHN77UUCd532XduFRQEWto2DiDFJAnE0HvQ4qU0A1ItcXuAxTQEGXKj+4DFNA06nyPTn/UkCNOS6WTg1TQKl/8Fe8HVNAm1Fae6NFU0BuxBz71TxTQEQ1yNb3NlNAjHIT8WUAU0CBzi/ZwhNTQCE8lrtBIVNA6TR5lBcFU0DJZ59ccQxTQCatZF4vG1NAoP6hbefxUkAWMxO9fvJSQDlL3AhkD1NAwmM/dxUhU0B6xG/GvxFTQKtr3XlqMFNASIQ3teBaU0CjNAnLVilTQP6crzrGMlNAacZSwLIrU0DeStBSFpdSQFOMSjOZp1JA+2AHOSPCUkDqjtqCwONSQBMnV3ovMlNAuB1T2MVgU0DSwExCY5lTQPjUGYqxnlNAL5OOrfN4U0BEgm5vl41TQJx/fMs03VNAPHDOfJekU0BGJssbkYNTQAkOLzNCrFNAUEY42POPU0AQpG0zcJZTQO1xvuKkoVNAFoqUihq1U0DqC137J7JTQCtWi+cnslNA/AkQsN/NU0BgWkD9QfFTQJmK7yL5I1RAHPrNy/8tVEDJk+6zVD1UQPmDMizLIlRA/2g82cQYVEBqEdDyH2BUQK37KxUtRlRAc8CSFNFxVEDMMjlIe6dUQNhC91R7p1RAPeRRGjOsVEAYMzNUWRZVQCZVxYG1GFVACg1Jb1ktVUCWvlWIrlNVQD8UMWbpllVA82CGMGA3VUDBVZanhopVQCghwkynjlVAyDA8nf0TVUAAAACAlkVUQLPcsrJpo1NAT4WxrlqMVECTzWnhg4ZTQCW9WeirT1NAANwXTHVBVEB2/v1oyjlUQLY7hwJCdlRAL7C2ujL5VEDUA1RXHT9VQIBWN0lOEFVAAAAAAL8sVUBlt0D2CiVVQNdVZx5LYFVAn4F+9EbQVUAAAAAgUM1VQOVQ50CKq1VAJ62AhHtBVUBBhiljawdVQEGtgVdeWlVAtZ2IfaiCVUC+UuxEcWRVQDVOtsHVs1VAdb5iTLb8VUBI/izAVDpWQPJKjlavv1VAlhKUItajVUDl6IE7JHxVQCm3XdO4vFVAKWd7z3pRVUCJLOfWNoZVQKBpTtpnV1VA5Wn09lHAVEAPJcR7dCdUQNaSyM0p7FRAwGg5lS58VEBSgqr+gpFUQJyh8RWqdVRAHQL7AO9AVEACiHOtcldUQH1gEXX3TVRAsEGuxmknVUCpw9Jzp7VUQC4icOgy+VRAICG6daI1VUCF5kadJyxVQLK6DcVwZFVAUp8ibghlVUBOGS4zGZ9VQOEwuuqZ9VVAqMHUsYUbVkCwAviG2xBWQGbmkQptxFVA0JHqV8rmVUDNS5FuQWNVQIv1HA4O5VRA8i8ZLyOMVUAFikR/IbxVQBsVjtMZj1VAM3NzdMV5VUCiMyJHeJFVQG/fRzagZVVAIdJcMnmBVUDoTV0powJWQHsyIBREAFZA2GHyrqz/VUCUN6dZLHZWQECdS9+UdVZAMEOjd5SFVkCdcz0JG0xWQHKZsTCCdVZArzhXP4BGVkCc9L7fNVFWQOn/1ac4gFZApZZe/AWYVkAMa+5XqGNWQCOqNenQgFZAjhPfLUy/VkCjejIHz5lWQM3NNv1FwlZAVju+k+3rVkBc+e5UQA1XQEezwuo4cVdAckU33a+ZV0AOTOY0tK9XQAgAhi1BVVdA1Lp1gsZeV0B1ahfkgmZXQAsGwlJFa1dAZjPd+vZfV0AziCimJXpXQDL9w6TOQldAIJRLxCAcV0CiOnJ84yBXQGzwBcVJgVdARzJS+AFzV0BbX3ipnyhXQOFHioL5nVZATyGzPkL0VkDwp8Vs7KNWQBPtztyXm1ZA1q5a+UPbVkDn69a5oMdWQCyVTmqQ/1ZALTJsROsEV0D9INEpAStXQGJUmTYGiVdAhH2UmFKtV0BQFVYSGYBXQAqdywUY4VdAZQTPfAUyWEAPG/0FnEtYQC/U3XS1P1hAgKzaRINXWEBtAYbvHiZYQFLb3c9wqFhAIdaraWqrWEBneBCFqO5YQDAdisnjAllAmbLOy/NzWUD90a6tAqxYQLEqwJfkWVhAlK2/Acl+WEDCHKSuKoFYQITiH/umXlhAx028cHnUWEAgLWBUggBZQAU61wDPJFlAUyC94epHWUDB6lIm53lZQLLUx/lNMVlAyfBLiqQgWUBI309rEh1ZQDleau/v7FhAGXebD5wJWUDh4QqlK+VYQJwjBweg2FhAv/9l7v2yWECTh40K0K5YQGb5mGrs71hA8avm7yMZWUCWV/Sc41FZQDGPz91ZnllAgACt6QW7WUA2OI7n6QBaQHf/rE+xBVpAm7t9jgm4WUAyiJTmZTlZQJNg7ZMnFllAGUvzxG0FWUBhN/nQ7UhZQJZifbOWaFlAnqXjU1zJWUCTbBiZiClaQLAT4RCmPFpAoz8KDwEaWkDXXyYOpBFaQN7xXSoF6VlAE3iBUS8eWkDQBOEskXxaQGczBeCBL1pA6uSPdeeKWkBOesElTopaQE9NxSXIpVpAaTqVzLiGWkCsYZF5ccVaQBWAcOEetFpArMR4Q2TRWkAAGYqKQwxaQIx9QA8g0VlAXBTcJXiDWUADZt/urtpZQOnG77For1hALPSePm5QWEBMC+Rf2/5YQEXoCcGz9FhA1u2RLyxsWUAm848HBJBZQJC2E9ZEKVlA/v456fc/WUBLQX8hw0FZQFTNccrJhlhASf88OIW0V0DH9Nvb6cRYQHFOxs/hcVhAxuaRx+i2V0CZwqARHVxXQFOe2CGEl1hAX1S0puCfWEAfOH3/BX9YQPOc7dH6tVhAWCMP2q3MWEBijp/WDYdZQIChaE1B4VlAcG+rrdJgWUDPYr3k7MFYQGpiROYu4lhAvET3lYR7WEC1Erhe7FlYQMJ3Xt5NB1lAXjKEF1NEWEDXlJL1WUhXQL+HHBe79VdAAr9Lt1XnV0CMPlPlHYJYQP8oYJHpsFhAhJsBUeVGWUDk6wuoFo1ZQAGhYubioFlAp53mxxPzWUALJ5DU5FtZQEc34TNQm1hAjHP4WFFxWEBsRU67uFhYQAMmpAOzLVlA/N0j56+NWUA13KdMF3VZQOLYLFtPuVhAZ5+pqu/VV0A7Yau6hwZYQIEmRJNWwFdAzQGedycmV0BbKM+F9tZWQNFwJtgvBlZAqjZ45/wEVkBt4Y/0XpdWQO96ebaMUldAeVmpgb6JV0ATdaoWwS9XQD4PkYNdx1ZAAtYdZCcvV0CZSbrYI6pXQCebU5zv1VdAb7Jj8LkxWEATtvlSIf5XQPwfRoi80VdAAeu8h/C6V0C2lCtcIuBXQBgd1gfqmFhAOL0WyeqMWEBE+G6U6NFYQFiIdIzqklhAUbIhTLavWECdet9Ttq9YQH+atAVP41hAZ4Knx+qGWEB7yT6FiPFXQNbwxSAec1hAqi1/diAuWEB0c/vpVPxXQLsE3F6HFVhArp2JWejUWECZE1EWHLtYQOiFfwe4cFhACK9+UetuWEAGPsfPg5lYQJIvadAcuFhAZfu0kOcBWUAYHj3V6MJYQJRDZXPmKFlAUTb9ghhCWUDTvLlL8ANZQMtYwVriJllAhZxhuJ7YWUCxECxSYS9aQLZ5c371KVpA/gPoQHwYWkAL/9bksktaQOg4QysVSFpASXGVlqoTWkCKC3V7ki1aQBCbcrmfOVpAwEMMHaLbWUAjRp98KptZQEacSEeCHlpALhi65iCDWkAt+GOCNcdaQEUQd/1Y6FpAa6gH8AL4WkBWwfvR+U9bQHQiJEiciFtAbEhqyb13W0DCnM/soo5bQDZ8VJqfi1tAXU3FYj5gW0BeBV2xLIBbQGSYd5gLMFtAvw1NsctUW0Dmb8ahzYZbQCfI5sV8y1tAB7hBAsvkW0BATg0EwApcQLot6IFb3FtArPIIXQEYXEDKyAWCBexbQEcQ001o6FtAGvfVTT8iXEAf0b2iJDlcQL1MgBdBVFxAev2E901gXEDrNayg/ENcQFODGUV/XlxAFOCrvEmMXEBltL8ezthcQBGT7fq3JF1Aip6ukUpOXUAdndWX91FeQL3M0aRpXV5ArcsSe0xxXkCS7yP0tHNeQOgYdtDiDV5AiTAIdYqKXUCHfITAxfJdQKPfDW8Wrl1AxCOG+jY8XUBITkZJJlxdQEloOpUNFV1AKu0AvR0kXUAPQ2//HvVcQB1i7qPiHF1APgNaLnk4XUCwbrv+YN9dQPyhw1SrN15AlnjA/wu1XUDc/KuUouZdQGvt6w4C411AD4njzF13XUAduscNv8FdQDwZQ7SVxl1A+0IxEAlNXUBiPST3yHldQK5VYZN+IV1AhRVpWdscXED1W28gCIBcQJLs4HdQV11AhDMyIl+rXUDjDceBOkxeQLuD+etlLl9AqcCT1doCX0C3ZyNUY+BeQEDHOifKE19A3qafqqAYX0C26KU2ck5fQDdVrR5XjV9AzmtkH9qbX0A/AUdWrQdgQGVViGINHmBAqN8LamEuYEAV5SkWi1pfQKCVchknj19AkB8oCbaJX0Aq1jjki3RfQAaslJwA4l9AxjdhtGD4X0C5aVJh6RhgQDGWWWCtB2BA4zzwgjD6X0DIdor8GApgQLKgJ338LmBAXl6Miq9IYEB4uUw060xgQLGdyoaGWmBAbnV0Vd4fYEDIs32TyxZgQFoc3nvbz19AvgjQAMAdYEAAJIfDWzhgQESxLYCGTWBAcIodK1FmYEAycxFsh3RgQFvPJ+0okmBA8FC3egp2YECsjIXyCoNgQJESjM+m6F9AEOkzsEMsYED3qy6mifNfQI91gSaf5F5Amr94SZJ3X0AEaYXOHSRfQDU7i80GDmBAIKiEvQ0eYED9mOchVPJfQH4IiwDR419A7zR+sU2uX0D5teRMJVhfQMU/gkYD7l9AOQ19d9Y4YEB8GXqidENgQKFMcfCCWmBAocStcqImYEADXua3hHlfQG6ddTpCvF9AeS8QTV/qX0A+eRghBqdfQOE6Yb1xOWBAiVPnQwcmYEASeRB+vBRgQL7xOTRmLGBAnKDoTZFxYECGNKEGlGBgQCFWVwLLK2BAOx4DA0XhX0DDWL08OwJgQAAYVRg7OGBAbToRCiEvYEAleBi7hRNgQNk47fDhKmBAviYRjuotYEAkxC/4TplgQMjZvJoYYmBAmwwjQNxnYEDcz8XbiDhgQDJcrES/HmBABxmS6dtnYECLAC+mjjFgQHx+dAbWU2BAvIOkzSw8YEApNedG2KhfQCp9PWMAk19A+lgBOJQqYEDVaWrRxzxgQKkIhSlPEmBAGKXhqUM7YEBEaBhdGGJgQG6BWyAEiGBAiI5gxZ+IYEC/eBYEbJFgQIZpLWLtiGBAYyO9unR5YECgmwpd0y5gQDQAGSV6PGBAjek51LklYEAG/AOMARJgQOxPPirWbmBA2pRHuOp+YEChkNEdqwFhQEs3+QGU52BAOvwRb9PrYECIxZbk5PFgQGtmxGlJ8WBAk5uXR2MVYUBug3OlzQ1hQG8ZDZ5D+GBAK2zveI4JYUBXsHh2QAlhQMn2G/6tJmFAQWPBGgdPYUD5ZSi9s1VhQAYH7UKLa2FAQ//7txKSYUDpx3d6nKdhQCaDHcOfzGFANogvrCmnYUCX494tYahhQFDxMvMesmFA3+3AkprTYUANJCjeOP5hQG4YRC9PBGJAye+BzgD9YUCcPmCg5qJhQDtbFZ4QcGFA+TSIirC9YUCF8yXuNcZhQMnceTNC3mFAnVkPrr3xYUA/dRN+LO1hQDmY+OYV4GFAnDm5zRb1YUCNfE6rLyxiQGX8bR7DaGJAMCUF1X9dYkC0msm9R1ViQCg1mhwxSGJA/n5HtYKVYkCeBnemV7NiQE5a11HGrmJAMnqqeUy3YkAvXDB6QtBiQL7j8UPnomJATCg+PWGaYkAQgrGfm9NiQAhDE5pjy2JA9l6JNTWcYkDCg1fQ3LRiQOp+iVsKyGJAQwXbn8slY0CFv2aDXCpjQCvHPhLMLGNADk4B1sw6Y0AhafmPrFRjQCJ1UhsegWNAURgw0rurY0CO4w9ULMpjQAhaz9xXs2NAlOGu+NymY0BR/lI0541jQC2NBiaIDGNACE1vTeVjY0BGJ5j0pbNjQO7HovbkTmRA6DJYqQ8qZEDvR/owBUNkQOHN/Ivs9mRATD0z8dg2ZUAjD1vaEmllQCmYtGC9smVAUCm1wy3KZUAWMNL1ydFlQDU7S1iQn2VAXbKSyJy+ZUBI9lE36rdlQKSqQqWrDmZASlxET7M7ZkDmPkkbypdlQBmCIUdGImVAhHsQCVZ2Y0DGWJrkP/1jQLrOXwNYDmRAucaduRbWYkAXKIYWjx9iQD6LwCNBWmNA+VjXg7pYY0CsrCOTSb9jQDeGdL5swWNANGyf/6aZYkAowAW9guJhQAPr6DFDMWJAGRzEFZ0FYkAhiEjx7oVgQLfj1UqPx2BAJfURI6kYYEBR620LqRhgQPShKE1FGWBAW+uzJ8GSYEAow3sb6TJgQNKZvI7smV9A6lj34ArYYEDc8YE0zThhQB4fxJ/CsGFAKEHF4BfKYUCFolRW0eJhQHTPeBW/qmJAvKtWgIr7YUB2GHn7f+1hQLLa381bJWJAz6vSHuHJYkAzQAeyQHdjQMcCzAaUfmNAfrc5cWN5Y0DQEcPH8lljQHBJE6XuB2RAf6VTb8gtZEDWFH6Rf51kQGzMY/Ym+GRAFskW9UrdZEC0pKKEPs5jQAHrCp0CXmRAlSnnx8FgZECy04spp1pkQAsEE0G1qWRAw9kjQ1wyZEAkne7wXH5kQKWO7TUkA2VAhZ9g0GC/ZEDbQPQG+LhkQJIR4HUpc2VA6QE0u/enZUCjjkwR98RlQNL5wBbG3GVAyU7x8DTNZUBtTL1Aa7xlQKeHyQiaDGVAJD87NlryZEA8qTunpBplQOANz1oW72VAq5jMK73gZUDCxyQdHf5lQGP6qf836mVA7LcDj0LTZUAIOZIvL6dlQG79g6ZyHWVA/9y9fSWRZUCVTvKbEJJlQGcjCY00smVANgrredauZUD4sNA8GPNlQId7eH7qy2VA6AciyQnDZUBFnYEYaw1mQK7g65y7Y2ZA9VjA5YPWZkC+SVxfTz9mQMRxzFwRJGZAufozaUEAZkCJqW6tSeRmQEVRjW+LKGdAKRWA3AgyZ0COwc2+Wz1nQGNoplquV2dAzMFaIHQVaEAKCmh9ZIBnQKPZjygHX2dAGKp5LfhMZ0Dppw2oQiRnQFmkZGaCpGdAQXPBitwfaEBoGoz9uYJoQMhdGGxO4WhAgVwU/z7eaEAVuWf5q/NoQEH9cIvDSGlAiGCYa9M8aUBlppDvo7BoQHuAddbRJ2hAZMXgCqWDaEBvfMitYzBoQB2b6Q07FGhAatK+4tBFaEA6lkj/d99oQEdbOxt96mhAtk9UD34raEDhy78qeJ1nQAPSgMwBBGhAd4eIP/EeaEAH2RANNSdoQC3sTweG3GdAoZQ+9WHLZ0BGal20PClpQN80evpBJWlAWpV+7dJLaUCBts84NktpQDAlLs47OGlAArlgXAysaECXxhWgy0loQJZgulcTe2hAOIxvjyTjaEBdnNGtjc9oQOSXMf61+mhAjH7qu5YDaUCbvt6oSxRpQGiOgB/dCWlAKr01l8CCaUAhDxFh3XVpQK93MtZrimlAqxsJACENakCtCq9XuEtqQNzBPmoFKGtAQd5OQl/iakB35HCxDeZqQKVXJWalP2tAk1J8yX3DaUAMmGlWuZdoQG4+e4n7O2hApH7RFg7GaECVb4Z/lnZoQKwo9TKHHmhAxL36uiF0aECVF6yiHM1oQNh0tgvZhmhA4KXbSkH3Z0D9UWBubIVnQAaBjWhpiWdA+UB4UU04aEBdKqbjZvlnQPX2Idbv32dA5iS3dWpGaECaMGt6yO9oQDeqBOltyWhAi6e4QCXBaEDpjhTmzlNpQKOGzZ92omhA328NdKXOaEBPAaEoX4xoQGklliKrxmhAnTUprcL3aEDRqufXC1FpQLLkf/dA/GlAbiyEBVNrakABIaeob0NqQL/TJaa142lAt0FMzkRJakB8UdTGcZ1pQK0MfbAdimlAHXxWSwmLaUA/1yxfd19pQFJa8GNDjGlAb6N/mwLxaEAHy51sbjVpQFEZW6HqOGhAcOLx++FfaEDBC9aQ0uxnQCKjuhAq/GdAQQuHGDZYaEDwfVLXjnVpQNJRThRqgWpAe7gYwK8hakDJsdFlFR1qQIs3Rx63ImlAG3iuxM5uaUCjR/6NJrRpQJLWu0fyqmlAxGrw1f21aUAgfUGNfahpQIxqfuPIWGlA5clVjgU6aUCI/C/HLDxpQMpTfYOSA2lApTHbMBsZaUCX8gIZ2odpQC4wDyt1uGlAvB9IMQRWaUDywFleO6NpQGxtC6RPkmlA727RAHasaUBsJEUBAJ5pQDUVyIAomGlA2vPEeBSVaUCtXNIfZmFpQD5a8s0/R2lA94S8FcwgaUAjmmrXxZRpQCLef6IVgWlAMozC9F/NaUAViZD70C9qQHFyOENe9WlA/ZnGwSAcakB9cvWbtqhqQLigxO5piGpAYysV0reUakAKYKoYtcxqQFQyuCnv3WpAQDsWgwadakBIsC199WVqQMPlK/Uk0GlApgFhEobraUBlsCvw2ndpQEbtoChOrmlAr2Vt2m8UakAJLVx5NQtqQIcsy9FOomlALdOx1hK1aUC7tKtPd5BpQGxLSsCfemlAtWO1JBWNaUDxxvmgbxxqQKSBrM4/umpAStU1Yjoia0BA+IUhn/FqQHfMHEnkpWtAJtQ/sryna0CheoMmA0BsQCGm0vX1zGtAHy00GS/ua0AICvZYwq5sQPWtQFlLwGxAndH+0nDibEAW37Wq+uNsQFjD/2n572xAwFCu4IIBbUCCp2fub/JsQJO01SwyGW1Aq4X6NAorbUCL5DSO4jBtQM8XEpALBW1ARTsfZZQCbUBMq4DFnO1sQC5O+Qu6/WtAHdNGZZGMa0DWrNV75JRrQPc3o7JbcmtAY22sx4qla0A+yywy2hRsQE6FS0kaHmxAM4XTtD1fa0DT3frKvQJrQPbNtW2TRmtAcpts4jtba0CXuKELOOdrQNM+PVig8mtAIJ1urZ44bEBxoEuZURdsQHQDwAyJ62tAr+ODhuBqbEAypERrURdsQPE+LtTmvWtAhzyWWa+fa0AB4a3wCrhrQLd620i4jWxAYGfRrcJXbECH7xvLIuRrQBCIQNiE42tA0o6sq7Hta0DO5BDzpNVrQHUqLuZq/WtA6gq4+u+rbEB2sD8WUDttQAZhkoAyvG1ACIK9VMHFbUBIveffEFpuQLrM7PmhZ25A+ngvktmqbkATCL4s/u5uQPt/XOV/u25AG2ZxRL4Kb0Bt9F84vAZvQFB915SEDW9ADjYvxEzvbkCEXiD28PtuQDSX9pxMym5AH3VBEY/8bkDwZVgP+lVvQNi7cClvVG9AnXRxP1t3bkAzO1H0kP1tQHFXxYIQEG5ARA0Yt+4+bkCwS+YnqpltQEAoh7aDm21ABabJ8at4bUB3fpESeUBuQMsVTCqZw21Auhk44E03bUAfTTqyjaxsQCnBOH/YE21AJt7exVaRbUDAuGSsmFRtQLIuG8B6QW1A5/FzCeLNbEDK8t8zcXBtQLFeBm+ji21AZJnEkj7hbUBlV/fViUduQAJkoPpfRW5AJvJb8gQXbkDnPrxkmSBuQB+0Vlw/0G1A8onkOKKtbUCKLIsw3VVtQBOEib8+4W1AqDwSflMobkBh53eTxHtuQKXoEcpmkW5A5ipJTp6fbkBfBi0jevpuQPRlIbxZAG9AFy3d5osbb0CGbDUIzLZuQAlqsCfv525AS+rcZp08b0Dybdgs9yJvQL9oJHhqrW9AFOzowifsb0DDB/3mJQZwQCJbFqRa9m9A7a9cbPIMcED8XLaQ7ixwQJLC6B33RXBAY9a5vvdFcEAhF4Q1x3JwQN7MNKeXjnBAwAVxeKG6cECHrgOaZpdwQE093olannBASge/vdKxcECPl1gFV75wQBdIDUUr73BA58O+OQvkcEA4o4OXU95wQGRK+uDokHBAnetaGOGscEDtwj3Jy7xwQPVxF4+EG3FAaaQeZRxLcUAiz254Rk1xQNqlI2VBFHFA2KgdjNohcUAoHmjhnkRxQDHi0u8WI3FAg1x0Z3YgcUA11KkBeyRxQG6boV+GLnFA6F63L+5EcUD86k0Ra1xxQIurTYVaX3FAhSCR9AU3cUDaerWuOEFxQCnPq5KjSHFAhFSPqmB2cUCtwTPPgIFxQNK8hB/ikXFAOHZSIfSNcUA3oQKnt3RxQKcIrfaOBnJAvy4OMTxBckAMLEC4jkNyQBsnEnsYK3JA5DJYUFYUckBqfCkBhPNxQHzmyUIBNXJAWoLPBNE7ckCipJg2qTtyQCGllGJhJ3JA11hZc54ockAznNCyuQhyQKfsnFxs/XFAYyRLpyX2cUBMrboiEd1xQB1QLIjwyHFA4W0Ofi0HckBg5Xw3xUByQDTLzhRcMHJAHpSJNlEdckAdKNuEV4JxQFigLA7JyHFAmmzq+5jPcUDfKRAVWv5xQKCWs4wQ9XFAOL9mvUq3cUD8CYVchxlxQASJPwmOHXFA16FdyQgIcUAyrpoV7QJxQMpjPebS8nBAcHpsvactcUCGSA1dQkRxQOZngHR2xnFAHjZ/TPzDcUC5KCRFWbRxQPNV6igornFAWLpjWM6/cUDTrucW/wJyQKT/K9ikLHJAk9uohT1OckDZGgRxX5RyQHFAbiYwg3JAB1E64Q6HckDit1k7Wp1yQEqmGpebiHJAgy1YHr2pckDMG28XThxzQBRPhsRJb3NACRAEqJyWc0CQZhd32rxzQBT7BdQN9XNA7nMZgh3/c0BC5XBjd+1zQPQgHJx7OXRA50/U6co5dEANnRuwLzt0QHGiWnLQ83NA2oM6fvL8c0DMnMeuui90QHGsGShyM3RAmmZE1FtKdED/gruHe3p0QB+iqWDVbHRAnCLX05+7dEA3i+75hZJ0QKdyE96dNXRAWcI4kws7dEBfhGDQPeFzQDkHABDrR3RA50bg1Lvuc0DXB0Af8PRzQF2NqRxH3HNAih2gzr1Ec0BPpbFHWldzQMxzyCDz/3NAE+UJpM4KdEC36jM7SB90QAt3YJCxSHRAmWPsvTuLdECxvmhoC6NzQPJRM68XqXNAWtVlbiOSc0DodnG/pDhzQNBS3HibPXNANmnl9jFgc0Dm64oze7xzQCImsDW+KHRAQ3GpzJ5SdECgBRpWd550QCcdJDOKlHRALfllbjOHdEDL4qOrIll0QKIQ4+z8+nNA6Y1XbDjCc0ABCvzk8SRzQOpzcb5N33JAugcQ75bJckA4pzR51XVyQL/QCLl8xnJA5+BkzgE2c0AgItvJIWtyQGpx4/dAZ3JA+lCx9BNIckBkPar591ZyQDTXeqrFPnJA3SZuBwDpcUB8bud8nrlwQKmtfrMSR3FAyhUX9fvAcUDZ+nXx+wxyQFyjaAQC13FADBNjLOSPckBzct2wqHxyQJ15DGnStnJAQKEJWHgsckA/dokKoCxyQEm6DSKKK3JAagYzjFAsckBDNlcitp9yQOyDCnzyN3JAP0xd7HDTcUCv2rgy7aZxQATuDODe/nFA9qdz1HvUcUBHTMrFSZtxQPQnNOnvYXFAGrCQ+81FcUC3rPNJawFxQIhnadEQfHBAfcl41e60cUDT+Iiu6slxQIaY1oa0vHFAY0rQsMvUcUDdOi/0O9pxQLt54sJNb3FAW6XIRATpcED+kavXcGRwQPZUv6v8C3FALlUo0OAIcUCBfLBaAfdwQK/uXKLlvnBAIQhfSyDscEBzU46vmTFxQErUtRd/kXFAwPB1ErjFcUBoZckxcudxQMRUWh2YI3JAvkbPe0YTckD4Ec7jmRxyQCIfSIutK3JAXBM14gJ6ckDkymqYXsNyQDj3zBux6nJAX0TBU1exckCwfyEt0YxyQKAqIpqgzXJABgJaUx3QckDikHC7kwNyQOLFsnr7/XFA/b3MFeX8cUCPP+y1k01xQK7fda56B3FAU4pxxxEUcUAc+cq+S/VwQDFEA4QQ5nBA1cOszibncEB7jM26U1NxQBpcNx3MAHFAXBTjhfmYcECkhQdNaHBwQIl7E8ZwZHBAasxXI8/ycEBkk/kkjhZxQNaRnT53yXBAHYcaQh3FcEB1+DJVMgJxQApiQsIKzXBAlEf8IOWncEAV6d/ZLXhwQJz2+Xc8+W9ANbAyHNEXcEC2wWVhRnxvQAY/a/jOW25ABSKGMX0Bb0AI86Db2g5vQKVvxZKA3m9AMDGJqJfDbkCHFhVf3KduQH36tANe/m1A0tL6XyfYbkALCitDVtpuQJM7f6FvS29AOpUHvmnRb0DZ6jwJNEhwQMqlya6LXXBAolmDhNZucEDMZ1E4tdZvQHjgE5JxVXBAXIX0sOdCcEBl6v4a9y5wQMG6f28jaHBAH04S444acEDksH1BHbxuQElMAaNiZW1A71kOAMNkbUC5bgg4vv1tQO+Q3yDPk21Afg9VVkezbUA6Mz32BF5uQD8jumfQeG5Ae4vdGWPebkCq50LPctpvQOELdtKGBXBARtAwBjMyb0Ce9Gr6vyBvQIYKpnmkx25AGK+8Huz8bkAL3t+H+ABvQE0Eplai729AB6pnB6IgcEDS9ASWrgVwQEUj1L/H6G9AGOj61NisbkA8iDs0ZjJuQILOZP7J7m1AyPyBAOgBb0CNhzH7GtRuQHGitsLx325A2LNWnOWCb0C5w1ntUUhvQEXgJZfhh29ANyYiundBb0DVdSKe419uQMS1+jUHgW9A8wLC+QdNcEA+9k8ogNVwQCkO7XwxyXBAQKG8nUqTcEAim2M2MNVwQFKlzE+mDHFAmZVOu2/1cEAcSZtCaP9wQO/MZHvE5HBA/PVtoR12cUCgDA2Fam9xQNWwcrAddnFAUz8i33+ncUDVaRxOVKxxQDMFaQ0ap3FAkfvDXgOhcUDFH2soD2pxQEKHQvHb53BAh07hBXLLcED+05gb68ZwQF+H8f20vXBAFT5VL5tXcEDWHKpTIRdwQP24j9Koym9AxmEpd5Tfb0AGD/71vCZvQE/ssWdjCW9Aw3XiumS6bkCZFNC6W+JuQPksnwxhE29Allzm5xu/b0DIGZAilStwQNSPtAl3r25AnZBi43J5bkD/9LeMGsNtQBhiQ2TohW1A0EycfiBgbUCmbGXdWDptQHnBTfE9I21AEYRd67b5bEAatgb5tq9sQHMWy5zL5GxAZCb2CNyZbEBMBM5GCqFsQEc0CmsMl2xA2Vd07ZdibEBUjG7T2p5sQG9JnzoU4W1AHRprVZrFbUDebb7MbANuQAs34eJUcGxAO3YIFEGna0CB+xEec1VrQDj2FizEUGtA8dON/PS5akDYcLsehtlrQLhtSjvXrWxA+xx2Hga1bECA8ogWTZNsQPM5vYNppWxA78rN6duZbEDhYk15LW5tQF2K2YWe+21AD43JCjoPbEAzQS6Al4lrQHaEn7wFkmtAi1OP3UIxbECYrmoG/blrQK/g1s5e1mpA4ewgECgZakBaD/cj/AdqQPLTcFsW/WpAyqEdPHeLa0CEGimqUVxrQPdV5Z14qWxAFgKd39iBbUATUhvJ6yxtQIl2qOCFRm1AS+CKONtnbUD7s5dSfxBtQMK/KkFVPG1AsNRhQfd/bUDXHoat73BtQGNqFLln4G1AqVw6AG4tbkAzYZ8iwXNtQByA0KioIm1AXY6qN1JWbUCKmrDUn7BuQDt9fcAcim5AFeOgsBJXbkBmUNHCD9FtQF4GZzbnn21A3pjuk4S6bUDr7RyI9dxtQAWx3iM1O25ASVVtcPHzbkC2AFtSxRpvQHuCxLGHQG5AQMIbzZvIbUDsrTBJUDJtQHZ71vA7KW1AwYAjTSZebUCAIgONxJpsQFPao6r1nGxAeER/HCPYbEAOdBs5KaRsQHiQsmqA0mxA5qePJyDybED0GB+eSwltQLkiZiEYo2tAHMQneZYfa0Ar4aSVINRqQN5hmU4vsWtABB9a//3Na0DYlfrBWERsQPT5JmIPkWxAa4loyqS7bEBjm6zJlv9sQBBFQWFuzmxAblylROI2bEBdIathzq5sQNIwWfq+T21ALDHyeXtobUA4vMukxT1sQKWUUgJUmW1A9eCzn48wbkAOExvslp9tQJGFwIQSt21AmqW/MvoFbkC/AmFn03ZvQKW40qQgcm9A6wdsPXwpb0DteulVb89vQF5zB5ivR3BAgcwfCk0ScEBLmCg2mOFvQK0NJF1nVnBA2D+Q5r93cED1aBGrp1FwQEKclCd7DnBAXFuEGcNjb0Ai63KcVdluQNW/IcwYsm5AoSgjo322bkAbY1qcyGtuQCNAtc1GlG5AZyb5DY9/bkCyN+n+RSNuQER3IK6fHW5AVijOcg7TbkDnhkJNImNvQJbDb73VEW9AcSXdhtnAbkCvXcc9BdluQD98nawWXG5Ag+5L1mMhbkCt36xfXl9vQCXi6NyFyG9A+MbN6SMkcED+7yrTzPBwQCy9P0xBi3BA30l5SROGcED/ECL40q9wQLOwtws533BA5X8sQHrgcEBWiBJvPuRwQLCmYIvIrXBA9ZvTTJoRcUCjgx9jyUFxQBj5OmekWXFA4UaVeo1ocUDnYiU1jINxQBVkVw1jWHFAFGN92mpKcUDpeco3e3RxQNielhVMRHFAMMhX5VFJcUB3I52MT1xxQKHLRMR4ZHFA4e6W2zyLcUAbT0FdlJhxQEGF4/HPcXFACwZHlkl6cUD9ZAJslVpxQLwvK8N3FnFAEyRLyOPhcECCYVJ7WvJxQImI5n/nGXJAbCGwUmeYckCV4m1nSLVyQC1Vmk3SoXJAZ2R2d6WkckCOrvsk0ZlyQDqta8V4p3JAlJXnOwnEckC4UfgmfcdyQEcHMpjV3HJAYB1CYbTGckDlrChkCsxyQFD65xSU23JA4xUJFbz+ckCL54zIrRdzQAMeRi+NRnNAmCsV9ztwc0CN3baqB4pzQAjpqxGeXnNADhMomhc1c0DETsyXVKlzQJW4IlVc5nNAAz5oN81OdED4kzQ/oBx0QDlTA3qS83NAo7IDW7tudED1+eN/6490QBgU01HBaHRAVFEDRKfQc0CftEAOBt5zQPUAi2Sy7nNAF6XdOn76c0BGYPbnwUx0QOu67TbScnRAfP8pgN+3dEB97YD4lQJ1QASmhVjLonRAmuf1ri5ndEA1u+FKKHt0QKvb4FrjfHRAFIDEAN8udEAyZnGGnDt0QHk/zfGMgnRAcBiqW9VvdEDPCIhU37d0QLacc5T2rXRAq7mCYAWRdEACxx0QIp10QFkD9yC6tHRAHKNw+7YgdEC5Nn5jbxd0QFv4YnXOn3RAhUgqAYDUdEDJziv7tCd1QIWCycCEBnVAezyoxAsGdUBa4iPLlad1QFOezCBhOHVA5VT5jT3hdECDLfTCPwh1QPe9XUWpM3VAW0ko+4l3dECx6V8Krjd0QA5sYMt7eHRACRhYwHh7dEDuilEL0oB0QCcTBUteDXRAYaExeusGdEDPhAXRNRt0QFjpdvScH3RAiJC6uITYc0BQnUyR2LlzQNFhSRbku3NAsEAajuecc0B+gwWylqpzQPhfr698t3NAi+t/vNWwc0C5gUl+P3hzQJ5iWCzLLnNA+TJl0VSFc0DHaobv/8pzQJOc8mSG6nNAwVvTW1uzc0Bbi8uPEqFzQEkPbmcZz3NAJ+iK157Rc0BwiZ7Lpxl0QIErHnjbHnRA5S2ectsedEAEF+VcfTx0QIZxM/ByVHRAhoF4Y1JCdEDJYKi+GUl0QOdqc6Izp3RAcxM1wvBodEBHKWTcDWR0QAbBmOYruXRAWFV8aRhMdEDAFI9QPBh0QEfMw4AT+3NAgI4vzwa8c0D2rpi4LGVzQDKQLExNd3NAX6UB9Sxlc0ANDapLrRZzQMpz4gJ6EXNAqrcFq7ENc0CY/8QS3GRzQBbqVRADaHNAvSk2cW8pc0CTVKW9aVVzQMkyoTaZY3NAijkgmqp5c0CidJqnHOZzQGaHgcjiLHRAllu0lA5EdEBVd3agbz10QJZhq488GHRA/32azRFbdEApM+KjySh0QItaE7HQNnRAczCxrvRfdEA/pCWw5Al0QB3sKUsv+XNA8tZ3LMgrdEBCe0OZuMl0QNTkR+VgIXRAiv4JXmQ4dEB3U4f9dG50QHf+L7iJm3RA1SyURrjpdEC/WoFgbDp1QGbiaIHGYnVA0jd1QKrBdUC23lf5IAV2QHJ4OYYnM3ZAqCN7ESkwdkC2sRX4WTt2QJGXju57h3ZATAux8FaedkBfOZQVTaZ2QOlzn3HK1nZAVolfl5CkdkBFMWT/veN2QBj1+Tuj5XZA5CmPS3Iid0ABnaqfISV3QAmPJJDfNXdALXwIpdRUd0AK6cxRdUl3QCD9nMNXKndABpBEgqPodkDqg3mZzmN2QPDPSLPEjnZAfpo8RNW0dkDBXadA05l2QOHv5rj9t3ZA/4JMf1mWdkAfNBJGNtt2QJgebg4c4HZAgGtO1zt3dkABSkpoMZl2QBXt3EYZv3ZAWRQulmvRdkCxWlRcUdx2QJaBGYuU1HZAOWwmJsD+dkB2cf+JOgt3QBWiSm1UAHdAlMUOL6cVd0CdOH1V6Qp3QHCI4X3uoHZAPKHL+Wm8dkAb5TwEQKd2QJchgaaqnHZAKMNYwU/EdkCA15AtvuZ2QL/Ab+XEN3dA7Tid4uR3d0DeCSUiVrt3QEBdUPE+6ndAwip+Fd29d0AkLFlTuxF4QLovKuwdR3hAyWp7BopIeEB2lx7F6E14QJNYFIfjtHhAEV2bob3VeEBnpydOKdR4QEh76Z8r8nhAZ5ge26cTeUBgsRf4toF4QP9EIxA2ynhAXoSpcQLmeEAXrGMZzex4QPCBdyK+23hAXbh47KgieUB067Vjr3N5QHSYIY4enHlAElo01r+WeUB3ngAtU+N4QCRj/FnHAXlAP1k/GVn9eEA7M/P85e94QBiGf6j5mXhATEe4aHmNeEBq1PnJEkF5QMh5aBhnR3lAQjhvQO0teUC+942eYvZ4QDij21elDXlANfSpACQXeUASulovoGV5QNSCE39pfHlAKfmZXJfDeEDwjR8H/Z94QEKxFtzo3HhAwb8r8vr9eED5j0/qZs14QElRkSPoJHlAW1BNRaVueUD7SAzCIdZ5QBkLYV7Zg3lAhdtSroOTeUA76Jipha95QEb8sI1hAHpAN4DwIzxnekDgf8XH/FV6QP4qus1pD3pAGEDVqkwLekDBTs+eReZ5QAv9lDoD6HlAkiLw9RAZekBpBrcjwtN5QNIcEcWJ53lAqvt/fnzPeUC0uknGWtt5QIhHHLwnKnpA5OwFPpIPekBlB0fVMPF5QOZG1BFIG3pAe1tdZ0zyeUCQtyHb+Y15QPtq1B65knlAi/OGKuxceUCHS9TR9/d4QBOPg1EtlnhA11dK0TZ2eEA6R0B44ul4QM5DIY2/JHlAhHFzBg78d0CucKDnmxR5QPQO6MKlrHhAspO+GBgOeECTZBIDIiB4QPDreMHOZHhAsnP/T+XWeEDoxaYLQx55QNx9IylNSXlA/uv8BaQjeUCPWRG8dUl5QGbIQvgudHlAzTv7Ka1keUCpW0dKOnB5QBJFoBOm1nlAZETqNnkHekBOd7AbsuJ5QG5qHkzEAXpAK0qp6M5OekCtKKKD83J6QPM+zSfYV3pAAFznTtVHekC5rVmgjGp6QNJOzasfXHpAHLtBpZ2meUAhXYzxXwx5QBv3mWtIUnlAkG0UhlReeUAM1yB4Rcd5QJgrMXMeC3pAOvhHKXsxekDDImsWlz96QPhLAT8mVXpAkoqSYPfTekCjvS1e+zR7QBcB1Tf5CntAeszv0mFKe0D3GZKcfIx7QBDZQv0ZU3tAcYlluSqme0BGrHEMlaR7QPP3oqn4qXtAY3KpdczAe0BmfB6djPl7QBrtje6UpHtAwHeBWLGYe0CBfnlzyg58QNZpufhnWnxA/BCMY69rfECK6xDZtsJ8QDBhhSRPXHxAiVEq/PBpfEDzH1vPD/Z7QB1CkHnL53tAfW2+2Sj0e0D4TAF2i6h7QNAn2DX4MXtAQ92mYTLmekCNa2vXJsB6QNyOCJuwLXtAK/KOdhxwe0D8QsQwPnp6QLmBbAx02nlANgGo8KXWeUCWpr4ubkx6QCx9mT4T2HlAwp+AsG+GeUB0tu3ZYpR5QEv6OeWtCXlAwHce10rgd0ArolJfGq14QLGLfnLGnHhAARKrDO7DeEDyQWcDteh4QLUzb/0XCHlAFWv7PZZceUDcCjy7PYp5QGg6y5vD6HlAk1UG9gvjeUDvvvn+tNV5QJ5po1L4J3pAenPDnD0pekA4krzwU7h5QLmeH9ROkHlA+BwK32WEeUAmibByFnN5QGK4vuplRHlAPOdESqV4eUB/6sOp8ZB5QLZfzY7zP3lA4Uowg7UVeUAMpOCaqDF5QERubJgD3XhAPtpqFnTyeEDYYEGEl0p5QJ+pZrFyaHlAQMI0iPQJekC2469TomR6QEnLhfp2kHpA3R8MR8jQekCZllyVPrN6QPFWQ4JPGntAVgtCzL/vekASv1I67bJ6QC+0rFPMbnpA5lTaCwaWekAaU5Kp6p56QEo+WgmOhHpAGsHOeDRjekC+P3cBB/t5QHIzy3Gt2XlAv4t8DD+zeUBwgKykC755QI9+ZJs8X3lAdMpcXA5SeUCU/O6SZ7N5QA6jqDokoXlA+IKW87qieUDf4kpSiuZ5QKjo85amwnlAPWaJhL12eUC4gVod5Md5QP+uwv2H0nlA5fbHxauqeUCcn56KzO55QNRYGY4aNnpA5xG+/Qk0ekBq+TM5Q3Z6QJBY/1n5cXpAqA4ytQhqekAKVsofFc56QHEw0sZbNHlAzsW/eGpHeUD4cAQVxCh5QNEx8UmgUHlAeeISF2B3eUDPFTsFBQx6QH8jX3IxKnpAbiVS+WbOeUAFQnhxdeF5QBw2HZl/8XlAW5Ve6+wNekB55VCC7Kh5QMmHv5V3kHlAyJeblLuHeUBXALT8U3h5QBJZN+DDgHlAfvJ2dgSNeUCy+oqRU8l5QIYd3xb6CHpAO2padms7ekC3iJ2xRPh5QMGtyjMfMHpAzkEEc3CWekDzhFF4QOR6QPNGbSCVHHtAAP+nSrF1e0AgWlbPe2F7QMjJUNn8cntAnfaGM/mZe0C6JLiSfep7QHbOSLRRsntAd5SYnoute0CMX2t1z/F7QGjjWagbKntAEbR5JPgee0AwlgommqR6QLCfZStv53pALsDITRP9ekD5hrYA5yN7QJ92qzBSgHpADue2lYI5ekB3rnFNxyV6QIBK751TyXlAIrOxyPQTekAE3cwsenJ6QFd/qYQBKHpAfPq5+cczekB2eXb4B8x5QBvBby6XoHlAE7sgjZuHeUAlhy84v/95QKsLm+AhYXpAcGQGIEidekB1OMUJY3R6QOMVOZHgGXtA1zsdX2Vxe0AxQH4qzm97QNBiiFH4UnpAp1lzfVzQekAMoJhT5F97QD/1XTZvrnlAXtWD+0fKeUBn2VEW1GZ5QJduvl4DeHlASZi88IOCeUDc3V/dzLt5QBCj/67qXXlAYLZRWcqKeUB93d4GA3F5QMODGumPInlAusAOcTpCeUAcelQ0lzp5QB9KeMl0RHlAPu7nf8FWeUAeb+JIu7F5QMsffuyWZ3lArEzWB/LeeEBPOSavK7V4QMGOmkcbjnhA1fkSXvFseECmQoFBpxN4QL9zeb8dDXhAlH0Xr9e6d0A0sZNzXjd4QDcFWPkSdXhASw8QFTsDeEDg/lSrkn53QJhdMTOheXdABsB7KSiad0CtVtBjPYJ3QFu2eOcVo3dAirP+frUDeEBkvArnb7x3QGL60i2t6ndASUYFHDLfd0D8fV/kitd3QMKNZzxQR3hAzdvU0m90eEAhDe/mijN4QFg49xTjIHhADI9w1fJ5d0BhrRpcct92QBRQiF/0PndAo9f5eAF1d0DWGKnzFgF3QHuiEN63Y3ZA3BqybH55dUBJljPljNB1QPo4Tur9/XVAKYZUIGDodkANjSdHM5l3QELghy0G7ndAUJSuMTrtd0AAgamRkOt2QLK47Mbd2XZAF0OBK/gmdkCyzibRxml2QKXw+PmaO3dA7eP3hzRed0AFQbUwPvR3QGKiogHFFHhATx6552ZQeEAZXBgRsfF3QDjxpvvNdnpAhQm0U/bHekBkbLiXw+l6QI+99evG2npAqvsX2NHZekC4yKEOXiJ7QMPc1CPgJXtAQ03x5A5ke0BxZW5cB717QAH5lrxa6XtAm72MRg0bfEC8sNSd5f97QNLTJED2IHxAZHqaoTBZfECEUu97GDF8QL33FBR7UnxAvvWJqcUCfEAJM9Q48XV8QAO8+aPhgnxAGbVvBwFpfEBMBe+GrWx8QD7iMCY+gnxA5hQtb6jBfEAnqdQ2KeR8QBQ0iWlL9HxAJeKKgStAfUCNUG9DnT19QNCxBP8YI31Ajg/tJTpOfUCH/+u24ot9QCZjB+q+f31AWhXC1IajfUDvpwqf1JR9QG5RB5vmmn1Aqx0W0GXBfUDrm6mPwHt9QBc6WUAEYH5A16xEnGOJfkCsJlLRBMB+QCCS4I+Iw35A7/yH20XofkCIKFuRyaJ+QLB78BBefn5Ag+D1LBXKfkBZzBz9rOZ+QOscl9/I1H5Al2Tel7cuf0D23g7z7Q5/QMkvilu6D39AOxykwFJDf0Aet4Heb19/QHb5FpMPUX9AsUlhf6SMf0All9Mcjql/QMHyiTGGi39AAAAAQA2Hf0Ap0hthDT5/QMitCXF6p39AiKUAxVvYf0A3Jts/htR/QFx6L8qG639A1q2di6nJf0BrxsNgN5iAQC47f4wKQIBAcTsNHht6gEBB29hW/3KAQMR2+i5cWYBAeC/vzpolgEBrBPbWdTSAQHTr+aPvNoBAf4lqu7xOgEB1kisRJDSAQP2NbH1KOoBAv3HeKdMxgEAgdEY6aQmAQKJVihNyu39Axb7GOst5f0AAAAAghWt/QAAAAGCPZn9AAAAAgOuBf0AAAAAAKSh/QAAAAGBmPn9AAAAAAACYf0AAAAAA14d/QAAAAMD1DH9AAAAAwB5lf0AAAABgZnJ/QAAAAIDrxX5AAAAA4HrwfkAAAABAMxt/QAAAACCFC39AAAAAgBQef0AAAACgmX1/QAAAAAAAsH9AAAAAoJnJf0AAAABA4Z5/QAAAAGCPun9AAAAAwPXkf0AAAADgUQSAQAAAAMD1tH9AAAAAYLiuf0AAAADgo5B/QAAAAIDrqX9AAAAAgBTOf0AAAABgj9p/QAAAAEAK+39AAAAAQOHqf0AAAAAAABiAQAAAAKCZMYBAAAAAIIVLgEAAAABguFiAQAAAAEAzK4BAAAAAgBTaf0A=",
                    "dtype": "f8"
                  },
                  "open": {
                    "bdata": "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",
                    "dtype": "f8"
                  },
                  "type": "candlestick",
                  "x": [
                    "2015-01-02T00:00:00.000000000",
                    "2015-01-05T00:00:00.000000000",
                    "2015-01-06T00:00:00.000000000",
                    "2015-01-07T00:00:00.000000000",
                    "2015-01-08T00:00:00.000000000",
                    "2015-01-09T00:00:00.000000000",
                    "2015-01-12T00:00:00.000000000",
                    "2015-01-13T00:00:00.000000000",
                    "2015-01-14T00:00:00.000000000",
                    "2015-01-15T00:00:00.000000000",
                    "2015-01-16T00:00:00.000000000",
                    "2015-01-20T00:00:00.000000000",
                    "2015-01-21T00:00:00.000000000",
                    "2015-01-22T00:00:00.000000000",
                    "2015-01-23T00:00:00.000000000",
                    "2015-01-26T00:00:00.000000000",
                    "2015-01-27T00:00:00.000000000",
                    "2015-01-28T00:00:00.000000000",
                    "2015-01-29T00:00:00.000000000",
                    "2015-01-30T00:00:00.000000000",
                    "2015-02-02T00:00:00.000000000",
                    "2015-02-03T00:00:00.000000000",
                    "2015-02-04T00:00:00.000000000",
                    "2015-02-05T00:00:00.000000000",
                    "2015-02-06T00:00:00.000000000",
                    "2015-02-09T00:00:00.000000000",
                    "2015-02-10T00:00:00.000000000",
                    "2015-02-11T00:00:00.000000000",
                    "2015-02-12T00:00:00.000000000",
                    "2015-02-13T00:00:00.000000000",
                    "2015-02-17T00:00:00.000000000",
                    "2015-02-18T00:00:00.000000000",
                    "2015-02-19T00:00:00.000000000",
                    "2015-02-20T00:00:00.000000000",
                    "2015-02-23T00:00:00.000000000",
                    "2015-02-24T00:00:00.000000000",
                    "2015-02-25T00:00:00.000000000",
                    "2015-02-26T00:00:00.000000000",
                    "2015-02-27T00:00:00.000000000",
                    "2015-03-02T00:00:00.000000000",
                    "2015-03-03T00:00:00.000000000",
                    "2015-03-04T00:00:00.000000000",
                    "2015-03-05T00:00:00.000000000",
                    "2015-03-06T00:00:00.000000000",
                    "2015-03-09T00:00:00.000000000",
                    "2015-03-10T00:00:00.000000000",
                    "2015-03-11T00:00:00.000000000",
                    "2015-03-12T00:00:00.000000000",
                    "2015-03-13T00:00:00.000000000",
                    "2015-03-16T00:00:00.000000000",
                    "2015-03-17T00:00:00.000000000",
                    "2015-03-18T00:00:00.000000000",
                    "2015-03-19T00:00:00.000000000",
                    "2015-03-20T00:00:00.000000000",
                    "2015-03-23T00:00:00.000000000",
                    "2015-03-24T00:00:00.000000000",
                    "2015-03-25T00:00:00.000000000",
                    "2015-03-26T00:00:00.000000000",
                    "2015-03-27T00:00:00.000000000",
                    "2015-03-30T00:00:00.000000000",
                    "2015-03-31T00:00:00.000000000",
                    "2015-04-01T00:00:00.000000000",
                    "2015-04-02T00:00:00.000000000",
                    "2015-04-06T00:00:00.000000000",
                    "2015-04-07T00:00:00.000000000",
                    "2015-04-08T00:00:00.000000000",
                    "2015-04-09T00:00:00.000000000",
                    "2015-04-10T00:00:00.000000000",
                    "2015-04-13T00:00:00.000000000",
                    "2015-04-14T00:00:00.000000000",
                    "2015-04-15T00:00:00.000000000",
                    "2015-04-16T00:00:00.000000000",
                    "2015-04-17T00:00:00.000000000",
                    "2015-04-20T00:00:00.000000000",
                    "2015-04-21T00:00:00.000000000",
                    "2015-04-22T00:00:00.000000000",
                    "2015-04-23T00:00:00.000000000",
                    "2015-04-24T00:00:00.000000000",
                    "2015-04-27T00:00:00.000000000",
                    "2015-04-28T00:00:00.000000000",
                    "2015-04-29T00:00:00.000000000",
                    "2015-04-30T00:00:00.000000000",
                    "2015-05-01T00:00:00.000000000",
                    "2015-05-04T00:00:00.000000000",
                    "2015-05-05T00:00:00.000000000",
                    "2015-05-06T00:00:00.000000000",
                    "2015-05-07T00:00:00.000000000",
                    "2015-05-08T00:00:00.000000000",
                    "2015-05-11T00:00:00.000000000",
                    "2015-05-12T00:00:00.000000000",
                    "2015-05-13T00:00:00.000000000",
                    "2015-05-14T00:00:00.000000000",
                    "2015-05-15T00:00:00.000000000",
                    "2015-05-18T00:00:00.000000000",
                    "2015-05-19T00:00:00.000000000",
                    "2015-05-20T00:00:00.000000000",
                    "2015-05-21T00:00:00.000000000",
                    "2015-05-22T00:00:00.000000000",
                    "2015-05-26T00:00:00.000000000",
                    "2015-05-27T00:00:00.000000000",
                    "2015-05-28T00:00:00.000000000",
                    "2015-05-29T00:00:00.000000000",
                    "2015-06-01T00:00:00.000000000",
                    "2015-06-02T00:00:00.000000000",
                    "2015-06-03T00:00:00.000000000",
                    "2015-06-04T00:00:00.000000000",
                    "2015-06-05T00:00:00.000000000",
                    "2015-06-08T00:00:00.000000000",
                    "2015-06-09T00:00:00.000000000",
                    "2015-06-10T00:00:00.000000000",
                    "2015-06-11T00:00:00.000000000",
                    "2015-06-12T00:00:00.000000000",
                    "2015-06-15T00:00:00.000000000",
                    "2015-06-16T00:00:00.000000000",
                    "2015-06-17T00:00:00.000000000",
                    "2015-06-18T00:00:00.000000000",
                    "2015-06-19T00:00:00.000000000",
                    "2015-06-22T00:00:00.000000000",
                    "2015-06-23T00:00:00.000000000",
                    "2015-06-24T00:00:00.000000000",
                    "2015-06-25T00:00:00.000000000",
                    "2015-06-26T00:00:00.000000000",
                    "2015-06-29T00:00:00.000000000",
                    "2015-06-30T00:00:00.000000000",
                    "2015-07-01T00:00:00.000000000",
                    "2015-07-02T00:00:00.000000000",
                    "2015-07-06T00:00:00.000000000",
                    "2015-07-07T00:00:00.000000000",
                    "2015-07-08T00:00:00.000000000",
                    "2015-07-09T00:00:00.000000000",
                    "2015-07-10T00:00:00.000000000",
                    "2015-07-13T00:00:00.000000000",
                    "2015-07-14T00:00:00.000000000",
                    "2015-07-15T00:00:00.000000000",
                    "2015-07-16T00:00:00.000000000",
                    "2015-07-17T00:00:00.000000000",
                    "2015-07-20T00:00:00.000000000",
                    "2015-07-21T00:00:00.000000000",
                    "2015-07-22T00:00:00.000000000",
                    "2015-07-23T00:00:00.000000000",
                    "2015-07-24T00:00:00.000000000",
                    "2015-07-27T00:00:00.000000000",
                    "2015-07-28T00:00:00.000000000",
                    "2015-07-29T00:00:00.000000000",
                    "2015-07-30T00:00:00.000000000",
                    "2015-07-31T00:00:00.000000000",
                    "2015-08-03T00:00:00.000000000",
                    "2015-08-04T00:00:00.000000000",
                    "2015-08-05T00:00:00.000000000",
                    "2015-08-06T00:00:00.000000000",
                    "2015-08-07T00:00:00.000000000",
                    "2015-08-10T00:00:00.000000000",
                    "2015-08-11T00:00:00.000000000",
                    "2015-08-12T00:00:00.000000000",
                    "2015-08-13T00:00:00.000000000",
                    "2015-08-14T00:00:00.000000000",
                    "2015-08-17T00:00:00.000000000",
                    "2015-08-18T00:00:00.000000000",
                    "2015-08-19T00:00:00.000000000",
                    "2015-08-20T00:00:00.000000000",
                    "2015-08-21T00:00:00.000000000",
                    "2015-08-24T00:00:00.000000000",
                    "2015-08-25T00:00:00.000000000",
                    "2015-08-26T00:00:00.000000000",
                    "2015-08-27T00:00:00.000000000",
                    "2015-08-28T00:00:00.000000000",
                    "2015-08-31T00:00:00.000000000",
                    "2015-09-01T00:00:00.000000000",
                    "2015-09-02T00:00:00.000000000",
                    "2015-09-03T00:00:00.000000000",
                    "2015-09-04T00:00:00.000000000",
                    "2015-09-08T00:00:00.000000000",
                    "2015-09-09T00:00:00.000000000",
                    "2015-09-10T00:00:00.000000000",
                    "2015-09-11T00:00:00.000000000",
                    "2015-09-14T00:00:00.000000000",
                    "2015-09-15T00:00:00.000000000",
                    "2015-09-16T00:00:00.000000000",
                    "2015-09-17T00:00:00.000000000",
                    "2015-09-18T00:00:00.000000000",
                    "2015-09-21T00:00:00.000000000",
                    "2015-09-22T00:00:00.000000000",
                    "2015-09-23T00:00:00.000000000",
                    "2015-09-24T00:00:00.000000000",
                    "2015-09-25T00:00:00.000000000",
                    "2015-09-28T00:00:00.000000000",
                    "2015-09-29T00:00:00.000000000",
                    "2015-09-30T00:00:00.000000000",
                    "2015-10-01T00:00:00.000000000",
                    "2015-10-02T00:00:00.000000000",
                    "2015-10-05T00:00:00.000000000",
                    "2015-10-06T00:00:00.000000000",
                    "2015-10-07T00:00:00.000000000",
                    "2015-10-08T00:00:00.000000000",
                    "2015-10-09T00:00:00.000000000",
                    "2015-10-12T00:00:00.000000000",
                    "2015-10-13T00:00:00.000000000",
                    "2015-10-14T00:00:00.000000000",
                    "2015-10-15T00:00:00.000000000",
                    "2015-10-16T00:00:00.000000000",
                    "2015-10-19T00:00:00.000000000",
                    "2015-10-20T00:00:00.000000000",
                    "2015-10-21T00:00:00.000000000",
                    "2015-10-22T00:00:00.000000000",
                    "2015-10-23T00:00:00.000000000",
                    "2015-10-26T00:00:00.000000000",
                    "2015-10-27T00:00:00.000000000",
                    "2015-10-28T00:00:00.000000000",
                    "2015-10-29T00:00:00.000000000",
                    "2015-10-30T00:00:00.000000000",
                    "2015-11-02T00:00:00.000000000",
                    "2015-11-03T00:00:00.000000000",
                    "2015-11-04T00:00:00.000000000",
                    "2015-11-05T00:00:00.000000000",
                    "2015-11-06T00:00:00.000000000",
                    "2015-11-09T00:00:00.000000000",
                    "2015-11-10T00:00:00.000000000",
                    "2015-11-11T00:00:00.000000000",
                    "2015-11-12T00:00:00.000000000",
                    "2015-11-13T00:00:00.000000000",
                    "2015-11-16T00:00:00.000000000",
                    "2015-11-17T00:00:00.000000000",
                    "2015-11-18T00:00:00.000000000",
                    "2015-11-19T00:00:00.000000000",
                    "2015-11-20T00:00:00.000000000",
                    "2015-11-23T00:00:00.000000000",
                    "2015-11-24T00:00:00.000000000",
                    "2015-11-25T00:00:00.000000000",
                    "2015-11-27T00:00:00.000000000",
                    "2015-11-30T00:00:00.000000000",
                    "2015-12-01T00:00:00.000000000",
                    "2015-12-02T00:00:00.000000000",
                    "2015-12-03T00:00:00.000000000",
                    "2015-12-04T00:00:00.000000000",
                    "2015-12-07T00:00:00.000000000",
                    "2015-12-08T00:00:00.000000000",
                    "2015-12-09T00:00:00.000000000",
                    "2015-12-10T00:00:00.000000000",
                    "2015-12-11T00:00:00.000000000",
                    "2015-12-14T00:00:00.000000000",
                    "2015-12-15T00:00:00.000000000",
                    "2015-12-16T00:00:00.000000000",
                    "2015-12-17T00:00:00.000000000",
                    "2015-12-18T00:00:00.000000000",
                    "2015-12-21T00:00:00.000000000",
                    "2015-12-22T00:00:00.000000000",
                    "2015-12-23T00:00:00.000000000",
                    "2015-12-24T00:00:00.000000000",
                    "2015-12-28T00:00:00.000000000",
                    "2015-12-29T00:00:00.000000000",
                    "2015-12-30T00:00:00.000000000",
                    "2015-12-31T00:00:00.000000000",
                    "2016-01-04T00:00:00.000000000",
                    "2016-01-05T00:00:00.000000000",
                    "2016-01-06T00:00:00.000000000",
                    "2016-01-07T00:00:00.000000000",
                    "2016-01-08T00:00:00.000000000",
                    "2016-01-11T00:00:00.000000000",
                    "2016-01-12T00:00:00.000000000",
                    "2016-01-13T00:00:00.000000000",
                    "2016-01-14T00:00:00.000000000",
                    "2016-01-15T00:00:00.000000000",
                    "2016-01-19T00:00:00.000000000",
                    "2016-01-20T00:00:00.000000000",
                    "2016-01-21T00:00:00.000000000",
                    "2016-01-22T00:00:00.000000000",
                    "2016-01-25T00:00:00.000000000",
                    "2016-01-26T00:00:00.000000000",
                    "2016-01-27T00:00:00.000000000",
                    "2016-01-28T00:00:00.000000000",
                    "2016-01-29T00:00:00.000000000",
                    "2016-02-01T00:00:00.000000000",
                    "2016-02-02T00:00:00.000000000",
                    "2016-02-03T00:00:00.000000000",
                    "2016-02-04T00:00:00.000000000",
                    "2016-02-05T00:00:00.000000000",
                    "2016-02-08T00:00:00.000000000",
                    "2016-02-09T00:00:00.000000000",
                    "2016-02-10T00:00:00.000000000",
                    "2016-02-11T00:00:00.000000000",
                    "2016-02-12T00:00:00.000000000",
                    "2016-02-16T00:00:00.000000000",
                    "2016-02-17T00:00:00.000000000",
                    "2016-02-18T00:00:00.000000000",
                    "2016-02-19T00:00:00.000000000",
                    "2016-02-22T00:00:00.000000000",
                    "2016-02-23T00:00:00.000000000",
                    "2016-02-24T00:00:00.000000000",
                    "2016-02-25T00:00:00.000000000",
                    "2016-02-26T00:00:00.000000000",
                    "2016-02-29T00:00:00.000000000",
                    "2016-03-01T00:00:00.000000000",
                    "2016-03-02T00:00:00.000000000",
                    "2016-03-03T00:00:00.000000000",
                    "2016-03-04T00:00:00.000000000",
                    "2016-03-07T00:00:00.000000000",
                    "2016-03-08T00:00:00.000000000",
                    "2016-03-09T00:00:00.000000000",
                    "2016-03-10T00:00:00.000000000",
                    "2016-03-11T00:00:00.000000000",
                    "2016-03-14T00:00:00.000000000",
                    "2016-03-15T00:00:00.000000000",
                    "2016-03-16T00:00:00.000000000",
                    "2016-03-17T00:00:00.000000000",
                    "2016-03-18T00:00:00.000000000",
                    "2016-03-21T00:00:00.000000000",
                    "2016-03-22T00:00:00.000000000",
                    "2016-03-23T00:00:00.000000000",
                    "2016-03-24T00:00:00.000000000",
                    "2016-03-28T00:00:00.000000000",
                    "2016-03-29T00:00:00.000000000",
                    "2016-03-30T00:00:00.000000000",
                    "2016-03-31T00:00:00.000000000",
                    "2016-04-01T00:00:00.000000000",
                    "2016-04-04T00:00:00.000000000",
                    "2016-04-05T00:00:00.000000000",
                    "2016-04-06T00:00:00.000000000",
                    "2016-04-07T00:00:00.000000000",
                    "2016-04-08T00:00:00.000000000",
                    "2016-04-11T00:00:00.000000000",
                    "2016-04-12T00:00:00.000000000",
                    "2016-04-13T00:00:00.000000000",
                    "2016-04-14T00:00:00.000000000",
                    "2016-04-15T00:00:00.000000000",
                    "2016-04-18T00:00:00.000000000",
                    "2016-04-19T00:00:00.000000000",
                    "2016-04-20T00:00:00.000000000",
                    "2016-04-21T00:00:00.000000000",
                    "2016-04-22T00:00:00.000000000",
                    "2016-04-25T00:00:00.000000000",
                    "2016-04-26T00:00:00.000000000",
                    "2016-04-27T00:00:00.000000000",
                    "2016-04-28T00:00:00.000000000",
                    "2016-04-29T00:00:00.000000000",
                    "2016-05-02T00:00:00.000000000",
                    "2016-05-03T00:00:00.000000000",
                    "2016-05-04T00:00:00.000000000",
                    "2016-05-05T00:00:00.000000000",
                    "2016-05-06T00:00:00.000000000",
                    "2016-05-09T00:00:00.000000000",
                    "2016-05-10T00:00:00.000000000",
                    "2016-05-11T00:00:00.000000000",
                    "2016-05-12T00:00:00.000000000",
                    "2016-05-13T00:00:00.000000000",
                    "2016-05-16T00:00:00.000000000",
                    "2016-05-17T00:00:00.000000000",
                    "2016-05-18T00:00:00.000000000",
                    "2016-05-19T00:00:00.000000000",
                    "2016-05-20T00:00:00.000000000",
                    "2016-05-23T00:00:00.000000000",
                    "2016-05-24T00:00:00.000000000",
                    "2016-05-25T00:00:00.000000000",
                    "2016-05-26T00:00:00.000000000",
                    "2016-05-27T00:00:00.000000000",
                    "2016-05-31T00:00:00.000000000",
                    "2016-06-01T00:00:00.000000000",
                    "2016-06-02T00:00:00.000000000",
                    "2016-06-03T00:00:00.000000000",
                    "2016-06-06T00:00:00.000000000",
                    "2016-06-07T00:00:00.000000000",
                    "2016-06-08T00:00:00.000000000",
                    "2016-06-09T00:00:00.000000000",
                    "2016-06-10T00:00:00.000000000",
                    "2016-06-13T00:00:00.000000000",
                    "2016-06-14T00:00:00.000000000",
                    "2016-06-15T00:00:00.000000000",
                    "2016-06-16T00:00:00.000000000",
                    "2016-06-17T00:00:00.000000000",
                    "2016-06-20T00:00:00.000000000",
                    "2016-06-21T00:00:00.000000000",
                    "2016-06-22T00:00:00.000000000",
                    "2016-06-23T00:00:00.000000000",
                    "2016-06-24T00:00:00.000000000",
                    "2016-06-27T00:00:00.000000000",
                    "2016-06-28T00:00:00.000000000",
                    "2016-06-29T00:00:00.000000000",
                    "2016-06-30T00:00:00.000000000",
                    "2016-07-01T00:00:00.000000000",
                    "2016-07-05T00:00:00.000000000",
                    "2016-07-06T00:00:00.000000000",
                    "2016-07-07T00:00:00.000000000",
                    "2016-07-08T00:00:00.000000000",
                    "2016-07-11T00:00:00.000000000",
                    "2016-07-12T00:00:00.000000000",
                    "2016-07-13T00:00:00.000000000",
                    "2016-07-14T00:00:00.000000000",
                    "2016-07-15T00:00:00.000000000",
                    "2016-07-18T00:00:00.000000000",
                    "2016-07-19T00:00:00.000000000",
                    "2016-07-20T00:00:00.000000000",
                    "2016-07-21T00:00:00.000000000",
                    "2016-07-22T00:00:00.000000000",
                    "2016-07-25T00:00:00.000000000",
                    "2016-07-26T00:00:00.000000000",
                    "2016-07-27T00:00:00.000000000",
                    "2016-07-28T00:00:00.000000000",
                    "2016-07-29T00:00:00.000000000",
                    "2016-08-01T00:00:00.000000000",
                    "2016-08-02T00:00:00.000000000",
                    "2016-08-03T00:00:00.000000000",
                    "2016-08-04T00:00:00.000000000",
                    "2016-08-05T00:00:00.000000000",
                    "2016-08-08T00:00:00.000000000",
                    "2016-08-09T00:00:00.000000000",
                    "2016-08-10T00:00:00.000000000",
                    "2016-08-11T00:00:00.000000000",
                    "2016-08-12T00:00:00.000000000",
                    "2016-08-15T00:00:00.000000000",
                    "2016-08-16T00:00:00.000000000",
                    "2016-08-17T00:00:00.000000000",
                    "2016-08-18T00:00:00.000000000",
                    "2016-08-19T00:00:00.000000000",
                    "2016-08-22T00:00:00.000000000",
                    "2016-08-23T00:00:00.000000000",
                    "2016-08-24T00:00:00.000000000",
                    "2016-08-25T00:00:00.000000000",
                    "2016-08-26T00:00:00.000000000",
                    "2016-08-29T00:00:00.000000000",
                    "2016-08-30T00:00:00.000000000",
                    "2016-08-31T00:00:00.000000000",
                    "2016-09-01T00:00:00.000000000",
                    "2016-09-02T00:00:00.000000000",
                    "2016-09-06T00:00:00.000000000",
                    "2016-09-07T00:00:00.000000000",
                    "2016-09-08T00:00:00.000000000",
                    "2016-09-09T00:00:00.000000000",
                    "2016-09-12T00:00:00.000000000",
                    "2016-09-13T00:00:00.000000000",
                    "2016-09-14T00:00:00.000000000",
                    "2016-09-15T00:00:00.000000000",
                    "2016-09-16T00:00:00.000000000",
                    "2016-09-19T00:00:00.000000000",
                    "2016-09-20T00:00:00.000000000",
                    "2016-09-21T00:00:00.000000000",
                    "2016-09-22T00:00:00.000000000",
                    "2016-09-23T00:00:00.000000000",
                    "2016-09-26T00:00:00.000000000",
                    "2016-09-27T00:00:00.000000000",
                    "2016-09-28T00:00:00.000000000",
                    "2016-09-29T00:00:00.000000000",
                    "2016-09-30T00:00:00.000000000",
                    "2016-10-03T00:00:00.000000000",
                    "2016-10-04T00:00:00.000000000",
                    "2016-10-05T00:00:00.000000000",
                    "2016-10-06T00:00:00.000000000",
                    "2016-10-07T00:00:00.000000000",
                    "2016-10-10T00:00:00.000000000",
                    "2016-10-11T00:00:00.000000000",
                    "2016-10-12T00:00:00.000000000",
                    "2016-10-13T00:00:00.000000000",
                    "2016-10-14T00:00:00.000000000",
                    "2016-10-17T00:00:00.000000000",
                    "2016-10-18T00:00:00.000000000",
                    "2016-10-19T00:00:00.000000000",
                    "2016-10-20T00:00:00.000000000",
                    "2016-10-21T00:00:00.000000000",
                    "2016-10-24T00:00:00.000000000",
                    "2016-10-25T00:00:00.000000000",
                    "2016-10-26T00:00:00.000000000",
                    "2016-10-27T00:00:00.000000000",
                    "2016-10-28T00:00:00.000000000",
                    "2016-10-31T00:00:00.000000000",
                    "2016-11-01T00:00:00.000000000",
                    "2016-11-02T00:00:00.000000000",
                    "2016-11-03T00:00:00.000000000",
                    "2016-11-04T00:00:00.000000000",
                    "2016-11-07T00:00:00.000000000",
                    "2016-11-08T00:00:00.000000000",
                    "2016-11-09T00:00:00.000000000",
                    "2016-11-10T00:00:00.000000000",
                    "2016-11-11T00:00:00.000000000",
                    "2016-11-14T00:00:00.000000000",
                    "2016-11-15T00:00:00.000000000",
                    "2016-11-16T00:00:00.000000000",
                    "2016-11-17T00:00:00.000000000",
                    "2016-11-18T00:00:00.000000000",
                    "2016-11-21T00:00:00.000000000",
                    "2016-11-22T00:00:00.000000000",
                    "2016-11-23T00:00:00.000000000",
                    "2016-11-25T00:00:00.000000000",
                    "2016-11-28T00:00:00.000000000",
                    "2016-11-29T00:00:00.000000000",
                    "2016-11-30T00:00:00.000000000",
                    "2016-12-01T00:00:00.000000000",
                    "2016-12-02T00:00:00.000000000",
                    "2016-12-05T00:00:00.000000000",
                    "2016-12-06T00:00:00.000000000",
                    "2016-12-07T00:00:00.000000000",
                    "2016-12-08T00:00:00.000000000",
                    "2016-12-09T00:00:00.000000000",
                    "2016-12-12T00:00:00.000000000",
                    "2016-12-13T00:00:00.000000000",
                    "2016-12-14T00:00:00.000000000",
                    "2016-12-15T00:00:00.000000000",
                    "2016-12-16T00:00:00.000000000",
                    "2016-12-19T00:00:00.000000000",
                    "2016-12-20T00:00:00.000000000",
                    "2016-12-21T00:00:00.000000000",
                    "2016-12-22T00:00:00.000000000",
                    "2016-12-23T00:00:00.000000000",
                    "2016-12-27T00:00:00.000000000",
                    "2016-12-28T00:00:00.000000000",
                    "2016-12-29T00:00:00.000000000",
                    "2016-12-30T00:00:00.000000000",
                    "2017-01-03T00:00:00.000000000",
                    "2017-01-04T00:00:00.000000000",
                    "2017-01-05T00:00:00.000000000",
                    "2017-01-06T00:00:00.000000000",
                    "2017-01-09T00:00:00.000000000",
                    "2017-01-10T00:00:00.000000000",
                    "2017-01-11T00:00:00.000000000",
                    "2017-01-12T00:00:00.000000000",
                    "2017-01-13T00:00:00.000000000",
                    "2017-01-17T00:00:00.000000000",
                    "2017-01-18T00:00:00.000000000",
                    "2017-01-19T00:00:00.000000000",
                    "2017-01-20T00:00:00.000000000",
                    "2017-01-23T00:00:00.000000000",
                    "2017-01-24T00:00:00.000000000",
                    "2017-01-25T00:00:00.000000000",
                    "2017-01-26T00:00:00.000000000",
                    "2017-01-27T00:00:00.000000000",
                    "2017-01-30T00:00:00.000000000",
                    "2017-01-31T00:00:00.000000000",
                    "2017-02-01T00:00:00.000000000",
                    "2017-02-02T00:00:00.000000000",
                    "2017-02-03T00:00:00.000000000",
                    "2017-02-06T00:00:00.000000000",
                    "2017-02-07T00:00:00.000000000",
                    "2017-02-08T00:00:00.000000000",
                    "2017-02-09T00:00:00.000000000",
                    "2017-02-10T00:00:00.000000000",
                    "2017-02-13T00:00:00.000000000",
                    "2017-02-14T00:00:00.000000000",
                    "2017-02-15T00:00:00.000000000",
                    "2017-02-16T00:00:00.000000000",
                    "2017-02-17T00:00:00.000000000",
                    "2017-02-21T00:00:00.000000000",
                    "2017-02-22T00:00:00.000000000",
                    "2017-02-23T00:00:00.000000000",
                    "2017-02-24T00:00:00.000000000",
                    "2017-02-27T00:00:00.000000000",
                    "2017-02-28T00:00:00.000000000",
                    "2017-03-01T00:00:00.000000000",
                    "2017-03-02T00:00:00.000000000",
                    "2017-03-03T00:00:00.000000000",
                    "2017-03-06T00:00:00.000000000",
                    "2017-03-07T00:00:00.000000000",
                    "2017-03-08T00:00:00.000000000",
                    "2017-03-09T00:00:00.000000000",
                    "2017-03-10T00:00:00.000000000",
                    "2017-03-13T00:00:00.000000000",
                    "2017-03-14T00:00:00.000000000",
                    "2017-03-15T00:00:00.000000000",
                    "2017-03-16T00:00:00.000000000",
                    "2017-03-17T00:00:00.000000000",
                    "2017-03-20T00:00:00.000000000",
                    "2017-03-21T00:00:00.000000000",
                    "2017-03-22T00:00:00.000000000",
                    "2017-03-23T00:00:00.000000000",
                    "2017-03-24T00:00:00.000000000",
                    "2017-03-27T00:00:00.000000000",
                    "2017-03-28T00:00:00.000000000",
                    "2017-03-29T00:00:00.000000000",
                    "2017-03-30T00:00:00.000000000",
                    "2017-03-31T00:00:00.000000000",
                    "2017-04-03T00:00:00.000000000",
                    "2017-04-04T00:00:00.000000000",
                    "2017-04-05T00:00:00.000000000",
                    "2017-04-06T00:00:00.000000000",
                    "2017-04-07T00:00:00.000000000",
                    "2017-04-10T00:00:00.000000000",
                    "2017-04-11T00:00:00.000000000",
                    "2017-04-12T00:00:00.000000000",
                    "2017-04-13T00:00:00.000000000",
                    "2017-04-17T00:00:00.000000000",
                    "2017-04-18T00:00:00.000000000",
                    "2017-04-19T00:00:00.000000000",
                    "2017-04-20T00:00:00.000000000",
                    "2017-04-21T00:00:00.000000000",
                    "2017-04-24T00:00:00.000000000",
                    "2017-04-25T00:00:00.000000000",
                    "2017-04-26T00:00:00.000000000",
                    "2017-04-27T00:00:00.000000000",
                    "2017-04-28T00:00:00.000000000",
                    "2017-05-01T00:00:00.000000000",
                    "2017-05-02T00:00:00.000000000",
                    "2017-05-03T00:00:00.000000000",
                    "2017-05-04T00:00:00.000000000",
                    "2017-05-05T00:00:00.000000000",
                    "2017-05-08T00:00:00.000000000",
                    "2017-05-09T00:00:00.000000000",
                    "2017-05-10T00:00:00.000000000",
                    "2017-05-11T00:00:00.000000000",
                    "2017-05-12T00:00:00.000000000",
                    "2017-05-15T00:00:00.000000000",
                    "2017-05-16T00:00:00.000000000",
                    "2017-05-17T00:00:00.000000000",
                    "2017-05-18T00:00:00.000000000",
                    "2017-05-19T00:00:00.000000000",
                    "2017-05-22T00:00:00.000000000",
                    "2017-05-23T00:00:00.000000000",
                    "2017-05-24T00:00:00.000000000",
                    "2017-05-25T00:00:00.000000000",
                    "2017-05-26T00:00:00.000000000",
                    "2017-05-30T00:00:00.000000000",
                    "2017-05-31T00:00:00.000000000",
                    "2017-06-01T00:00:00.000000000",
                    "2017-06-02T00:00:00.000000000",
                    "2017-06-05T00:00:00.000000000",
                    "2017-06-06T00:00:00.000000000",
                    "2017-06-07T00:00:00.000000000",
                    "2017-06-08T00:00:00.000000000",
                    "2017-06-09T00:00:00.000000000",
                    "2017-06-12T00:00:00.000000000",
                    "2017-06-13T00:00:00.000000000",
                    "2017-06-14T00:00:00.000000000",
                    "2017-06-15T00:00:00.000000000",
                    "2017-06-16T00:00:00.000000000",
                    "2017-06-19T00:00:00.000000000",
                    "2017-06-20T00:00:00.000000000",
                    "2017-06-21T00:00:00.000000000",
                    "2017-06-22T00:00:00.000000000",
                    "2017-06-23T00:00:00.000000000",
                    "2017-06-26T00:00:00.000000000",
                    "2017-06-27T00:00:00.000000000",
                    "2017-06-28T00:00:00.000000000",
                    "2017-06-29T00:00:00.000000000",
                    "2017-06-30T00:00:00.000000000",
                    "2017-07-03T00:00:00.000000000",
                    "2017-07-05T00:00:00.000000000",
                    "2017-07-06T00:00:00.000000000",
                    "2017-07-07T00:00:00.000000000",
                    "2017-07-10T00:00:00.000000000",
                    "2017-07-11T00:00:00.000000000",
                    "2017-07-12T00:00:00.000000000",
                    "2017-07-13T00:00:00.000000000",
                    "2017-07-14T00:00:00.000000000",
                    "2017-07-17T00:00:00.000000000",
                    "2017-07-18T00:00:00.000000000",
                    "2017-07-19T00:00:00.000000000",
                    "2017-07-20T00:00:00.000000000",
                    "2017-07-21T00:00:00.000000000",
                    "2017-07-24T00:00:00.000000000",
                    "2017-07-25T00:00:00.000000000",
                    "2017-07-26T00:00:00.000000000",
                    "2017-07-27T00:00:00.000000000",
                    "2017-07-28T00:00:00.000000000",
                    "2017-07-31T00:00:00.000000000",
                    "2017-08-01T00:00:00.000000000",
                    "2017-08-02T00:00:00.000000000",
                    "2017-08-03T00:00:00.000000000",
                    "2017-08-04T00:00:00.000000000",
                    "2017-08-07T00:00:00.000000000",
                    "2017-08-08T00:00:00.000000000",
                    "2017-08-09T00:00:00.000000000",
                    "2017-08-10T00:00:00.000000000",
                    "2017-08-11T00:00:00.000000000",
                    "2017-08-14T00:00:00.000000000",
                    "2017-08-15T00:00:00.000000000",
                    "2017-08-16T00:00:00.000000000",
                    "2017-08-17T00:00:00.000000000",
                    "2017-08-18T00:00:00.000000000",
                    "2017-08-21T00:00:00.000000000",
                    "2017-08-22T00:00:00.000000000",
                    "2017-08-23T00:00:00.000000000",
                    "2017-08-24T00:00:00.000000000",
                    "2017-08-25T00:00:00.000000000",
                    "2017-08-28T00:00:00.000000000",
                    "2017-08-29T00:00:00.000000000",
                    "2017-08-30T00:00:00.000000000",
                    "2017-08-31T00:00:00.000000000",
                    "2017-09-01T00:00:00.000000000",
                    "2017-09-05T00:00:00.000000000",
                    "2017-09-06T00:00:00.000000000",
                    "2017-09-07T00:00:00.000000000",
                    "2017-09-08T00:00:00.000000000",
                    "2017-09-11T00:00:00.000000000",
                    "2017-09-12T00:00:00.000000000",
                    "2017-09-13T00:00:00.000000000",
                    "2017-09-14T00:00:00.000000000",
                    "2017-09-15T00:00:00.000000000",
                    "2017-09-18T00:00:00.000000000",
                    "2017-09-19T00:00:00.000000000",
                    "2017-09-20T00:00:00.000000000",
                    "2017-09-21T00:00:00.000000000",
                    "2017-09-22T00:00:00.000000000",
                    "2017-09-25T00:00:00.000000000",
                    "2017-09-26T00:00:00.000000000",
                    "2017-09-27T00:00:00.000000000",
                    "2017-09-28T00:00:00.000000000",
                    "2017-09-29T00:00:00.000000000",
                    "2017-10-02T00:00:00.000000000",
                    "2017-10-03T00:00:00.000000000",
                    "2017-10-04T00:00:00.000000000",
                    "2017-10-05T00:00:00.000000000",
                    "2017-10-06T00:00:00.000000000",
                    "2017-10-09T00:00:00.000000000",
                    "2017-10-10T00:00:00.000000000",
                    "2017-10-11T00:00:00.000000000",
                    "2017-10-12T00:00:00.000000000",
                    "2017-10-13T00:00:00.000000000",
                    "2017-10-16T00:00:00.000000000",
                    "2017-10-17T00:00:00.000000000",
                    "2017-10-18T00:00:00.000000000",
                    "2017-10-19T00:00:00.000000000",
                    "2017-10-20T00:00:00.000000000",
                    "2017-10-23T00:00:00.000000000",
                    "2017-10-24T00:00:00.000000000",
                    "2017-10-25T00:00:00.000000000",
                    "2017-10-26T00:00:00.000000000",
                    "2017-10-27T00:00:00.000000000",
                    "2017-10-30T00:00:00.000000000",
                    "2017-10-31T00:00:00.000000000",
                    "2017-11-01T00:00:00.000000000",
                    "2017-11-02T00:00:00.000000000",
                    "2017-11-03T00:00:00.000000000",
                    "2017-11-06T00:00:00.000000000",
                    "2017-11-07T00:00:00.000000000",
                    "2017-11-08T00:00:00.000000000",
                    "2017-11-09T00:00:00.000000000",
                    "2017-11-10T00:00:00.000000000",
                    "2017-11-13T00:00:00.000000000",
                    "2017-11-14T00:00:00.000000000",
                    "2017-11-15T00:00:00.000000000",
                    "2017-11-16T00:00:00.000000000",
                    "2017-11-17T00:00:00.000000000",
                    "2017-11-20T00:00:00.000000000",
                    "2017-11-21T00:00:00.000000000",
                    "2017-11-22T00:00:00.000000000",
                    "2017-11-24T00:00:00.000000000",
                    "2017-11-27T00:00:00.000000000",
                    "2017-11-28T00:00:00.000000000",
                    "2017-11-29T00:00:00.000000000",
                    "2017-11-30T00:00:00.000000000",
                    "2017-12-01T00:00:00.000000000",
                    "2017-12-04T00:00:00.000000000",
                    "2017-12-05T00:00:00.000000000",
                    "2017-12-06T00:00:00.000000000",
                    "2017-12-07T00:00:00.000000000",
                    "2017-12-08T00:00:00.000000000",
                    "2017-12-11T00:00:00.000000000",
                    "2017-12-12T00:00:00.000000000",
                    "2017-12-13T00:00:00.000000000",
                    "2017-12-14T00:00:00.000000000",
                    "2017-12-15T00:00:00.000000000",
                    "2017-12-18T00:00:00.000000000",
                    "2017-12-19T00:00:00.000000000",
                    "2017-12-20T00:00:00.000000000",
                    "2017-12-21T00:00:00.000000000",
                    "2017-12-22T00:00:00.000000000",
                    "2017-12-26T00:00:00.000000000",
                    "2017-12-27T00:00:00.000000000",
                    "2017-12-28T00:00:00.000000000",
                    "2017-12-29T00:00:00.000000000",
                    "2018-01-02T00:00:00.000000000",
                    "2018-01-03T00:00:00.000000000",
                    "2018-01-04T00:00:00.000000000",
                    "2018-01-05T00:00:00.000000000",
                    "2018-01-08T00:00:00.000000000",
                    "2018-01-09T00:00:00.000000000",
                    "2018-01-10T00:00:00.000000000",
                    "2018-01-11T00:00:00.000000000",
                    "2018-01-12T00:00:00.000000000",
                    "2018-01-16T00:00:00.000000000",
                    "2018-01-17T00:00:00.000000000",
                    "2018-01-18T00:00:00.000000000",
                    "2018-01-19T00:00:00.000000000",
                    "2018-01-22T00:00:00.000000000",
                    "2018-01-23T00:00:00.000000000",
                    "2018-01-24T00:00:00.000000000",
                    "2018-01-25T00:00:00.000000000",
                    "2018-01-26T00:00:00.000000000",
                    "2018-01-29T00:00:00.000000000",
                    "2018-01-30T00:00:00.000000000",
                    "2018-01-31T00:00:00.000000000",
                    "2018-02-01T00:00:00.000000000",
                    "2018-02-02T00:00:00.000000000",
                    "2018-02-05T00:00:00.000000000",
                    "2018-02-06T00:00:00.000000000",
                    "2018-02-07T00:00:00.000000000",
                    "2018-02-08T00:00:00.000000000",
                    "2018-02-09T00:00:00.000000000",
                    "2018-02-12T00:00:00.000000000",
                    "2018-02-13T00:00:00.000000000",
                    "2018-02-14T00:00:00.000000000",
                    "2018-02-15T00:00:00.000000000",
                    "2018-02-16T00:00:00.000000000",
                    "2018-02-20T00:00:00.000000000",
                    "2018-02-21T00:00:00.000000000",
                    "2018-02-22T00:00:00.000000000",
                    "2018-02-23T00:00:00.000000000",
                    "2018-02-26T00:00:00.000000000",
                    "2018-02-27T00:00:00.000000000",
                    "2018-02-28T00:00:00.000000000",
                    "2018-03-01T00:00:00.000000000",
                    "2018-03-02T00:00:00.000000000",
                    "2018-03-05T00:00:00.000000000",
                    "2018-03-06T00:00:00.000000000",
                    "2018-03-07T00:00:00.000000000",
                    "2018-03-08T00:00:00.000000000",
                    "2018-03-09T00:00:00.000000000",
                    "2018-03-12T00:00:00.000000000",
                    "2018-03-13T00:00:00.000000000",
                    "2018-03-14T00:00:00.000000000",
                    "2018-03-15T00:00:00.000000000",
                    "2018-03-16T00:00:00.000000000",
                    "2018-03-19T00:00:00.000000000",
                    "2018-03-20T00:00:00.000000000",
                    "2018-03-21T00:00:00.000000000",
                    "2018-03-22T00:00:00.000000000",
                    "2018-03-23T00:00:00.000000000",
                    "2018-03-26T00:00:00.000000000",
                    "2018-03-27T00:00:00.000000000",
                    "2018-03-28T00:00:00.000000000",
                    "2018-03-29T00:00:00.000000000",
                    "2018-04-02T00:00:00.000000000",
                    "2018-04-03T00:00:00.000000000",
                    "2018-04-04T00:00:00.000000000",
                    "2018-04-05T00:00:00.000000000",
                    "2018-04-06T00:00:00.000000000",
                    "2018-04-09T00:00:00.000000000",
                    "2018-04-10T00:00:00.000000000",
                    "2018-04-11T00:00:00.000000000",
                    "2018-04-12T00:00:00.000000000",
                    "2018-04-13T00:00:00.000000000",
                    "2018-04-16T00:00:00.000000000",
                    "2018-04-17T00:00:00.000000000",
                    "2018-04-18T00:00:00.000000000",
                    "2018-04-19T00:00:00.000000000",
                    "2018-04-20T00:00:00.000000000",
                    "2018-04-23T00:00:00.000000000",
                    "2018-04-24T00:00:00.000000000",
                    "2018-04-25T00:00:00.000000000",
                    "2018-04-26T00:00:00.000000000",
                    "2018-04-27T00:00:00.000000000",
                    "2018-04-30T00:00:00.000000000",
                    "2018-05-01T00:00:00.000000000",
                    "2018-05-02T00:00:00.000000000",
                    "2018-05-03T00:00:00.000000000",
                    "2018-05-04T00:00:00.000000000",
                    "2018-05-07T00:00:00.000000000",
                    "2018-05-08T00:00:00.000000000",
                    "2018-05-09T00:00:00.000000000",
                    "2018-05-10T00:00:00.000000000",
                    "2018-05-11T00:00:00.000000000",
                    "2018-05-14T00:00:00.000000000",
                    "2018-05-15T00:00:00.000000000",
                    "2018-05-16T00:00:00.000000000",
                    "2018-05-17T00:00:00.000000000",
                    "2018-05-18T00:00:00.000000000",
                    "2018-05-21T00:00:00.000000000",
                    "2018-05-22T00:00:00.000000000",
                    "2018-05-23T00:00:00.000000000",
                    "2018-05-24T00:00:00.000000000",
                    "2018-05-25T00:00:00.000000000",
                    "2018-05-29T00:00:00.000000000",
                    "2018-05-30T00:00:00.000000000",
                    "2018-05-31T00:00:00.000000000",
                    "2018-06-01T00:00:00.000000000",
                    "2018-06-04T00:00:00.000000000",
                    "2018-06-05T00:00:00.000000000",
                    "2018-06-06T00:00:00.000000000",
                    "2018-06-07T00:00:00.000000000",
                    "2018-06-08T00:00:00.000000000",
                    "2018-06-11T00:00:00.000000000",
                    "2018-06-12T00:00:00.000000000",
                    "2018-06-13T00:00:00.000000000",
                    "2018-06-14T00:00:00.000000000",
                    "2018-06-15T00:00:00.000000000",
                    "2018-06-18T00:00:00.000000000",
                    "2018-06-19T00:00:00.000000000",
                    "2018-06-20T00:00:00.000000000",
                    "2018-06-21T00:00:00.000000000",
                    "2018-06-22T00:00:00.000000000",
                    "2018-06-25T00:00:00.000000000",
                    "2018-06-26T00:00:00.000000000",
                    "2018-06-27T00:00:00.000000000",
                    "2018-06-28T00:00:00.000000000",
                    "2018-06-29T00:00:00.000000000",
                    "2018-07-02T00:00:00.000000000",
                    "2018-07-03T00:00:00.000000000",
                    "2018-07-05T00:00:00.000000000",
                    "2018-07-06T00:00:00.000000000",
                    "2018-07-09T00:00:00.000000000",
                    "2018-07-10T00:00:00.000000000",
                    "2018-07-11T00:00:00.000000000",
                    "2018-07-12T00:00:00.000000000",
                    "2018-07-13T00:00:00.000000000",
                    "2018-07-16T00:00:00.000000000",
                    "2018-07-17T00:00:00.000000000",
                    "2018-07-18T00:00:00.000000000",
                    "2018-07-19T00:00:00.000000000",
                    "2018-07-20T00:00:00.000000000",
                    "2018-07-23T00:00:00.000000000",
                    "2018-07-24T00:00:00.000000000",
                    "2018-07-25T00:00:00.000000000",
                    "2018-07-26T00:00:00.000000000",
                    "2018-07-27T00:00:00.000000000",
                    "2018-07-30T00:00:00.000000000",
                    "2018-07-31T00:00:00.000000000",
                    "2018-08-01T00:00:00.000000000",
                    "2018-08-02T00:00:00.000000000",
                    "2018-08-03T00:00:00.000000000",
                    "2018-08-06T00:00:00.000000000",
                    "2018-08-07T00:00:00.000000000",
                    "2018-08-08T00:00:00.000000000",
                    "2018-08-09T00:00:00.000000000",
                    "2018-08-10T00:00:00.000000000",
                    "2018-08-13T00:00:00.000000000",
                    "2018-08-14T00:00:00.000000000",
                    "2018-08-15T00:00:00.000000000",
                    "2018-08-16T00:00:00.000000000",
                    "2018-08-17T00:00:00.000000000",
                    "2018-08-20T00:00:00.000000000",
                    "2018-08-21T00:00:00.000000000",
                    "2018-08-22T00:00:00.000000000",
                    "2018-08-23T00:00:00.000000000",
                    "2018-08-24T00:00:00.000000000",
                    "2018-08-27T00:00:00.000000000",
                    "2018-08-28T00:00:00.000000000",
                    "2018-08-29T00:00:00.000000000",
                    "2018-08-30T00:00:00.000000000",
                    "2018-08-31T00:00:00.000000000",
                    "2018-09-04T00:00:00.000000000",
                    "2018-09-05T00:00:00.000000000",
                    "2018-09-06T00:00:00.000000000",
                    "2018-09-07T00:00:00.000000000",
                    "2018-09-10T00:00:00.000000000",
                    "2018-09-11T00:00:00.000000000",
                    "2018-09-12T00:00:00.000000000",
                    "2018-09-13T00:00:00.000000000",
                    "2018-09-14T00:00:00.000000000",
                    "2018-09-17T00:00:00.000000000",
                    "2018-09-18T00:00:00.000000000",
                    "2018-09-19T00:00:00.000000000",
                    "2018-09-20T00:00:00.000000000",
                    "2018-09-21T00:00:00.000000000",
                    "2018-09-24T00:00:00.000000000",
                    "2018-09-25T00:00:00.000000000",
                    "2018-09-26T00:00:00.000000000",
                    "2018-09-27T00:00:00.000000000",
                    "2018-09-28T00:00:00.000000000",
                    "2018-10-01T00:00:00.000000000",
                    "2018-10-02T00:00:00.000000000",
                    "2018-10-03T00:00:00.000000000",
                    "2018-10-04T00:00:00.000000000",
                    "2018-10-05T00:00:00.000000000",
                    "2018-10-08T00:00:00.000000000",
                    "2018-10-09T00:00:00.000000000",
                    "2018-10-10T00:00:00.000000000",
                    "2018-10-11T00:00:00.000000000",
                    "2018-10-12T00:00:00.000000000",
                    "2018-10-15T00:00:00.000000000",
                    "2018-10-16T00:00:00.000000000",
                    "2018-10-17T00:00:00.000000000",
                    "2018-10-18T00:00:00.000000000",
                    "2018-10-19T00:00:00.000000000",
                    "2018-10-22T00:00:00.000000000",
                    "2018-10-23T00:00:00.000000000",
                    "2018-10-24T00:00:00.000000000",
                    "2018-10-25T00:00:00.000000000",
                    "2018-10-26T00:00:00.000000000",
                    "2018-10-29T00:00:00.000000000",
                    "2018-10-30T00:00:00.000000000",
                    "2018-10-31T00:00:00.000000000",
                    "2018-11-01T00:00:00.000000000",
                    "2018-11-02T00:00:00.000000000",
                    "2018-11-05T00:00:00.000000000",
                    "2018-11-06T00:00:00.000000000",
                    "2018-11-07T00:00:00.000000000",
                    "2018-11-08T00:00:00.000000000",
                    "2018-11-09T00:00:00.000000000",
                    "2018-11-12T00:00:00.000000000",
                    "2018-11-13T00:00:00.000000000",
                    "2018-11-14T00:00:00.000000000",
                    "2018-11-15T00:00:00.000000000",
                    "2018-11-16T00:00:00.000000000",
                    "2018-11-19T00:00:00.000000000",
                    "2018-11-20T00:00:00.000000000",
                    "2018-11-21T00:00:00.000000000",
                    "2018-11-23T00:00:00.000000000",
                    "2018-11-26T00:00:00.000000000",
                    "2018-11-27T00:00:00.000000000",
                    "2018-11-28T00:00:00.000000000",
                    "2018-11-29T00:00:00.000000000",
                    "2018-11-30T00:00:00.000000000",
                    "2018-12-03T00:00:00.000000000",
                    "2018-12-04T00:00:00.000000000",
                    "2018-12-06T00:00:00.000000000",
                    "2018-12-07T00:00:00.000000000",
                    "2018-12-10T00:00:00.000000000",
                    "2018-12-11T00:00:00.000000000",
                    "2018-12-12T00:00:00.000000000",
                    "2018-12-13T00:00:00.000000000",
                    "2018-12-14T00:00:00.000000000",
                    "2018-12-17T00:00:00.000000000",
                    "2018-12-18T00:00:00.000000000",
                    "2018-12-19T00:00:00.000000000",
                    "2018-12-20T00:00:00.000000000",
                    "2018-12-21T00:00:00.000000000",
                    "2018-12-24T00:00:00.000000000",
                    "2018-12-26T00:00:00.000000000",
                    "2018-12-27T00:00:00.000000000",
                    "2018-12-28T00:00:00.000000000",
                    "2018-12-31T00:00:00.000000000",
                    "2019-01-02T00:00:00.000000000",
                    "2019-01-03T00:00:00.000000000",
                    "2019-01-04T00:00:00.000000000",
                    "2019-01-07T00:00:00.000000000",
                    "2019-01-08T00:00:00.000000000",
                    "2019-01-09T00:00:00.000000000",
                    "2019-01-10T00:00:00.000000000",
                    "2019-01-11T00:00:00.000000000",
                    "2019-01-14T00:00:00.000000000",
                    "2019-01-15T00:00:00.000000000",
                    "2019-01-16T00:00:00.000000000",
                    "2019-01-17T00:00:00.000000000",
                    "2019-01-18T00:00:00.000000000",
                    "2019-01-22T00:00:00.000000000",
                    "2019-01-23T00:00:00.000000000",
                    "2019-01-24T00:00:00.000000000",
                    "2019-01-25T00:00:00.000000000",
                    "2019-01-28T00:00:00.000000000",
                    "2019-01-29T00:00:00.000000000",
                    "2019-01-30T00:00:00.000000000",
                    "2019-01-31T00:00:00.000000000",
                    "2019-02-01T00:00:00.000000000",
                    "2019-02-04T00:00:00.000000000",
                    "2019-02-05T00:00:00.000000000",
                    "2019-02-06T00:00:00.000000000",
                    "2019-02-07T00:00:00.000000000",
                    "2019-02-08T00:00:00.000000000",
                    "2019-02-11T00:00:00.000000000",
                    "2019-02-12T00:00:00.000000000",
                    "2019-02-13T00:00:00.000000000",
                    "2019-02-14T00:00:00.000000000",
                    "2019-02-15T00:00:00.000000000",
                    "2019-02-19T00:00:00.000000000",
                    "2019-02-20T00:00:00.000000000",
                    "2019-02-21T00:00:00.000000000",
                    "2019-02-22T00:00:00.000000000",
                    "2019-02-25T00:00:00.000000000",
                    "2019-02-26T00:00:00.000000000",
                    "2019-02-27T00:00:00.000000000",
                    "2019-02-28T00:00:00.000000000",
                    "2019-03-01T00:00:00.000000000",
                    "2019-03-04T00:00:00.000000000",
                    "2019-03-05T00:00:00.000000000",
                    "2019-03-06T00:00:00.000000000",
                    "2019-03-07T00:00:00.000000000",
                    "2019-03-08T00:00:00.000000000",
                    "2019-03-11T00:00:00.000000000",
                    "2019-03-12T00:00:00.000000000",
                    "2019-03-13T00:00:00.000000000",
                    "2019-03-14T00:00:00.000000000",
                    "2019-03-15T00:00:00.000000000",
                    "2019-03-18T00:00:00.000000000",
                    "2019-03-19T00:00:00.000000000",
                    "2019-03-20T00:00:00.000000000",
                    "2019-03-21T00:00:00.000000000",
                    "2019-03-22T00:00:00.000000000",
                    "2019-03-25T00:00:00.000000000",
                    "2019-03-26T00:00:00.000000000",
                    "2019-03-27T00:00:00.000000000",
                    "2019-03-28T00:00:00.000000000",
                    "2019-03-29T00:00:00.000000000",
                    "2019-04-01T00:00:00.000000000",
                    "2019-04-02T00:00:00.000000000",
                    "2019-04-03T00:00:00.000000000",
                    "2019-04-04T00:00:00.000000000",
                    "2019-04-05T00:00:00.000000000",
                    "2019-04-08T00:00:00.000000000",
                    "2019-04-09T00:00:00.000000000",
                    "2019-04-10T00:00:00.000000000",
                    "2019-04-11T00:00:00.000000000",
                    "2019-04-12T00:00:00.000000000",
                    "2019-04-15T00:00:00.000000000",
                    "2019-04-16T00:00:00.000000000",
                    "2019-04-17T00:00:00.000000000",
                    "2019-04-18T00:00:00.000000000",
                    "2019-04-22T00:00:00.000000000",
                    "2019-04-23T00:00:00.000000000",
                    "2019-04-24T00:00:00.000000000",
                    "2019-04-25T00:00:00.000000000",
                    "2019-04-26T00:00:00.000000000",
                    "2019-04-29T00:00:00.000000000",
                    "2019-04-30T00:00:00.000000000",
                    "2019-05-01T00:00:00.000000000",
                    "2019-05-02T00:00:00.000000000",
                    "2019-05-03T00:00:00.000000000",
                    "2019-05-06T00:00:00.000000000",
                    "2019-05-07T00:00:00.000000000",
                    "2019-05-08T00:00:00.000000000",
                    "2019-05-09T00:00:00.000000000",
                    "2019-05-10T00:00:00.000000000",
                    "2019-05-13T00:00:00.000000000",
                    "2019-05-14T00:00:00.000000000",
                    "2019-05-15T00:00:00.000000000",
                    "2019-05-16T00:00:00.000000000",
                    "2019-05-17T00:00:00.000000000",
                    "2019-05-20T00:00:00.000000000",
                    "2019-05-21T00:00:00.000000000",
                    "2019-05-22T00:00:00.000000000",
                    "2019-05-23T00:00:00.000000000",
                    "2019-05-24T00:00:00.000000000",
                    "2019-05-28T00:00:00.000000000",
                    "2019-05-29T00:00:00.000000000",
                    "2019-05-30T00:00:00.000000000",
                    "2019-05-31T00:00:00.000000000",
                    "2019-06-03T00:00:00.000000000",
                    "2019-06-04T00:00:00.000000000",
                    "2019-06-05T00:00:00.000000000",
                    "2019-06-06T00:00:00.000000000",
                    "2019-06-07T00:00:00.000000000",
                    "2019-06-10T00:00:00.000000000",
                    "2019-06-11T00:00:00.000000000",
                    "2019-06-12T00:00:00.000000000",
                    "2019-06-13T00:00:00.000000000",
                    "2019-06-14T00:00:00.000000000",
                    "2019-06-17T00:00:00.000000000",
                    "2019-06-18T00:00:00.000000000",
                    "2019-06-19T00:00:00.000000000",
                    "2019-06-20T00:00:00.000000000",
                    "2019-06-21T00:00:00.000000000",
                    "2019-06-24T00:00:00.000000000",
                    "2019-06-25T00:00:00.000000000",
                    "2019-06-26T00:00:00.000000000",
                    "2019-06-27T00:00:00.000000000",
                    "2019-06-28T00:00:00.000000000",
                    "2019-07-01T00:00:00.000000000",
                    "2019-07-02T00:00:00.000000000",
                    "2019-07-03T00:00:00.000000000",
                    "2019-07-05T00:00:00.000000000",
                    "2019-07-08T00:00:00.000000000",
                    "2019-07-09T00:00:00.000000000",
                    "2019-07-10T00:00:00.000000000",
                    "2019-07-11T00:00:00.000000000",
                    "2019-07-12T00:00:00.000000000",
                    "2019-07-15T00:00:00.000000000",
                    "2019-07-16T00:00:00.000000000",
                    "2019-07-17T00:00:00.000000000",
                    "2019-07-18T00:00:00.000000000",
                    "2019-07-19T00:00:00.000000000",
                    "2019-07-22T00:00:00.000000000",
                    "2019-07-23T00:00:00.000000000",
                    "2019-07-24T00:00:00.000000000",
                    "2019-07-25T00:00:00.000000000",
                    "2019-07-26T00:00:00.000000000",
                    "2019-07-29T00:00:00.000000000",
                    "2019-07-30T00:00:00.000000000",
                    "2019-07-31T00:00:00.000000000",
                    "2019-08-01T00:00:00.000000000",
                    "2019-08-02T00:00:00.000000000",
                    "2019-08-05T00:00:00.000000000",
                    "2019-08-06T00:00:00.000000000",
                    "2019-08-07T00:00:00.000000000",
                    "2019-08-08T00:00:00.000000000",
                    "2019-08-09T00:00:00.000000000",
                    "2019-08-12T00:00:00.000000000",
                    "2019-08-13T00:00:00.000000000",
                    "2019-08-14T00:00:00.000000000",
                    "2019-08-15T00:00:00.000000000",
                    "2019-08-16T00:00:00.000000000",
                    "2019-08-19T00:00:00.000000000",
                    "2019-08-20T00:00:00.000000000",
                    "2019-08-21T00:00:00.000000000",
                    "2019-08-22T00:00:00.000000000",
                    "2019-08-23T00:00:00.000000000",
                    "2019-08-26T00:00:00.000000000",
                    "2019-08-27T00:00:00.000000000",
                    "2019-08-28T00:00:00.000000000",
                    "2019-08-29T00:00:00.000000000",
                    "2019-08-30T00:00:00.000000000",
                    "2019-09-03T00:00:00.000000000",
                    "2019-09-04T00:00:00.000000000",
                    "2019-09-05T00:00:00.000000000",
                    "2019-09-06T00:00:00.000000000",
                    "2019-09-09T00:00:00.000000000",
                    "2019-09-10T00:00:00.000000000",
                    "2019-09-11T00:00:00.000000000",
                    "2019-09-12T00:00:00.000000000",
                    "2019-09-13T00:00:00.000000000",
                    "2019-09-16T00:00:00.000000000",
                    "2019-09-17T00:00:00.000000000",
                    "2019-09-18T00:00:00.000000000",
                    "2019-09-19T00:00:00.000000000",
                    "2019-09-20T00:00:00.000000000",
                    "2019-09-23T00:00:00.000000000",
                    "2019-09-24T00:00:00.000000000",
                    "2019-09-25T00:00:00.000000000",
                    "2019-09-26T00:00:00.000000000",
                    "2019-09-27T00:00:00.000000000",
                    "2019-09-30T00:00:00.000000000",
                    "2019-10-01T00:00:00.000000000",
                    "2019-10-02T00:00:00.000000000",
                    "2019-10-03T00:00:00.000000000",
                    "2019-10-04T00:00:00.000000000",
                    "2019-10-07T00:00:00.000000000",
                    "2019-10-08T00:00:00.000000000",
                    "2019-10-09T00:00:00.000000000",
                    "2019-10-10T00:00:00.000000000",
                    "2019-10-11T00:00:00.000000000",
                    "2019-10-14T00:00:00.000000000",
                    "2019-10-15T00:00:00.000000000",
                    "2019-10-16T00:00:00.000000000",
                    "2019-10-17T00:00:00.000000000",
                    "2019-10-18T00:00:00.000000000",
                    "2019-10-21T00:00:00.000000000",
                    "2019-10-22T00:00:00.000000000",
                    "2019-10-23T00:00:00.000000000",
                    "2019-10-24T00:00:00.000000000",
                    "2019-10-25T00:00:00.000000000",
                    "2019-10-28T00:00:00.000000000",
                    "2019-10-29T00:00:00.000000000",
                    "2019-10-30T00:00:00.000000000",
                    "2019-10-31T00:00:00.000000000",
                    "2019-11-01T00:00:00.000000000",
                    "2019-11-04T00:00:00.000000000",
                    "2019-11-05T00:00:00.000000000",
                    "2019-11-06T00:00:00.000000000",
                    "2019-11-07T00:00:00.000000000",
                    "2019-11-08T00:00:00.000000000",
                    "2019-11-11T00:00:00.000000000",
                    "2019-11-12T00:00:00.000000000",
                    "2019-11-13T00:00:00.000000000",
                    "2019-11-14T00:00:00.000000000",
                    "2019-11-15T00:00:00.000000000",
                    "2019-11-18T00:00:00.000000000",
                    "2019-11-19T00:00:00.000000000",
                    "2019-11-20T00:00:00.000000000",
                    "2019-11-21T00:00:00.000000000",
                    "2019-11-22T00:00:00.000000000",
                    "2019-11-25T00:00:00.000000000",
                    "2019-11-26T00:00:00.000000000",
                    "2019-11-27T00:00:00.000000000",
                    "2019-11-29T00:00:00.000000000",
                    "2019-12-02T00:00:00.000000000",
                    "2019-12-03T00:00:00.000000000",
                    "2019-12-04T00:00:00.000000000",
                    "2019-12-05T00:00:00.000000000",
                    "2019-12-06T00:00:00.000000000",
                    "2019-12-09T00:00:00.000000000",
                    "2019-12-10T00:00:00.000000000",
                    "2019-12-11T00:00:00.000000000",
                    "2019-12-12T00:00:00.000000000",
                    "2019-12-13T00:00:00.000000000",
                    "2019-12-16T00:00:00.000000000",
                    "2019-12-17T00:00:00.000000000",
                    "2019-12-18T00:00:00.000000000",
                    "2019-12-19T00:00:00.000000000",
                    "2019-12-20T00:00:00.000000000",
                    "2019-12-23T00:00:00.000000000",
                    "2019-12-24T00:00:00.000000000",
                    "2019-12-26T00:00:00.000000000",
                    "2019-12-27T00:00:00.000000000",
                    "2019-12-30T00:00:00.000000000",
                    "2019-12-31T00:00:00.000000000",
                    "2020-01-02T00:00:00.000000000",
                    "2020-01-03T00:00:00.000000000",
                    "2020-01-06T00:00:00.000000000",
                    "2020-01-07T00:00:00.000000000",
                    "2020-01-08T00:00:00.000000000",
                    "2020-01-09T00:00:00.000000000",
                    "2020-01-10T00:00:00.000000000",
                    "2020-01-13T00:00:00.000000000",
                    "2020-01-14T00:00:00.000000000",
                    "2020-01-15T00:00:00.000000000",
                    "2020-01-16T00:00:00.000000000",
                    "2020-01-17T00:00:00.000000000",
                    "2020-01-21T00:00:00.000000000",
                    "2020-01-22T00:00:00.000000000",
                    "2020-01-23T00:00:00.000000000",
                    "2020-01-24T00:00:00.000000000",
                    "2020-01-27T00:00:00.000000000",
                    "2020-01-28T00:00:00.000000000",
                    "2020-01-29T00:00:00.000000000",
                    "2020-01-30T00:00:00.000000000",
                    "2020-01-31T00:00:00.000000000",
                    "2020-02-03T00:00:00.000000000",
                    "2020-02-04T00:00:00.000000000",
                    "2020-02-05T00:00:00.000000000",
                    "2020-02-06T00:00:00.000000000",
                    "2020-02-07T00:00:00.000000000",
                    "2020-02-10T00:00:00.000000000",
                    "2020-02-11T00:00:00.000000000",
                    "2020-02-12T00:00:00.000000000",
                    "2020-02-13T00:00:00.000000000",
                    "2020-02-14T00:00:00.000000000",
                    "2020-02-18T00:00:00.000000000",
                    "2020-02-19T00:00:00.000000000",
                    "2020-02-20T00:00:00.000000000",
                    "2020-02-21T00:00:00.000000000",
                    "2020-02-24T00:00:00.000000000",
                    "2020-02-25T00:00:00.000000000",
                    "2020-02-26T00:00:00.000000000",
                    "2020-02-27T00:00:00.000000000",
                    "2020-02-28T00:00:00.000000000",
                    "2020-03-02T00:00:00.000000000",
                    "2020-03-03T00:00:00.000000000",
                    "2020-03-04T00:00:00.000000000",
                    "2020-03-05T00:00:00.000000000",
                    "2020-03-06T00:00:00.000000000",
                    "2020-03-09T00:00:00.000000000",
                    "2020-03-10T00:00:00.000000000",
                    "2020-03-11T00:00:00.000000000",
                    "2020-03-12T00:00:00.000000000",
                    "2020-03-13T00:00:00.000000000",
                    "2020-03-16T00:00:00.000000000",
                    "2020-03-17T00:00:00.000000000",
                    "2020-03-18T00:00:00.000000000",
                    "2020-03-19T00:00:00.000000000",
                    "2020-03-20T00:00:00.000000000",
                    "2020-03-23T00:00:00.000000000",
                    "2020-03-24T00:00:00.000000000",
                    "2020-03-25T00:00:00.000000000",
                    "2020-03-26T00:00:00.000000000",
                    "2020-03-27T00:00:00.000000000",
                    "2020-03-30T00:00:00.000000000",
                    "2020-03-31T00:00:00.000000000",
                    "2020-04-01T00:00:00.000000000",
                    "2020-04-02T00:00:00.000000000",
                    "2020-04-03T00:00:00.000000000",
                    "2020-04-06T00:00:00.000000000",
                    "2020-04-07T00:00:00.000000000",
                    "2020-04-08T00:00:00.000000000",
                    "2020-04-09T00:00:00.000000000",
                    "2020-04-13T00:00:00.000000000",
                    "2020-04-14T00:00:00.000000000",
                    "2020-04-15T00:00:00.000000000",
                    "2020-04-16T00:00:00.000000000",
                    "2020-04-17T00:00:00.000000000",
                    "2020-04-20T00:00:00.000000000",
                    "2020-04-21T00:00:00.000000000",
                    "2020-04-22T00:00:00.000000000",
                    "2020-04-23T00:00:00.000000000",
                    "2020-04-24T00:00:00.000000000",
                    "2020-04-27T00:00:00.000000000",
                    "2020-04-28T00:00:00.000000000",
                    "2020-04-29T00:00:00.000000000",
                    "2020-04-30T00:00:00.000000000",
                    "2020-05-01T00:00:00.000000000",
                    "2020-05-04T00:00:00.000000000",
                    "2020-05-05T00:00:00.000000000",
                    "2020-05-06T00:00:00.000000000",
                    "2020-05-07T00:00:00.000000000",
                    "2020-05-08T00:00:00.000000000",
                    "2020-05-11T00:00:00.000000000",
                    "2020-05-12T00:00:00.000000000",
                    "2020-05-13T00:00:00.000000000",
                    "2020-05-14T00:00:00.000000000",
                    "2020-05-15T00:00:00.000000000",
                    "2020-05-18T00:00:00.000000000",
                    "2020-05-19T00:00:00.000000000",
                    "2020-05-20T00:00:00.000000000",
                    "2020-05-21T00:00:00.000000000",
                    "2020-05-22T00:00:00.000000000",
                    "2020-05-26T00:00:00.000000000",
                    "2020-05-27T00:00:00.000000000",
                    "2020-05-28T00:00:00.000000000",
                    "2020-05-29T00:00:00.000000000",
                    "2020-06-01T00:00:00.000000000",
                    "2020-06-02T00:00:00.000000000",
                    "2020-06-03T00:00:00.000000000",
                    "2020-06-04T00:00:00.000000000",
                    "2020-06-05T00:00:00.000000000",
                    "2020-06-08T00:00:00.000000000",
                    "2020-06-09T00:00:00.000000000",
                    "2020-06-10T00:00:00.000000000",
                    "2020-06-11T00:00:00.000000000",
                    "2020-06-12T00:00:00.000000000",
                    "2020-06-15T00:00:00.000000000",
                    "2020-06-16T00:00:00.000000000",
                    "2020-06-17T00:00:00.000000000",
                    "2020-06-18T00:00:00.000000000",
                    "2020-06-19T00:00:00.000000000",
                    "2020-06-22T00:00:00.000000000",
                    "2020-06-23T00:00:00.000000000",
                    "2020-06-24T00:00:00.000000000",
                    "2020-06-25T00:00:00.000000000",
                    "2020-06-26T00:00:00.000000000",
                    "2020-06-29T00:00:00.000000000",
                    "2020-06-30T00:00:00.000000000",
                    "2020-07-01T00:00:00.000000000",
                    "2020-07-02T00:00:00.000000000",
                    "2020-07-06T00:00:00.000000000",
                    "2020-07-07T00:00:00.000000000",
                    "2020-07-08T00:00:00.000000000",
                    "2020-07-09T00:00:00.000000000",
                    "2020-07-10T00:00:00.000000000",
                    "2020-07-13T00:00:00.000000000",
                    "2020-07-14T00:00:00.000000000",
                    "2020-07-15T00:00:00.000000000",
                    "2020-07-16T00:00:00.000000000",
                    "2020-07-17T00:00:00.000000000",
                    "2020-07-20T00:00:00.000000000",
                    "2020-07-21T00:00:00.000000000",
                    "2020-07-22T00:00:00.000000000",
                    "2020-07-23T00:00:00.000000000",
                    "2020-07-24T00:00:00.000000000",
                    "2020-07-27T00:00:00.000000000",
                    "2020-07-28T00:00:00.000000000",
                    "2020-07-29T00:00:00.000000000",
                    "2020-07-30T00:00:00.000000000",
                    "2020-07-31T00:00:00.000000000",
                    "2020-08-03T00:00:00.000000000",
                    "2020-08-04T00:00:00.000000000",
                    "2020-08-05T00:00:00.000000000",
                    "2020-08-06T00:00:00.000000000",
                    "2020-08-07T00:00:00.000000000",
                    "2020-08-10T00:00:00.000000000",
                    "2020-08-11T00:00:00.000000000",
                    "2020-08-12T00:00:00.000000000",
                    "2020-08-13T00:00:00.000000000",
                    "2020-08-14T00:00:00.000000000",
                    "2020-08-17T00:00:00.000000000",
                    "2020-08-18T00:00:00.000000000",
                    "2020-08-19T00:00:00.000000000",
                    "2020-08-20T00:00:00.000000000",
                    "2020-08-21T00:00:00.000000000",
                    "2020-08-24T00:00:00.000000000",
                    "2020-08-25T00:00:00.000000000",
                    "2020-08-26T00:00:00.000000000",
                    "2020-08-27T00:00:00.000000000",
                    "2020-08-28T00:00:00.000000000",
                    "2020-08-31T00:00:00.000000000",
                    "2020-09-01T00:00:00.000000000",
                    "2020-09-02T00:00:00.000000000",
                    "2020-09-03T00:00:00.000000000",
                    "2020-09-04T00:00:00.000000000",
                    "2020-09-08T00:00:00.000000000",
                    "2020-09-09T00:00:00.000000000",
                    "2020-09-10T00:00:00.000000000",
                    "2020-09-11T00:00:00.000000000",
                    "2020-09-14T00:00:00.000000000",
                    "2020-09-15T00:00:00.000000000",
                    "2020-09-16T00:00:00.000000000",
                    "2020-09-17T00:00:00.000000000",
                    "2020-09-18T00:00:00.000000000",
                    "2020-09-21T00:00:00.000000000",
                    "2020-09-22T00:00:00.000000000",
                    "2020-09-23T00:00:00.000000000",
                    "2020-09-24T00:00:00.000000000",
                    "2020-09-25T00:00:00.000000000",
                    "2020-09-28T00:00:00.000000000",
                    "2020-09-29T00:00:00.000000000",
                    "2020-09-30T00:00:00.000000000",
                    "2020-10-01T00:00:00.000000000",
                    "2020-10-02T00:00:00.000000000",
                    "2020-10-05T00:00:00.000000000",
                    "2020-10-06T00:00:00.000000000",
                    "2020-10-07T00:00:00.000000000",
                    "2020-10-08T00:00:00.000000000",
                    "2020-10-09T00:00:00.000000000",
                    "2020-10-12T00:00:00.000000000",
                    "2020-10-13T00:00:00.000000000",
                    "2020-10-14T00:00:00.000000000",
                    "2020-10-15T00:00:00.000000000",
                    "2020-10-16T00:00:00.000000000",
                    "2020-10-19T00:00:00.000000000",
                    "2020-10-20T00:00:00.000000000",
                    "2020-10-21T00:00:00.000000000",
                    "2020-10-22T00:00:00.000000000",
                    "2020-10-23T00:00:00.000000000",
                    "2020-10-26T00:00:00.000000000",
                    "2020-10-27T00:00:00.000000000",
                    "2020-10-28T00:00:00.000000000",
                    "2020-10-29T00:00:00.000000000",
                    "2020-10-30T00:00:00.000000000",
                    "2020-11-02T00:00:00.000000000",
                    "2020-11-03T00:00:00.000000000",
                    "2020-11-04T00:00:00.000000000",
                    "2020-11-05T00:00:00.000000000",
                    "2020-11-06T00:00:00.000000000",
                    "2020-11-09T00:00:00.000000000",
                    "2020-11-10T00:00:00.000000000",
                    "2020-11-11T00:00:00.000000000",
                    "2020-11-12T00:00:00.000000000",
                    "2020-11-13T00:00:00.000000000",
                    "2020-11-16T00:00:00.000000000",
                    "2020-11-17T00:00:00.000000000",
                    "2020-11-18T00:00:00.000000000",
                    "2020-11-19T00:00:00.000000000",
                    "2020-11-20T00:00:00.000000000",
                    "2020-11-23T00:00:00.000000000",
                    "2020-11-24T00:00:00.000000000",
                    "2020-11-25T00:00:00.000000000",
                    "2020-11-27T00:00:00.000000000",
                    "2020-11-30T00:00:00.000000000",
                    "2020-12-01T00:00:00.000000000",
                    "2020-12-02T00:00:00.000000000",
                    "2020-12-03T00:00:00.000000000",
                    "2020-12-04T00:00:00.000000000",
                    "2020-12-07T00:00:00.000000000",
                    "2020-12-08T00:00:00.000000000",
                    "2020-12-09T00:00:00.000000000",
                    "2020-12-10T00:00:00.000000000",
                    "2020-12-11T00:00:00.000000000",
                    "2020-12-14T00:00:00.000000000",
                    "2020-12-15T00:00:00.000000000",
                    "2020-12-16T00:00:00.000000000",
                    "2020-12-17T00:00:00.000000000",
                    "2020-12-18T00:00:00.000000000",
                    "2020-12-21T00:00:00.000000000",
                    "2020-12-22T00:00:00.000000000",
                    "2020-12-23T00:00:00.000000000",
                    "2020-12-24T00:00:00.000000000",
                    "2020-12-28T00:00:00.000000000",
                    "2020-12-29T00:00:00.000000000",
                    "2020-12-30T00:00:00.000000000",
                    "2020-12-31T00:00:00.000000000",
                    "2021-01-04T00:00:00.000000000",
                    "2021-01-05T00:00:00.000000000",
                    "2021-01-06T00:00:00.000000000",
                    "2021-01-07T00:00:00.000000000",
                    "2021-01-08T00:00:00.000000000",
                    "2021-01-11T00:00:00.000000000",
                    "2021-01-12T00:00:00.000000000",
                    "2021-01-13T00:00:00.000000000",
                    "2021-01-14T00:00:00.000000000",
                    "2021-01-15T00:00:00.000000000",
                    "2021-01-19T00:00:00.000000000",
                    "2021-01-20T00:00:00.000000000",
                    "2021-01-21T00:00:00.000000000",
                    "2021-01-22T00:00:00.000000000",
                    "2021-01-25T00:00:00.000000000",
                    "2021-01-26T00:00:00.000000000",
                    "2021-01-27T00:00:00.000000000",
                    "2021-01-28T00:00:00.000000000",
                    "2021-01-29T00:00:00.000000000",
                    "2021-02-01T00:00:00.000000000",
                    "2021-02-02T00:00:00.000000000",
                    "2021-02-03T00:00:00.000000000",
                    "2021-02-04T00:00:00.000000000",
                    "2021-02-05T00:00:00.000000000",
                    "2021-02-08T00:00:00.000000000",
                    "2021-02-09T00:00:00.000000000",
                    "2021-02-10T00:00:00.000000000",
                    "2021-02-11T00:00:00.000000000",
                    "2021-02-12T00:00:00.000000000",
                    "2021-02-16T00:00:00.000000000",
                    "2021-02-17T00:00:00.000000000",
                    "2021-02-18T00:00:00.000000000",
                    "2021-02-19T00:00:00.000000000",
                    "2021-02-22T00:00:00.000000000",
                    "2021-02-23T00:00:00.000000000",
                    "2021-02-24T00:00:00.000000000",
                    "2021-02-25T00:00:00.000000000",
                    "2021-02-26T00:00:00.000000000",
                    "2021-03-01T00:00:00.000000000",
                    "2021-03-02T00:00:00.000000000",
                    "2021-03-03T00:00:00.000000000",
                    "2021-03-04T00:00:00.000000000",
                    "2021-03-05T00:00:00.000000000",
                    "2021-03-08T00:00:00.000000000",
                    "2021-03-09T00:00:00.000000000",
                    "2021-03-10T00:00:00.000000000",
                    "2021-03-11T00:00:00.000000000",
                    "2021-03-12T00:00:00.000000000",
                    "2021-03-15T00:00:00.000000000",
                    "2021-03-16T00:00:00.000000000",
                    "2021-03-17T00:00:00.000000000",
                    "2021-03-18T00:00:00.000000000",
                    "2021-03-19T00:00:00.000000000",
                    "2021-03-22T00:00:00.000000000",
                    "2021-03-23T00:00:00.000000000",
                    "2021-03-24T00:00:00.000000000",
                    "2021-03-25T00:00:00.000000000",
                    "2021-03-26T00:00:00.000000000",
                    "2021-03-29T00:00:00.000000000",
                    "2021-03-30T00:00:00.000000000",
                    "2021-03-31T00:00:00.000000000",
                    "2021-04-01T00:00:00.000000000",
                    "2021-04-05T00:00:00.000000000",
                    "2021-04-06T00:00:00.000000000",
                    "2021-04-07T00:00:00.000000000",
                    "2021-04-08T00:00:00.000000000",
                    "2021-04-09T00:00:00.000000000",
                    "2021-04-12T00:00:00.000000000",
                    "2021-04-13T00:00:00.000000000",
                    "2021-04-14T00:00:00.000000000",
                    "2021-04-15T00:00:00.000000000",
                    "2021-04-16T00:00:00.000000000",
                    "2021-04-19T00:00:00.000000000",
                    "2021-04-20T00:00:00.000000000",
                    "2021-04-21T00:00:00.000000000",
                    "2021-04-22T00:00:00.000000000",
                    "2021-04-23T00:00:00.000000000",
                    "2021-04-26T00:00:00.000000000",
                    "2021-04-27T00:00:00.000000000",
                    "2021-04-28T00:00:00.000000000",
                    "2021-04-29T00:00:00.000000000",
                    "2021-04-30T00:00:00.000000000",
                    "2021-05-03T00:00:00.000000000",
                    "2021-05-04T00:00:00.000000000",
                    "2021-05-05T00:00:00.000000000",
                    "2021-05-06T00:00:00.000000000",
                    "2021-05-07T00:00:00.000000000",
                    "2021-05-10T00:00:00.000000000",
                    "2021-05-11T00:00:00.000000000",
                    "2021-05-12T00:00:00.000000000",
                    "2021-05-13T00:00:00.000000000",
                    "2021-05-14T00:00:00.000000000",
                    "2021-05-17T00:00:00.000000000",
                    "2021-05-18T00:00:00.000000000",
                    "2021-05-19T00:00:00.000000000",
                    "2021-05-20T00:00:00.000000000",
                    "2021-05-21T00:00:00.000000000",
                    "2021-05-24T00:00:00.000000000",
                    "2021-05-25T00:00:00.000000000",
                    "2021-05-26T00:00:00.000000000",
                    "2021-05-27T00:00:00.000000000",
                    "2021-05-28T00:00:00.000000000",
                    "2021-06-01T00:00:00.000000000",
                    "2021-06-02T00:00:00.000000000",
                    "2021-06-03T00:00:00.000000000",
                    "2021-06-04T00:00:00.000000000",
                    "2021-06-07T00:00:00.000000000",
                    "2021-06-08T00:00:00.000000000",
                    "2021-06-09T00:00:00.000000000",
                    "2021-06-10T00:00:00.000000000",
                    "2021-06-11T00:00:00.000000000",
                    "2021-06-14T00:00:00.000000000",
                    "2021-06-15T00:00:00.000000000",
                    "2021-06-16T00:00:00.000000000",
                    "2021-06-17T00:00:00.000000000",
                    "2021-06-18T00:00:00.000000000",
                    "2021-06-21T00:00:00.000000000",
                    "2021-06-22T00:00:00.000000000",
                    "2021-06-23T00:00:00.000000000",
                    "2021-06-24T00:00:00.000000000",
                    "2021-06-25T00:00:00.000000000",
                    "2021-06-28T00:00:00.000000000",
                    "2021-06-29T00:00:00.000000000",
                    "2021-06-30T00:00:00.000000000",
                    "2021-07-01T00:00:00.000000000",
                    "2021-07-02T00:00:00.000000000",
                    "2021-07-06T00:00:00.000000000",
                    "2021-07-07T00:00:00.000000000",
                    "2021-07-08T00:00:00.000000000",
                    "2021-07-09T00:00:00.000000000",
                    "2021-07-12T00:00:00.000000000",
                    "2021-07-13T00:00:00.000000000",
                    "2021-07-14T00:00:00.000000000",
                    "2021-07-15T00:00:00.000000000",
                    "2021-07-16T00:00:00.000000000",
                    "2021-07-19T00:00:00.000000000",
                    "2021-07-20T00:00:00.000000000",
                    "2021-07-21T00:00:00.000000000",
                    "2021-07-22T00:00:00.000000000",
                    "2021-07-23T00:00:00.000000000",
                    "2021-07-26T00:00:00.000000000",
                    "2021-07-27T00:00:00.000000000",
                    "2021-07-28T00:00:00.000000000",
                    "2021-07-29T00:00:00.000000000",
                    "2021-07-30T00:00:00.000000000",
                    "2021-08-02T00:00:00.000000000",
                    "2021-08-03T00:00:00.000000000",
                    "2021-08-04T00:00:00.000000000",
                    "2021-08-05T00:00:00.000000000",
                    "2021-08-06T00:00:00.000000000",
                    "2021-08-09T00:00:00.000000000",
                    "2021-08-10T00:00:00.000000000",
                    "2021-08-11T00:00:00.000000000",
                    "2021-08-12T00:00:00.000000000",
                    "2021-08-13T00:00:00.000000000",
                    "2021-08-16T00:00:00.000000000",
                    "2021-08-17T00:00:00.000000000",
                    "2021-08-18T00:00:00.000000000",
                    "2021-08-19T00:00:00.000000000",
                    "2021-08-20T00:00:00.000000000",
                    "2021-08-23T00:00:00.000000000",
                    "2021-08-24T00:00:00.000000000",
                    "2021-08-25T00:00:00.000000000",
                    "2021-08-26T00:00:00.000000000",
                    "2021-08-27T00:00:00.000000000",
                    "2021-08-30T00:00:00.000000000",
                    "2021-08-31T00:00:00.000000000",
                    "2021-09-01T00:00:00.000000000",
                    "2021-09-02T00:00:00.000000000",
                    "2021-09-03T00:00:00.000000000",
                    "2021-09-07T00:00:00.000000000",
                    "2021-09-08T00:00:00.000000000",
                    "2021-09-09T00:00:00.000000000",
                    "2021-09-10T00:00:00.000000000",
                    "2021-09-13T00:00:00.000000000",
                    "2021-09-14T00:00:00.000000000",
                    "2021-09-15T00:00:00.000000000",
                    "2021-09-16T00:00:00.000000000",
                    "2021-09-17T00:00:00.000000000",
                    "2021-09-20T00:00:00.000000000",
                    "2021-09-21T00:00:00.000000000",
                    "2021-09-22T00:00:00.000000000",
                    "2021-09-23T00:00:00.000000000",
                    "2021-09-24T00:00:00.000000000",
                    "2021-09-27T00:00:00.000000000",
                    "2021-09-28T00:00:00.000000000",
                    "2021-09-29T00:00:00.000000000",
                    "2021-09-30T00:00:00.000000000",
                    "2021-10-01T00:00:00.000000000",
                    "2021-10-04T00:00:00.000000000",
                    "2021-10-05T00:00:00.000000000",
                    "2021-10-06T00:00:00.000000000",
                    "2021-10-07T00:00:00.000000000",
                    "2021-10-08T00:00:00.000000000",
                    "2021-10-11T00:00:00.000000000",
                    "2021-10-12T00:00:00.000000000",
                    "2021-10-13T00:00:00.000000000",
                    "2021-10-14T00:00:00.000000000",
                    "2021-10-15T00:00:00.000000000",
                    "2021-10-18T00:00:00.000000000",
                    "2021-10-19T00:00:00.000000000",
                    "2021-10-20T00:00:00.000000000",
                    "2021-10-21T00:00:00.000000000",
                    "2021-10-22T00:00:00.000000000",
                    "2021-10-25T00:00:00.000000000",
                    "2021-10-26T00:00:00.000000000",
                    "2021-10-27T00:00:00.000000000",
                    "2021-10-28T00:00:00.000000000",
                    "2021-10-29T00:00:00.000000000",
                    "2021-11-01T00:00:00.000000000",
                    "2021-11-02T00:00:00.000000000",
                    "2021-11-03T00:00:00.000000000",
                    "2021-11-04T00:00:00.000000000",
                    "2021-11-05T00:00:00.000000000",
                    "2021-11-08T00:00:00.000000000",
                    "2021-11-09T00:00:00.000000000",
                    "2021-11-10T00:00:00.000000000",
                    "2021-11-11T00:00:00.000000000",
                    "2021-11-12T00:00:00.000000000",
                    "2021-11-15T00:00:00.000000000",
                    "2021-11-16T00:00:00.000000000",
                    "2021-11-17T00:00:00.000000000",
                    "2021-11-18T00:00:00.000000000",
                    "2021-11-19T00:00:00.000000000",
                    "2021-11-22T00:00:00.000000000",
                    "2021-11-23T00:00:00.000000000",
                    "2021-11-24T00:00:00.000000000",
                    "2021-11-26T00:00:00.000000000",
                    "2021-11-29T00:00:00.000000000",
                    "2021-11-30T00:00:00.000000000",
                    "2021-12-01T00:00:00.000000000",
                    "2021-12-02T00:00:00.000000000",
                    "2021-12-03T00:00:00.000000000",
                    "2021-12-06T00:00:00.000000000",
                    "2021-12-07T00:00:00.000000000",
                    "2021-12-08T00:00:00.000000000",
                    "2021-12-09T00:00:00.000000000",
                    "2021-12-10T00:00:00.000000000",
                    "2021-12-13T00:00:00.000000000",
                    "2021-12-14T00:00:00.000000000",
                    "2021-12-15T00:00:00.000000000",
                    "2021-12-16T00:00:00.000000000",
                    "2021-12-17T00:00:00.000000000",
                    "2021-12-20T00:00:00.000000000",
                    "2021-12-21T00:00:00.000000000",
                    "2021-12-22T00:00:00.000000000",
                    "2021-12-23T00:00:00.000000000",
                    "2021-12-27T00:00:00.000000000",
                    "2021-12-28T00:00:00.000000000",
                    "2021-12-29T00:00:00.000000000",
                    "2021-12-30T00:00:00.000000000",
                    "2021-12-31T00:00:00.000000000",
                    "2022-01-03T00:00:00.000000000",
                    "2022-01-04T00:00:00.000000000",
                    "2022-01-05T00:00:00.000000000",
                    "2022-01-06T00:00:00.000000000",
                    "2022-01-07T00:00:00.000000000",
                    "2022-01-10T00:00:00.000000000",
                    "2022-01-11T00:00:00.000000000",
                    "2022-01-12T00:00:00.000000000",
                    "2022-01-13T00:00:00.000000000",
                    "2022-01-14T00:00:00.000000000",
                    "2022-01-18T00:00:00.000000000",
                    "2022-01-19T00:00:00.000000000",
                    "2022-01-20T00:00:00.000000000",
                    "2022-01-21T00:00:00.000000000",
                    "2022-01-24T00:00:00.000000000",
                    "2022-01-25T00:00:00.000000000",
                    "2022-01-26T00:00:00.000000000",
                    "2022-01-27T00:00:00.000000000",
                    "2022-01-28T00:00:00.000000000",
                    "2022-01-31T00:00:00.000000000",
                    "2022-02-01T00:00:00.000000000",
                    "2022-02-02T00:00:00.000000000",
                    "2022-02-03T00:00:00.000000000",
                    "2022-02-04T00:00:00.000000000",
                    "2022-02-07T00:00:00.000000000",
                    "2022-02-08T00:00:00.000000000",
                    "2022-02-09T00:00:00.000000000",
                    "2022-02-10T00:00:00.000000000",
                    "2022-02-11T00:00:00.000000000",
                    "2022-02-14T00:00:00.000000000",
                    "2022-02-15T00:00:00.000000000",
                    "2022-02-16T00:00:00.000000000",
                    "2022-02-17T00:00:00.000000000",
                    "2022-02-18T00:00:00.000000000",
                    "2022-02-22T00:00:00.000000000",
                    "2022-02-23T00:00:00.000000000",
                    "2022-02-24T00:00:00.000000000",
                    "2022-02-25T00:00:00.000000000",
                    "2022-02-28T00:00:00.000000000",
                    "2022-03-01T00:00:00.000000000",
                    "2022-03-02T00:00:00.000000000",
                    "2022-03-03T00:00:00.000000000",
                    "2022-03-04T00:00:00.000000000",
                    "2022-03-07T00:00:00.000000000",
                    "2022-03-08T00:00:00.000000000",
                    "2022-03-09T00:00:00.000000000",
                    "2022-03-10T00:00:00.000000000",
                    "2022-03-11T00:00:00.000000000",
                    "2022-03-14T00:00:00.000000000",
                    "2022-03-15T00:00:00.000000000",
                    "2022-03-16T00:00:00.000000000",
                    "2022-03-17T00:00:00.000000000",
                    "2022-03-18T00:00:00.000000000",
                    "2022-03-21T00:00:00.000000000",
                    "2022-03-22T00:00:00.000000000",
                    "2022-03-23T00:00:00.000000000",
                    "2022-03-24T00:00:00.000000000",
                    "2022-03-25T00:00:00.000000000",
                    "2022-03-28T00:00:00.000000000",
                    "2022-03-29T00:00:00.000000000",
                    "2022-03-30T00:00:00.000000000",
                    "2022-03-31T00:00:00.000000000",
                    "2022-04-01T00:00:00.000000000",
                    "2022-04-04T00:00:00.000000000",
                    "2022-04-05T00:00:00.000000000",
                    "2022-04-06T00:00:00.000000000",
                    "2022-04-07T00:00:00.000000000",
                    "2022-04-08T00:00:00.000000000",
                    "2022-04-11T00:00:00.000000000",
                    "2022-04-12T00:00:00.000000000",
                    "2022-04-13T00:00:00.000000000",
                    "2022-04-14T00:00:00.000000000",
                    "2022-04-18T00:00:00.000000000",
                    "2022-04-19T00:00:00.000000000",
                    "2022-04-20T00:00:00.000000000",
                    "2022-04-21T00:00:00.000000000",
                    "2022-04-22T00:00:00.000000000",
                    "2022-04-25T00:00:00.000000000",
                    "2022-04-26T00:00:00.000000000",
                    "2022-04-27T00:00:00.000000000",
                    "2022-04-28T00:00:00.000000000",
                    "2022-04-29T00:00:00.000000000",
                    "2022-05-02T00:00:00.000000000",
                    "2022-05-03T00:00:00.000000000",
                    "2022-05-04T00:00:00.000000000",
                    "2022-05-05T00:00:00.000000000",
                    "2022-05-06T00:00:00.000000000",
                    "2022-05-09T00:00:00.000000000",
                    "2022-05-10T00:00:00.000000000",
                    "2022-05-11T00:00:00.000000000",
                    "2022-05-12T00:00:00.000000000",
                    "2022-05-13T00:00:00.000000000",
                    "2022-05-16T00:00:00.000000000",
                    "2022-05-17T00:00:00.000000000",
                    "2022-05-18T00:00:00.000000000",
                    "2022-05-19T00:00:00.000000000",
                    "2022-05-20T00:00:00.000000000",
                    "2022-05-23T00:00:00.000000000",
                    "2022-05-24T00:00:00.000000000",
                    "2022-05-25T00:00:00.000000000",
                    "2022-05-26T00:00:00.000000000",
                    "2022-05-27T00:00:00.000000000",
                    "2022-05-31T00:00:00.000000000",
                    "2022-06-01T00:00:00.000000000",
                    "2022-06-02T00:00:00.000000000",
                    "2022-06-03T00:00:00.000000000",
                    "2022-06-06T00:00:00.000000000",
                    "2022-06-07T00:00:00.000000000",
                    "2022-06-08T00:00:00.000000000",
                    "2022-06-09T00:00:00.000000000",
                    "2022-06-10T00:00:00.000000000",
                    "2022-06-13T00:00:00.000000000",
                    "2022-06-14T00:00:00.000000000",
                    "2022-06-15T00:00:00.000000000",
                    "2022-06-16T00:00:00.000000000",
                    "2022-06-17T00:00:00.000000000",
                    "2022-06-21T00:00:00.000000000",
                    "2022-06-22T00:00:00.000000000",
                    "2022-06-23T00:00:00.000000000",
                    "2022-06-24T00:00:00.000000000",
                    "2022-06-27T00:00:00.000000000",
                    "2022-06-28T00:00:00.000000000",
                    "2022-06-29T00:00:00.000000000",
                    "2022-06-30T00:00:00.000000000",
                    "2022-07-01T00:00:00.000000000",
                    "2022-07-05T00:00:00.000000000",
                    "2022-07-06T00:00:00.000000000",
                    "2022-07-07T00:00:00.000000000",
                    "2022-07-08T00:00:00.000000000",
                    "2022-07-11T00:00:00.000000000",
                    "2022-07-12T00:00:00.000000000",
                    "2022-07-13T00:00:00.000000000",
                    "2022-07-14T00:00:00.000000000",
                    "2022-07-15T00:00:00.000000000",
                    "2022-07-18T00:00:00.000000000",
                    "2022-07-19T00:00:00.000000000",
                    "2022-07-20T00:00:00.000000000",
                    "2022-07-21T00:00:00.000000000",
                    "2022-07-22T00:00:00.000000000",
                    "2022-07-25T00:00:00.000000000",
                    "2022-07-26T00:00:00.000000000",
                    "2022-07-27T00:00:00.000000000",
                    "2022-07-28T00:00:00.000000000",
                    "2022-07-29T00:00:00.000000000",
                    "2022-08-01T00:00:00.000000000",
                    "2022-08-02T00:00:00.000000000",
                    "2022-08-03T00:00:00.000000000",
                    "2022-08-04T00:00:00.000000000",
                    "2022-08-05T00:00:00.000000000",
                    "2022-08-08T00:00:00.000000000",
                    "2022-08-09T00:00:00.000000000",
                    "2022-08-10T00:00:00.000000000",
                    "2022-08-11T00:00:00.000000000",
                    "2022-08-12T00:00:00.000000000",
                    "2022-08-15T00:00:00.000000000",
                    "2022-08-16T00:00:00.000000000",
                    "2022-08-17T00:00:00.000000000",
                    "2022-08-18T00:00:00.000000000",
                    "2022-08-19T00:00:00.000000000",
                    "2022-08-22T00:00:00.000000000",
                    "2022-08-23T00:00:00.000000000",
                    "2022-08-24T00:00:00.000000000",
                    "2022-08-25T00:00:00.000000000",
                    "2022-08-26T00:00:00.000000000",
                    "2022-08-29T00:00:00.000000000",
                    "2022-08-30T00:00:00.000000000",
                    "2022-08-31T00:00:00.000000000",
                    "2022-09-01T00:00:00.000000000",
                    "2022-09-02T00:00:00.000000000",
                    "2022-09-06T00:00:00.000000000",
                    "2022-09-07T00:00:00.000000000",
                    "2022-09-08T00:00:00.000000000",
                    "2022-09-09T00:00:00.000000000",
                    "2022-09-12T00:00:00.000000000",
                    "2022-09-13T00:00:00.000000000",
                    "2022-09-14T00:00:00.000000000",
                    "2022-09-15T00:00:00.000000000",
                    "2022-09-16T00:00:00.000000000",
                    "2022-09-19T00:00:00.000000000",
                    "2022-09-20T00:00:00.000000000",
                    "2022-09-21T00:00:00.000000000",
                    "2022-09-22T00:00:00.000000000",
                    "2022-09-23T00:00:00.000000000",
                    "2022-09-26T00:00:00.000000000",
                    "2022-09-27T00:00:00.000000000",
                    "2022-09-28T00:00:00.000000000",
                    "2022-09-29T00:00:00.000000000",
                    "2022-09-30T00:00:00.000000000",
                    "2022-10-03T00:00:00.000000000",
                    "2022-10-04T00:00:00.000000000",
                    "2022-10-05T00:00:00.000000000",
                    "2022-10-06T00:00:00.000000000",
                    "2022-10-07T00:00:00.000000000",
                    "2022-10-10T00:00:00.000000000",
                    "2022-10-11T00:00:00.000000000",
                    "2022-10-12T00:00:00.000000000",
                    "2022-10-13T00:00:00.000000000",
                    "2022-10-14T00:00:00.000000000",
                    "2022-10-17T00:00:00.000000000",
                    "2022-10-18T00:00:00.000000000",
                    "2022-10-19T00:00:00.000000000",
                    "2022-10-20T00:00:00.000000000",
                    "2022-10-21T00:00:00.000000000",
                    "2022-10-24T00:00:00.000000000",
                    "2022-10-25T00:00:00.000000000",
                    "2022-10-26T00:00:00.000000000",
                    "2022-10-27T00:00:00.000000000",
                    "2022-10-28T00:00:00.000000000",
                    "2022-10-31T00:00:00.000000000",
                    "2022-11-01T00:00:00.000000000",
                    "2022-11-02T00:00:00.000000000",
                    "2022-11-03T00:00:00.000000000",
                    "2022-11-04T00:00:00.000000000",
                    "2022-11-07T00:00:00.000000000",
                    "2022-11-08T00:00:00.000000000",
                    "2022-11-09T00:00:00.000000000",
                    "2022-11-10T00:00:00.000000000",
                    "2022-11-11T00:00:00.000000000",
                    "2022-11-14T00:00:00.000000000",
                    "2022-11-15T00:00:00.000000000",
                    "2022-11-16T00:00:00.000000000",
                    "2022-11-17T00:00:00.000000000",
                    "2022-11-18T00:00:00.000000000",
                    "2022-11-21T00:00:00.000000000",
                    "2022-11-22T00:00:00.000000000",
                    "2022-11-23T00:00:00.000000000",
                    "2022-11-25T00:00:00.000000000",
                    "2022-11-28T00:00:00.000000000",
                    "2022-11-29T00:00:00.000000000",
                    "2022-11-30T00:00:00.000000000",
                    "2022-12-01T00:00:00.000000000",
                    "2022-12-02T00:00:00.000000000",
                    "2022-12-05T00:00:00.000000000",
                    "2022-12-06T00:00:00.000000000",
                    "2022-12-07T00:00:00.000000000",
                    "2022-12-08T00:00:00.000000000",
                    "2022-12-09T00:00:00.000000000",
                    "2022-12-12T00:00:00.000000000",
                    "2022-12-13T00:00:00.000000000",
                    "2022-12-14T00:00:00.000000000",
                    "2022-12-15T00:00:00.000000000",
                    "2022-12-16T00:00:00.000000000",
                    "2022-12-19T00:00:00.000000000",
                    "2022-12-20T00:00:00.000000000",
                    "2022-12-21T00:00:00.000000000",
                    "2022-12-22T00:00:00.000000000",
                    "2022-12-23T00:00:00.000000000",
                    "2022-12-27T00:00:00.000000000",
                    "2022-12-28T00:00:00.000000000",
                    "2022-12-29T00:00:00.000000000",
                    "2022-12-30T00:00:00.000000000",
                    "2023-01-03T00:00:00.000000000",
                    "2023-01-04T00:00:00.000000000",
                    "2023-01-05T00:00:00.000000000",
                    "2023-01-06T00:00:00.000000000",
                    "2023-01-09T00:00:00.000000000",
                    "2023-01-10T00:00:00.000000000",
                    "2023-01-11T00:00:00.000000000",
                    "2023-01-12T00:00:00.000000000",
                    "2023-01-13T00:00:00.000000000",
                    "2023-01-17T00:00:00.000000000",
                    "2023-01-18T00:00:00.000000000",
                    "2023-01-19T00:00:00.000000000",
                    "2023-01-20T00:00:00.000000000",
                    "2023-01-23T00:00:00.000000000",
                    "2023-01-24T00:00:00.000000000",
                    "2023-01-25T00:00:00.000000000",
                    "2023-01-26T00:00:00.000000000",
                    "2023-01-27T00:00:00.000000000",
                    "2023-01-30T00:00:00.000000000",
                    "2023-01-31T00:00:00.000000000",
                    "2023-02-01T00:00:00.000000000",
                    "2023-02-02T00:00:00.000000000",
                    "2023-02-03T00:00:00.000000000",
                    "2023-02-06T00:00:00.000000000",
                    "2023-02-07T00:00:00.000000000",
                    "2023-02-08T00:00:00.000000000",
                    "2023-02-09T00:00:00.000000000",
                    "2023-02-10T00:00:00.000000000",
                    "2023-02-13T00:00:00.000000000",
                    "2023-02-14T00:00:00.000000000",
                    "2023-02-15T00:00:00.000000000",
                    "2023-02-16T00:00:00.000000000",
                    "2023-02-17T00:00:00.000000000",
                    "2023-02-21T00:00:00.000000000",
                    "2023-02-22T00:00:00.000000000",
                    "2023-02-23T00:00:00.000000000",
                    "2023-02-24T00:00:00.000000000",
                    "2023-02-27T00:00:00.000000000",
                    "2023-02-28T00:00:00.000000000",
                    "2023-03-01T00:00:00.000000000",
                    "2023-03-02T00:00:00.000000000",
                    "2023-03-03T00:00:00.000000000",
                    "2023-03-06T00:00:00.000000000",
                    "2023-03-07T00:00:00.000000000",
                    "2023-03-08T00:00:00.000000000",
                    "2023-03-09T00:00:00.000000000",
                    "2023-03-10T00:00:00.000000000",
                    "2023-03-13T00:00:00.000000000",
                    "2023-03-14T00:00:00.000000000",
                    "2023-03-15T00:00:00.000000000",
                    "2023-03-16T00:00:00.000000000",
                    "2023-03-17T00:00:00.000000000",
                    "2023-03-20T00:00:00.000000000",
                    "2023-03-21T00:00:00.000000000",
                    "2023-03-22T00:00:00.000000000",
                    "2023-03-23T00:00:00.000000000",
                    "2023-03-24T00:00:00.000000000",
                    "2023-03-27T00:00:00.000000000",
                    "2023-03-28T00:00:00.000000000",
                    "2023-03-29T00:00:00.000000000",
                    "2023-03-30T00:00:00.000000000",
                    "2023-03-31T00:00:00.000000000",
                    "2023-04-03T00:00:00.000000000",
                    "2023-04-04T00:00:00.000000000",
                    "2023-04-05T00:00:00.000000000",
                    "2023-04-06T00:00:00.000000000",
                    "2023-04-10T00:00:00.000000000",
                    "2023-04-11T00:00:00.000000000",
                    "2023-04-12T00:00:00.000000000",
                    "2023-04-13T00:00:00.000000000",
                    "2023-04-14T00:00:00.000000000",
                    "2023-04-17T00:00:00.000000000",
                    "2023-04-18T00:00:00.000000000",
                    "2023-04-19T00:00:00.000000000",
                    "2023-04-20T00:00:00.000000000",
                    "2023-04-21T00:00:00.000000000",
                    "2023-04-24T00:00:00.000000000",
                    "2023-04-25T00:00:00.000000000",
                    "2023-04-26T00:00:00.000000000",
                    "2023-04-27T00:00:00.000000000",
                    "2023-04-28T00:00:00.000000000",
                    "2023-05-01T00:00:00.000000000",
                    "2023-05-02T00:00:00.000000000",
                    "2023-05-03T00:00:00.000000000",
                    "2023-05-04T00:00:00.000000000",
                    "2023-05-05T00:00:00.000000000",
                    "2023-05-08T00:00:00.000000000",
                    "2023-05-09T00:00:00.000000000",
                    "2023-05-10T00:00:00.000000000",
                    "2023-05-11T00:00:00.000000000",
                    "2023-05-12T00:00:00.000000000",
                    "2023-05-15T00:00:00.000000000",
                    "2023-05-16T00:00:00.000000000",
                    "2023-05-17T00:00:00.000000000",
                    "2023-05-18T00:00:00.000000000",
                    "2023-05-19T00:00:00.000000000",
                    "2023-05-22T00:00:00.000000000",
                    "2023-05-23T00:00:00.000000000",
                    "2023-05-24T00:00:00.000000000",
                    "2023-05-25T00:00:00.000000000",
                    "2023-05-26T00:00:00.000000000",
                    "2023-05-30T00:00:00.000000000",
                    "2023-05-31T00:00:00.000000000",
                    "2023-06-01T00:00:00.000000000",
                    "2023-06-02T00:00:00.000000000",
                    "2023-06-05T00:00:00.000000000",
                    "2023-06-06T00:00:00.000000000",
                    "2023-06-07T00:00:00.000000000",
                    "2023-06-08T00:00:00.000000000",
                    "2023-06-09T00:00:00.000000000",
                    "2023-06-12T00:00:00.000000000",
                    "2023-06-13T00:00:00.000000000",
                    "2023-06-14T00:00:00.000000000",
                    "2023-06-15T00:00:00.000000000",
                    "2023-06-16T00:00:00.000000000",
                    "2023-06-20T00:00:00.000000000",
                    "2023-06-21T00:00:00.000000000",
                    "2023-06-22T00:00:00.000000000",
                    "2023-06-23T00:00:00.000000000",
                    "2023-06-26T00:00:00.000000000",
                    "2023-06-27T00:00:00.000000000",
                    "2023-06-28T00:00:00.000000000",
                    "2023-06-29T00:00:00.000000000",
                    "2023-06-30T00:00:00.000000000",
                    "2023-07-03T00:00:00.000000000",
                    "2023-07-05T00:00:00.000000000",
                    "2023-07-06T00:00:00.000000000",
                    "2023-07-07T00:00:00.000000000",
                    "2023-07-10T00:00:00.000000000",
                    "2023-07-11T00:00:00.000000000",
                    "2023-07-12T00:00:00.000000000",
                    "2023-07-13T00:00:00.000000000",
                    "2023-07-14T00:00:00.000000000",
                    "2023-07-17T00:00:00.000000000",
                    "2023-07-18T00:00:00.000000000",
                    "2023-07-19T00:00:00.000000000",
                    "2023-07-20T00:00:00.000000000",
                    "2023-07-21T00:00:00.000000000",
                    "2023-07-24T00:00:00.000000000",
                    "2023-07-25T00:00:00.000000000",
                    "2023-07-26T00:00:00.000000000",
                    "2023-07-27T00:00:00.000000000",
                    "2023-07-28T00:00:00.000000000",
                    "2023-07-31T00:00:00.000000000",
                    "2023-08-01T00:00:00.000000000",
                    "2023-08-02T00:00:00.000000000",
                    "2023-08-03T00:00:00.000000000",
                    "2023-08-04T00:00:00.000000000",
                    "2023-08-07T00:00:00.000000000",
                    "2023-08-08T00:00:00.000000000",
                    "2023-08-09T00:00:00.000000000",
                    "2023-08-10T00:00:00.000000000",
                    "2023-08-11T00:00:00.000000000",
                    "2023-08-14T00:00:00.000000000",
                    "2023-08-15T00:00:00.000000000",
                    "2023-08-16T00:00:00.000000000",
                    "2023-08-17T00:00:00.000000000",
                    "2023-08-18T00:00:00.000000000",
                    "2023-08-21T00:00:00.000000000",
                    "2023-08-22T00:00:00.000000000",
                    "2023-08-23T00:00:00.000000000",
                    "2023-08-24T00:00:00.000000000",
                    "2023-08-25T00:00:00.000000000",
                    "2023-08-28T00:00:00.000000000",
                    "2023-08-29T00:00:00.000000000",
                    "2023-08-30T00:00:00.000000000",
                    "2023-08-31T00:00:00.000000000",
                    "2023-09-01T00:00:00.000000000",
                    "2023-09-05T00:00:00.000000000",
                    "2023-09-06T00:00:00.000000000",
                    "2023-09-07T00:00:00.000000000",
                    "2023-09-08T00:00:00.000000000",
                    "2023-09-11T00:00:00.000000000",
                    "2023-09-12T00:00:00.000000000",
                    "2023-09-13T00:00:00.000000000",
                    "2023-09-14T00:00:00.000000000",
                    "2023-09-15T00:00:00.000000000",
                    "2023-09-18T00:00:00.000000000",
                    "2023-09-19T00:00:00.000000000",
                    "2023-09-20T00:00:00.000000000",
                    "2023-09-21T00:00:00.000000000",
                    "2023-09-22T00:00:00.000000000",
                    "2023-09-25T00:00:00.000000000",
                    "2023-09-26T00:00:00.000000000",
                    "2023-09-27T00:00:00.000000000",
                    "2023-09-28T00:00:00.000000000",
                    "2023-09-29T00:00:00.000000000",
                    "2023-10-02T00:00:00.000000000",
                    "2023-10-03T00:00:00.000000000",
                    "2023-10-04T00:00:00.000000000",
                    "2023-10-05T00:00:00.000000000",
                    "2023-10-06T00:00:00.000000000",
                    "2023-10-09T00:00:00.000000000",
                    "2023-10-10T00:00:00.000000000",
                    "2023-10-11T00:00:00.000000000",
                    "2023-10-12T00:00:00.000000000",
                    "2023-10-13T00:00:00.000000000",
                    "2023-10-16T00:00:00.000000000",
                    "2023-10-17T00:00:00.000000000",
                    "2023-10-18T00:00:00.000000000",
                    "2023-10-19T00:00:00.000000000",
                    "2023-10-20T00:00:00.000000000",
                    "2023-10-23T00:00:00.000000000",
                    "2023-10-24T00:00:00.000000000",
                    "2023-10-25T00:00:00.000000000",
                    "2023-10-26T00:00:00.000000000",
                    "2023-10-27T00:00:00.000000000",
                    "2023-10-30T00:00:00.000000000",
                    "2023-10-31T00:00:00.000000000",
                    "2023-11-01T00:00:00.000000000",
                    "2023-11-02T00:00:00.000000000",
                    "2023-11-03T00:00:00.000000000",
                    "2023-11-06T00:00:00.000000000",
                    "2023-11-07T00:00:00.000000000",
                    "2023-11-08T00:00:00.000000000",
                    "2023-11-09T00:00:00.000000000",
                    "2023-11-10T00:00:00.000000000",
                    "2023-11-13T00:00:00.000000000",
                    "2023-11-14T00:00:00.000000000",
                    "2023-11-15T00:00:00.000000000",
                    "2023-11-16T00:00:00.000000000",
                    "2023-11-17T00:00:00.000000000",
                    "2023-11-20T00:00:00.000000000",
                    "2023-11-21T00:00:00.000000000",
                    "2023-11-22T00:00:00.000000000",
                    "2023-11-24T00:00:00.000000000",
                    "2023-11-27T00:00:00.000000000",
                    "2023-11-28T00:00:00.000000000",
                    "2023-11-29T00:00:00.000000000",
                    "2023-11-30T00:00:00.000000000",
                    "2023-12-01T00:00:00.000000000",
                    "2023-12-04T00:00:00.000000000",
                    "2023-12-05T00:00:00.000000000",
                    "2023-12-06T00:00:00.000000000",
                    "2023-12-07T00:00:00.000000000",
                    "2023-12-08T00:00:00.000000000",
                    "2023-12-11T00:00:00.000000000",
                    "2023-12-12T00:00:00.000000000",
                    "2023-12-13T00:00:00.000000000",
                    "2023-12-14T00:00:00.000000000",
                    "2023-12-15T00:00:00.000000000",
                    "2023-12-18T00:00:00.000000000",
                    "2023-12-19T00:00:00.000000000",
                    "2023-12-20T00:00:00.000000000",
                    "2023-12-21T00:00:00.000000000",
                    "2023-12-22T00:00:00.000000000",
                    "2023-12-26T00:00:00.000000000",
                    "2023-12-27T00:00:00.000000000",
                    "2023-12-28T00:00:00.000000000",
                    "2023-12-29T00:00:00.000000000",
                    "2024-01-02T00:00:00.000000000",
                    "2024-01-03T00:00:00.000000000",
                    "2024-01-04T00:00:00.000000000",
                    "2024-01-05T00:00:00.000000000",
                    "2024-01-08T00:00:00.000000000",
                    "2024-01-09T00:00:00.000000000",
                    "2024-01-10T00:00:00.000000000",
                    "2024-01-11T00:00:00.000000000",
                    "2024-01-12T00:00:00.000000000",
                    "2024-01-16T00:00:00.000000000",
                    "2024-01-17T00:00:00.000000000",
                    "2024-01-18T00:00:00.000000000",
                    "2024-01-19T00:00:00.000000000",
                    "2024-01-22T00:00:00.000000000",
                    "2024-01-23T00:00:00.000000000",
                    "2024-01-24T00:00:00.000000000",
                    "2024-01-25T00:00:00.000000000",
                    "2024-01-26T00:00:00.000000000",
                    "2024-01-29T00:00:00.000000000",
                    "2024-01-30T00:00:00.000000000",
                    "2024-01-31T00:00:00.000000000",
                    "2024-02-01T00:00:00.000000000",
                    "2024-02-02T00:00:00.000000000",
                    "2024-02-05T00:00:00.000000000",
                    "2024-02-06T00:00:00.000000000",
                    "2024-02-07T00:00:00.000000000",
                    "2024-02-08T00:00:00.000000000",
                    "2024-02-09T00:00:00.000000000",
                    "2024-02-12T00:00:00.000000000",
                    "2024-02-13T00:00:00.000000000",
                    "2024-02-14T00:00:00.000000000",
                    "2024-02-15T00:00:00.000000000",
                    "2024-02-16T00:00:00.000000000",
                    "2024-02-20T00:00:00.000000000",
                    "2024-02-21T00:00:00.000000000",
                    "2024-02-22T00:00:00.000000000",
                    "2024-02-23T00:00:00.000000000",
                    "2024-02-26T00:00:00.000000000",
                    "2024-02-27T00:00:00.000000000",
                    "2024-02-28T00:00:00.000000000",
                    "2024-02-29T00:00:00.000000000",
                    "2024-03-01T00:00:00.000000000",
                    "2024-03-04T00:00:00.000000000",
                    "2024-03-05T00:00:00.000000000",
                    "2024-03-06T00:00:00.000000000",
                    "2024-03-07T00:00:00.000000000",
                    "2024-03-08T00:00:00.000000000",
                    "2024-03-11T00:00:00.000000000",
                    "2024-03-12T00:00:00.000000000",
                    "2024-03-13T00:00:00.000000000",
                    "2024-03-14T00:00:00.000000000",
                    "2024-03-15T00:00:00.000000000",
                    "2024-03-18T00:00:00.000000000",
                    "2024-03-19T00:00:00.000000000",
                    "2024-03-20T00:00:00.000000000",
                    "2024-03-21T00:00:00.000000000",
                    "2024-03-22T00:00:00.000000000",
                    "2024-03-25T00:00:00.000000000",
                    "2024-03-26T00:00:00.000000000",
                    "2024-03-27T00:00:00.000000000",
                    "2024-03-28T00:00:00.000000000",
                    "2024-04-01T00:00:00.000000000",
                    "2024-04-02T00:00:00.000000000",
                    "2024-04-03T00:00:00.000000000",
                    "2024-04-04T00:00:00.000000000",
                    "2024-04-05T00:00:00.000000000",
                    "2024-04-08T00:00:00.000000000",
                    "2024-04-09T00:00:00.000000000",
                    "2024-04-10T00:00:00.000000000",
                    "2024-04-11T00:00:00.000000000",
                    "2024-04-12T00:00:00.000000000",
                    "2024-04-15T00:00:00.000000000",
                    "2024-04-16T00:00:00.000000000",
                    "2024-04-17T00:00:00.000000000",
                    "2024-04-18T00:00:00.000000000",
                    "2024-04-19T00:00:00.000000000",
                    "2024-04-22T00:00:00.000000000",
                    "2024-04-23T00:00:00.000000000",
                    "2024-04-24T00:00:00.000000000",
                    "2024-04-25T00:00:00.000000000",
                    "2024-04-26T00:00:00.000000000",
                    "2024-04-29T00:00:00.000000000",
                    "2024-04-30T00:00:00.000000000",
                    "2024-05-01T00:00:00.000000000",
                    "2024-05-02T00:00:00.000000000",
                    "2024-05-03T00:00:00.000000000",
                    "2024-05-06T00:00:00.000000000",
                    "2024-05-07T00:00:00.000000000",
                    "2024-05-08T00:00:00.000000000",
                    "2024-05-09T00:00:00.000000000",
                    "2024-05-10T00:00:00.000000000",
                    "2024-05-13T00:00:00.000000000",
                    "2024-05-14T00:00:00.000000000",
                    "2024-05-15T00:00:00.000000000",
                    "2024-05-16T00:00:00.000000000",
                    "2024-05-17T00:00:00.000000000",
                    "2024-05-20T00:00:00.000000000",
                    "2024-05-21T00:00:00.000000000",
                    "2024-05-22T00:00:00.000000000",
                    "2024-05-23T00:00:00.000000000",
                    "2024-05-24T00:00:00.000000000",
                    "2024-05-28T00:00:00.000000000",
                    "2024-05-29T00:00:00.000000000",
                    "2024-05-30T00:00:00.000000000",
                    "2024-05-31T00:00:00.000000000",
                    "2024-06-03T00:00:00.000000000",
                    "2024-06-04T00:00:00.000000000",
                    "2024-06-05T00:00:00.000000000",
                    "2024-06-06T00:00:00.000000000",
                    "2024-06-07T00:00:00.000000000",
                    "2024-06-10T00:00:00.000000000",
                    "2024-06-11T00:00:00.000000000",
                    "2024-06-12T00:00:00.000000000",
                    "2024-06-13T00:00:00.000000000",
                    "2024-06-14T00:00:00.000000000",
                    "2024-06-17T00:00:00.000000000",
                    "2024-06-18T00:00:00.000000000",
                    "2024-06-20T00:00:00.000000000",
                    "2024-06-21T00:00:00.000000000",
                    "2024-06-24T00:00:00.000000000",
                    "2024-06-25T00:00:00.000000000",
                    "2024-06-26T00:00:00.000000000",
                    "2024-06-27T00:00:00.000000000",
                    "2024-06-28T00:00:00.000000000",
                    "2024-07-01T00:00:00.000000000",
                    "2024-07-02T00:00:00.000000000",
                    "2024-07-03T00:00:00.000000000",
                    "2024-07-05T00:00:00.000000000",
                    "2024-07-08T00:00:00.000000000",
                    "2024-07-09T00:00:00.000000000",
                    "2024-07-10T00:00:00.000000000",
                    "2024-07-11T00:00:00.000000000",
                    "2024-07-12T00:00:00.000000000",
                    "2024-07-15T00:00:00.000000000",
                    "2024-07-16T00:00:00.000000000",
                    "2024-07-17T00:00:00.000000000",
                    "2024-07-18T00:00:00.000000000",
                    "2024-07-19T00:00:00.000000000",
                    "2024-07-22T00:00:00.000000000",
                    "2024-07-23T00:00:00.000000000",
                    "2024-07-24T00:00:00.000000000",
                    "2024-07-25T00:00:00.000000000",
                    "2024-07-26T00:00:00.000000000",
                    "2024-07-29T00:00:00.000000000",
                    "2024-07-30T00:00:00.000000000",
                    "2024-07-31T00:00:00.000000000",
                    "2024-08-01T00:00:00.000000000",
                    "2024-08-02T00:00:00.000000000",
                    "2024-08-05T00:00:00.000000000",
                    "2024-08-06T00:00:00.000000000",
                    "2024-08-07T00:00:00.000000000",
                    "2024-08-08T00:00:00.000000000",
                    "2024-08-09T00:00:00.000000000",
                    "2024-08-12T00:00:00.000000000",
                    "2024-08-13T00:00:00.000000000",
                    "2024-08-14T00:00:00.000000000",
                    "2024-08-15T00:00:00.000000000",
                    "2024-08-16T00:00:00.000000000",
                    "2024-08-19T00:00:00.000000000",
                    "2024-08-20T00:00:00.000000000",
                    "2024-08-21T00:00:00.000000000",
                    "2024-08-22T00:00:00.000000000",
                    "2024-08-23T00:00:00.000000000",
                    "2024-08-26T00:00:00.000000000",
                    "2024-08-27T00:00:00.000000000",
                    "2024-08-28T00:00:00.000000000",
                    "2024-08-29T00:00:00.000000000",
                    "2024-08-30T00:00:00.000000000",
                    "2024-09-03T00:00:00.000000000",
                    "2024-09-04T00:00:00.000000000",
                    "2024-09-05T00:00:00.000000000",
                    "2024-09-06T00:00:00.000000000",
                    "2024-09-09T00:00:00.000000000",
                    "2024-09-10T00:00:00.000000000",
                    "2024-09-11T00:00:00.000000000",
                    "2024-09-12T00:00:00.000000000",
                    "2024-09-13T00:00:00.000000000",
                    "2024-09-16T00:00:00.000000000",
                    "2024-09-17T00:00:00.000000000",
                    "2024-09-18T00:00:00.000000000",
                    "2024-09-19T00:00:00.000000000",
                    "2024-09-20T00:00:00.000000000",
                    "2024-09-23T00:00:00.000000000",
                    "2024-09-24T00:00:00.000000000",
                    "2024-09-25T00:00:00.000000000",
                    "2024-09-26T00:00:00.000000000",
                    "2024-09-27T00:00:00.000000000",
                    "2024-09-30T00:00:00.000000000",
                    "2024-10-01T00:00:00.000000000",
                    "2024-10-02T00:00:00.000000000",
                    "2024-10-03T00:00:00.000000000",
                    "2024-10-04T00:00:00.000000000",
                    "2024-10-07T00:00:00.000000000",
                    "2024-10-08T00:00:00.000000000",
                    "2024-10-09T00:00:00.000000000",
                    "2024-10-10T00:00:00.000000000",
                    "2024-10-11T00:00:00.000000000",
                    "2024-10-14T00:00:00.000000000",
                    "2024-10-15T00:00:00.000000000",
                    "2024-10-16T00:00:00.000000000",
                    "2024-10-17T00:00:00.000000000",
                    "2024-10-18T00:00:00.000000000",
                    "2024-10-21T00:00:00.000000000",
                    "2024-10-22T00:00:00.000000000",
                    "2024-10-23T00:00:00.000000000",
                    "2024-10-24T00:00:00.000000000",
                    "2024-10-25T00:00:00.000000000",
                    "2024-10-28T00:00:00.000000000",
                    "2024-10-29T00:00:00.000000000",
                    "2024-10-30T00:00:00.000000000",
                    "2024-10-31T00:00:00.000000000",
                    "2024-11-01T00:00:00.000000000",
                    "2024-11-04T00:00:00.000000000",
                    "2024-11-05T00:00:00.000000000",
                    "2024-11-06T00:00:00.000000000",
                    "2024-11-07T00:00:00.000000000",
                    "2024-11-08T00:00:00.000000000",
                    "2024-11-11T00:00:00.000000000",
                    "2024-11-12T00:00:00.000000000",
                    "2024-11-13T00:00:00.000000000",
                    "2024-11-14T00:00:00.000000000",
                    "2024-11-15T00:00:00.000000000",
                    "2024-11-18T00:00:00.000000000",
                    "2024-11-19T00:00:00.000000000",
                    "2024-11-20T00:00:00.000000000",
                    "2024-11-21T00:00:00.000000000",
                    "2024-11-22T00:00:00.000000000",
                    "2024-11-25T00:00:00.000000000",
                    "2024-11-26T00:00:00.000000000",
                    "2024-11-27T00:00:00.000000000",
                    "2024-11-29T00:00:00.000000000",
                    "2024-12-02T00:00:00.000000000",
                    "2024-12-03T00:00:00.000000000",
                    "2024-12-04T00:00:00.000000000",
                    "2024-12-05T00:00:00.000000000",
                    "2024-12-06T00:00:00.000000000",
                    "2024-12-09T00:00:00.000000000",
                    "2024-12-10T00:00:00.000000000",
                    "2024-12-11T00:00:00.000000000",
                    "2024-12-12T00:00:00.000000000",
                    "2024-12-13T00:00:00.000000000",
                    "2024-12-16T00:00:00.000000000",
                    "2024-12-17T00:00:00.000000000",
                    "2024-12-18T00:00:00.000000000",
                    "2024-12-19T00:00:00.000000000",
                    "2024-12-20T00:00:00.000000000",
                    "2024-12-23T00:00:00.000000000",
                    "2024-12-24T00:00:00.000000000",
                    "2024-12-26T00:00:00.000000000",
                    "2024-12-27T00:00:00.000000000",
                    "2024-12-30T00:00:00.000000000",
                    "2024-12-31T00:00:00.000000000",
                    "2025-01-02T00:00:00.000000000",
                    "2025-01-03T00:00:00.000000000",
                    "2025-01-06T00:00:00.000000000",
                    "2025-01-07T00:00:00.000000000",
                    "2025-01-08T00:00:00.000000000",
                    "2025-01-10T00:00:00.000000000",
                    "2025-01-13T00:00:00.000000000",
                    "2025-01-14T00:00:00.000000000",
                    "2025-01-15T00:00:00.000000000",
                    "2025-01-16T00:00:00.000000000",
                    "2025-01-17T00:00:00.000000000",
                    "2025-01-21T00:00:00.000000000",
                    "2025-01-22T00:00:00.000000000",
                    "2025-01-23T00:00:00.000000000",
                    "2025-01-24T00:00:00.000000000",
                    "2025-01-27T00:00:00.000000000",
                    "2025-01-28T00:00:00.000000000",
                    "2025-01-29T00:00:00.000000000",
                    "2025-01-30T00:00:00.000000000",
                    "2025-01-31T00:00:00.000000000",
                    "2025-02-03T00:00:00.000000000",
                    "2025-02-04T00:00:00.000000000",
                    "2025-02-05T00:00:00.000000000",
                    "2025-02-06T00:00:00.000000000",
                    "2025-02-07T00:00:00.000000000",
                    "2025-02-10T00:00:00.000000000",
                    "2025-02-11T00:00:00.000000000",
                    "2025-02-12T00:00:00.000000000",
                    "2025-02-13T00:00:00.000000000",
                    "2025-02-14T00:00:00.000000000",
                    "2025-02-18T00:00:00.000000000",
                    "2025-02-19T00:00:00.000000000",
                    "2025-02-20T00:00:00.000000000",
                    "2025-02-21T00:00:00.000000000",
                    "2025-02-24T00:00:00.000000000",
                    "2025-02-25T00:00:00.000000000",
                    "2025-02-26T00:00:00.000000000",
                    "2025-02-27T00:00:00.000000000",
                    "2025-02-28T00:00:00.000000000",
                    "2025-03-03T00:00:00.000000000",
                    "2025-03-04T00:00:00.000000000",
                    "2025-03-05T00:00:00.000000000",
                    "2025-03-06T00:00:00.000000000",
                    "2025-03-07T00:00:00.000000000",
                    "2025-03-10T00:00:00.000000000",
                    "2025-03-11T00:00:00.000000000",
                    "2025-03-12T00:00:00.000000000",
                    "2025-03-13T00:00:00.000000000",
                    "2025-03-14T00:00:00.000000000",
                    "2025-03-17T00:00:00.000000000",
                    "2025-03-18T00:00:00.000000000",
                    "2025-03-19T00:00:00.000000000",
                    "2025-03-20T00:00:00.000000000",
                    "2025-03-21T00:00:00.000000000",
                    "2025-03-24T00:00:00.000000000",
                    "2025-03-25T00:00:00.000000000",
                    "2025-03-26T00:00:00.000000000",
                    "2025-03-27T00:00:00.000000000",
                    "2025-03-28T00:00:00.000000000",
                    "2025-03-31T00:00:00.000000000",
                    "2025-04-01T00:00:00.000000000",
                    "2025-04-02T00:00:00.000000000",
                    "2025-04-03T00:00:00.000000000",
                    "2025-04-04T00:00:00.000000000",
                    "2025-04-07T00:00:00.000000000",
                    "2025-04-08T00:00:00.000000000",
                    "2025-04-09T00:00:00.000000000",
                    "2025-04-10T00:00:00.000000000",
                    "2025-04-11T00:00:00.000000000",
                    "2025-04-14T00:00:00.000000000",
                    "2025-04-15T00:00:00.000000000",
                    "2025-04-16T00:00:00.000000000",
                    "2025-04-17T00:00:00.000000000",
                    "2025-04-21T00:00:00.000000000",
                    "2025-04-22T00:00:00.000000000",
                    "2025-04-23T00:00:00.000000000",
                    "2025-04-24T00:00:00.000000000",
                    "2025-04-25T00:00:00.000000000",
                    "2025-04-28T00:00:00.000000000",
                    "2025-04-29T00:00:00.000000000",
                    "2025-04-30T00:00:00.000000000",
                    "2025-05-01T00:00:00.000000000",
                    "2025-05-02T00:00:00.000000000",
                    "2025-05-05T00:00:00.000000000",
                    "2025-05-06T00:00:00.000000000",
                    "2025-05-07T00:00:00.000000000",
                    "2025-05-08T00:00:00.000000000",
                    "2025-05-09T00:00:00.000000000",
                    "2025-05-12T00:00:00.000000000",
                    "2025-05-13T00:00:00.000000000",
                    "2025-05-14T00:00:00.000000000",
                    "2025-05-15T00:00:00.000000000",
                    "2025-05-16T00:00:00.000000000",
                    "2025-05-19T00:00:00.000000000",
                    "2025-05-20T00:00:00.000000000",
                    "2025-05-21T00:00:00.000000000",
                    "2025-05-22T00:00:00.000000000",
                    "2025-05-23T00:00:00.000000000",
                    "2025-05-27T00:00:00.000000000",
                    "2025-05-28T00:00:00.000000000",
                    "2025-05-29T00:00:00.000000000",
                    "2025-05-30T00:00:00.000000000",
                    "2025-06-02T00:00:00.000000000",
                    "2025-06-03T00:00:00.000000000",
                    "2025-06-04T00:00:00.000000000",
                    "2025-06-05T00:00:00.000000000",
                    "2025-06-06T00:00:00.000000000",
                    "2025-06-09T00:00:00.000000000",
                    "2025-06-10T00:00:00.000000000",
                    "2025-06-11T00:00:00.000000000",
                    "2025-06-12T00:00:00.000000000",
                    "2025-06-13T00:00:00.000000000",
                    "2025-06-16T00:00:00.000000000",
                    "2025-06-17T00:00:00.000000000",
                    "2025-06-18T00:00:00.000000000",
                    "2025-06-20T00:00:00.000000000",
                    "2025-06-23T00:00:00.000000000",
                    "2025-06-24T00:00:00.000000000",
                    "2025-06-25T00:00:00.000000000",
                    "2025-06-26T00:00:00.000000000",
                    "2025-06-27T00:00:00.000000000",
                    "2025-06-30T00:00:00.000000000",
                    "2025-07-01T00:00:00.000000000",
                    "2025-07-02T00:00:00.000000000",
                    "2025-07-03T00:00:00.000000000",
                    "2025-07-07T00:00:00.000000000",
                    "2025-07-08T00:00:00.000000000",
                    "2025-07-09T00:00:00.000000000",
                    "2025-07-10T00:00:00.000000000",
                    "2025-07-11T00:00:00.000000000",
                    "2025-07-14T00:00:00.000000000",
                    "2025-07-15T00:00:00.000000000",
                    "2025-07-16T00:00:00.000000000",
                    "2025-07-17T00:00:00.000000000",
                    "2025-07-18T00:00:00.000000000",
                    "2025-07-21T00:00:00.000000000",
                    "2025-07-22T00:00:00.000000000",
                    "2025-07-23T00:00:00.000000000",
                    "2025-07-24T00:00:00.000000000",
                    "2025-07-25T00:00:00.000000000",
                    "2025-07-28T00:00:00.000000000",
                    "2025-07-29T00:00:00.000000000",
                    "2025-07-30T00:00:00.000000000",
                    "2025-07-31T00:00:00.000000000",
                    "2025-08-01T00:00:00.000000000",
                    "2025-08-04T00:00:00.000000000",
                    "2025-08-05T00:00:00.000000000",
                    "2025-08-06T00:00:00.000000000",
                    "2025-08-07T00:00:00.000000000",
                    "2025-08-08T00:00:00.000000000",
                    "2025-08-11T00:00:00.000000000",
                    "2025-08-12T00:00:00.000000000",
                    "2025-08-13T00:00:00.000000000",
                    "2025-08-14T00:00:00.000000000",
                    "2025-08-15T00:00:00.000000000",
                    "2025-08-18T00:00:00.000000000",
                    "2025-08-19T00:00:00.000000000",
                    "2025-08-20T00:00:00.000000000",
                    "2025-08-21T00:00:00.000000000",
                    "2025-08-22T00:00:00.000000000",
                    "2025-08-25T00:00:00.000000000",
                    "2025-08-26T00:00:00.000000000",
                    "2025-08-27T00:00:00.000000000",
                    "2025-08-28T00:00:00.000000000",
                    "2025-08-29T00:00:00.000000000",
                    "2025-09-02T00:00:00.000000000",
                    "2025-09-03T00:00:00.000000000",
                    "2025-09-04T00:00:00.000000000",
                    "2025-09-05T00:00:00.000000000",
                    "2025-09-08T00:00:00.000000000",
                    "2025-09-09T00:00:00.000000000",
                    "2025-09-10T00:00:00.000000000",
                    "2025-09-11T00:00:00.000000000",
                    "2025-09-12T00:00:00.000000000",
                    "2025-09-15T00:00:00.000000000",
                    "2025-09-16T00:00:00.000000000",
                    "2025-09-17T00:00:00.000000000",
                    "2025-09-18T00:00:00.000000000",
                    "2025-09-19T00:00:00.000000000",
                    "2025-09-22T00:00:00.000000000",
                    "2025-09-23T00:00:00.000000000",
                    "2025-09-24T00:00:00.000000000",
                    "2025-09-25T00:00:00.000000000",
                    "2025-09-26T00:00:00.000000000",
                    "2025-09-29T00:00:00.000000000",
                    "2025-09-30T00:00:00.000000000",
                    "2025-10-01T00:00:00.000000000",
                    "2025-10-02T00:00:00.000000000",
                    "2025-10-03T00:00:00.000000000",
                    "2025-10-06T00:00:00.000000000",
                    "2025-10-07T00:00:00.000000000",
                    "2025-10-08T00:00:00.000000000",
                    "2025-10-09T00:00:00.000000000",
                    "2025-10-10T00:00:00.000000000"
                  ]
                }
              ],
              "layout": {
                "template": {
                  "data": {
                    "bar": [
                      {
                        "error_x": {
                          "color": "#2a3f5f"
                        },
                        "error_y": {
                          "color": "#2a3f5f"
                        },
                        "marker": {
                          "line": {
                            "color": "#E5ECF6",
                            "width": 0.5
                          },
                          "pattern": {
                            "fillmode": "overlay",
                            "size": 10,
                            "solidity": 0.2
                          }
                        },
                        "type": "bar"
                      }
                    ],
                    "barpolar": [
                      {
                        "marker": {
                          "line": {
                            "color": "#E5ECF6",
                            "width": 0.5
                          },
                          "pattern": {
                            "fillmode": "overlay",
                            "size": 10,
                            "solidity": 0.2
                          }
                        },
                        "type": "barpolar"
                      }
                    ],
                    "carpet": [
                      {
                        "aaxis": {
                          "endlinecolor": "#2a3f5f",
                          "gridcolor": "white",
                          "linecolor": "white",
                          "minorgridcolor": "white",
                          "startlinecolor": "#2a3f5f"
                        },
                        "baxis": {
                          "endlinecolor": "#2a3f5f",
                          "gridcolor": "white",
                          "linecolor": "white",
                          "minorgridcolor": "white",
                          "startlinecolor": "#2a3f5f"
                        },
                        "type": "carpet"
                      }
                    ],
                    "choropleth": [
                      {
                        "colorbar": {
                          "outlinewidth": 0,
                          "ticks": ""
                        },
                        "type": "choropleth"
                      }
                    ],
                    "contour": [
                      {
                        "colorbar": {
                          "outlinewidth": 0,
                          "ticks": ""
                        },
                        "colorscale": [
                          [
                            0,
                            "#0d0887"
                          ],
                          [
                            0.1111111111111111,
                            "#46039f"
                          ],
                          [
                            0.2222222222222222,
                            "#7201a8"
                          ],
                          [
                            0.3333333333333333,
                            "#9c179e"
                          ],
                          [
                            0.4444444444444444,
                            "#bd3786"
                          ],
                          [
                            0.5555555555555556,
                            "#d8576b"
                          ],
                          [
                            0.6666666666666666,
                            "#ed7953"
                          ],
                          [
                            0.7777777777777778,
                            "#fb9f3a"
                          ],
                          [
                            0.8888888888888888,
                            "#fdca26"
                          ],
                          [
                            1,
                            "#f0f921"
                          ]
                        ],
                        "type": "contour"
                      }
                    ],
                    "contourcarpet": [
                      {
                        "colorbar": {
                          "outlinewidth": 0,
                          "ticks": ""
                        },
                        "type": "contourcarpet"
                      }
                    ],
                    "heatmap": [
                      {
                        "colorbar": {
                          "outlinewidth": 0,
                          "ticks": ""
                        },
                        "colorscale": [
                          [
                            0,
                            "#0d0887"
                          ],
                          [
                            0.1111111111111111,
                            "#46039f"
                          ],
                          [
                            0.2222222222222222,
                            "#7201a8"
                          ],
                          [
                            0.3333333333333333,
                            "#9c179e"
                          ],
                          [
                            0.4444444444444444,
                            "#bd3786"
                          ],
                          [
                            0.5555555555555556,
                            "#d8576b"
                          ],
                          [
                            0.6666666666666666,
                            "#ed7953"
                          ],
                          [
                            0.7777777777777778,
                            "#fb9f3a"
                          ],
                          [
                            0.8888888888888888,
                            "#fdca26"
                          ],
                          [
                            1,
                            "#f0f921"
                          ]
                        ],
                        "type": "heatmap"
                      }
                    ],
                    "histogram": [
                      {
                        "marker": {
                          "pattern": {
                            "fillmode": "overlay",
                            "size": 10,
                            "solidity": 0.2
                          }
                        },
                        "type": "histogram"
                      }
                    ],
                    "histogram2d": [
                      {
                        "colorbar": {
                          "outlinewidth": 0,
                          "ticks": ""
                        },
                        "colorscale": [
                          [
                            0,
                            "#0d0887"
                          ],
                          [
                            0.1111111111111111,
                            "#46039f"
                          ],
                          [
                            0.2222222222222222,
                            "#7201a8"
                          ],
                          [
                            0.3333333333333333,
                            "#9c179e"
                          ],
                          [
                            0.4444444444444444,
                            "#bd3786"
                          ],
                          [
                            0.5555555555555556,
                            "#d8576b"
                          ],
                          [
                            0.6666666666666666,
                            "#ed7953"
                          ],
                          [
                            0.7777777777777778,
                            "#fb9f3a"
                          ],
                          [
                            0.8888888888888888,
                            "#fdca26"
                          ],
                          [
                            1,
                            "#f0f921"
                          ]
                        ],
                        "type": "histogram2d"
                      }
                    ],
                    "histogram2dcontour": [
                      {
                        "colorbar": {
                          "outlinewidth": 0,
                          "ticks": ""
                        },
                        "colorscale": [
                          [
                            0,
                            "#0d0887"
                          ],
                          [
                            0.1111111111111111,
                            "#46039f"
                          ],
                          [
                            0.2222222222222222,
                            "#7201a8"
                          ],
                          [
                            0.3333333333333333,
                            "#9c179e"
                          ],
                          [
                            0.4444444444444444,
                            "#bd3786"
                          ],
                          [
                            0.5555555555555556,
                            "#d8576b"
                          ],
                          [
                            0.6666666666666666,
                            "#ed7953"
                          ],
                          [
                            0.7777777777777778,
                            "#fb9f3a"
                          ],
                          [
                            0.8888888888888888,
                            "#fdca26"
                          ],
                          [
                            1,
                            "#f0f921"
                          ]
                        ],
                        "type": "histogram2dcontour"
                      }
                    ],
                    "mesh3d": [
                      {
                        "colorbar": {
                          "outlinewidth": 0,
                          "ticks": ""
                        },
                        "type": "mesh3d"
                      }
                    ],
                    "parcoords": [
                      {
                        "line": {
                          "colorbar": {
                            "outlinewidth": 0,
                            "ticks": ""
                          }
                        },
                        "type": "parcoords"
                      }
                    ],
                    "pie": [
                      {
                        "automargin": true,
                        "type": "pie"
                      }
                    ],
                    "scatter": [
                      {
                        "fillpattern": {
                          "fillmode": "overlay",
                          "size": 10,
                          "solidity": 0.2
                        },
                        "type": "scatter"
                      }
                    ],
                    "scatter3d": [
                      {
                        "line": {
                          "colorbar": {
                            "outlinewidth": 0,
                            "ticks": ""
                          }
                        },
                        "marker": {
                          "colorbar": {
                            "outlinewidth": 0,
                            "ticks": ""
                          }
                        },
                        "type": "scatter3d"
                      }
                    ],
                    "scattercarpet": [
                      {
                        "marker": {
                          "colorbar": {
                            "outlinewidth": 0,
                            "ticks": ""
                          }
                        },
                        "type": "scattercarpet"
                      }
                    ],
                    "scattergeo": [
                      {
                        "marker": {
                          "colorbar": {
                            "outlinewidth": 0,
                            "ticks": ""
                          }
                        },
                        "type": "scattergeo"
                      }
                    ],
                    "scattergl": [
                      {
                        "marker": {
                          "colorbar": {
                            "outlinewidth": 0,
                            "ticks": ""
                          }
                        },
                        "type": "scattergl"
                      }
                    ],
                    "scattermap": [
                      {
                        "marker": {
                          "colorbar": {
                            "outlinewidth": 0,
                            "ticks": ""
                          }
                        },
                        "type": "scattermap"
                      }
                    ],
                    "scattermapbox": [
                      {
                        "marker": {
                          "colorbar": {
                            "outlinewidth": 0,
                            "ticks": ""
                          }
                        },
                        "type": "scattermapbox"
                      }
                    ],
                    "scatterpolar": [
                      {
                        "marker": {
                          "colorbar": {
                            "outlinewidth": 0,
                            "ticks": ""
                          }
                        },
                        "type": "scatterpolar"
                      }
                    ],
                    "scatterpolargl": [
                      {
                        "marker": {
                          "colorbar": {
                            "outlinewidth": 0,
                            "ticks": ""
                          }
                        },
                        "type": "scatterpolargl"
                      }
                    ],
                    "scatterternary": [
                      {
                        "marker": {
                          "colorbar": {
                            "outlinewidth": 0,
                            "ticks": ""
                          }
                        },
                        "type": "scatterternary"
                      }
                    ],
                    "surface": [
                      {
                        "colorbar": {
                          "outlinewidth": 0,
                          "ticks": ""
                        },
                        "colorscale": [
                          [
                            0,
                            "#0d0887"
                          ],
                          [
                            0.1111111111111111,
                            "#46039f"
                          ],
                          [
                            0.2222222222222222,
                            "#7201a8"
                          ],
                          [
                            0.3333333333333333,
                            "#9c179e"
                          ],
                          [
                            0.4444444444444444,
                            "#bd3786"
                          ],
                          [
                            0.5555555555555556,
                            "#d8576b"
                          ],
                          [
                            0.6666666666666666,
                            "#ed7953"
                          ],
                          [
                            0.7777777777777778,
                            "#fb9f3a"
                          ],
                          [
                            0.8888888888888888,
                            "#fdca26"
                          ],
                          [
                            1,
                            "#f0f921"
                          ]
                        ],
                        "type": "surface"
                      }
                    ],
                    "table": [
                      {
                        "cells": {
                          "fill": {
                            "color": "#EBF0F8"
                          },
                          "line": {
                            "color": "white"
                          }
                        },
                        "header": {
                          "fill": {
                            "color": "#C8D4E3"
                          },
                          "line": {
                            "color": "white"
                          }
                        },
                        "type": "table"
                      }
                    ]
                  },
                  "layout": {
                    "annotationdefaults": {
                      "arrowcolor": "#2a3f5f",
                      "arrowhead": 0,
                      "arrowwidth": 1
                    },
                    "autotypenumbers": "strict",
                    "coloraxis": {
                      "colorbar": {
                        "outlinewidth": 0,
                        "ticks": ""
                      }
                    },
                    "colorscale": {
                      "diverging": [
                        [
                          0,
                          "#8e0152"
                        ],
                        [
                          0.1,
                          "#c51b7d"
                        ],
                        [
                          0.2,
                          "#de77ae"
                        ],
                        [
                          0.3,
                          "#f1b6da"
                        ],
                        [
                          0.4,
                          "#fde0ef"
                        ],
                        [
                          0.5,
                          "#f7f7f7"
                        ],
                        [
                          0.6,
                          "#e6f5d0"
                        ],
                        [
                          0.7,
                          "#b8e186"
                        ],
                        [
                          0.8,
                          "#7fbc41"
                        ],
                        [
                          0.9,
                          "#4d9221"
                        ],
                        [
                          1,
                          "#276419"
                        ]
                      ],
                      "sequential": [
                        [
                          0,
                          "#0d0887"
                        ],
                        [
                          0.1111111111111111,
                          "#46039f"
                        ],
                        [
                          0.2222222222222222,
                          "#7201a8"
                        ],
                        [
                          0.3333333333333333,
                          "#9c179e"
                        ],
                        [
                          0.4444444444444444,
                          "#bd3786"
                        ],
                        [
                          0.5555555555555556,
                          "#d8576b"
                        ],
                        [
                          0.6666666666666666,
                          "#ed7953"
                        ],
                        [
                          0.7777777777777778,
                          "#fb9f3a"
                        ],
                        [
                          0.8888888888888888,
                          "#fdca26"
                        ],
                        [
                          1,
                          "#f0f921"
                        ]
                      ],
                      "sequentialminus": [
                        [
                          0,
                          "#0d0887"
                        ],
                        [
                          0.1111111111111111,
                          "#46039f"
                        ],
                        [
                          0.2222222222222222,
                          "#7201a8"
                        ],
                        [
                          0.3333333333333333,
                          "#9c179e"
                        ],
                        [
                          0.4444444444444444,
                          "#bd3786"
                        ],
                        [
                          0.5555555555555556,
                          "#d8576b"
                        ],
                        [
                          0.6666666666666666,
                          "#ed7953"
                        ],
                        [
                          0.7777777777777778,
                          "#fb9f3a"
                        ],
                        [
                          0.8888888888888888,
                          "#fdca26"
                        ],
                        [
                          1,
                          "#f0f921"
                        ]
                      ]
                    },
                    "colorway": [
                      "#636efa",
                      "#EF553B",
                      "#00cc96",
                      "#ab63fa",
                      "#FFA15A",
                      "#19d3f3",
                      "#FF6692",
                      "#B6E880",
                      "#FF97FF",
                      "#FECB52"
                    ],
                    "font": {
                      "color": "#2a3f5f"
                    },
                    "geo": {
                      "bgcolor": "white",
                      "lakecolor": "white",
                      "landcolor": "#E5ECF6",
                      "showlakes": true,
                      "showland": true,
                      "subunitcolor": "white"
                    },
                    "hoverlabel": {
                      "align": "left"
                    },
                    "hovermode": "closest",
                    "mapbox": {
                      "style": "light"
                    },
                    "paper_bgcolor": "white",
                    "plot_bgcolor": "#E5ECF6",
                    "polar": {
                      "angularaxis": {
                        "gridcolor": "white",
                        "linecolor": "white",
                        "ticks": ""
                      },
                      "bgcolor": "#E5ECF6",
                      "radialaxis": {
                        "gridcolor": "white",
                        "linecolor": "white",
                        "ticks": ""
                      }
                    },
                    "scene": {
                      "xaxis": {
                        "backgroundcolor": "#E5ECF6",
                        "gridcolor": "white",
                        "gridwidth": 2,
                        "linecolor": "white",
                        "showbackground": true,
                        "ticks": "",
                        "zerolinecolor": "white"
                      },
                      "yaxis": {
                        "backgroundcolor": "#E5ECF6",
                        "gridcolor": "white",
                        "gridwidth": 2,
                        "linecolor": "white",
                        "showbackground": true,
                        "ticks": "",
                        "zerolinecolor": "white"
                      },
                      "zaxis": {
                        "backgroundcolor": "#E5ECF6",
                        "gridcolor": "white",
                        "gridwidth": 2,
                        "linecolor": "white",
                        "showbackground": true,
                        "ticks": "",
                        "zerolinecolor": "white"
                      }
                    },
                    "shapedefaults": {
                      "line": {
                        "color": "#2a3f5f"
                      }
                    },
                    "ternary": {
                      "aaxis": {
                        "gridcolor": "white",
                        "linecolor": "white",
                        "ticks": ""
                      },
                      "baxis": {
                        "gridcolor": "white",
                        "linecolor": "white",
                        "ticks": ""
                      },
                      "bgcolor": "#E5ECF6",
                      "caxis": {
                        "gridcolor": "white",
                        "linecolor": "white",
                        "ticks": ""
                      }
                    },
                    "title": {
                      "x": 0.05
                    },
                    "xaxis": {
                      "automargin": true,
                      "gridcolor": "white",
                      "linecolor": "white",
                      "ticks": "",
                      "title": {
                        "standoff": 15
                      },
                      "zerolinecolor": "white",
                      "zerolinewidth": 2
                    },
                    "yaxis": {
                      "automargin": true,
                      "gridcolor": "white",
                      "linecolor": "white",
                      "ticks": "",
                      "title": {
                        "standoff": 15
                      },
                      "zerolinecolor": "white",
                      "zerolinewidth": 2
                    }
                  }
                }
              }
            }
          },
          "metadata": {},
          "output_type": "display_data"
        }
      ],
      "source": [
        "import plotly.graph_objects as go\n",
        "\n",
        "assert df_MSFT is not None\n",
        "\n",
        "fig = go.Figure(data=[go.Candlestick(x=df_MSFT.index,\n",
        "                open=df_MSFT['Open'],\n",
        "                high=df_MSFT['High'],\n",
        "                low=df_MSFT['Low'],\n",
        "                close=df_MSFT['Close'])])\n",
        "\n",
        "fig.show()"
      ]
    },
    {
      "attachments": {},
      "cell_type": "markdown",
      "id": "2ff41f65-b28f-49ea-874d-e1847d293d00",
      "metadata": {},
      "source": [
        "## Export the data"
      ]
    },
    {
      "attachments": {},
      "cell_type": "markdown",
      "id": "9a287b6d-fddd-4796-80ba-cdbeb4278758",
      "metadata": {},
      "source": [
        "### Microsoft data"
      ]
    },
    {
      "attachments": {},
      "cell_type": "markdown",
      "id": "f72a39da-f47e-4e8b-8399-0d5dc91497f5",
      "metadata": {},
      "source": [
        "#### Drop `Adj Close`\n",
        "\n",
        "- To not confuse the `Close` and `Adj Close`"
      ]
    },
    {
      "cell_type": "code",
      "execution_count": null,
      "id": "a0243b4a-174e-42dc-9d32-d4e726ce7caf",
      "metadata": {},
      "outputs": [],
      "source": [
        "# df_MSFT = df_MSFT.drop(columns='Adj Close')\n",
        "# MSFT does not have column named 'Adj Close'"
      ]
    },
    {
      "attachments": {},
      "cell_type": "markdown",
      "id": "70e7534d-30f4-432d-bc96-c9e6a50476a9",
      "metadata": {},
      "source": [
        "#### To Excel\n",
        "\n",
        "- Create a folder called `data`"
      ]
    },
    {
      "cell_type": "code",
      "execution_count": 31,
      "id": "75790a6f-bc11-40c2-8553-ce30e23af441",
      "metadata": {},
      "outputs": [],
      "source": [
        "assert df_MSFT is not None\n",
        "df_MSFT.to_excel('data/MSFT_stock_price_historical_daily.xlsx')"
      ]
    },
    {
      "attachments": {},
      "cell_type": "markdown",
      "id": "efd741d9-a8f4-4239-8fec-e3fcd1653130",
      "metadata": {},
      "source": [
        "#### To CSV\n",
        "\n",
        "- Less size in memory"
      ]
    },
    {
      "cell_type": "code",
      "execution_count": 32,
      "id": "c2e07e01-5da0-40da-a6c4-78a4dba5a0cb",
      "metadata": {},
      "outputs": [],
      "source": [
        "assert df_MSFT is not None\n",
        "df_MSFT.to_csv('data/MSFT.csv')"
      ]
    },
    {
      "attachments": {},
      "cell_type": "markdown",
      "id": "f9d779ac-c6df-4ee6-b86f-148509371e3c",
      "metadata": {},
      "source": [
        "### Bitcoin data altogether (step by step)"
      ]
    },
    {
      "attachments": {},
      "cell_type": "markdown",
      "id": "c1d2148c-965c-4a46-8584-656d61f6b45c",
      "metadata": {},
      "source": [
        "#### Define ticker"
      ]
    },
    {
      "cell_type": "code",
      "execution_count": null,
      "id": "a9e9f522-512e-42f8-bbd4-ae443c8b6167",
      "metadata": {},
      "outputs": [],
      "source": [
        "ticker = 'BTC-USD'\n",
        "ticker"
      ]
    },
    {
      "attachments": {},
      "cell_type": "markdown",
      "id": "816e3d92-4497-41b7-8c89-ff0127d3a316",
      "metadata": {},
      "source": [
        "#### Download OLHVC"
      ]
    },
    {
      "cell_type": "code",
      "execution_count": null,
      "id": "3e9776c3-5993-4417-b57f-bf922db21272",
      "metadata": {},
      "outputs": [],
      "source": [
        "df_ticker = yf.download(ticker, multi_level_index=False, auto_adjust=False)\n",
        "df_ticker"
      ]
    },
    {
      "attachments": {},
      "cell_type": "markdown",
      "id": "754dd8e7-b2b1-4fe3-bd90-c4ae5ca7a70d",
      "metadata": {},
      "source": [
        "#### Create file path"
      ]
    },
    {
      "cell_type": "code",
      "execution_count": null,
      "id": "cefdc858-2f92-47ce-ae55-18fb91378d54",
      "metadata": {},
      "outputs": [],
      "source": [
        "file_path = f'data/{ticker}.xlsx'\n",
        "file_path"
      ]
    },
    {
      "attachments": {},
      "cell_type": "markdown",
      "id": "a5b5638b-3c9c-43f2-9499-587843dbe79c",
      "metadata": {},
      "source": [
        "#### Export to Excel"
      ]
    },
    {
      "cell_type": "code",
      "execution_count": null,
      "id": "15af432a-11e6-47d1-bb25-37f79ba9a029",
      "metadata": {},
      "outputs": [],
      "source": [
        "df_ticker.to_excel(file_path)"
      ]
    },
    {
      "attachments": {},
      "cell_type": "markdown",
      "id": "6b378335-82fd-43ee-9333-6b5d0c9f8a9f",
      "metadata": {},
      "source": [
        "#### Export to CSV"
      ]
    },
    {
      "cell_type": "code",
      "execution_count": null,
      "id": "6fa62253-0b42-440f-91ab-6762f7d13ae4",
      "metadata": {},
      "outputs": [],
      "source": [
        "df_ticker.to_csv(f'data/{ticker}.csv')"
      ]
    },
    {
      "attachments": {},
      "cell_type": "markdown",
      "id": "5f8d2e45-4f3e-43fd-a6f0-38f7babad3b4",
      "metadata": {},
      "source": [
        "#### Snippet"
      ]
    },
    {
      "cell_type": "code",
      "execution_count": null,
      "id": "f4f73b54-a83e-4ffa-b40f-243503716165",
      "metadata": {},
      "outputs": [],
      "source": [
        "ticker = 'TSLA'\n",
        "df_ticker = yf.download(ticker, multi_level_index=False, auto_adjust=False)\n",
        "df_ticker.to_excel(f'data/{ticker}.xlsx')\n",
        "df_ticker.to_csv(f'data/{ticker}.csv')"
      ]
    },
    {
      "attachments": {},
      "cell_type": "markdown",
      "id": "b61efee3-37fe-4d3c-8119-1d05c8f262d4",
      "metadata": {},
      "source": [
        "## [ ] Data Preprocessing"
      ]
    },
    {
      "cell_type": "code",
      "execution_count": null,
      "id": "239feeb1",
      "metadata": {},
      "outputs": [],
      "source": [
        "???"
      ]
    },
    {
      "attachments": {},
      "cell_type": "markdown",
      "id": "89c3da3e-7cf8-4a13-af6e-449e00657208",
      "metadata": {},
      "source": [
        "### Load the data"
      ]
    },
    {
      "cell_type": "code",
      "execution_count": 39,
      "id": "791f30e0",
      "metadata": {},
      "outputs": [
        {
          "data": {
            "text/html": [
              "<div>\n",
              "<style scoped>\n",
              "    .dataframe tbody tr th:only-of-type {\n",
              "        vertical-align: middle;\n",
              "    }\n",
              "\n",
              "    .dataframe tbody tr th {\n",
              "        vertical-align: top;\n",
              "    }\n",
              "\n",
              "    .dataframe thead th {\n",
              "        text-align: right;\n",
              "    }\n",
              "</style>\n",
              "<table border=\"1\" class=\"dataframe\">\n",
              "  <thead>\n",
              "    <tr style=\"text-align: right;\">\n",
              "      <th></th>\n",
              "      <th>Open</th>\n",
              "      <th>High</th>\n",
              "      <th>Low</th>\n",
              "      <th>Close</th>\n",
              "      <th>Volume</th>\n",
              "    </tr>\n",
              "    <tr>\n",
              "      <th>Date</th>\n",
              "      <th></th>\n",
              "      <th></th>\n",
              "      <th></th>\n",
              "      <th></th>\n",
              "      <th></th>\n",
              "    </tr>\n",
              "  </thead>\n",
              "  <tbody>\n",
              "    <tr>\n",
              "      <th>1986-03-13</th>\n",
              "      <td>0.088542</td>\n",
              "      <td>0.101563</td>\n",
              "      <td>0.088542</td>\n",
              "      <td>0.097222</td>\n",
              "      <td>1031788800</td>\n",
              "    </tr>\n",
              "    <tr>\n",
              "      <th>1986-03-14</th>\n",
              "      <td>0.097222</td>\n",
              "      <td>0.102431</td>\n",
              "      <td>0.097222</td>\n",
              "      <td>0.100694</td>\n",
              "      <td>308160000</td>\n",
              "    </tr>\n",
              "    <tr>\n",
              "      <th>1986-03-17</th>\n",
              "      <td>0.100694</td>\n",
              "      <td>0.103299</td>\n",
              "      <td>0.100694</td>\n",
              "      <td>0.102431</td>\n",
              "      <td>133171200</td>\n",
              "    </tr>\n",
              "    <tr>\n",
              "      <th>1986-03-18</th>\n",
              "      <td>0.102431</td>\n",
              "      <td>0.103299</td>\n",
              "      <td>0.098958</td>\n",
              "      <td>0.099826</td>\n",
              "      <td>67766400</td>\n",
              "    </tr>\n",
              "    <tr>\n",
              "      <th>1986-03-19</th>\n",
              "      <td>0.099826</td>\n",
              "      <td>0.100694</td>\n",
              "      <td>0.097222</td>\n",
              "      <td>0.098090</td>\n",
              "      <td>47894400</td>\n",
              "    </tr>\n",
              "    <tr>\n",
              "      <th>...</th>\n",
              "      <td>...</td>\n",
              "      <td>...</td>\n",
              "      <td>...</td>\n",
              "      <td>...</td>\n",
              "      <td>...</td>\n",
              "    </tr>\n",
              "    <tr>\n",
              "      <th>2023-05-22</th>\n",
              "      <td>318.600006</td>\n",
              "      <td>322.589996</td>\n",
              "      <td>318.010010</td>\n",
              "      <td>321.179993</td>\n",
              "      <td>24115700</td>\n",
              "    </tr>\n",
              "    <tr>\n",
              "      <th>2023-05-23</th>\n",
              "      <td>320.029999</td>\n",
              "      <td>322.720001</td>\n",
              "      <td>315.250000</td>\n",
              "      <td>315.260010</td>\n",
              "      <td>30797200</td>\n",
              "    </tr>\n",
              "    <tr>\n",
              "      <th>2023-05-24</th>\n",
              "      <td>314.730011</td>\n",
              "      <td>316.500000</td>\n",
              "      <td>312.609985</td>\n",
              "      <td>313.850006</td>\n",
              "      <td>23384900</td>\n",
              "    </tr>\n",
              "    <tr>\n",
              "      <th>2023-05-25</th>\n",
              "      <td>323.239990</td>\n",
              "      <td>326.899994</td>\n",
              "      <td>320.000000</td>\n",
              "      <td>325.920013</td>\n",
              "      <td>43301700</td>\n",
              "    </tr>\n",
              "    <tr>\n",
              "      <th>2023-05-26</th>\n",
              "      <td>324.019989</td>\n",
              "      <td>333.399994</td>\n",
              "      <td>323.880005</td>\n",
              "      <td>332.890015</td>\n",
              "      <td>36600900</td>\n",
              "    </tr>\n",
              "  </tbody>\n",
              "</table>\n",
              "<p>9378 rows × 5 columns</p>\n",
              "</div>"
            ],
            "text/plain": [
              "                  Open        High         Low       Close      Volume\n",
              "Date                                                                  \n",
              "1986-03-13    0.088542    0.101563    0.088542    0.097222  1031788800\n",
              "1986-03-14    0.097222    0.102431    0.097222    0.100694   308160000\n",
              "1986-03-17    0.100694    0.103299    0.100694    0.102431   133171200\n",
              "1986-03-18    0.102431    0.103299    0.098958    0.099826    67766400\n",
              "1986-03-19    0.099826    0.100694    0.097222    0.098090    47894400\n",
              "...                ...         ...         ...         ...         ...\n",
              "2023-05-22  318.600006  322.589996  318.010010  321.179993    24115700\n",
              "2023-05-23  320.029999  322.720001  315.250000  315.260010    30797200\n",
              "2023-05-24  314.730011  316.500000  312.609985  313.850006    23384900\n",
              "2023-05-25  323.239990  326.899994  320.000000  325.920013    43301700\n",
              "2023-05-26  324.019989  333.399994  323.880005  332.890015    36600900\n",
              "\n",
              "[9378 rows x 5 columns]"
            ]
          },
          "execution_count": 39,
          "metadata": {},
          "output_type": "execute_result"
        }
      ],
      "source": [
        "import pandas as pd\n",
        "\n",
        "df_microsoft = pd.read_excel(\n",
        "    'data/Microsoft_Stock_Price_Historical_Daily.xlsx',\n",
        "    parse_dates=['Date'], index_col=0\n",
        ")\n",
        "\n",
        "df_microsoft"
      ]
    },
    {
      "attachments": {},
      "cell_type": "markdown",
      "id": "04cf04bc-5f89-4362-b6e7-9bd8254a86b8",
      "metadata": {},
      "source": [
        "### Filter the data"
      ]
    },
    {
      "attachments": {},
      "cell_type": "markdown",
      "id": "bae566d6-761b-4256-ac8c-5c8de59e6daf",
      "metadata": {},
      "source": [
        "![](src/Microsoft_x_LinkedIn.png)"
      ]
    },
    {
      "cell_type": "code",
      "execution_count": 41,
      "id": "dc5cd7e4",
      "metadata": {},
      "outputs": [],
      "source": [
        "microsoft_linkedin = df_microsoft.loc['2016-12-08':,:].copy()"
      ]
    },
    {
      "cell_type": "code",
      "execution_count": 43,
      "id": "b37be1ab",
      "metadata": {},
      "outputs": [
        {
          "data": {
            "text/html": [
              "<div>\n",
              "<style scoped>\n",
              "    .dataframe tbody tr th:only-of-type {\n",
              "        vertical-align: middle;\n",
              "    }\n",
              "\n",
              "    .dataframe tbody tr th {\n",
              "        vertical-align: top;\n",
              "    }\n",
              "\n",
              "    .dataframe thead th {\n",
              "        text-align: right;\n",
              "    }\n",
              "</style>\n",
              "<table border=\"1\" class=\"dataframe\">\n",
              "  <thead>\n",
              "    <tr style=\"text-align: right;\">\n",
              "      <th></th>\n",
              "      <th>Open</th>\n",
              "      <th>High</th>\n",
              "      <th>Low</th>\n",
              "      <th>Close</th>\n",
              "      <th>Volume</th>\n",
              "    </tr>\n",
              "    <tr>\n",
              "      <th>Date</th>\n",
              "      <th></th>\n",
              "      <th></th>\n",
              "      <th></th>\n",
              "      <th></th>\n",
              "      <th></th>\n",
              "    </tr>\n",
              "  </thead>\n",
              "  <tbody>\n",
              "    <tr>\n",
              "      <th>2016-12-08</th>\n",
              "      <td>61.299999</td>\n",
              "      <td>61.580002</td>\n",
              "      <td>60.840000</td>\n",
              "      <td>61.009998</td>\n",
              "      <td>21220800</td>\n",
              "    </tr>\n",
              "    <tr>\n",
              "      <th>2016-12-09</th>\n",
              "      <td>61.180000</td>\n",
              "      <td>61.990002</td>\n",
              "      <td>61.130001</td>\n",
              "      <td>61.970001</td>\n",
              "      <td>27349400</td>\n",
              "    </tr>\n",
              "    <tr>\n",
              "      <th>2016-12-12</th>\n",
              "      <td>61.820000</td>\n",
              "      <td>62.299999</td>\n",
              "      <td>61.720001</td>\n",
              "      <td>62.169998</td>\n",
              "      <td>20198100</td>\n",
              "    </tr>\n",
              "    <tr>\n",
              "      <th>2016-12-13</th>\n",
              "      <td>62.500000</td>\n",
              "      <td>63.419998</td>\n",
              "      <td>62.240002</td>\n",
              "      <td>62.980000</td>\n",
              "      <td>35718900</td>\n",
              "    </tr>\n",
              "    <tr>\n",
              "      <th>2016-12-14</th>\n",
              "      <td>63.000000</td>\n",
              "      <td>63.450001</td>\n",
              "      <td>62.529999</td>\n",
              "      <td>62.680000</td>\n",
              "      <td>30352700</td>\n",
              "    </tr>\n",
              "    <tr>\n",
              "      <th>...</th>\n",
              "      <td>...</td>\n",
              "      <td>...</td>\n",
              "      <td>...</td>\n",
              "      <td>...</td>\n",
              "      <td>...</td>\n",
              "    </tr>\n",
              "    <tr>\n",
              "      <th>2023-05-22</th>\n",
              "      <td>318.600006</td>\n",
              "      <td>322.589996</td>\n",
              "      <td>318.010010</td>\n",
              "      <td>321.179993</td>\n",
              "      <td>24115700</td>\n",
              "    </tr>\n",
              "    <tr>\n",
              "      <th>2023-05-23</th>\n",
              "      <td>320.029999</td>\n",
              "      <td>322.720001</td>\n",
              "      <td>315.250000</td>\n",
              "      <td>315.260010</td>\n",
              "      <td>30797200</td>\n",
              "    </tr>\n",
              "    <tr>\n",
              "      <th>2023-05-24</th>\n",
              "      <td>314.730011</td>\n",
              "      <td>316.500000</td>\n",
              "      <td>312.609985</td>\n",
              "      <td>313.850006</td>\n",
              "      <td>23384900</td>\n",
              "    </tr>\n",
              "    <tr>\n",
              "      <th>2023-05-25</th>\n",
              "      <td>323.239990</td>\n",
              "      <td>326.899994</td>\n",
              "      <td>320.000000</td>\n",
              "      <td>325.920013</td>\n",
              "      <td>43301700</td>\n",
              "    </tr>\n",
              "    <tr>\n",
              "      <th>2023-05-26</th>\n",
              "      <td>324.019989</td>\n",
              "      <td>333.399994</td>\n",
              "      <td>323.880005</td>\n",
              "      <td>332.890015</td>\n",
              "      <td>36600900</td>\n",
              "    </tr>\n",
              "  </tbody>\n",
              "</table>\n",
              "<p>1627 rows × 5 columns</p>\n",
              "</div>"
            ],
            "text/plain": [
              "                  Open        High         Low       Close    Volume\n",
              "Date                                                                \n",
              "2016-12-08   61.299999   61.580002   60.840000   61.009998  21220800\n",
              "2016-12-09   61.180000   61.990002   61.130001   61.970001  27349400\n",
              "2016-12-12   61.820000   62.299999   61.720001   62.169998  20198100\n",
              "2016-12-13   62.500000   63.419998   62.240002   62.980000  35718900\n",
              "2016-12-14   63.000000   63.450001   62.529999   62.680000  30352700\n",
              "...                ...         ...         ...         ...       ...\n",
              "2023-05-22  318.600006  322.589996  318.010010  321.179993  24115700\n",
              "2023-05-23  320.029999  322.720001  315.250000  315.260010  30797200\n",
              "2023-05-24  314.730011  316.500000  312.609985  313.850006  23384900\n",
              "2023-05-25  323.239990  326.899994  320.000000  325.920013  43301700\n",
              "2023-05-26  324.019989  333.399994  323.880005  332.890015  36600900\n",
              "\n",
              "[1627 rows x 5 columns]"
            ]
          },
          "execution_count": 43,
          "metadata": {},
          "output_type": "execute_result"
        }
      ],
      "source": [
        "microsoft_linkedin"
      ]
    },
    {
      "attachments": {},
      "cell_type": "markdown",
      "id": "75a182df-6d87-4ead-b31d-b39c1a6e7409",
      "metadata": {},
      "source": [
        "## Create new columns"
      ]
    },
    {
      "attachments": {},
      "cell_type": "markdown",
      "id": "9b2bb568-db35-4eb4-a7cb-6145804b9e4a",
      "metadata": {},
      "source": [
        "### Tomorrow's percentage change"
      ]
    },
    {
      "cell_type": "code",
      "execution_count": 49,
      "id": "5dac5df2",
      "metadata": {},
      "outputs": [],
      "source": [
        "microsoft_linkedin['change_tomorrow'] = microsoft_linkedin['Close'].pct_change(-1) * 100 * -1"
      ]
    },
    {
      "cell_type": "code",
      "execution_count": null,
      "id": "727442ad",
      "metadata": {},
      "outputs": [
        {
          "data": {
            "text/html": [
              "<div>\n",
              "<style scoped>\n",
              "    .dataframe tbody tr th:only-of-type {\n",
              "        vertical-align: middle;\n",
              "    }\n",
              "\n",
              "    .dataframe tbody tr th {\n",
              "        vertical-align: top;\n",
              "    }\n",
              "\n",
              "    .dataframe thead th {\n",
              "        text-align: right;\n",
              "    }\n",
              "</style>\n",
              "<table border=\"1\" class=\"dataframe\">\n",
              "  <thead>\n",
              "    <tr style=\"text-align: right;\">\n",
              "      <th></th>\n",
              "      <th>Open</th>\n",
              "      <th>High</th>\n",
              "      <th>Low</th>\n",
              "      <th>Close</th>\n",
              "      <th>Volume</th>\n",
              "      <th>change_tomorrow</th>\n",
              "    </tr>\n",
              "    <tr>\n",
              "      <th>Date</th>\n",
              "      <th></th>\n",
              "      <th></th>\n",
              "      <th></th>\n",
              "      <th></th>\n",
              "      <th></th>\n",
              "      <th></th>\n",
              "    </tr>\n",
              "  </thead>\n",
              "  <tbody>\n",
              "    <tr>\n",
              "      <th>2016-12-08</th>\n",
              "      <td>61.299999</td>\n",
              "      <td>61.580002</td>\n",
              "      <td>60.840000</td>\n",
              "      <td>61.009998</td>\n",
              "      <td>21220800</td>\n",
              "      <td>1.549141</td>\n",
              "    </tr>\n",
              "    <tr>\n",
              "      <th>2016-12-09</th>\n",
              "      <td>61.180000</td>\n",
              "      <td>61.990002</td>\n",
              "      <td>61.130001</td>\n",
              "      <td>61.970001</td>\n",
              "      <td>27349400</td>\n",
              "      <td>0.321694</td>\n",
              "    </tr>\n",
              "    <tr>\n",
              "      <th>2016-12-12</th>\n",
              "      <td>61.820000</td>\n",
              "      <td>62.299999</td>\n",
              "      <td>61.720001</td>\n",
              "      <td>62.169998</td>\n",
              "      <td>20198100</td>\n",
              "      <td>1.286125</td>\n",
              "    </tr>\n",
              "    <tr>\n",
              "      <th>2016-12-13</th>\n",
              "      <td>62.500000</td>\n",
              "      <td>63.419998</td>\n",
              "      <td>62.240002</td>\n",
              "      <td>62.980000</td>\n",
              "      <td>35718900</td>\n",
              "      <td>-0.478620</td>\n",
              "    </tr>\n",
              "    <tr>\n",
              "      <th>2016-12-14</th>\n",
              "      <td>63.000000</td>\n",
              "      <td>63.450001</td>\n",
              "      <td>62.529999</td>\n",
              "      <td>62.680000</td>\n",
              "      <td>30352700</td>\n",
              "      <td>-0.159793</td>\n",
              "    </tr>\n",
              "    <tr>\n",
              "      <th>...</th>\n",
              "      <td>...</td>\n",
              "      <td>...</td>\n",
              "      <td>...</td>\n",
              "      <td>...</td>\n",
              "      <td>...</td>\n",
              "      <td>...</td>\n",
              "    </tr>\n",
              "    <tr>\n",
              "      <th>2023-05-19</th>\n",
              "      <td>316.739990</td>\n",
              "      <td>318.750000</td>\n",
              "      <td>316.369995</td>\n",
              "      <td>318.339996</td>\n",
              "      <td>27529500</td>\n",
              "      <td>0.884238</td>\n",
              "    </tr>\n",
              "    <tr>\n",
              "      <th>2023-05-22</th>\n",
              "      <td>318.600006</td>\n",
              "      <td>322.589996</td>\n",
              "      <td>318.010010</td>\n",
              "      <td>321.179993</td>\n",
              "      <td>24115700</td>\n",
              "      <td>-1.877810</td>\n",
              "    </tr>\n",
              "    <tr>\n",
              "      <th>2023-05-23</th>\n",
              "      <td>320.029999</td>\n",
              "      <td>322.720001</td>\n",
              "      <td>315.250000</td>\n",
              "      <td>315.260010</td>\n",
              "      <td>30797200</td>\n",
              "      <td>-0.449260</td>\n",
              "    </tr>\n",
              "    <tr>\n",
              "      <th>2023-05-24</th>\n",
              "      <td>314.730011</td>\n",
              "      <td>316.500000</td>\n",
              "      <td>312.609985</td>\n",
              "      <td>313.850006</td>\n",
              "      <td>23384900</td>\n",
              "      <td>3.703365</td>\n",
              "    </tr>\n",
              "    <tr>\n",
              "      <th>2023-05-25</th>\n",
              "      <td>323.239990</td>\n",
              "      <td>326.899994</td>\n",
              "      <td>320.000000</td>\n",
              "      <td>325.920013</td>\n",
              "      <td>43301700</td>\n",
              "      <td>2.093785</td>\n",
              "    </tr>\n",
              "  </tbody>\n",
              "</table>\n",
              "<p>1626 rows × 6 columns</p>\n",
              "</div>"
            ],
            "text/plain": [
              "                  Open        High         Low       Close    Volume  \\\n",
              "Date                                                                   \n",
              "2016-12-08   61.299999   61.580002   60.840000   61.009998  21220800   \n",
              "2016-12-09   61.180000   61.990002   61.130001   61.970001  27349400   \n",
              "2016-12-12   61.820000   62.299999   61.720001   62.169998  20198100   \n",
              "2016-12-13   62.500000   63.419998   62.240002   62.980000  35718900   \n",
              "2016-12-14   63.000000   63.450001   62.529999   62.680000  30352700   \n",
              "...                ...         ...         ...         ...       ...   \n",
              "2023-05-19  316.739990  318.750000  316.369995  318.339996  27529500   \n",
              "2023-05-22  318.600006  322.589996  318.010010  321.179993  24115700   \n",
              "2023-05-23  320.029999  322.720001  315.250000  315.260010  30797200   \n",
              "2023-05-24  314.730011  316.500000  312.609985  313.850006  23384900   \n",
              "2023-05-25  323.239990  326.899994  320.000000  325.920013  43301700   \n",
              "\n",
              "            change_tomorrow  \n",
              "Date                         \n",
              "2016-12-08         1.549141  \n",
              "2016-12-09         0.321694  \n",
              "2016-12-12         1.286125  \n",
              "2016-12-13        -0.478620  \n",
              "2016-12-14        -0.159793  \n",
              "...                     ...  \n",
              "2023-05-19         0.884238  \n",
              "2023-05-22        -1.877810  \n",
              "2023-05-23        -0.449260  \n",
              "2023-05-24         3.703365  \n",
              "2023-05-25         2.093785  \n",
              "\n",
              "[1626 rows x 6 columns]"
            ]
          },
          "execution_count": 51,
          "metadata": {},
          "output_type": "execute_result"
        }
      ],
      "source": [
        "# Drop NaN values since there is no value for today\n",
        "microsoft_linkedin.dropna()"
      ]
    },
    {
      "attachments": {},
      "cell_type": "markdown",
      "id": "5b295654-d546-4cfe-a6c1-9f960750bf51",
      "metadata": {},
      "source": [
        "### Did the stock go up or down?"
      ]
    },
    {
      "cell_type": "code",
      "execution_count": 55,
      "id": "34c99d05",
      "metadata": {},
      "outputs": [],
      "source": [
        "import numpy as np\n",
        "\n",
        "microsoft_linkedin['change_tomorrow_direction'] = np.where(microsoft_linkedin['change_tomorrow'] > 0, 'UP', 'DOWN')"
      ]
    },
    {
      "cell_type": "code",
      "execution_count": 56,
      "id": "aec9c762",
      "metadata": {},
      "outputs": [
        {
          "data": {
            "text/html": [
              "<div>\n",
              "<style scoped>\n",
              "    .dataframe tbody tr th:only-of-type {\n",
              "        vertical-align: middle;\n",
              "    }\n",
              "\n",
              "    .dataframe tbody tr th {\n",
              "        vertical-align: top;\n",
              "    }\n",
              "\n",
              "    .dataframe thead th {\n",
              "        text-align: right;\n",
              "    }\n",
              "</style>\n",
              "<table border=\"1\" class=\"dataframe\">\n",
              "  <thead>\n",
              "    <tr style=\"text-align: right;\">\n",
              "      <th></th>\n",
              "      <th>Open</th>\n",
              "      <th>High</th>\n",
              "      <th>Low</th>\n",
              "      <th>Close</th>\n",
              "      <th>Volume</th>\n",
              "      <th>change_tomorrow</th>\n",
              "      <th>change_tomorrow_direction</th>\n",
              "    </tr>\n",
              "    <tr>\n",
              "      <th>Date</th>\n",
              "      <th></th>\n",
              "      <th></th>\n",
              "      <th></th>\n",
              "      <th></th>\n",
              "      <th></th>\n",
              "      <th></th>\n",
              "      <th></th>\n",
              "    </tr>\n",
              "  </thead>\n",
              "  <tbody>\n",
              "    <tr>\n",
              "      <th>2016-12-08</th>\n",
              "      <td>61.299999</td>\n",
              "      <td>61.580002</td>\n",
              "      <td>60.840000</td>\n",
              "      <td>61.009998</td>\n",
              "      <td>21220800</td>\n",
              "      <td>1.549141</td>\n",
              "      <td>UP</td>\n",
              "    </tr>\n",
              "    <tr>\n",
              "      <th>2016-12-09</th>\n",
              "      <td>61.180000</td>\n",
              "      <td>61.990002</td>\n",
              "      <td>61.130001</td>\n",
              "      <td>61.970001</td>\n",
              "      <td>27349400</td>\n",
              "      <td>0.321694</td>\n",
              "      <td>UP</td>\n",
              "    </tr>\n",
              "    <tr>\n",
              "      <th>2016-12-12</th>\n",
              "      <td>61.820000</td>\n",
              "      <td>62.299999</td>\n",
              "      <td>61.720001</td>\n",
              "      <td>62.169998</td>\n",
              "      <td>20198100</td>\n",
              "      <td>1.286125</td>\n",
              "      <td>UP</td>\n",
              "    </tr>\n",
              "    <tr>\n",
              "      <th>2016-12-13</th>\n",
              "      <td>62.500000</td>\n",
              "      <td>63.419998</td>\n",
              "      <td>62.240002</td>\n",
              "      <td>62.980000</td>\n",
              "      <td>35718900</td>\n",
              "      <td>-0.478620</td>\n",
              "      <td>DOWN</td>\n",
              "    </tr>\n",
              "    <tr>\n",
              "      <th>2016-12-14</th>\n",
              "      <td>63.000000</td>\n",
              "      <td>63.450001</td>\n",
              "      <td>62.529999</td>\n",
              "      <td>62.680000</td>\n",
              "      <td>30352700</td>\n",
              "      <td>-0.159793</td>\n",
              "      <td>DOWN</td>\n",
              "    </tr>\n",
              "    <tr>\n",
              "      <th>...</th>\n",
              "      <td>...</td>\n",
              "      <td>...</td>\n",
              "      <td>...</td>\n",
              "      <td>...</td>\n",
              "      <td>...</td>\n",
              "      <td>...</td>\n",
              "      <td>...</td>\n",
              "    </tr>\n",
              "    <tr>\n",
              "      <th>2023-05-22</th>\n",
              "      <td>318.600006</td>\n",
              "      <td>322.589996</td>\n",
              "      <td>318.010010</td>\n",
              "      <td>321.179993</td>\n",
              "      <td>24115700</td>\n",
              "      <td>-1.877810</td>\n",
              "      <td>DOWN</td>\n",
              "    </tr>\n",
              "    <tr>\n",
              "      <th>2023-05-23</th>\n",
              "      <td>320.029999</td>\n",
              "      <td>322.720001</td>\n",
              "      <td>315.250000</td>\n",
              "      <td>315.260010</td>\n",
              "      <td>30797200</td>\n",
              "      <td>-0.449260</td>\n",
              "      <td>DOWN</td>\n",
              "    </tr>\n",
              "    <tr>\n",
              "      <th>2023-05-24</th>\n",
              "      <td>314.730011</td>\n",
              "      <td>316.500000</td>\n",
              "      <td>312.609985</td>\n",
              "      <td>313.850006</td>\n",
              "      <td>23384900</td>\n",
              "      <td>3.703365</td>\n",
              "      <td>UP</td>\n",
              "    </tr>\n",
              "    <tr>\n",
              "      <th>2023-05-25</th>\n",
              "      <td>323.239990</td>\n",
              "      <td>326.899994</td>\n",
              "      <td>320.000000</td>\n",
              "      <td>325.920013</td>\n",
              "      <td>43301700</td>\n",
              "      <td>2.093785</td>\n",
              "      <td>UP</td>\n",
              "    </tr>\n",
              "    <tr>\n",
              "      <th>2023-05-26</th>\n",
              "      <td>324.019989</td>\n",
              "      <td>333.399994</td>\n",
              "      <td>323.880005</td>\n",
              "      <td>332.890015</td>\n",
              "      <td>36600900</td>\n",
              "      <td>NaN</td>\n",
              "      <td>DOWN</td>\n",
              "    </tr>\n",
              "  </tbody>\n",
              "</table>\n",
              "<p>1627 rows × 7 columns</p>\n",
              "</div>"
            ],
            "text/plain": [
              "                  Open        High         Low       Close    Volume  \\\n",
              "Date                                                                   \n",
              "2016-12-08   61.299999   61.580002   60.840000   61.009998  21220800   \n",
              "2016-12-09   61.180000   61.990002   61.130001   61.970001  27349400   \n",
              "2016-12-12   61.820000   62.299999   61.720001   62.169998  20198100   \n",
              "2016-12-13   62.500000   63.419998   62.240002   62.980000  35718900   \n",
              "2016-12-14   63.000000   63.450001   62.529999   62.680000  30352700   \n",
              "...                ...         ...         ...         ...       ...   \n",
              "2023-05-22  318.600006  322.589996  318.010010  321.179993  24115700   \n",
              "2023-05-23  320.029999  322.720001  315.250000  315.260010  30797200   \n",
              "2023-05-24  314.730011  316.500000  312.609985  313.850006  23384900   \n",
              "2023-05-25  323.239990  326.899994  320.000000  325.920013  43301700   \n",
              "2023-05-26  324.019989  333.399994  323.880005  332.890015  36600900   \n",
              "\n",
              "            change_tomorrow change_tomorrow_direction  \n",
              "Date                                                   \n",
              "2016-12-08         1.549141                        UP  \n",
              "2016-12-09         0.321694                        UP  \n",
              "2016-12-12         1.286125                        UP  \n",
              "2016-12-13        -0.478620                      DOWN  \n",
              "2016-12-14        -0.159793                      DOWN  \n",
              "...                     ...                       ...  \n",
              "2023-05-22        -1.877810                      DOWN  \n",
              "2023-05-23        -0.449260                      DOWN  \n",
              "2023-05-24         3.703365                        UP  \n",
              "2023-05-25         2.093785                        UP  \n",
              "2023-05-26              NaN                      DOWN  \n",
              "\n",
              "[1627 rows x 7 columns]"
            ]
          },
          "execution_count": 56,
          "metadata": {},
          "output_type": "execute_result"
        }
      ],
      "source": [
        "microsoft_linkedin"
      ]
    },
    {
      "cell_type": "code",
      "execution_count": 58,
      "id": "2f79c350",
      "metadata": {},
      "outputs": [
        {
          "data": {
            "text/plain": [
              "change_tomorrow_direction\n",
              "UP      869\n",
              "DOWN    758\n",
              "Name: count, dtype: int64"
            ]
          },
          "execution_count": 58,
          "metadata": {},
          "output_type": "execute_result"
        }
      ],
      "source": [
        "microsoft_linkedin['change_tomorrow_direction'].value_counts()"
      ]
    },
    {
      "cell_type": "code",
      "execution_count": 57,
      "id": "97436697",
      "metadata": {},
      "outputs": [
        {
          "data": {
            "text/plain": [
              "<Axes: xlabel='Date'>"
            ]
          },
          "execution_count": 57,
          "metadata": {},
          "output_type": "execute_result"
        },
        {
          "data": {
            "image/png": "[encoded data removed]",
            "text/plain": [
              "<Figure size 640x480 with 1 Axes>"
            ]
          },
          "metadata": {},
          "output_type": "display_data"
        }
      ],
      "source": [
        "microsoft_linkedin['Close'].plot()"
      ]
    },
    {
      "attachments": {},
      "cell_type": "markdown",
      "id": "911f9a25-0dc0-4e2d-a39a-c0c3b33547b8",
      "metadata": {},
      "source": [
        "## Export preprocessed DataFrame into an Excel"
      ]
    },
    {
      "cell_type": "code",
      "execution_count": null,
      "id": "b0c87b0f",
      "metadata": {},
      "outputs": [],
      "source": [
        "microsoft_linkedin.to_excel('data/Microsoft_LinkedIn_Processed.xlsx')"
      ]
    }
  ],
  "metadata": {
    "kernelspec": {
      "display_name": "practical-python-for-algorithmic-trading",
      "language": "python",
      "name": "python3"
    },
    "language_info": {
      "codemirror_mode": {
        "name": "ipython",
        "version": 3
      },
      "file_extension": ".py",
      "mimetype": "text/x-python",
      "name": "python",
      "nbconvert_exporter": "python",
      "pygments_lexer": "ipython3",
      "version": "3.12.7"
    }
  },
  "nbformat": 4,
  "nbformat_minor": 5
}
