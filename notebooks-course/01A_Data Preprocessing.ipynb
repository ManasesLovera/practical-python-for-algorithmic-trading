{
  "cells": [
    {
      "attachments": {},
      "cell_type": "markdown",
      "id": "77c2423c-3021-4dd3-b694-ab5851e7eacc",
      "metadata": {},
      "source": [
        "# Data Preprocessing"
      ]
    },
    {
      "attachments": {},
      "cell_type": "markdown",
      "id": "3d3ee75d-48b4-41a7-9763-7071b4637947",
      "metadata": {},
      "source": [
        "## Download & export data tables"
      ]
    },
    {
      "attachments": {},
      "cell_type": "markdown",
      "id": "4822cef5-421a-4235-b822-16187585b343",
      "metadata": {},
      "source": [
        "### Download Microsoft OHLCV with `yfinance` library"
      ]
    },
    {
      "attachments": {},
      "cell_type": "markdown",
      "id": "d34f3f90",
      "metadata": {},
      "source": [
        "**Search for the ticker code**\n",
        "\n",
        "YFinance: https://finance.yahoo.com/\n",
        "\n",
        "- [ ] Microsoft: ???"
      ]
    },
    {
      "cell_type": "code",
      "execution_count": 1,
      "id": "a42ca1cf",
      "metadata": {},
      "outputs": [],
      "source": [
        "import yfinance as yf"
      ]
    },
    {
      "cell_type": "code",
      "execution_count": 36,
      "id": "edec7b00",
      "metadata": {},
      "outputs": [
        {
          "name": "stderr",
          "output_type": "stream",
          "text": [
            "/tmp/ipykernel_10318/2999053980.py:2: FutureWarning:\n",
            "\n",
            "YF.download() has changed argument auto_adjust default to True\n",
            "\n",
            "[*********************100%***********************]  1 of 1 completed\n"
          ]
        },
        {
          "data": {
            "text/plain": [
              "[('Close', 'MSFT'),\n",
              " ('High', 'MSFT'),\n",
              " ('Low', 'MSFT'),\n",
              " ('Open', 'MSFT'),\n",
              " ('Volume', 'MSFT')]"
            ]
          },
          "execution_count": 36,
          "metadata": {},
          "output_type": "execute_result"
        }
      ],
      "source": [
        "ticker = 'MSFT'\n",
        "df_MSFT = yf.download(tickers=ticker, start='2015-01-01')\n",
        "assert df_MSFT is not None\n",
        "df_MSFT.columns.tolist()"
      ]
    },
    {
      "cell_type": "code",
      "execution_count": 37,
      "id": "e63dfe5f",
      "metadata": {},
      "outputs": [
        {
          "data": {
            "text/plain": [
              "['Close', 'High', 'Low', 'Open', 'Volume']"
            ]
          },
          "execution_count": 37,
          "metadata": {},
          "output_type": "execute_result"
        }
      ],
      "source": [
        "# To avoid the other column 'MSFT' we just keep the columns names we want: Close, High, etc...\n",
        "assert df_MSFT is not None\n",
        "df_MSFT.columns = df_MSFT.columns.droplevel(1)\n",
        "df_MSFT.columns.tolist()"
      ]
    },
    {
      "cell_type": "code",
      "execution_count": 38,
      "id": "42c49b00",
      "metadata": {},
      "outputs": [
        {
          "data": {
            "text/html": [
              "<div>\n",
              "<style scoped>\n",
              "    .dataframe tbody tr th:only-of-type {\n",
              "        vertical-align: middle;\n",
              "    }\n",
              "\n",
              "    .dataframe tbody tr th {\n",
              "        vertical-align: top;\n",
              "    }\n",
              "\n",
              "    .dataframe thead th {\n",
              "        text-align: right;\n",
              "    }\n",
              "</style>\n",
              "<table border=\"1\" class=\"dataframe\">\n",
              "  <thead>\n",
              "    <tr style=\"text-align: right;\">\n",
              "      <th>Price</th>\n",
              "      <th>Close</th>\n",
              "      <th>High</th>\n",
              "      <th>Low</th>\n",
              "      <th>Open</th>\n",
              "      <th>Volume</th>\n",
              "    </tr>\n",
              "    <tr>\n",
              "      <th>Date</th>\n",
              "      <th></th>\n",
              "      <th></th>\n",
              "      <th></th>\n",
              "      <th></th>\n",
              "      <th></th>\n",
              "    </tr>\n",
              "  </thead>\n",
              "  <tbody>\n",
              "    <tr>\n",
              "      <th>2015-01-02</th>\n",
              "      <td>39.933052</td>\n",
              "      <td>40.496692</td>\n",
              "      <td>39.745174</td>\n",
              "      <td>39.847653</td>\n",
              "      <td>27913900</td>\n",
              "    </tr>\n",
              "    <tr>\n",
              "      <th>2015-01-05</th>\n",
              "      <td>39.565838</td>\n",
              "      <td>39.907436</td>\n",
              "      <td>39.497516</td>\n",
              "      <td>39.599995</td>\n",
              "      <td>39673900</td>\n",
              "    </tr>\n",
              "    <tr>\n",
              "      <th>2015-01-06</th>\n",
              "      <td>38.985119</td>\n",
              "      <td>39.924518</td>\n",
              "      <td>38.891178</td>\n",
              "      <td>39.608539</td>\n",
              "      <td>36447900</td>\n",
              "    </tr>\n",
              "    <tr>\n",
              "      <th>2015-01-07</th>\n",
              "      <td>39.480434</td>\n",
              "      <td>39.676854</td>\n",
              "      <td>38.848476</td>\n",
              "      <td>39.266934</td>\n",
              "      <td>29114100</td>\n",
              "    </tr>\n",
              "    <tr>\n",
              "      <th>2015-01-08</th>\n",
              "      <td>40.641872</td>\n",
              "      <td>40.778512</td>\n",
              "      <td>39.898893</td>\n",
              "      <td>39.924512</td>\n",
              "      <td>29645200</td>\n",
              "    </tr>\n",
              "    <tr>\n",
              "      <th>...</th>\n",
              "      <td>...</td>\n",
              "      <td>...</td>\n",
              "      <td>...</td>\n",
              "      <td>...</td>\n",
              "      <td>...</td>\n",
              "    </tr>\n",
              "    <tr>\n",
              "      <th>2025-10-06</th>\n",
              "      <td>528.570007</td>\n",
              "      <td>531.030029</td>\n",
              "      <td>518.200012</td>\n",
              "      <td>518.609985</td>\n",
              "      <td>21388600</td>\n",
              "    </tr>\n",
              "    <tr>\n",
              "      <th>2025-10-07</th>\n",
              "      <td>523.979980</td>\n",
              "      <td>529.799988</td>\n",
              "      <td>521.440002</td>\n",
              "      <td>528.289978</td>\n",
              "      <td>14615200</td>\n",
              "    </tr>\n",
              "    <tr>\n",
              "      <th>2025-10-08</th>\n",
              "      <td>524.849976</td>\n",
              "      <td>526.950012</td>\n",
              "      <td>523.090027</td>\n",
              "      <td>523.280029</td>\n",
              "      <td>13363400</td>\n",
              "    </tr>\n",
              "    <tr>\n",
              "      <th>2025-10-09</th>\n",
              "      <td>522.400024</td>\n",
              "      <td>524.330017</td>\n",
              "      <td>517.400024</td>\n",
              "      <td>522.340027</td>\n",
              "      <td>18343600</td>\n",
              "    </tr>\n",
              "    <tr>\n",
              "      <th>2025-10-10</th>\n",
              "      <td>510.959991</td>\n",
              "      <td>523.580017</td>\n",
              "      <td>509.630005</td>\n",
              "      <td>519.640015</td>\n",
              "      <td>24065400</td>\n",
              "    </tr>\n",
              "  </tbody>\n",
              "</table>\n",
              "<p>2710 rows × 5 columns</p>\n",
              "</div>"
            ],
            "text/plain": [
              "Price            Close        High         Low        Open    Volume\n",
              "Date                                                                \n",
              "2015-01-02   39.933052   40.496692   39.745174   39.847653  27913900\n",
              "2015-01-05   39.565838   39.907436   39.497516   39.599995  39673900\n",
              "2015-01-06   38.985119   39.924518   38.891178   39.608539  36447900\n",
              "2015-01-07   39.480434   39.676854   38.848476   39.266934  29114100\n",
              "2015-01-08   40.641872   40.778512   39.898893   39.924512  29645200\n",
              "...                ...         ...         ...         ...       ...\n",
              "2025-10-06  528.570007  531.030029  518.200012  518.609985  21388600\n",
              "2025-10-07  523.979980  529.799988  521.440002  528.289978  14615200\n",
              "2025-10-08  524.849976  526.950012  523.090027  523.280029  13363400\n",
              "2025-10-09  522.400024  524.330017  517.400024  522.340027  18343600\n",
              "2025-10-10  510.959991  523.580017  509.630005  519.640015  24065400\n",
              "\n",
              "[2710 rows x 5 columns]"
            ]
          },
          "execution_count": 38,
          "metadata": {},
          "output_type": "execute_result"
        }
      ],
      "source": [
        "df_MSFT"
      ]
    },
    {
      "attachments": {},
      "cell_type": "markdown",
      "id": "7d765173-3def-41b6-9a2f-3b5c9e1dc974",
      "metadata": {},
      "source": [
        "### Download any ticker"
      ]
    },
    {
      "attachments": {},
      "cell_type": "markdown",
      "id": "e8939293-f380-4613-b382-c7326b1f6175",
      "metadata": {},
      "source": [
        "- [x] Microsoft: MSFT\n",
        "- [ ] Bitcoin: ???"
      ]
    },
    {
      "cell_type": "code",
      "execution_count": 4,
      "id": "267848a7-f793-4f14-9dc1-5e599b83baf6",
      "metadata": {},
      "outputs": [
        {
          "name": "stderr",
          "output_type": "stream",
          "text": [
            "[*********************100%***********************]  1 of 1 completed\n"
          ]
        },
        {
          "data": {
            "text/html": [
              "<div>\n",
              "<style scoped>\n",
              "    .dataframe tbody tr th:only-of-type {\n",
              "        vertical-align: middle;\n",
              "    }\n",
              "\n",
              "    .dataframe tbody tr th {\n",
              "        vertical-align: top;\n",
              "    }\n",
              "\n",
              "    .dataframe thead th {\n",
              "        text-align: right;\n",
              "    }\n",
              "</style>\n",
              "<table border=\"1\" class=\"dataframe\">\n",
              "  <thead>\n",
              "    <tr style=\"text-align: right;\">\n",
              "      <th></th>\n",
              "      <th>Adj Close</th>\n",
              "      <th>Close</th>\n",
              "      <th>High</th>\n",
              "      <th>Low</th>\n",
              "      <th>Open</th>\n",
              "      <th>Volume</th>\n",
              "    </tr>\n",
              "    <tr>\n",
              "      <th>Date</th>\n",
              "      <th></th>\n",
              "      <th></th>\n",
              "      <th></th>\n",
              "      <th></th>\n",
              "      <th></th>\n",
              "      <th></th>\n",
              "    </tr>\n",
              "  </thead>\n",
              "  <tbody>\n",
              "    <tr>\n",
              "      <th>2025-09-12</th>\n",
              "      <td>116101.578125</td>\n",
              "      <td>116101.578125</td>\n",
              "      <td>116769.382812</td>\n",
              "      <td>114794.484375</td>\n",
              "      <td>115507.789062</td>\n",
              "      <td>54785725894</td>\n",
              "    </tr>\n",
              "    <tr>\n",
              "      <th>2025-09-13</th>\n",
              "      <td>115950.507812</td>\n",
              "      <td>115950.507812</td>\n",
              "      <td>116334.632812</td>\n",
              "      <td>115248.273438</td>\n",
              "      <td>116093.562500</td>\n",
              "      <td>34549454947</td>\n",
              "    </tr>\n",
              "    <tr>\n",
              "      <th>2025-09-14</th>\n",
              "      <td>115407.656250</td>\n",
              "      <td>115407.656250</td>\n",
              "      <td>116181.500000</td>\n",
              "      <td>115222.398438</td>\n",
              "      <td>115950.289062</td>\n",
              "      <td>32798036057</td>\n",
              "    </tr>\n",
              "    <tr>\n",
              "      <th>2025-09-15</th>\n",
              "      <td>115444.875000</td>\n",
              "      <td>115444.875000</td>\n",
              "      <td>116747.882812</td>\n",
              "      <td>114461.062500</td>\n",
              "      <td>115399.632812</td>\n",
              "      <td>52937859416</td>\n",
              "    </tr>\n",
              "    <tr>\n",
              "      <th>2025-09-16</th>\n",
              "      <td>116843.187500</td>\n",
              "      <td>116843.187500</td>\n",
              "      <td>117005.273438</td>\n",
              "      <td>114813.093750</td>\n",
              "      <td>115423.757812</td>\n",
              "      <td>45781744593</td>\n",
              "    </tr>\n",
              "    <tr>\n",
              "      <th>2025-09-17</th>\n",
              "      <td>116468.507812</td>\n",
              "      <td>116468.507812</td>\n",
              "      <td>117328.609375</td>\n",
              "      <td>114794.976562</td>\n",
              "      <td>116840.507812</td>\n",
              "      <td>60528025996</td>\n",
              "    </tr>\n",
              "    <tr>\n",
              "      <th>2025-09-18</th>\n",
              "      <td>117137.203125</td>\n",
              "      <td>117137.203125</td>\n",
              "      <td>117911.789062</td>\n",
              "      <td>116188.796875</td>\n",
              "      <td>116461.265625</td>\n",
              "      <td>49457272032</td>\n",
              "    </tr>\n",
              "    <tr>\n",
              "      <th>2025-09-19</th>\n",
              "      <td>115688.859375</td>\n",
              "      <td>115688.859375</td>\n",
              "      <td>117479.757812</td>\n",
              "      <td>115141.820312</td>\n",
              "      <td>117137.671875</td>\n",
              "      <td>38828473971</td>\n",
              "    </tr>\n",
              "    <tr>\n",
              "      <th>2025-09-20</th>\n",
              "      <td>115721.960938</td>\n",
              "      <td>115721.960938</td>\n",
              "      <td>116191.148438</td>\n",
              "      <td>115473.523438</td>\n",
              "      <td>115691.125000</td>\n",
              "      <td>22864449614</td>\n",
              "    </tr>\n",
              "    <tr>\n",
              "      <th>2025-09-21</th>\n",
              "      <td>115306.093750</td>\n",
              "      <td>115306.093750</td>\n",
              "      <td>115901.085938</td>\n",
              "      <td>115252.578125</td>\n",
              "      <td>115730.226562</td>\n",
              "      <td>22495852193</td>\n",
              "    </tr>\n",
              "    <tr>\n",
              "      <th>2025-09-22</th>\n",
              "      <td>112748.507812</td>\n",
              "      <td>112748.507812</td>\n",
              "      <td>115431.312500</td>\n",
              "      <td>112037.648438</td>\n",
              "      <td>115309.218750</td>\n",
              "      <td>70684158591</td>\n",
              "    </tr>\n",
              "    <tr>\n",
              "      <th>2025-09-23</th>\n",
              "      <td>112014.500000</td>\n",
              "      <td>112014.500000</td>\n",
              "      <td>113351.914062</td>\n",
              "      <td>111535.570312</td>\n",
              "      <td>112757.476562</td>\n",
              "      <td>47211853279</td>\n",
              "    </tr>\n",
              "    <tr>\n",
              "      <th>2025-09-24</th>\n",
              "      <td>113328.632812</td>\n",
              "      <td>113328.632812</td>\n",
              "      <td>113986.273438</td>\n",
              "      <td>111229.640625</td>\n",
              "      <td>112007.664062</td>\n",
              "      <td>48044595085</td>\n",
              "    </tr>\n",
              "    <tr>\n",
              "      <th>2025-09-25</th>\n",
              "      <td>109049.289062</td>\n",
              "      <td>109049.289062</td>\n",
              "      <td>113541.085938</td>\n",
              "      <td>108713.398438</td>\n",
              "      <td>113330.164062</td>\n",
              "      <td>75528654284</td>\n",
              "    </tr>\n",
              "    <tr>\n",
              "      <th>2025-09-26</th>\n",
              "      <td>109712.828125</td>\n",
              "      <td>109712.828125</td>\n",
              "      <td>110359.195312</td>\n",
              "      <td>108728.976562</td>\n",
              "      <td>109041.296875</td>\n",
              "      <td>57738288949</td>\n",
              "    </tr>\n",
              "    <tr>\n",
              "      <th>2025-09-27</th>\n",
              "      <td>109681.945312</td>\n",
              "      <td>109681.945312</td>\n",
              "      <td>109778.500000</td>\n",
              "      <td>109144.296875</td>\n",
              "      <td>109707.140625</td>\n",
              "      <td>26308042910</td>\n",
              "    </tr>\n",
              "    <tr>\n",
              "      <th>2025-09-28</th>\n",
              "      <td>112122.640625</td>\n",
              "      <td>112122.640625</td>\n",
              "      <td>112375.484375</td>\n",
              "      <td>109236.945312</td>\n",
              "      <td>109681.945312</td>\n",
              "      <td>33371048505</td>\n",
              "    </tr>\n",
              "    <tr>\n",
              "      <th>2025-09-29</th>\n",
              "      <td>114400.382812</td>\n",
              "      <td>114400.382812</td>\n",
              "      <td>114473.570312</td>\n",
              "      <td>111589.953125</td>\n",
              "      <td>112117.875000</td>\n",
              "      <td>60000147466</td>\n",
              "    </tr>\n",
              "    <tr>\n",
              "      <th>2025-09-30</th>\n",
              "      <td>114056.085938</td>\n",
              "      <td>114056.085938</td>\n",
              "      <td>114836.617188</td>\n",
              "      <td>112740.562500</td>\n",
              "      <td>114396.523438</td>\n",
              "      <td>58986330258</td>\n",
              "    </tr>\n",
              "    <tr>\n",
              "      <th>2025-10-01</th>\n",
              "      <td>118648.929688</td>\n",
              "      <td>118648.929688</td>\n",
              "      <td>118648.929688</td>\n",
              "      <td>113981.398438</td>\n",
              "      <td>114057.593750</td>\n",
              "      <td>71328680132</td>\n",
              "    </tr>\n",
              "    <tr>\n",
              "      <th>2025-10-02</th>\n",
              "      <td>120681.257812</td>\n",
              "      <td>120681.257812</td>\n",
              "      <td>121086.406250</td>\n",
              "      <td>118383.156250</td>\n",
              "      <td>118652.382812</td>\n",
              "      <td>71415163912</td>\n",
              "    </tr>\n",
              "    <tr>\n",
              "      <th>2025-10-03</th>\n",
              "      <td>122266.531250</td>\n",
              "      <td>122266.531250</td>\n",
              "      <td>123944.703125</td>\n",
              "      <td>119344.312500</td>\n",
              "      <td>120656.984375</td>\n",
              "      <td>83941392228</td>\n",
              "    </tr>\n",
              "    <tr>\n",
              "      <th>2025-10-04</th>\n",
              "      <td>122425.429688</td>\n",
              "      <td>122425.429688</td>\n",
              "      <td>122857.640625</td>\n",
              "      <td>121577.570312</td>\n",
              "      <td>122267.468750</td>\n",
              "      <td>36769171735</td>\n",
              "    </tr>\n",
              "    <tr>\n",
              "      <th>2025-10-05</th>\n",
              "      <td>123513.476562</td>\n",
              "      <td>123513.476562</td>\n",
              "      <td>125559.210938</td>\n",
              "      <td>122191.960938</td>\n",
              "      <td>122419.671875</td>\n",
              "      <td>73689317763</td>\n",
              "    </tr>\n",
              "    <tr>\n",
              "      <th>2025-10-06</th>\n",
              "      <td>124752.531250</td>\n",
              "      <td>124752.531250</td>\n",
              "      <td>126198.070312</td>\n",
              "      <td>123196.046875</td>\n",
              "      <td>123510.453125</td>\n",
              "      <td>72568881188</td>\n",
              "    </tr>\n",
              "    <tr>\n",
              "      <th>2025-10-07</th>\n",
              "      <td>121451.382812</td>\n",
              "      <td>121451.382812</td>\n",
              "      <td>125184.023438</td>\n",
              "      <td>120681.968750</td>\n",
              "      <td>124752.140625</td>\n",
              "      <td>76149412513</td>\n",
              "    </tr>\n",
              "    <tr>\n",
              "      <th>2025-10-08</th>\n",
              "      <td>123354.867188</td>\n",
              "      <td>123354.867188</td>\n",
              "      <td>124167.093750</td>\n",
              "      <td>121119.179688</td>\n",
              "      <td>121448.351562</td>\n",
              "      <td>65354305286</td>\n",
              "    </tr>\n",
              "    <tr>\n",
              "      <th>2025-10-09</th>\n",
              "      <td>121705.585938</td>\n",
              "      <td>121705.585938</td>\n",
              "      <td>123739.343750</td>\n",
              "      <td>119812.031250</td>\n",
              "      <td>123337.070312</td>\n",
              "      <td>74653009425</td>\n",
              "    </tr>\n",
              "    <tr>\n",
              "      <th>2025-10-10</th>\n",
              "      <td>113214.367188</td>\n",
              "      <td>113214.367188</td>\n",
              "      <td>122509.664062</td>\n",
              "      <td>104582.414062</td>\n",
              "      <td>121704.742188</td>\n",
              "      <td>153125018868</td>\n",
              "    </tr>\n",
              "    <tr>\n",
              "      <th>2025-10-11</th>\n",
              "      <td>110807.882812</td>\n",
              "      <td>110807.882812</td>\n",
              "      <td>113429.726562</td>\n",
              "      <td>109760.562500</td>\n",
              "      <td>113236.429688</td>\n",
              "      <td>110236934340</td>\n",
              "    </tr>\n",
              "    <tr>\n",
              "      <th>2025-10-12</th>\n",
              "      <td>113203.421875</td>\n",
              "      <td>113203.421875</td>\n",
              "      <td>113726.710938</td>\n",
              "      <td>109766.054688</td>\n",
              "      <td>110799.890625</td>\n",
              "      <td>76740091904</td>\n",
              "    </tr>\n",
              "  </tbody>\n",
              "</table>\n",
              "</div>"
            ],
            "text/plain": [
              "                Adj Close          Close           High            Low  \\\n",
              "Date                                                                     \n",
              "2025-09-12  116101.578125  116101.578125  116769.382812  114794.484375   \n",
              "2025-09-13  115950.507812  115950.507812  116334.632812  115248.273438   \n",
              "2025-09-14  115407.656250  115407.656250  116181.500000  115222.398438   \n",
              "2025-09-15  115444.875000  115444.875000  116747.882812  114461.062500   \n",
              "2025-09-16  116843.187500  116843.187500  117005.273438  114813.093750   \n",
              "2025-09-17  116468.507812  116468.507812  117328.609375  114794.976562   \n",
              "2025-09-18  117137.203125  117137.203125  117911.789062  116188.796875   \n",
              "2025-09-19  115688.859375  115688.859375  117479.757812  115141.820312   \n",
              "2025-09-20  115721.960938  115721.960938  116191.148438  115473.523438   \n",
              "2025-09-21  115306.093750  115306.093750  115901.085938  115252.578125   \n",
              "2025-09-22  112748.507812  112748.507812  115431.312500  112037.648438   \n",
              "2025-09-23  112014.500000  112014.500000  113351.914062  111535.570312   \n",
              "2025-09-24  113328.632812  113328.632812  113986.273438  111229.640625   \n",
              "2025-09-25  109049.289062  109049.289062  113541.085938  108713.398438   \n",
              "2025-09-26  109712.828125  109712.828125  110359.195312  108728.976562   \n",
              "2025-09-27  109681.945312  109681.945312  109778.500000  109144.296875   \n",
              "2025-09-28  112122.640625  112122.640625  112375.484375  109236.945312   \n",
              "2025-09-29  114400.382812  114400.382812  114473.570312  111589.953125   \n",
              "2025-09-30  114056.085938  114056.085938  114836.617188  112740.562500   \n",
              "2025-10-01  118648.929688  118648.929688  118648.929688  113981.398438   \n",
              "2025-10-02  120681.257812  120681.257812  121086.406250  118383.156250   \n",
              "2025-10-03  122266.531250  122266.531250  123944.703125  119344.312500   \n",
              "2025-10-04  122425.429688  122425.429688  122857.640625  121577.570312   \n",
              "2025-10-05  123513.476562  123513.476562  125559.210938  122191.960938   \n",
              "2025-10-06  124752.531250  124752.531250  126198.070312  123196.046875   \n",
              "2025-10-07  121451.382812  121451.382812  125184.023438  120681.968750   \n",
              "2025-10-08  123354.867188  123354.867188  124167.093750  121119.179688   \n",
              "2025-10-09  121705.585938  121705.585938  123739.343750  119812.031250   \n",
              "2025-10-10  113214.367188  113214.367188  122509.664062  104582.414062   \n",
              "2025-10-11  110807.882812  110807.882812  113429.726562  109760.562500   \n",
              "2025-10-12  113203.421875  113203.421875  113726.710938  109766.054688   \n",
              "\n",
              "                     Open        Volume  \n",
              "Date                                     \n",
              "2025-09-12  115507.789062   54785725894  \n",
              "2025-09-13  116093.562500   34549454947  \n",
              "2025-09-14  115950.289062   32798036057  \n",
              "2025-09-15  115399.632812   52937859416  \n",
              "2025-09-16  115423.757812   45781744593  \n",
              "2025-09-17  116840.507812   60528025996  \n",
              "2025-09-18  116461.265625   49457272032  \n",
              "2025-09-19  117137.671875   38828473971  \n",
              "2025-09-20  115691.125000   22864449614  \n",
              "2025-09-21  115730.226562   22495852193  \n",
              "2025-09-22  115309.218750   70684158591  \n",
              "2025-09-23  112757.476562   47211853279  \n",
              "2025-09-24  112007.664062   48044595085  \n",
              "2025-09-25  113330.164062   75528654284  \n",
              "2025-09-26  109041.296875   57738288949  \n",
              "2025-09-27  109707.140625   26308042910  \n",
              "2025-09-28  109681.945312   33371048505  \n",
              "2025-09-29  112117.875000   60000147466  \n",
              "2025-09-30  114396.523438   58986330258  \n",
              "2025-10-01  114057.593750   71328680132  \n",
              "2025-10-02  118652.382812   71415163912  \n",
              "2025-10-03  120656.984375   83941392228  \n",
              "2025-10-04  122267.468750   36769171735  \n",
              "2025-10-05  122419.671875   73689317763  \n",
              "2025-10-06  123510.453125   72568881188  \n",
              "2025-10-07  124752.140625   76149412513  \n",
              "2025-10-08  121448.351562   65354305286  \n",
              "2025-10-09  123337.070312   74653009425  \n",
              "2025-10-10  121704.742188  153125018868  \n",
              "2025-10-11  113236.429688  110236934340  \n",
              "2025-10-12  110799.890625   76740091904  "
            ]
          },
          "execution_count": 4,
          "metadata": {},
          "output_type": "execute_result"
        }
      ],
      "source": [
        "ticker = 'BTC-USD'\n",
        "df_BTC = yf.download(ticker, multi_level_index=False, auto_adjust=False)\n",
        "df_BTC"
      ]
    },
    {
      "attachments": {},
      "cell_type": "markdown",
      "id": "2a998ed9-3eef-4709-a943-758e168c0906",
      "metadata": {},
      "source": [
        "## Visualize the data with plotly\n",
        "\n",
        "https://plotly.com/python/candlestick-charts/"
      ]
    },
    {
      "cell_type": "code",
      "execution_count": null,
      "id": "0fe59d86-90af-4d35-b5eb-3cd79fc6fc68",
      "metadata": {},
      "outputs": [
        {
          "data": {
            "application/vnd.plotly.v1+json": {
              "config": {
                "plotlyServerURL": "https://plot.ly"
              },
              "data": [
                {
                  "close": {
                    "bdata": "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",
                    "dtype": "f8"
                  },
                  "high": {
                    "bdata": "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",
                    "dtype": "f8"
                  },
                  "low": {
                    "bdata": "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",
                    "dtype": "f8"
                  },
                  "open": {
                    "bdata": "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",
                    "dtype": "f8"
                  },
                  "type": "candlestick",
                  "x": {
                    "bdata": "AAABAAIAAwAEAAUABgAHAAgACQAKAAsADAANAA4ADwAQABEAEgATABQAFQAWABcAGAAZABoAGwAcAB0AHgAfACAAIQAiACMAJAAlACYAJwAoACkAKgArACwALQAuAC8AMAAxADIAMwA0ADUANgA3ADgAOQA6ADsAPAA9AD4APwBAAEEAQgBDAEQARQBGAEcASABJAEoASwBMAE0ATgBPAFAAUQBSAFMAVABVAFYAVwBYAFkAWgBbAFwAXQBeAF8AYABhAGIAYwBkAGUAZgBnAGgAaQBqAGsAbABtAG4AbwBwAHEAcgBzAHQAdQB2AHcAeAB5AHoAewB8AH0AfgB/AIAAgQCCAIMAhACFAIYAhwCIAIkAigCLAIwAjQCOAI8AkACRAJIAkwCUAJUAlgCXAJgAmQCaAJsAnACdAJ4AnwCgAKEAogCjAKQApQCmAKcAqACpAKoAqwCsAK0ArgCvALAAsQCyALMAtAC1ALYAtwC4ALkAugC7ALwAvQC+AL8AwADBAMIAwwDEAMUAxgDHAMgAyQDKAMsAzADNAM4AzwDQANEA0gDTANQA1QDWANcA2ADZANoA2wDcAN0A3gDfAOAA4QDiAOMA5ADlAOYA5wDoAOkA6gDrAOwA7QDuAO8A8ADxAPIA8wD0APUA9gD3APgA+QD6APsA/AD9AP4A/wAAAQEBAgEDAQQBBQEGAQcBCAEJAQoBCwEMAQ0BDgEPARABEQESARMBFAEVARYBFwEYARkBGgEbARwBHQEeAR8BIAEhASIBIwEkASUBJgEnASgBKQEqASsBLAEtAS4BLwEwATEBMgEzATQBNQE2ATcBOAE5AToBOwE8AT0BPgE/AUABQQFCAUMBRAFFAUYBRwFIAUkBSgFLAUwBTQFOAU8BUAFRAVIBUwFUAVUBVgFXAVgBWQFaAVsBXAFdAV4BXwFgAWEBYgFjAWQBZQFmAWcBaAFpAWoBawFsAW0BbgFvAXABcQFyAXMBdAF1AXYBdwF4AXkBegF7AXwBfQF+AX8BgAGBAYIBgwGEAYUBhgGHAYgBiQGKAYsBjAGNAY4BjwGQAZEBkgGTAZQBlQGWAZcBmAGZAZoBmwGcAZ0BngGfAaABoQGiAaMBpAGlAaYBpwGoAakBqgGrAawBrQGuAa8BsAGxAbIBswG0AbUBtgG3AbgBuQG6AbsBvAG9Ab4BvwHAAcEBwgHDAcQBxQHGAccByAHJAcoBywHMAc0BzgHPAdAB0QHSAdMB1AHVAdYB1wHYAdkB2gHbAdwB3QHeAd8B4AHhAeIB4wHkAeUB5gHnAegB6QHqAesB7AHtAe4B7wHwAfEB8gHzAfQB9QH2AfcB+AH5AQ==",
                    "dtype": "i2"
                  }
                }
              ],
              "layout": {
                "template": {
                  "data": {
                    "bar": [
                      {
                        "error_x": {
                          "color": "#2a3f5f"
                        },
                        "error_y": {
                          "color": "#2a3f5f"
                        },
                        "marker": {
                          "line": {
                            "color": "#E5ECF6",
                            "width": 0.5
                          },
                          "pattern": {
                            "fillmode": "overlay",
                            "size": 10,
                            "solidity": 0.2
                          }
                        },
                        "type": "bar"
                      }
                    ],
                    "barpolar": [
                      {
                        "marker": {
                          "line": {
                            "color": "#E5ECF6",
                            "width": 0.5
                          },
                          "pattern": {
                            "fillmode": "overlay",
                            "size": 10,
                            "solidity": 0.2
                          }
                        },
                        "type": "barpolar"
                      }
                    ],
                    "carpet": [
                      {
                        "aaxis": {
                          "endlinecolor": "#2a3f5f",
                          "gridcolor": "white",
                          "linecolor": "white",
                          "minorgridcolor": "white",
                          "startlinecolor": "#2a3f5f"
                        },
                        "baxis": {
                          "endlinecolor": "#2a3f5f",
                          "gridcolor": "white",
                          "linecolor": "white",
                          "minorgridcolor": "white",
                          "startlinecolor": "#2a3f5f"
                        },
                        "type": "carpet"
                      }
                    ],
                    "choropleth": [
                      {
                        "colorbar": {
                          "outlinewidth": 0,
                          "ticks": ""
                        },
                        "type": "choropleth"
                      }
                    ],
                    "contour": [
                      {
                        "colorbar": {
                          "outlinewidth": 0,
                          "ticks": ""
                        },
                        "colorscale": [
                          [
                            0,
                            "#0d0887"
                          ],
                          [
                            0.1111111111111111,
                            "#46039f"
                          ],
                          [
                            0.2222222222222222,
                            "#7201a8"
                          ],
                          [
                            0.3333333333333333,
                            "#9c179e"
                          ],
                          [
                            0.4444444444444444,
                            "#bd3786"
                          ],
                          [
                            0.5555555555555556,
                            "#d8576b"
                          ],
                          [
                            0.6666666666666666,
                            "#ed7953"
                          ],
                          [
                            0.7777777777777778,
                            "#fb9f3a"
                          ],
                          [
                            0.8888888888888888,
                            "#fdca26"
                          ],
                          [
                            1,
                            "#f0f921"
                          ]
                        ],
                        "type": "contour"
                      }
                    ],
                    "contourcarpet": [
                      {
                        "colorbar": {
                          "outlinewidth": 0,
                          "ticks": ""
                        },
                        "type": "contourcarpet"
                      }
                    ],
                    "heatmap": [
                      {
                        "colorbar": {
                          "outlinewidth": 0,
                          "ticks": ""
                        },
                        "colorscale": [
                          [
                            0,
                            "#0d0887"
                          ],
                          [
                            0.1111111111111111,
                            "#46039f"
                          ],
                          [
                            0.2222222222222222,
                            "#7201a8"
                          ],
                          [
                            0.3333333333333333,
                            "#9c179e"
                          ],
                          [
                            0.4444444444444444,
                            "#bd3786"
                          ],
                          [
                            0.5555555555555556,
                            "#d8576b"
                          ],
                          [
                            0.6666666666666666,
                            "#ed7953"
                          ],
                          [
                            0.7777777777777778,
                            "#fb9f3a"
                          ],
                          [
                            0.8888888888888888,
                            "#fdca26"
                          ],
                          [
                            1,
                            "#f0f921"
                          ]
                        ],
                        "type": "heatmap"
                      }
                    ],
                    "histogram": [
                      {
                        "marker": {
                          "pattern": {
                            "fillmode": "overlay",
                            "size": 10,
                            "solidity": 0.2
                          }
                        },
                        "type": "histogram"
                      }
                    ],
                    "histogram2d": [
                      {
                        "colorbar": {
                          "outlinewidth": 0,
                          "ticks": ""
                        },
                        "colorscale": [
                          [
                            0,
                            "#0d0887"
                          ],
                          [
                            0.1111111111111111,
                            "#46039f"
                          ],
                          [
                            0.2222222222222222,
                            "#7201a8"
                          ],
                          [
                            0.3333333333333333,
                            "#9c179e"
                          ],
                          [
                            0.4444444444444444,
                            "#bd3786"
                          ],
                          [
                            0.5555555555555556,
                            "#d8576b"
                          ],
                          [
                            0.6666666666666666,
                            "#ed7953"
                          ],
                          [
                            0.7777777777777778,
                            "#fb9f3a"
                          ],
                          [
                            0.8888888888888888,
                            "#fdca26"
                          ],
                          [
                            1,
                            "#f0f921"
                          ]
                        ],
                        "type": "histogram2d"
                      }
                    ],
                    "histogram2dcontour": [
                      {
                        "colorbar": {
                          "outlinewidth": 0,
                          "ticks": ""
                        },
                        "colorscale": [
                          [
                            0,
                            "#0d0887"
                          ],
                          [
                            0.1111111111111111,
                            "#46039f"
                          ],
                          [
                            0.2222222222222222,
                            "#7201a8"
                          ],
                          [
                            0.3333333333333333,
                            "#9c179e"
                          ],
                          [
                            0.4444444444444444,
                            "#bd3786"
                          ],
                          [
                            0.5555555555555556,
                            "#d8576b"
                          ],
                          [
                            0.6666666666666666,
                            "#ed7953"
                          ],
                          [
                            0.7777777777777778,
                            "#fb9f3a"
                          ],
                          [
                            0.8888888888888888,
                            "#fdca26"
                          ],
                          [
                            1,
                            "#f0f921"
                          ]
                        ],
                        "type": "histogram2dcontour"
                      }
                    ],
                    "mesh3d": [
                      {
                        "colorbar": {
                          "outlinewidth": 0,
                          "ticks": ""
                        },
                        "type": "mesh3d"
                      }
                    ],
                    "parcoords": [
                      {
                        "line": {
                          "colorbar": {
                            "outlinewidth": 0,
                            "ticks": ""
                          }
                        },
                        "type": "parcoords"
                      }
                    ],
                    "pie": [
                      {
                        "automargin": true,
                        "type": "pie"
                      }
                    ],
                    "scatter": [
                      {
                        "fillpattern": {
                          "fillmode": "overlay",
                          "size": 10,
                          "solidity": 0.2
                        },
                        "type": "scatter"
                      }
                    ],
                    "scatter3d": [
                      {
                        "line": {
                          "colorbar": {
                            "outlinewidth": 0,
                            "ticks": ""
                          }
                        },
                        "marker": {
                          "colorbar": {
                            "outlinewidth": 0,
                            "ticks": ""
                          }
                        },
                        "type": "scatter3d"
                      }
                    ],
                    "scattercarpet": [
                      {
                        "marker": {
                          "colorbar": {
                            "outlinewidth": 0,
                            "ticks": ""
                          }
                        },
                        "type": "scattercarpet"
                      }
                    ],
                    "scattergeo": [
                      {
                        "marker": {
                          "colorbar": {
                            "outlinewidth": 0,
                            "ticks": ""
                          }
                        },
                        "type": "scattergeo"
                      }
                    ],
                    "scattergl": [
                      {
                        "marker": {
                          "colorbar": {
                            "outlinewidth": 0,
                            "ticks": ""
                          }
                        },
                        "type": "scattergl"
                      }
                    ],
                    "scattermap": [
                      {
                        "marker": {
                          "colorbar": {
                            "outlinewidth": 0,
                            "ticks": ""
                          }
                        },
                        "type": "scattermap"
                      }
                    ],
                    "scattermapbox": [
                      {
                        "marker": {
                          "colorbar": {
                            "outlinewidth": 0,
                            "ticks": ""
                          }
                        },
                        "type": "scattermapbox"
                      }
                    ],
                    "scatterpolar": [
                      {
                        "marker": {
                          "colorbar": {
                            "outlinewidth": 0,
                            "ticks": ""
                          }
                        },
                        "type": "scatterpolar"
                      }
                    ],
                    "scatterpolargl": [
                      {
                        "marker": {
                          "colorbar": {
                            "outlinewidth": 0,
                            "ticks": ""
                          }
                        },
                        "type": "scatterpolargl"
                      }
                    ],
                    "scatterternary": [
                      {
                        "marker": {
                          "colorbar": {
                            "outlinewidth": 0,
                            "ticks": ""
                          }
                        },
                        "type": "scatterternary"
                      }
                    ],
                    "surface": [
                      {
                        "colorbar": {
                          "outlinewidth": 0,
                          "ticks": ""
                        },
                        "colorscale": [
                          [
                            0,
                            "#0d0887"
                          ],
                          [
                            0.1111111111111111,
                            "#46039f"
                          ],
                          [
                            0.2222222222222222,
                            "#7201a8"
                          ],
                          [
                            0.3333333333333333,
                            "#9c179e"
                          ],
                          [
                            0.4444444444444444,
                            "#bd3786"
                          ],
                          [
                            0.5555555555555556,
                            "#d8576b"
                          ],
                          [
                            0.6666666666666666,
                            "#ed7953"
                          ],
                          [
                            0.7777777777777778,
                            "#fb9f3a"
                          ],
                          [
                            0.8888888888888888,
                            "#fdca26"
                          ],
                          [
                            1,
                            "#f0f921"
                          ]
                        ],
                        "type": "surface"
                      }
                    ],
                    "table": [
                      {
                        "cells": {
                          "fill": {
                            "color": "#EBF0F8"
                          },
                          "line": {
                            "color": "white"
                          }
                        },
                        "header": {
                          "fill": {
                            "color": "#C8D4E3"
                          },
                          "line": {
                            "color": "white"
                          }
                        },
                        "type": "table"
                      }
                    ]
                  },
                  "layout": {
                    "annotationdefaults": {
                      "arrowcolor": "#2a3f5f",
                      "arrowhead": 0,
                      "arrowwidth": 1
                    },
                    "autotypenumbers": "strict",
                    "coloraxis": {
                      "colorbar": {
                        "outlinewidth": 0,
                        "ticks": ""
                      }
                    },
                    "colorscale": {
                      "diverging": [
                        [
                          0,
                          "#8e0152"
                        ],
                        [
                          0.1,
                          "#c51b7d"
                        ],
                        [
                          0.2,
                          "#de77ae"
                        ],
                        [
                          0.3,
                          "#f1b6da"
                        ],
                        [
                          0.4,
                          "#fde0ef"
                        ],
                        [
                          0.5,
                          "#f7f7f7"
                        ],
                        [
                          0.6,
                          "#e6f5d0"
                        ],
                        [
                          0.7,
                          "#b8e186"
                        ],
                        [
                          0.8,
                          "#7fbc41"
                        ],
                        [
                          0.9,
                          "#4d9221"
                        ],
                        [
                          1,
                          "#276419"
                        ]
                      ],
                      "sequential": [
                        [
                          0,
                          "#0d0887"
                        ],
                        [
                          0.1111111111111111,
                          "#46039f"
                        ],
                        [
                          0.2222222222222222,
                          "#7201a8"
                        ],
                        [
                          0.3333333333333333,
                          "#9c179e"
                        ],
                        [
                          0.4444444444444444,
                          "#bd3786"
                        ],
                        [
                          0.5555555555555556,
                          "#d8576b"
                        ],
                        [
                          0.6666666666666666,
                          "#ed7953"
                        ],
                        [
                          0.7777777777777778,
                          "#fb9f3a"
                        ],
                        [
                          0.8888888888888888,
                          "#fdca26"
                        ],
                        [
                          1,
                          "#f0f921"
                        ]
                      ],
                      "sequentialminus": [
                        [
                          0,
                          "#0d0887"
                        ],
                        [
                          0.1111111111111111,
                          "#46039f"
                        ],
                        [
                          0.2222222222222222,
                          "#7201a8"
                        ],
                        [
                          0.3333333333333333,
                          "#9c179e"
                        ],
                        [
                          0.4444444444444444,
                          "#bd3786"
                        ],
                        [
                          0.5555555555555556,
                          "#d8576b"
                        ],
                        [
                          0.6666666666666666,
                          "#ed7953"
                        ],
                        [
                          0.7777777777777778,
                          "#fb9f3a"
                        ],
                        [
                          0.8888888888888888,
                          "#fdca26"
                        ],
                        [
                          1,
                          "#f0f921"
                        ]
                      ]
                    },
                    "colorway": [
                      "#636efa",
                      "#EF553B",
                      "#00cc96",
                      "#ab63fa",
                      "#FFA15A",
                      "#19d3f3",
                      "#FF6692",
                      "#B6E880",
                      "#FF97FF",
                      "#FECB52"
                    ],
                    "font": {
                      "color": "#2a3f5f"
                    },
                    "geo": {
                      "bgcolor": "white",
                      "lakecolor": "white",
                      "landcolor": "#E5ECF6",
                      "showlakes": true,
                      "showland": true,
                      "subunitcolor": "white"
                    },
                    "hoverlabel": {
                      "align": "left"
                    },
                    "hovermode": "closest",
                    "mapbox": {
                      "style": "light"
                    },
                    "paper_bgcolor": "white",
                    "plot_bgcolor": "#E5ECF6",
                    "polar": {
                      "angularaxis": {
                        "gridcolor": "white",
                        "linecolor": "white",
                        "ticks": ""
                      },
                      "bgcolor": "#E5ECF6",
                      "radialaxis": {
                        "gridcolor": "white",
                        "linecolor": "white",
                        "ticks": ""
                      }
                    },
                    "scene": {
                      "xaxis": {
                        "backgroundcolor": "#E5ECF6",
                        "gridcolor": "white",
                        "gridwidth": 2,
                        "linecolor": "white",
                        "showbackground": true,
                        "ticks": "",
                        "zerolinecolor": "white"
                      },
                      "yaxis": {
                        "backgroundcolor": "#E5ECF6",
                        "gridcolor": "white",
                        "gridwidth": 2,
                        "linecolor": "white",
                        "showbackground": true,
                        "ticks": "",
                        "zerolinecolor": "white"
                      },
                      "zaxis": {
                        "backgroundcolor": "#E5ECF6",
                        "gridcolor": "white",
                        "gridwidth": 2,
                        "linecolor": "white",
                        "showbackground": true,
                        "ticks": "",
                        "zerolinecolor": "white"
                      }
                    },
                    "shapedefaults": {
                      "line": {
                        "color": "#2a3f5f"
                      }
                    },
                    "ternary": {
                      "aaxis": {
                        "gridcolor": "white",
                        "linecolor": "white",
                        "ticks": ""
                      },
                      "baxis": {
                        "gridcolor": "white",
                        "linecolor": "white",
                        "ticks": ""
                      },
                      "bgcolor": "#E5ECF6",
                      "caxis": {
                        "gridcolor": "white",
                        "linecolor": "white",
                        "ticks": ""
                      }
                    },
                    "title": {
                      "x": 0.05
                    },
                    "xaxis": {
                      "automargin": true,
                      "gridcolor": "white",
                      "linecolor": "white",
                      "ticks": "",
                      "title": {
                        "standoff": 15
                      },
                      "zerolinecolor": "white",
                      "zerolinewidth": 2
                    },
                    "yaxis": {
                      "automargin": true,
                      "gridcolor": "white",
                      "linecolor": "white",
                      "ticks": "",
                      "title": {
                        "standoff": 15
                      },
                      "zerolinecolor": "white",
                      "zerolinewidth": 2
                    }
                  }
                }
              }
            }
          },
          "metadata": {},
          "output_type": "display_data"
        }
      ],
      "source": [
        "import plotly.graph_objects as go\n",
        "\n",
        "import pandas as pd\n",
        "\n",
        "df = pd.read_csv('https://raw.githubusercontent.com/plotly/datasets/master/finance-charts-apple.csv')\n",
        "\n",
        "fig = go.Figure(data=[go.Candlestick(x=df.index,\n",
        "                open=df['AAPL.Open'],\n",
        "                high=df['AAPL.High'],\n",
        "                low=df['AAPL.Low'],\n",
        "                close=df['AAPL.Close'])])\n",
        "\n",
        "fig.show()"
      ]
    },
    {
      "cell_type": "code",
      "execution_count": 29,
      "id": "c84c1eb6-e6b7-452b-a726-02eab0dfedfc",
      "metadata": {},
      "outputs": [
        {
          "data": {
            "application/vnd.plotly.v1+json": {
              "config": {
                "plotlyServerURL": "https://plot.ly"
              },
              "data": [
                {
                  "close": {
                    "bdata": "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",
                    "dtype": "f8"
                  },
                  "high": {
                    "bdata": "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",
                    "dtype": "f8"
                  },
                  "low": {
                    "bdata": "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",
                    "dtype": "f8"
                  },
                  "open": {
                    "bdata": "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",
                    "dtype": "f8"
                  },
                  "type": "candlestick",
                  "x": [
                    "2015-01-02T00:00:00.000000000",
                    "2015-01-05T00:00:00.000000000",
                    "2015-01-06T00:00:00.000000000",
                    "2015-01-07T00:00:00.000000000",
                    "2015-01-08T00:00:00.000000000",
                    "2015-01-09T00:00:00.000000000",
                    "2015-01-12T00:00:00.000000000",
                    "2015-01-13T00:00:00.000000000",
                    "2015-01-14T00:00:00.000000000",
                    "2015-01-15T00:00:00.000000000",
                    "2015-01-16T00:00:00.000000000",
                    "2015-01-20T00:00:00.000000000",
                    "2015-01-21T00:00:00.000000000",
                    "2015-01-22T00:00:00.000000000",
                    "2015-01-23T00:00:00.000000000",
                    "2015-01-26T00:00:00.000000000",
                    "2015-01-27T00:00:00.000000000",
                    "2015-01-28T00:00:00.000000000",
                    "2015-01-29T00:00:00.000000000",
                    "2015-01-30T00:00:00.000000000",
                    "2015-02-02T00:00:00.000000000",
                    "2015-02-03T00:00:00.000000000",
                    "2015-02-04T00:00:00.000000000",
                    "2015-02-05T00:00:00.000000000",
                    "2015-02-06T00:00:00.000000000",
                    "2015-02-09T00:00:00.000000000",
                    "2015-02-10T00:00:00.000000000",
                    "2015-02-11T00:00:00.000000000",
                    "2015-02-12T00:00:00.000000000",
                    "2015-02-13T00:00:00.000000000",
                    "2015-02-17T00:00:00.000000000",
                    "2015-02-18T00:00:00.000000000",
                    "2015-02-19T00:00:00.000000000",
                    "2015-02-20T00:00:00.000000000",
                    "2015-02-23T00:00:00.000000000",
                    "2015-02-24T00:00:00.000000000",
                    "2015-02-25T00:00:00.000000000",
                    "2015-02-26T00:00:00.000000000",
                    "2015-02-27T00:00:00.000000000",
                    "2015-03-02T00:00:00.000000000",
                    "2015-03-03T00:00:00.000000000",
                    "2015-03-04T00:00:00.000000000",
                    "2015-03-05T00:00:00.000000000",
                    "2015-03-06T00:00:00.000000000",
                    "2015-03-09T00:00:00.000000000",
                    "2015-03-10T00:00:00.000000000",
                    "2015-03-11T00:00:00.000000000",
                    "2015-03-12T00:00:00.000000000",
                    "2015-03-13T00:00:00.000000000",
                    "2015-03-16T00:00:00.000000000",
                    "2015-03-17T00:00:00.000000000",
                    "2015-03-18T00:00:00.000000000",
                    "2015-03-19T00:00:00.000000000",
                    "2015-03-20T00:00:00.000000000",
                    "2015-03-23T00:00:00.000000000",
                    "2015-03-24T00:00:00.000000000",
                    "2015-03-25T00:00:00.000000000",
                    "2015-03-26T00:00:00.000000000",
                    "2015-03-27T00:00:00.000000000",
                    "2015-03-30T00:00:00.000000000",
                    "2015-03-31T00:00:00.000000000",
                    "2015-04-01T00:00:00.000000000",
                    "2015-04-02T00:00:00.000000000",
                    "2015-04-06T00:00:00.000000000",
                    "2015-04-07T00:00:00.000000000",
                    "2015-04-08T00:00:00.000000000",
                    "2015-04-09T00:00:00.000000000",
                    "2015-04-10T00:00:00.000000000",
                    "2015-04-13T00:00:00.000000000",
                    "2015-04-14T00:00:00.000000000",
                    "2015-04-15T00:00:00.000000000",
                    "2015-04-16T00:00:00.000000000",
                    "2015-04-17T00:00:00.000000000",
                    "2015-04-20T00:00:00.000000000",
                    "2015-04-21T00:00:00.000000000",
                    "2015-04-22T00:00:00.000000000",
                    "2015-04-23T00:00:00.000000000",
                    "2015-04-24T00:00:00.000000000",
                    "2015-04-27T00:00:00.000000000",
                    "2015-04-28T00:00:00.000000000",
                    "2015-04-29T00:00:00.000000000",
                    "2015-04-30T00:00:00.000000000",
                    "2015-05-01T00:00:00.000000000",
                    "2015-05-04T00:00:00.000000000",
                    "2015-05-05T00:00:00.000000000",
                    "2015-05-06T00:00:00.000000000",
                    "2015-05-07T00:00:00.000000000",
                    "2015-05-08T00:00:00.000000000",
                    "2015-05-11T00:00:00.000000000",
                    "2015-05-12T00:00:00.000000000",
                    "2015-05-13T00:00:00.000000000",
                    "2015-05-14T00:00:00.000000000",
                    "2015-05-15T00:00:00.000000000",
                    "2015-05-18T00:00:00.000000000",
                    "2015-05-19T00:00:00.000000000",
                    "2015-05-20T00:00:00.000000000",
                    "2015-05-21T00:00:00.000000000",
                    "2015-05-22T00:00:00.000000000",
                    "2015-05-26T00:00:00.000000000",
                    "2015-05-27T00:00:00.000000000",
                    "2015-05-28T00:00:00.000000000",
                    "2015-05-29T00:00:00.000000000",
                    "2015-06-01T00:00:00.000000000",
                    "2015-06-02T00:00:00.000000000",
                    "2015-06-03T00:00:00.000000000",
                    "2015-06-04T00:00:00.000000000",
                    "2015-06-05T00:00:00.000000000",
                    "2015-06-08T00:00:00.000000000",
                    "2015-06-09T00:00:00.000000000",
                    "2015-06-10T00:00:00.000000000",
                    "2015-06-11T00:00:00.000000000",
                    "2015-06-12T00:00:00.000000000",
                    "2015-06-15T00:00:00.000000000",
                    "2015-06-16T00:00:00.000000000",
                    "2015-06-17T00:00:00.000000000",
                    "2015-06-18T00:00:00.000000000",
                    "2015-06-19T00:00:00.000000000",
                    "2015-06-22T00:00:00.000000000",
                    "2015-06-23T00:00:00.000000000",
                    "2015-06-24T00:00:00.000000000",
                    "2015-06-25T00:00:00.000000000",
                    "2015-06-26T00:00:00.000000000",
                    "2015-06-29T00:00:00.000000000",
                    "2015-06-30T00:00:00.000000000",
                    "2015-07-01T00:00:00.000000000",
                    "2015-07-02T00:00:00.000000000",
                    "2015-07-06T00:00:00.000000000",
                    "2015-07-07T00:00:00.000000000",
                    "2015-07-08T00:00:00.000000000",
                    "2015-07-09T00:00:00.000000000",
                    "2015-07-10T00:00:00.000000000",
                    "2015-07-13T00:00:00.000000000",
                    "2015-07-14T00:00:00.000000000",
                    "2015-07-15T00:00:00.000000000",
                    "2015-07-16T00:00:00.000000000",
                    "2015-07-17T00:00:00.000000000",
                    "2015-07-20T00:00:00.000000000",
                    "2015-07-21T00:00:00.000000000",
                    "2015-07-22T00:00:00.000000000",
                    "2015-07-23T00:00:00.000000000",
                    "2015-07-24T00:00:00.000000000",
                    "2015-07-27T00:00:00.000000000",
                    "2015-07-28T00:00:00.000000000",
                    "2015-07-29T00:00:00.000000000",
                    "2015-07-30T00:00:00.000000000",
                    "2015-07-31T00:00:00.000000000",
                    "2015-08-03T00:00:00.000000000",
                    "2015-08-04T00:00:00.000000000",
                    "2015-08-05T00:00:00.000000000",
                    "2015-08-06T00:00:00.000000000",
                    "2015-08-07T00:00:00.000000000",
                    "2015-08-10T00:00:00.000000000",
                    "2015-08-11T00:00:00.000000000",
                    "2015-08-12T00:00:00.000000000",
                    "2015-08-13T00:00:00.000000000",
                    "2015-08-14T00:00:00.000000000",
                    "2015-08-17T00:00:00.000000000",
                    "2015-08-18T00:00:00.000000000",
                    "2015-08-19T00:00:00.000000000",
                    "2015-08-20T00:00:00.000000000",
                    "2015-08-21T00:00:00.000000000",
                    "2015-08-24T00:00:00.000000000",
                    "2015-08-25T00:00:00.000000000",
                    "2015-08-26T00:00:00.000000000",
                    "2015-08-27T00:00:00.000000000",
                    "2015-08-28T00:00:00.000000000",
                    "2015-08-31T00:00:00.000000000",
                    "2015-09-01T00:00:00.000000000",
                    "2015-09-02T00:00:00.000000000",
                    "2015-09-03T00:00:00.000000000",
                    "2015-09-04T00:00:00.000000000",
                    "2015-09-08T00:00:00.000000000",
                    "2015-09-09T00:00:00.000000000",
                    "2015-09-10T00:00:00.000000000",
                    "2015-09-11T00:00:00.000000000",
                    "2015-09-14T00:00:00.000000000",
                    "2015-09-15T00:00:00.000000000",
                    "2015-09-16T00:00:00.000000000",
                    "2015-09-17T00:00:00.000000000",
                    "2015-09-18T00:00:00.000000000",
                    "2015-09-21T00:00:00.000000000",
                    "2015-09-22T00:00:00.000000000",
                    "2015-09-23T00:00:00.000000000",
                    "2015-09-24T00:00:00.000000000",
                    "2015-09-25T00:00:00.000000000",
                    "2015-09-28T00:00:00.000000000",
                    "2015-09-29T00:00:00.000000000",
                    "2015-09-30T00:00:00.000000000",
                    "2015-10-01T00:00:00.000000000",
                    "2015-10-02T00:00:00.000000000",
                    "2015-10-05T00:00:00.000000000",
                    "2015-10-06T00:00:00.000000000",
                    "2015-10-07T00:00:00.000000000",
                    "2015-10-08T00:00:00.000000000",
                    "2015-10-09T00:00:00.000000000",
                    "2015-10-12T00:00:00.000000000",
                    "2015-10-13T00:00:00.000000000",
                    "2015-10-14T00:00:00.000000000",
                    "2015-10-15T00:00:00.000000000",
                    "2015-10-16T00:00:00.000000000",
                    "2015-10-19T00:00:00.000000000",
                    "2015-10-20T00:00:00.000000000",
                    "2015-10-21T00:00:00.000000000",
                    "2015-10-22T00:00:00.000000000",
                    "2015-10-23T00:00:00.000000000",
                    "2015-10-26T00:00:00.000000000",
                    "2015-10-27T00:00:00.000000000",
                    "2015-10-28T00:00:00.000000000",
                    "2015-10-29T00:00:00.000000000",
                    "2015-10-30T00:00:00.000000000",
                    "2015-11-02T00:00:00.000000000",
                    "2015-11-03T00:00:00.000000000",
                    "2015-11-04T00:00:00.000000000",
                    "2015-11-05T00:00:00.000000000",
                    "2015-11-06T00:00:00.000000000",
                    "2015-11-09T00:00:00.000000000",
                    "2015-11-10T00:00:00.000000000",
                    "2015-11-11T00:00:00.000000000",
                    "2015-11-12T00:00:00.000000000",
                    "2015-11-13T00:00:00.000000000",
                    "2015-11-16T00:00:00.000000000",
                    "2015-11-17T00:00:00.000000000",
                    "2015-11-18T00:00:00.000000000",
                    "2015-11-19T00:00:00.000000000",
                    "2015-11-20T00:00:00.000000000",
                    "2015-11-23T00:00:00.000000000",
                    "2015-11-24T00:00:00.000000000",
                    "2015-11-25T00:00:00.000000000",
                    "2015-11-27T00:00:00.000000000",
                    "2015-11-30T00:00:00.000000000",
                    "2015-12-01T00:00:00.000000000",
                    "2015-12-02T00:00:00.000000000",
                    "2015-12-03T00:00:00.000000000",
                    "2015-12-04T00:00:00.000000000",
                    "2015-12-07T00:00:00.000000000",
                    "2015-12-08T00:00:00.000000000",
                    "2015-12-09T00:00:00.000000000",
                    "2015-12-10T00:00:00.000000000",
                    "2015-12-11T00:00:00.000000000",
                    "2015-12-14T00:00:00.000000000",
                    "2015-12-15T00:00:00.000000000",
                    "2015-12-16T00:00:00.000000000",
                    "2015-12-17T00:00:00.000000000",
                    "2015-12-18T00:00:00.000000000",
                    "2015-12-21T00:00:00.000000000",
                    "2015-12-22T00:00:00.000000000",
                    "2015-12-23T00:00:00.000000000",
                    "2015-12-24T00:00:00.000000000",
                    "2015-12-28T00:00:00.000000000",
                    "2015-12-29T00:00:00.000000000",
                    "2015-12-30T00:00:00.000000000",
                    "2015-12-31T00:00:00.000000000",
                    "2016-01-04T00:00:00.000000000",
                    "2016-01-05T00:00:00.000000000",
                    "2016-01-06T00:00:00.000000000",
                    "2016-01-07T00:00:00.000000000",
                    "2016-01-08T00:00:00.000000000",
                    "2016-01-11T00:00:00.000000000",
                    "2016-01-12T00:00:00.000000000",
                    "2016-01-13T00:00:00.000000000",
                    "2016-01-14T00:00:00.000000000",
                    "2016-01-15T00:00:00.000000000",
                    "2016-01-19T00:00:00.000000000",
                    "2016-01-20T00:00:00.000000000",
                    "2016-01-21T00:00:00.000000000",
                    "2016-01-22T00:00:00.000000000",
                    "2016-01-25T00:00:00.000000000",
                    "2016-01-26T00:00:00.000000000",
                    "2016-01-27T00:00:00.000000000",
                    "2016-01-28T00:00:00.000000000",
                    "2016-01-29T00:00:00.000000000",
                    "2016-02-01T00:00:00.000000000",
                    "2016-02-02T00:00:00.000000000",
                    "2016-02-03T00:00:00.000000000",
                    "2016-02-04T00:00:00.000000000",
                    "2016-02-05T00:00:00.000000000",
                    "2016-02-08T00:00:00.000000000",
                    "2016-02-09T00:00:00.000000000",
                    "2016-02-10T00:00:00.000000000",
                    "2016-02-11T00:00:00.000000000",
                    "2016-02-12T00:00:00.000000000",
                    "2016-02-16T00:00:00.000000000",
                    "2016-02-17T00:00:00.000000000",
                    "2016-02-18T00:00:00.000000000",
                    "2016-02-19T00:00:00.000000000",
                    "2016-02-22T00:00:00.000000000",
                    "2016-02-23T00:00:00.000000000",
                    "2016-02-24T00:00:00.000000000",
                    "2016-02-25T00:00:00.000000000",
                    "2016-02-26T00:00:00.000000000",
                    "2016-02-29T00:00:00.000000000",
                    "2016-03-01T00:00:00.000000000",
                    "2016-03-02T00:00:00.000000000",
                    "2016-03-03T00:00:00.000000000",
                    "2016-03-04T00:00:00.000000000",
                    "2016-03-07T00:00:00.000000000",
                    "2016-03-08T00:00:00.000000000",
                    "2016-03-09T00:00:00.000000000",
                    "2016-03-10T00:00:00.000000000",
                    "2016-03-11T00:00:00.000000000",
                    "2016-03-14T00:00:00.000000000",
                    "2016-03-15T00:00:00.000000000",
                    "2016-03-16T00:00:00.000000000",
                    "2016-03-17T00:00:00.000000000",
                    "2016-03-18T00:00:00.000000000",
                    "2016-03-21T00:00:00.000000000",
                    "2016-03-22T00:00:00.000000000",
                    "2016-03-23T00:00:00.000000000",
                    "2016-03-24T00:00:00.000000000",
                    "2016-03-28T00:00:00.000000000",
                    "2016-03-29T00:00:00.000000000",
                    "2016-03-30T00:00:00.000000000",
                    "2016-03-31T00:00:00.000000000",
                    "2016-04-01T00:00:00.000000000",
                    "2016-04-04T00:00:00.000000000",
                    "2016-04-05T00:00:00.000000000",
                    "2016-04-06T00:00:00.000000000",
                    "2016-04-07T00:00:00.000000000",
                    "2016-04-08T00:00:00.000000000",
                    "2016-04-11T00:00:00.000000000",
                    "2016-04-12T00:00:00.000000000",
                    "2016-04-13T00:00:00.000000000",
                    "2016-04-14T00:00:00.000000000",
                    "2016-04-15T00:00:00.000000000",
                    "2016-04-18T00:00:00.000000000",
                    "2016-04-19T00:00:00.000000000",
                    "2016-04-20T00:00:00.000000000",
                    "2016-04-21T00:00:00.000000000",
                    "2016-04-22T00:00:00.000000000",
                    "2016-04-25T00:00:00.000000000",
                    "2016-04-26T00:00:00.000000000",
                    "2016-04-27T00:00:00.000000000",
                    "2016-04-28T00:00:00.000000000",
                    "2016-04-29T00:00:00.000000000",
                    "2016-05-02T00:00:00.000000000",
                    "2016-05-03T00:00:00.000000000",
                    "2016-05-04T00:00:00.000000000",
                    "2016-05-05T00:00:00.000000000",
                    "2016-05-06T00:00:00.000000000",
                    "2016-05-09T00:00:00.000000000",
                    "2016-05-10T00:00:00.000000000",
                    "2016-05-11T00:00:00.000000000",
                    "2016-05-12T00:00:00.000000000",
                    "2016-05-13T00:00:00.000000000",
                    "2016-05-16T00:00:00.000000000",
                    "2016-05-17T00:00:00.000000000",
                    "2016-05-18T00:00:00.000000000",
                    "2016-05-19T00:00:00.000000000",
                    "2016-05-20T00:00:00.000000000",
                    "2016-05-23T00:00:00.000000000",
                    "2016-05-24T00:00:00.000000000",
                    "2016-05-25T00:00:00.000000000",
                    "2016-05-26T00:00:00.000000000",
                    "2016-05-27T00:00:00.000000000",
                    "2016-05-31T00:00:00.000000000",
                    "2016-06-01T00:00:00.000000000",
                    "2016-06-02T00:00:00.000000000",
                    "2016-06-03T00:00:00.000000000",
                    "2016-06-06T00:00:00.000000000",
                    "2016-06-07T00:00:00.000000000",
                    "2016-06-08T00:00:00.000000000",
                    "2016-06-09T00:00:00.000000000",
                    "2016-06-10T00:00:00.000000000",
                    "2016-06-13T00:00:00.000000000",
                    "2016-06-14T00:00:00.000000000",
                    "2016-06-15T00:00:00.000000000",
                    "2016-06-16T00:00:00.000000000",
                    "2016-06-17T00:00:00.000000000",
                    "2016-06-20T00:00:00.000000000",
                    "2016-06-21T00:00:00.000000000",
                    "2016-06-22T00:00:00.000000000",
                    "2016-06-23T00:00:00.000000000",
                    "2016-06-24T00:00:00.000000000",
                    "2016-06-27T00:00:00.000000000",
                    "2016-06-28T00:00:00.000000000",
                    "2016-06-29T00:00:00.000000000",
                    "2016-06-30T00:00:00.000000000",
                    "2016-07-01T00:00:00.000000000",
                    "2016-07-05T00:00:00.000000000",
                    "2016-07-06T00:00:00.000000000",
                    "2016-07-07T00:00:00.000000000",
                    "2016-07-08T00:00:00.000000000",
                    "2016-07-11T00:00:00.000000000",
                    "2016-07-12T00:00:00.000000000",
                    "2016-07-13T00:00:00.000000000",
                    "2016-07-14T00:00:00.000000000",
                    "2016-07-15T00:00:00.000000000",
                    "2016-07-18T00:00:00.000000000",
                    "2016-07-19T00:00:00.000000000",
                    "2016-07-20T00:00:00.000000000",
                    "2016-07-21T00:00:00.000000000",
                    "2016-07-22T00:00:00.000000000",
                    "2016-07-25T00:00:00.000000000",
                    "2016-07-26T00:00:00.000000000",
                    "2016-07-27T00:00:00.000000000",
                    "2016-07-28T00:00:00.000000000",
                    "2016-07-29T00:00:00.000000000",
                    "2016-08-01T00:00:00.000000000",
                    "2016-08-02T00:00:00.000000000",
                    "2016-08-03T00:00:00.000000000",
                    "2016-08-04T00:00:00.000000000",
                    "2016-08-05T00:00:00.000000000",
                    "2016-08-08T00:00:00.000000000",
                    "2016-08-09T00:00:00.000000000",
                    "2016-08-10T00:00:00.000000000",
                    "2016-08-11T00:00:00.000000000",
                    "2016-08-12T00:00:00.000000000",
                    "2016-08-15T00:00:00.000000000",
                    "2016-08-16T00:00:00.000000000",
                    "2016-08-17T00:00:00.000000000",
                    "2016-08-18T00:00:00.000000000",
                    "2016-08-19T00:00:00.000000000",
                    "2016-08-22T00:00:00.000000000",
                    "2016-08-23T00:00:00.000000000",
                    "2016-08-24T00:00:00.000000000",
                    "2016-08-25T00:00:00.000000000",
                    "2016-08-26T00:00:00.000000000",
                    "2016-08-29T00:00:00.000000000",
                    "2016-08-30T00:00:00.000000000",
                    "2016-08-31T00:00:00.000000000",
                    "2016-09-01T00:00:00.000000000",
                    "2016-09-02T00:00:00.000000000",
                    "2016-09-06T00:00:00.000000000",
                    "2016-09-07T00:00:00.000000000",
                    "2016-09-08T00:00:00.000000000",
                    "2016-09-09T00:00:00.000000000",
                    "2016-09-12T00:00:00.000000000",
                    "2016-09-13T00:00:00.000000000",
                    "2016-09-14T00:00:00.000000000",
                    "2016-09-15T00:00:00.000000000",
                    "2016-09-16T00:00:00.000000000",
                    "2016-09-19T00:00:00.000000000",
                    "2016-09-20T00:00:00.000000000",
                    "2016-09-21T00:00:00.000000000",
                    "2016-09-22T00:00:00.000000000",
                    "2016-09-23T00:00:00.000000000",
                    "2016-09-26T00:00:00.000000000",
                    "2016-09-27T00:00:00.000000000",
                    "2016-09-28T00:00:00.000000000",
                    "2016-09-29T00:00:00.000000000",
                    "2016-09-30T00:00:00.000000000",
                    "2016-10-03T00:00:00.000000000",
                    "2016-10-04T00:00:00.000000000",
                    "2016-10-05T00:00:00.000000000",
                    "2016-10-06T00:00:00.000000000",
                    "2016-10-07T00:00:00.000000000",
                    "2016-10-10T00:00:00.000000000",
                    "2016-10-11T00:00:00.000000000",
                    "2016-10-12T00:00:00.000000000",
                    "2016-10-13T00:00:00.000000000",
                    "2016-10-14T00:00:00.000000000",
                    "2016-10-17T00:00:00.000000000",
                    "2016-10-18T00:00:00.000000000",
                    "2016-10-19T00:00:00.000000000",
                    "2016-10-20T00:00:00.000000000",
                    "2016-10-21T00:00:00.000000000",
                    "2016-10-24T00:00:00.000000000",
                    "2016-10-25T00:00:00.000000000",
                    "2016-10-26T00:00:00.000000000",
                    "2016-10-27T00:00:00.000000000",
                    "2016-10-28T00:00:00.000000000",
                    "2016-10-31T00:00:00.000000000",
                    "2016-11-01T00:00:00.000000000",
                    "2016-11-02T00:00:00.000000000",
                    "2016-11-03T00:00:00.000000000",
                    "2016-11-04T00:00:00.000000000",
                    "2016-11-07T00:00:00.000000000",
                    "2016-11-08T00:00:00.000000000",
                    "2016-11-09T00:00:00.000000000",
                    "2016-11-10T00:00:00.000000000",
                    "2016-11-11T00:00:00.000000000",
                    "2016-11-14T00:00:00.000000000",
                    "2016-11-15T00:00:00.000000000",
                    "2016-11-16T00:00:00.000000000",
                    "2016-11-17T00:00:00.000000000",
                    "2016-11-18T00:00:00.000000000",
                    "2016-11-21T00:00:00.000000000",
                    "2016-11-22T00:00:00.000000000",
                    "2016-11-23T00:00:00.000000000",
                    "2016-11-25T00:00:00.000000000",
                    "2016-11-28T00:00:00.000000000",
                    "2016-11-29T00:00:00.000000000",
                    "2016-11-30T00:00:00.000000000",
                    "2016-12-01T00:00:00.000000000",
                    "2016-12-02T00:00:00.000000000",
                    "2016-12-05T00:00:00.000000000",
                    "2016-12-06T00:00:00.000000000",
                    "2016-12-07T00:00:00.000000000",
                    "2016-12-08T00:00:00.000000000",
                    "2016-12-09T00:00:00.000000000",
                    "2016-12-12T00:00:00.000000000",
                    "2016-12-13T00:00:00.000000000",
                    "2016-12-14T00:00:00.000000000",
                    "2016-12-15T00:00:00.000000000",
                    "2016-12-16T00:00:00.000000000",
                    "2016-12-19T00:00:00.000000000",
                    "2016-12-20T00:00:00.000000000",
                    "2016-12-21T00:00:00.000000000",
                    "2016-12-22T00:00:00.000000000",
                    "2016-12-23T00:00:00.000000000",
                    "2016-12-27T00:00:00.000000000",
                    "2016-12-28T00:00:00.000000000",
                    "2016-12-29T00:00:00.000000000",
                    "2016-12-30T00:00:00.000000000",
                    "2017-01-03T00:00:00.000000000",
                    "2017-01-04T00:00:00.000000000",
                    "2017-01-05T00:00:00.000000000",
                    "2017-01-06T00:00:00.000000000",
                    "2017-01-09T00:00:00.000000000",
                    "2017-01-10T00:00:00.000000000",
                    "2017-01-11T00:00:00.000000000",
                    "2017-01-12T00:00:00.000000000",
                    "2017-01-13T00:00:00.000000000",
                    "2017-01-17T00:00:00.000000000",
                    "2017-01-18T00:00:00.000000000",
                    "2017-01-19T00:00:00.000000000",
                    "2017-01-20T00:00:00.000000000",
                    "2017-01-23T00:00:00.000000000",
                    "2017-01-24T00:00:00.000000000",
                    "2017-01-25T00:00:00.000000000",
                    "2017-01-26T00:00:00.000000000",
                    "2017-01-27T00:00:00.000000000",
                    "2017-01-30T00:00:00.000000000",
                    "2017-01-31T00:00:00.000000000",
                    "2017-02-01T00:00:00.000000000",
                    "2017-02-02T00:00:00.000000000",
                    "2017-02-03T00:00:00.000000000",
                    "2017-02-06T00:00:00.000000000",
                    "2017-02-07T00:00:00.000000000",
                    "2017-02-08T00:00:00.000000000",
                    "2017-02-09T00:00:00.000000000",
                    "2017-02-10T00:00:00.000000000",
                    "2017-02-13T00:00:00.000000000",
                    "2017-02-14T00:00:00.000000000",
                    "2017-02-15T00:00:00.000000000",
                    "2017-02-16T00:00:00.000000000",
                    "2017-02-17T00:00:00.000000000",
                    "2017-02-21T00:00:00.000000000",
                    "2017-02-22T00:00:00.000000000",
                    "2017-02-23T00:00:00.000000000",
                    "2017-02-24T00:00:00.000000000",
                    "2017-02-27T00:00:00.000000000",
                    "2017-02-28T00:00:00.000000000",
                    "2017-03-01T00:00:00.000000000",
                    "2017-03-02T00:00:00.000000000",
                    "2017-03-03T00:00:00.000000000",
                    "2017-03-06T00:00:00.000000000",
                    "2017-03-07T00:00:00.000000000",
                    "2017-03-08T00:00:00.000000000",
                    "2017-03-09T00:00:00.000000000",
                    "2017-03-10T00:00:00.000000000",
                    "2017-03-13T00:00:00.000000000",
                    "2017-03-14T00:00:00.000000000",
                    "2017-03-15T00:00:00.000000000",
                    "2017-03-16T00:00:00.000000000",
                    "2017-03-17T00:00:00.000000000",
                    "2017-03-20T00:00:00.000000000",
                    "2017-03-21T00:00:00.000000000",
                    "2017-03-22T00:00:00.000000000",
                    "2017-03-23T00:00:00.000000000",
                    "2017-03-24T00:00:00.000000000",
                    "2017-03-27T00:00:00.000000000",
                    "2017-03-28T00:00:00.000000000",
                    "2017-03-29T00:00:00.000000000",
                    "2017-03-30T00:00:00.000000000",
                    "2017-03-31T00:00:00.000000000",
                    "2017-04-03T00:00:00.000000000",
                    "2017-04-04T00:00:00.000000000",
                    "2017-04-05T00:00:00.000000000",
                    "2017-04-06T00:00:00.000000000",
                    "2017-04-07T00:00:00.000000000",
                    "2017-04-10T00:00:00.000000000",
                    "2017-04-11T00:00:00.000000000",
                    "2017-04-12T00:00:00.000000000",
                    "2017-04-13T00:00:00.000000000",
                    "2017-04-17T00:00:00.000000000",
                    "2017-04-18T00:00:00.000000000",
                    "2017-04-19T00:00:00.000000000",
                    "2017-04-20T00:00:00.000000000",
                    "2017-04-21T00:00:00.000000000",
                    "2017-04-24T00:00:00.000000000",
                    "2017-04-25T00:00:00.000000000",
                    "2017-04-26T00:00:00.000000000",
                    "2017-04-27T00:00:00.000000000",
                    "2017-04-28T00:00:00.000000000",
                    "2017-05-01T00:00:00.000000000",
                    "2017-05-02T00:00:00.000000000",
                    "2017-05-03T00:00:00.000000000",
                    "2017-05-04T00:00:00.000000000",
                    "2017-05-05T00:00:00.000000000",
                    "2017-05-08T00:00:00.000000000",
                    "2017-05-09T00:00:00.000000000",
                    "2017-05-10T00:00:00.000000000",
                    "2017-05-11T00:00:00.000000000",
                    "2017-05-12T00:00:00.000000000",
                    "2017-05-15T00:00:00.000000000",
                    "2017-05-16T00:00:00.000000000",
                    "2017-05-17T00:00:00.000000000",
                    "2017-05-18T00:00:00.000000000",
                    "2017-05-19T00:00:00.000000000",
                    "2017-05-22T00:00:00.000000000",
                    "2017-05-23T00:00:00.000000000",
                    "2017-05-24T00:00:00.000000000",
                    "2017-05-25T00:00:00.000000000",
                    "2017-05-26T00:00:00.000000000",
                    "2017-05-30T00:00:00.000000000",
                    "2017-05-31T00:00:00.000000000",
                    "2017-06-01T00:00:00.000000000",
                    "2017-06-02T00:00:00.000000000",
                    "2017-06-05T00:00:00.000000000",
                    "2017-06-06T00:00:00.000000000",
                    "2017-06-07T00:00:00.000000000",
                    "2017-06-08T00:00:00.000000000",
                    "2017-06-09T00:00:00.000000000",
                    "2017-06-12T00:00:00.000000000",
                    "2017-06-13T00:00:00.000000000",
                    "2017-06-14T00:00:00.000000000",
                    "2017-06-15T00:00:00.000000000",
                    "2017-06-16T00:00:00.000000000",
                    "2017-06-19T00:00:00.000000000",
                    "2017-06-20T00:00:00.000000000",
                    "2017-06-21T00:00:00.000000000",
                    "2017-06-22T00:00:00.000000000",
                    "2017-06-23T00:00:00.000000000",
                    "2017-06-26T00:00:00.000000000",
                    "2017-06-27T00:00:00.000000000",
                    "2017-06-28T00:00:00.000000000",
                    "2017-06-29T00:00:00.000000000",
                    "2017-06-30T00:00:00.000000000",
                    "2017-07-03T00:00:00.000000000",
                    "2017-07-05T00:00:00.000000000",
                    "2017-07-06T00:00:00.000000000",
                    "2017-07-07T00:00:00.000000000",
                    "2017-07-10T00:00:00.000000000",
                    "2017-07-11T00:00:00.000000000",
                    "2017-07-12T00:00:00.000000000",
                    "2017-07-13T00:00:00.000000000",
                    "2017-07-14T00:00:00.000000000",
                    "2017-07-17T00:00:00.000000000",
                    "2017-07-18T00:00:00.000000000",
                    "2017-07-19T00:00:00.000000000",
                    "2017-07-20T00:00:00.000000000",
                    "2017-07-21T00:00:00.000000000",
                    "2017-07-24T00:00:00.000000000",
                    "2017-07-25T00:00:00.000000000",
                    "2017-07-26T00:00:00.000000000",
                    "2017-07-27T00:00:00.000000000",
                    "2017-07-28T00:00:00.000000000",
                    "2017-07-31T00:00:00.000000000",
                    "2017-08-01T00:00:00.000000000",
                    "2017-08-02T00:00:00.000000000",
                    "2017-08-03T00:00:00.000000000",
                    "2017-08-04T00:00:00.000000000",
                    "2017-08-07T00:00:00.000000000",
                    "2017-08-08T00:00:00.000000000",
                    "2017-08-09T00:00:00.000000000",
                    "2017-08-10T00:00:00.000000000",
                    "2017-08-11T00:00:00.000000000",
                    "2017-08-14T00:00:00.000000000",
                    "2017-08-15T00:00:00.000000000",
                    "2017-08-16T00:00:00.000000000",
                    "2017-08-17T00:00:00.000000000",
                    "2017-08-18T00:00:00.000000000",
                    "2017-08-21T00:00:00.000000000",
                    "2017-08-22T00:00:00.000000000",
                    "2017-08-23T00:00:00.000000000",
                    "2017-08-24T00:00:00.000000000",
                    "2017-08-25T00:00:00.000000000",
                    "2017-08-28T00:00:00.000000000",
                    "2017-08-29T00:00:00.000000000",
                    "2017-08-30T00:00:00.000000000",
                    "2017-08-31T00:00:00.000000000",
                    "2017-09-01T00:00:00.000000000",
                    "2017-09-05T00:00:00.000000000",
                    "2017-09-06T00:00:00.000000000",
                    "2017-09-07T00:00:00.000000000",
                    "2017-09-08T00:00:00.000000000",
                    "2017-09-11T00:00:00.000000000",
                    "2017-09-12T00:00:00.000000000",
                    "2017-09-13T00:00:00.000000000",
                    "2017-09-14T00:00:00.000000000",
                    "2017-09-15T00:00:00.000000000",
                    "2017-09-18T00:00:00.000000000",
                    "2017-09-19T00:00:00.000000000",
                    "2017-09-20T00:00:00.000000000",
                    "2017-09-21T00:00:00.000000000",
                    "2017-09-22T00:00:00.000000000",
                    "2017-09-25T00:00:00.000000000",
                    "2017-09-26T00:00:00.000000000",
                    "2017-09-27T00:00:00.000000000",
                    "2017-09-28T00:00:00.000000000",
                    "2017-09-29T00:00:00.000000000",
                    "2017-10-02T00:00:00.000000000",
                    "2017-10-03T00:00:00.000000000",
                    "2017-10-04T00:00:00.000000000",
                    "2017-10-05T00:00:00.000000000",
                    "2017-10-06T00:00:00.000000000",
                    "2017-10-09T00:00:00.000000000",
                    "2017-10-10T00:00:00.000000000",
                    "2017-10-11T00:00:00.000000000",
                    "2017-10-12T00:00:00.000000000",
                    "2017-10-13T00:00:00.000000000",
                    "2017-10-16T00:00:00.000000000",
                    "2017-10-17T00:00:00.000000000",
                    "2017-10-18T00:00:00.000000000",
                    "2017-10-19T00:00:00.000000000",
                    "2017-10-20T00:00:00.000000000",
                    "2017-10-23T00:00:00.000000000",
                    "2017-10-24T00:00:00.000000000",
                    "2017-10-25T00:00:00.000000000",
                    "2017-10-26T00:00:00.000000000",
                    "2017-10-27T00:00:00.000000000",
                    "2017-10-30T00:00:00.000000000",
                    "2017-10-31T00:00:00.000000000",
                    "2017-11-01T00:00:00.000000000",
                    "2017-11-02T00:00:00.000000000",
                    "2017-11-03T00:00:00.000000000",
                    "2017-11-06T00:00:00.000000000",
                    "2017-11-07T00:00:00.000000000",
                    "2017-11-08T00:00:00.000000000",
                    "2017-11-09T00:00:00.000000000",
                    "2017-11-10T00:00:00.000000000",
                    "2017-11-13T00:00:00.000000000",
                    "2017-11-14T00:00:00.000000000",
                    "2017-11-15T00:00:00.000000000",
                    "2017-11-16T00:00:00.000000000",
                    "2017-11-17T00:00:00.000000000",
                    "2017-11-20T00:00:00.000000000",
                    "2017-11-21T00:00:00.000000000",
                    "2017-11-22T00:00:00.000000000",
                    "2017-11-24T00:00:00.000000000",
                    "2017-11-27T00:00:00.000000000",
                    "2017-11-28T00:00:00.000000000",
                    "2017-11-29T00:00:00.000000000",
                    "2017-11-30T00:00:00.000000000",
                    "2017-12-01T00:00:00.000000000",
                    "2017-12-04T00:00:00.000000000",
                    "2017-12-05T00:00:00.000000000",
                    "2017-12-06T00:00:00.000000000",
                    "2017-12-07T00:00:00.000000000",
                    "2017-12-08T00:00:00.000000000",
                    "2017-12-11T00:00:00.000000000",
                    "2017-12-12T00:00:00.000000000",
                    "2017-12-13T00:00:00.000000000",
                    "2017-12-14T00:00:00.000000000",
                    "2017-12-15T00:00:00.000000000",
                    "2017-12-18T00:00:00.000000000",
                    "2017-12-19T00:00:00.000000000",
                    "2017-12-20T00:00:00.000000000",
                    "2017-12-21T00:00:00.000000000",
                    "2017-12-22T00:00:00.000000000",
                    "2017-12-26T00:00:00.000000000",
                    "2017-12-27T00:00:00.000000000",
                    "2017-12-28T00:00:00.000000000",
                    "2017-12-29T00:00:00.000000000",
                    "2018-01-02T00:00:00.000000000",
                    "2018-01-03T00:00:00.000000000",
                    "2018-01-04T00:00:00.000000000",
                    "2018-01-05T00:00:00.000000000",
                    "2018-01-08T00:00:00.000000000",
                    "2018-01-09T00:00:00.000000000",
                    "2018-01-10T00:00:00.000000000",
                    "2018-01-11T00:00:00.000000000",
                    "2018-01-12T00:00:00.000000000",
                    "2018-01-16T00:00:00.000000000",
                    "2018-01-17T00:00:00.000000000",
                    "2018-01-18T00:00:00.000000000",
                    "2018-01-19T00:00:00.000000000",
                    "2018-01-22T00:00:00.000000000",
                    "2018-01-23T00:00:00.000000000",
                    "2018-01-24T00:00:00.000000000",
                    "2018-01-25T00:00:00.000000000",
                    "2018-01-26T00:00:00.000000000",
                    "2018-01-29T00:00:00.000000000",
                    "2018-01-30T00:00:00.000000000",
                    "2018-01-31T00:00:00.000000000",
                    "2018-02-01T00:00:00.000000000",
                    "2018-02-02T00:00:00.000000000",
                    "2018-02-05T00:00:00.000000000",
                    "2018-02-06T00:00:00.000000000",
                    "2018-02-07T00:00:00.000000000",
                    "2018-02-08T00:00:00.000000000",
                    "2018-02-09T00:00:00.000000000",
                    "2018-02-12T00:00:00.000000000",
                    "2018-02-13T00:00:00.000000000",
                    "2018-02-14T00:00:00.000000000",
                    "2018-02-15T00:00:00.000000000",
                    "2018-02-16T00:00:00.000000000",
                    "2018-02-20T00:00:00.000000000",
                    "2018-02-21T00:00:00.000000000",
                    "2018-02-22T00:00:00.000000000",
                    "2018-02-23T00:00:00.000000000",
                    "2018-02-26T00:00:00.000000000",
                    "2018-02-27T00:00:00.000000000",
                    "2018-02-28T00:00:00.000000000",
                    "2018-03-01T00:00:00.000000000",
                    "2018-03-02T00:00:00.000000000",
                    "2018-03-05T00:00:00.000000000",
                    "2018-03-06T00:00:00.000000000",
                    "2018-03-07T00:00:00.000000000",
                    "2018-03-08T00:00:00.000000000",
                    "2018-03-09T00:00:00.000000000",
                    "2018-03-12T00:00:00.000000000",
                    "2018-03-13T00:00:00.000000000",
                    "2018-03-14T00:00:00.000000000",
                    "2018-03-15T00:00:00.000000000",
                    "2018-03-16T00:00:00.000000000",
                    "2018-03-19T00:00:00.000000000",
                    "2018-03-20T00:00:00.000000000",
                    "2018-03-21T00:00:00.000000000",
                    "2018-03-22T00:00:00.000000000",
                    "2018-03-23T00:00:00.000000000",
                    "2018-03-26T00:00:00.000000000",
                    "2018-03-27T00:00:00.000000000",
                    "2018-03-28T00:00:00.000000000",
                    "2018-03-29T00:00:00.000000000",
                    "2018-04-02T00:00:00.000000000",
                    "2018-04-03T00:00:00.000000000",
                    "2018-04-04T00:00:00.000000000",
                    "2018-04-05T00:00:00.000000000",
                    "2018-04-06T00:00:00.000000000",
                    "2018-04-09T00:00:00.000000000",
                    "2018-04-10T00:00:00.000000000",
                    "2018-04-11T00:00:00.000000000",
                    "2018-04-12T00:00:00.000000000",
                    "2018-04-13T00:00:00.000000000",
                    "2018-04-16T00:00:00.000000000",
                    "2018-04-17T00:00:00.000000000",
                    "2018-04-18T00:00:00.000000000",
                    "2018-04-19T00:00:00.000000000",
                    "2018-04-20T00:00:00.000000000",
                    "2018-04-23T00:00:00.000000000",
                    "2018-04-24T00:00:00.000000000",
                    "2018-04-25T00:00:00.000000000",
                    "2018-04-26T00:00:00.000000000",
                    "2018-04-27T00:00:00.000000000",
                    "2018-04-30T00:00:00.000000000",
                    "2018-05-01T00:00:00.000000000",
                    "2018-05-02T00:00:00.000000000",
                    "2018-05-03T00:00:00.000000000",
                    "2018-05-04T00:00:00.000000000",
                    "2018-05-07T00:00:00.000000000",
                    "2018-05-08T00:00:00.000000000",
                    "2018-05-09T00:00:00.000000000",
                    "2018-05-10T00:00:00.000000000",
                    "2018-05-11T00:00:00.000000000",
                    "2018-05-14T00:00:00.000000000",
                    "2018-05-15T00:00:00.000000000",
                    "2018-05-16T00:00:00.000000000",
                    "2018-05-17T00:00:00.000000000",
                    "2018-05-18T00:00:00.000000000",
                    "2018-05-21T00:00:00.000000000",
                    "2018-05-22T00:00:00.000000000",
                    "2018-05-23T00:00:00.000000000",
                    "2018-05-24T00:00:00.000000000",
                    "2018-05-25T00:00:00.000000000",
                    "2018-05-29T00:00:00.000000000",
                    "2018-05-30T00:00:00.000000000",
                    "2018-05-31T00:00:00.000000000",
                    "2018-06-01T00:00:00.000000000",
                    "2018-06-04T00:00:00.000000000",
                    "2018-06-05T00:00:00.000000000",
                    "2018-06-06T00:00:00.000000000",
                    "2018-06-07T00:00:00.000000000",
                    "2018-06-08T00:00:00.000000000",
                    "2018-06-11T00:00:00.000000000",
                    "2018-06-12T00:00:00.000000000",
                    "2018-06-13T00:00:00.000000000",
                    "2018-06-14T00:00:00.000000000",
                    "2018-06-15T00:00:00.000000000",
                    "2018-06-18T00:00:00.000000000",
                    "2018-06-19T00:00:00.000000000",
                    "2018-06-20T00:00:00.000000000",
                    "2018-06-21T00:00:00.000000000",
                    "2018-06-22T00:00:00.000000000",
                    "2018-06-25T00:00:00.000000000",
                    "2018-06-26T00:00:00.000000000",
                    "2018-06-27T00:00:00.000000000",
                    "2018-06-28T00:00:00.000000000",
                    "2018-06-29T00:00:00.000000000",
                    "2018-07-02T00:00:00.000000000",
                    "2018-07-03T00:00:00.000000000",
                    "2018-07-05T00:00:00.000000000",
                    "2018-07-06T00:00:00.000000000",
                    "2018-07-09T00:00:00.000000000",
                    "2018-07-10T00:00:00.000000000",
                    "2018-07-11T00:00:00.000000000",
                    "2018-07-12T00:00:00.000000000",
                    "2018-07-13T00:00:00.000000000",
                    "2018-07-16T00:00:00.000000000",
                    "2018-07-17T00:00:00.000000000",
                    "2018-07-18T00:00:00.000000000",
                    "2018-07-19T00:00:00.000000000",
                    "2018-07-20T00:00:00.000000000",
                    "2018-07-23T00:00:00.000000000",
                    "2018-07-24T00:00:00.000000000",
                    "2018-07-25T00:00:00.000000000",
                    "2018-07-26T00:00:00.000000000",
                    "2018-07-27T00:00:00.000000000",
                    "2018-07-30T00:00:00.000000000",
                    "2018-07-31T00:00:00.000000000",
                    "2018-08-01T00:00:00.000000000",
                    "2018-08-02T00:00:00.000000000",
                    "2018-08-03T00:00:00.000000000",
                    "2018-08-06T00:00:00.000000000",
                    "2018-08-07T00:00:00.000000000",
                    "2018-08-08T00:00:00.000000000",
                    "2018-08-09T00:00:00.000000000",
                    "2018-08-10T00:00:00.000000000",
                    "2018-08-13T00:00:00.000000000",
                    "2018-08-14T00:00:00.000000000",
                    "2018-08-15T00:00:00.000000000",
                    "2018-08-16T00:00:00.000000000",
                    "2018-08-17T00:00:00.000000000",
                    "2018-08-20T00:00:00.000000000",
                    "2018-08-21T00:00:00.000000000",
                    "2018-08-22T00:00:00.000000000",
                    "2018-08-23T00:00:00.000000000",
                    "2018-08-24T00:00:00.000000000",
                    "2018-08-27T00:00:00.000000000",
                    "2018-08-28T00:00:00.000000000",
                    "2018-08-29T00:00:00.000000000",
                    "2018-08-30T00:00:00.000000000",
                    "2018-08-31T00:00:00.000000000",
                    "2018-09-04T00:00:00.000000000",
                    "2018-09-05T00:00:00.000000000",
                    "2018-09-06T00:00:00.000000000",
                    "2018-09-07T00:00:00.000000000",
                    "2018-09-10T00:00:00.000000000",
                    "2018-09-11T00:00:00.000000000",
                    "2018-09-12T00:00:00.000000000",
                    "2018-09-13T00:00:00.000000000",
                    "2018-09-14T00:00:00.000000000",
                    "2018-09-17T00:00:00.000000000",
                    "2018-09-18T00:00:00.000000000",
                    "2018-09-19T00:00:00.000000000",
                    "2018-09-20T00:00:00.000000000",
                    "2018-09-21T00:00:00.000000000",
                    "2018-09-24T00:00:00.000000000",
                    "2018-09-25T00:00:00.000000000",
                    "2018-09-26T00:00:00.000000000",
                    "2018-09-27T00:00:00.000000000",
                    "2018-09-28T00:00:00.000000000",
                    "2018-10-01T00:00:00.000000000",
                    "2018-10-02T00:00:00.000000000",
                    "2018-10-03T00:00:00.000000000",
                    "2018-10-04T00:00:00.000000000",
                    "2018-10-05T00:00:00.000000000",
                    "2018-10-08T00:00:00.000000000",
                    "2018-10-09T00:00:00.000000000",
                    "2018-10-10T00:00:00.000000000",
                    "2018-10-11T00:00:00.000000000",
                    "2018-10-12T00:00:00.000000000",
                    "2018-10-15T00:00:00.000000000",
                    "2018-10-16T00:00:00.000000000",
                    "2018-10-17T00:00:00.000000000",
                    "2018-10-18T00:00:00.000000000",
                    "2018-10-19T00:00:00.000000000",
                    "2018-10-22T00:00:00.000000000",
                    "2018-10-23T00:00:00.000000000",
                    "2018-10-24T00:00:00.000000000",
                    "2018-10-25T00:00:00.000000000",
                    "2018-10-26T00:00:00.000000000",
                    "2018-10-29T00:00:00.000000000",
                    "2018-10-30T00:00:00.000000000",
                    "2018-10-31T00:00:00.000000000",
                    "2018-11-01T00:00:00.000000000",
                    "2018-11-02T00:00:00.000000000",
                    "2018-11-05T00:00:00.000000000",
                    "2018-11-06T00:00:00.000000000",
                    "2018-11-07T00:00:00.000000000",
                    "2018-11-08T00:00:00.000000000",
                    "2018-11-09T00:00:00.000000000",
                    "2018-11-12T00:00:00.000000000",
                    "2018-11-13T00:00:00.000000000",
                    "2018-11-14T00:00:00.000000000",
                    "2018-11-15T00:00:00.000000000",
                    "2018-11-16T00:00:00.000000000",
                    "2018-11-19T00:00:00.000000000",
                    "2018-11-20T00:00:00.000000000",
                    "2018-11-21T00:00:00.000000000",
                    "2018-11-23T00:00:00.000000000",
                    "2018-11-26T00:00:00.000000000",
                    "2018-11-27T00:00:00.000000000",
                    "2018-11-28T00:00:00.000000000",
                    "2018-11-29T00:00:00.000000000",
                    "2018-11-30T00:00:00.000000000",
                    "2018-12-03T00:00:00.000000000",
                    "2018-12-04T00:00:00.000000000",
                    "2018-12-06T00:00:00.000000000",
                    "2018-12-07T00:00:00.000000000",
                    "2018-12-10T00:00:00.000000000",
                    "2018-12-11T00:00:00.000000000",
                    "2018-12-12T00:00:00.000000000",
                    "2018-12-13T00:00:00.000000000",
                    "2018-12-14T00:00:00.000000000",
                    "2018-12-17T00:00:00.000000000",
                    "2018-12-18T00:00:00.000000000",
                    "2018-12-19T00:00:00.000000000",
                    "2018-12-20T00:00:00.000000000",
                    "2018-12-21T00:00:00.000000000",
                    "2018-12-24T00:00:00.000000000",
                    "2018-12-26T00:00:00.000000000",
                    "2018-12-27T00:00:00.000000000",
                    "2018-12-28T00:00:00.000000000",
                    "2018-12-31T00:00:00.000000000",
                    "2019-01-02T00:00:00.000000000",
                    "2019-01-03T00:00:00.000000000",
                    "2019-01-04T00:00:00.000000000",
                    "2019-01-07T00:00:00.000000000",
                    "2019-01-08T00:00:00.000000000",
                    "2019-01-09T00:00:00.000000000",
                    "2019-01-10T00:00:00.000000000",
                    "2019-01-11T00:00:00.000000000",
                    "2019-01-14T00:00:00.000000000",
                    "2019-01-15T00:00:00.000000000",
                    "2019-01-16T00:00:00.000000000",
                    "2019-01-17T00:00:00.000000000",
                    "2019-01-18T00:00:00.000000000",
                    "2019-01-22T00:00:00.000000000",
                    "2019-01-23T00:00:00.000000000",
                    "2019-01-24T00:00:00.000000000",
                    "2019-01-25T00:00:00.000000000",
                    "2019-01-28T00:00:00.000000000",
                    "2019-01-29T00:00:00.000000000",
                    "2019-01-30T00:00:00.000000000",
                    "2019-01-31T00:00:00.000000000",
                    "2019-02-01T00:00:00.000000000",
                    "2019-02-04T00:00:00.000000000",
                    "2019-02-05T00:00:00.000000000",
                    "2019-02-06T00:00:00.000000000",
                    "2019-02-07T00:00:00.000000000",
                    "2019-02-08T00:00:00.000000000",
                    "2019-02-11T00:00:00.000000000",
                    "2019-02-12T00:00:00.000000000",
                    "2019-02-13T00:00:00.000000000",
                    "2019-02-14T00:00:00.000000000",
                    "2019-02-15T00:00:00.000000000",
                    "2019-02-19T00:00:00.000000000",
                    "2019-02-20T00:00:00.000000000",
                    "2019-02-21T00:00:00.000000000",
                    "2019-02-22T00:00:00.000000000",
                    "2019-02-25T00:00:00.000000000",
                    "2019-02-26T00:00:00.000000000",
                    "2019-02-27T00:00:00.000000000",
                    "2019-02-28T00:00:00.000000000",
                    "2019-03-01T00:00:00.000000000",
                    "2019-03-04T00:00:00.000000000",
                    "2019-03-05T00:00:00.000000000",
                    "2019-03-06T00:00:00.000000000",
                    "2019-03-07T00:00:00.000000000",
                    "2019-03-08T00:00:00.000000000",
                    "2019-03-11T00:00:00.000000000",
                    "2019-03-12T00:00:00.000000000",
                    "2019-03-13T00:00:00.000000000",
                    "2019-03-14T00:00:00.000000000",
                    "2019-03-15T00:00:00.000000000",
                    "2019-03-18T00:00:00.000000000",
                    "2019-03-19T00:00:00.000000000",
                    "2019-03-20T00:00:00.000000000",
                    "2019-03-21T00:00:00.000000000",
                    "2019-03-22T00:00:00.000000000",
                    "2019-03-25T00:00:00.000000000",
                    "2019-03-26T00:00:00.000000000",
                    "2019-03-27T00:00:00.000000000",
                    "2019-03-28T00:00:00.000000000",
                    "2019-03-29T00:00:00.000000000",
                    "2019-04-01T00:00:00.000000000",
                    "2019-04-02T00:00:00.000000000",
                    "2019-04-03T00:00:00.000000000",
                    "2019-04-04T00:00:00.000000000",
                    "2019-04-05T00:00:00.000000000",
                    "2019-04-08T00:00:00.000000000",
                    "2019-04-09T00:00:00.000000000",
                    "2019-04-10T00:00:00.000000000",
                    "2019-04-11T00:00:00.000000000",
                    "2019-04-12T00:00:00.000000000",
                    "2019-04-15T00:00:00.000000000",
                    "2019-04-16T00:00:00.000000000",
                    "2019-04-17T00:00:00.000000000",
                    "2019-04-18T00:00:00.000000000",
                    "2019-04-22T00:00:00.000000000",
                    "2019-04-23T00:00:00.000000000",
                    "2019-04-24T00:00:00.000000000",
                    "2019-04-25T00:00:00.000000000",
                    "2019-04-26T00:00:00.000000000",
                    "2019-04-29T00:00:00.000000000",
                    "2019-04-30T00:00:00.000000000",
                    "2019-05-01T00:00:00.000000000",
                    "2019-05-02T00:00:00.000000000",
                    "2019-05-03T00:00:00.000000000",
                    "2019-05-06T00:00:00.000000000",
                    "2019-05-07T00:00:00.000000000",
                    "2019-05-08T00:00:00.000000000",
                    "2019-05-09T00:00:00.000000000",
                    "2019-05-10T00:00:00.000000000",
                    "2019-05-13T00:00:00.000000000",
                    "2019-05-14T00:00:00.000000000",
                    "2019-05-15T00:00:00.000000000",
                    "2019-05-16T00:00:00.000000000",
                    "2019-05-17T00:00:00.000000000",
                    "2019-05-20T00:00:00.000000000",
                    "2019-05-21T00:00:00.000000000",
                    "2019-05-22T00:00:00.000000000",
                    "2019-05-23T00:00:00.000000000",
                    "2019-05-24T00:00:00.000000000",
                    "2019-05-28T00:00:00.000000000",
                    "2019-05-29T00:00:00.000000000",
                    "2019-05-30T00:00:00.000000000",
                    "2019-05-31T00:00:00.000000000",
                    "2019-06-03T00:00:00.000000000",
                    "2019-06-04T00:00:00.000000000",
                    "2019-06-05T00:00:00.000000000",
                    "2019-06-06T00:00:00.000000000",
                    "2019-06-07T00:00:00.000000000",
                    "2019-06-10T00:00:00.000000000",
                    "2019-06-11T00:00:00.000000000",
                    "2019-06-12T00:00:00.000000000",
                    "2019-06-13T00:00:00.000000000",
                    "2019-06-14T00:00:00.000000000",
                    "2019-06-17T00:00:00.000000000",
                    "2019-06-18T00:00:00.000000000",
                    "2019-06-19T00:00:00.000000000",
                    "2019-06-20T00:00:00.000000000",
                    "2019-06-21T00:00:00.000000000",
                    "2019-06-24T00:00:00.000000000",
                    "2019-06-25T00:00:00.000000000",
                    "2019-06-26T00:00:00.000000000",
                    "2019-06-27T00:00:00.000000000",
                    "2019-06-28T00:00:00.000000000",
                    "2019-07-01T00:00:00.000000000",
                    "2019-07-02T00:00:00.000000000",
                    "2019-07-03T00:00:00.000000000",
                    "2019-07-05T00:00:00.000000000",
                    "2019-07-08T00:00:00.000000000",
                    "2019-07-09T00:00:00.000000000",
                    "2019-07-10T00:00:00.000000000",
                    "2019-07-11T00:00:00.000000000",
                    "2019-07-12T00:00:00.000000000",
                    "2019-07-15T00:00:00.000000000",
                    "2019-07-16T00:00:00.000000000",
                    "2019-07-17T00:00:00.000000000",
                    "2019-07-18T00:00:00.000000000",
                    "2019-07-19T00:00:00.000000000",
                    "2019-07-22T00:00:00.000000000",
                    "2019-07-23T00:00:00.000000000",
                    "2019-07-24T00:00:00.000000000",
                    "2019-07-25T00:00:00.000000000",
                    "2019-07-26T00:00:00.000000000",
                    "2019-07-29T00:00:00.000000000",
                    "2019-07-30T00:00:00.000000000",
                    "2019-07-31T00:00:00.000000000",
                    "2019-08-01T00:00:00.000000000",
                    "2019-08-02T00:00:00.000000000",
                    "2019-08-05T00:00:00.000000000",
                    "2019-08-06T00:00:00.000000000",
                    "2019-08-07T00:00:00.000000000",
                    "2019-08-08T00:00:00.000000000",
                    "2019-08-09T00:00:00.000000000",
                    "2019-08-12T00:00:00.000000000",
                    "2019-08-13T00:00:00.000000000",
                    "2019-08-14T00:00:00.000000000",
                    "2019-08-15T00:00:00.000000000",
                    "2019-08-16T00:00:00.000000000",
                    "2019-08-19T00:00:00.000000000",
                    "2019-08-20T00:00:00.000000000",
                    "2019-08-21T00:00:00.000000000",
                    "2019-08-22T00:00:00.000000000",
                    "2019-08-23T00:00:00.000000000",
                    "2019-08-26T00:00:00.000000000",
                    "2019-08-27T00:00:00.000000000",
                    "2019-08-28T00:00:00.000000000",
                    "2019-08-29T00:00:00.000000000",
                    "2019-08-30T00:00:00.000000000",
                    "2019-09-03T00:00:00.000000000",
                    "2019-09-04T00:00:00.000000000",
                    "2019-09-05T00:00:00.000000000",
                    "2019-09-06T00:00:00.000000000",
                    "2019-09-09T00:00:00.000000000",
                    "2019-09-10T00:00:00.000000000",
                    "2019-09-11T00:00:00.000000000",
                    "2019-09-12T00:00:00.000000000",
                    "2019-09-13T00:00:00.000000000",
                    "2019-09-16T00:00:00.000000000",
                    "2019-09-17T00:00:00.000000000",
                    "2019-09-18T00:00:00.000000000",
                    "2019-09-19T00:00:00.000000000",
                    "2019-09-20T00:00:00.000000000",
                    "2019-09-23T00:00:00.000000000",
                    "2019-09-24T00:00:00.000000000",
                    "2019-09-25T00:00:00.000000000",
                    "2019-09-26T00:00:00.000000000",
                    "2019-09-27T00:00:00.000000000",
                    "2019-09-30T00:00:00.000000000",
                    "2019-10-01T00:00:00.000000000",
                    "2019-10-02T00:00:00.000000000",
                    "2019-10-03T00:00:00.000000000",
                    "2019-10-04T00:00:00.000000000",
                    "2019-10-07T00:00:00.000000000",
                    "2019-10-08T00:00:00.000000000",
                    "2019-10-09T00:00:00.000000000",
                    "2019-10-10T00:00:00.000000000",
                    "2019-10-11T00:00:00.000000000",
                    "2019-10-14T00:00:00.000000000",
                    "2019-10-15T00:00:00.000000000",
                    "2019-10-16T00:00:00.000000000",
                    "2019-10-17T00:00:00.000000000",
                    "2019-10-18T00:00:00.000000000",
                    "2019-10-21T00:00:00.000000000",
                    "2019-10-22T00:00:00.000000000",
                    "2019-10-23T00:00:00.000000000",
                    "2019-10-24T00:00:00.000000000",
                    "2019-10-25T00:00:00.000000000",
                    "2019-10-28T00:00:00.000000000",
                    "2019-10-29T00:00:00.000000000",
                    "2019-10-30T00:00:00.000000000",
                    "2019-10-31T00:00:00.000000000",
                    "2019-11-01T00:00:00.000000000",
                    "2019-11-04T00:00:00.000000000",
                    "2019-11-05T00:00:00.000000000",
                    "2019-11-06T00:00:00.000000000",
                    "2019-11-07T00:00:00.000000000",
                    "2019-11-08T00:00:00.000000000",
                    "2019-11-11T00:00:00.000000000",
                    "2019-11-12T00:00:00.000000000",
                    "2019-11-13T00:00:00.000000000",
                    "2019-11-14T00:00:00.000000000",
                    "2019-11-15T00:00:00.000000000",
                    "2019-11-18T00:00:00.000000000",
                    "2019-11-19T00:00:00.000000000",
                    "2019-11-20T00:00:00.000000000",
                    "2019-11-21T00:00:00.000000000",
                    "2019-11-22T00:00:00.000000000",
                    "2019-11-25T00:00:00.000000000",
                    "2019-11-26T00:00:00.000000000",
                    "2019-11-27T00:00:00.000000000",
                    "2019-11-29T00:00:00.000000000",
                    "2019-12-02T00:00:00.000000000",
                    "2019-12-03T00:00:00.000000000",
                    "2019-12-04T00:00:00.000000000",
                    "2019-12-05T00:00:00.000000000",
                    "2019-12-06T00:00:00.000000000",
                    "2019-12-09T00:00:00.000000000",
                    "2019-12-10T00:00:00.000000000",
                    "2019-12-11T00:00:00.000000000",
                    "2019-12-12T00:00:00.000000000",
                    "2019-12-13T00:00:00.000000000",
                    "2019-12-16T00:00:00.000000000",
                    "2019-12-17T00:00:00.000000000",
                    "2019-12-18T00:00:00.000000000",
                    "2019-12-19T00:00:00.000000000",
                    "2019-12-20T00:00:00.000000000",
                    "2019-12-23T00:00:00.000000000",
                    "2019-12-24T00:00:00.000000000",
                    "2019-12-26T00:00:00.000000000",
                    "2019-12-27T00:00:00.000000000",
                    "2019-12-30T00:00:00.000000000",
                    "2019-12-31T00:00:00.000000000",
                    "2020-01-02T00:00:00.000000000",
                    "2020-01-03T00:00:00.000000000",
                    "2020-01-06T00:00:00.000000000",
                    "2020-01-07T00:00:00.000000000",
                    "2020-01-08T00:00:00.000000000",
                    "2020-01-09T00:00:00.000000000",
                    "2020-01-10T00:00:00.000000000",
                    "2020-01-13T00:00:00.000000000",
                    "2020-01-14T00:00:00.000000000",
                    "2020-01-15T00:00:00.000000000",
                    "2020-01-16T00:00:00.000000000",
                    "2020-01-17T00:00:00.000000000",
                    "2020-01-21T00:00:00.000000000",
                    "2020-01-22T00:00:00.000000000",
                    "2020-01-23T00:00:00.000000000",
                    "2020-01-24T00:00:00.000000000",
                    "2020-01-27T00:00:00.000000000",
                    "2020-01-28T00:00:00.000000000",
                    "2020-01-29T00:00:00.000000000",
                    "2020-01-30T00:00:00.000000000",
                    "2020-01-31T00:00:00.000000000",
                    "2020-02-03T00:00:00.000000000",
                    "2020-02-04T00:00:00.000000000",
                    "2020-02-05T00:00:00.000000000",
                    "2020-02-06T00:00:00.000000000",
                    "2020-02-07T00:00:00.000000000",
                    "2020-02-10T00:00:00.000000000",
                    "2020-02-11T00:00:00.000000000",
                    "2020-02-12T00:00:00.000000000",
                    "2020-02-13T00:00:00.000000000",
                    "2020-02-14T00:00:00.000000000",
                    "2020-02-18T00:00:00.000000000",
                    "2020-02-19T00:00:00.000000000",
                    "2020-02-20T00:00:00.000000000",
                    "2020-02-21T00:00:00.000000000",
                    "2020-02-24T00:00:00.000000000",
                    "2020-02-25T00:00:00.000000000",
                    "2020-02-26T00:00:00.000000000",
                    "2020-02-27T00:00:00.000000000",
                    "2020-02-28T00:00:00.000000000",
                    "2020-03-02T00:00:00.000000000",
                    "2020-03-03T00:00:00.000000000",
                    "2020-03-04T00:00:00.000000000",
                    "2020-03-05T00:00:00.000000000",
                    "2020-03-06T00:00:00.000000000",
                    "2020-03-09T00:00:00.000000000",
                    "2020-03-10T00:00:00.000000000",
                    "2020-03-11T00:00:00.000000000",
                    "2020-03-12T00:00:00.000000000",
                    "2020-03-13T00:00:00.000000000",
                    "2020-03-16T00:00:00.000000000",
                    "2020-03-17T00:00:00.000000000",
                    "2020-03-18T00:00:00.000000000",
                    "2020-03-19T00:00:00.000000000",
                    "2020-03-20T00:00:00.000000000",
                    "2020-03-23T00:00:00.000000000",
                    "2020-03-24T00:00:00.000000000",
                    "2020-03-25T00:00:00.000000000",
                    "2020-03-26T00:00:00.000000000",
                    "2020-03-27T00:00:00.000000000",
                    "2020-03-30T00:00:00.000000000",
                    "2020-03-31T00:00:00.000000000",
                    "2020-04-01T00:00:00.000000000",
                    "2020-04-02T00:00:00.000000000",
                    "2020-04-03T00:00:00.000000000",
                    "2020-04-06T00:00:00.000000000",
                    "2020-04-07T00:00:00.000000000",
                    "2020-04-08T00:00:00.000000000",
                    "2020-04-09T00:00:00.000000000",
                    "2020-04-13T00:00:00.000000000",
                    "2020-04-14T00:00:00.000000000",
                    "2020-04-15T00:00:00.000000000",
                    "2020-04-16T00:00:00.000000000",
                    "2020-04-17T00:00:00.000000000",
                    "2020-04-20T00:00:00.000000000",
                    "2020-04-21T00:00:00.000000000",
                    "2020-04-22T00:00:00.000000000",
                    "2020-04-23T00:00:00.000000000",
                    "2020-04-24T00:00:00.000000000",
                    "2020-04-27T00:00:00.000000000",
                    "2020-04-28T00:00:00.000000000",
                    "2020-04-29T00:00:00.000000000",
                    "2020-04-30T00:00:00.000000000",
                    "2020-05-01T00:00:00.000000000",
                    "2020-05-04T00:00:00.000000000",
                    "2020-05-05T00:00:00.000000000",
                    "2020-05-06T00:00:00.000000000",
                    "2020-05-07T00:00:00.000000000",
                    "2020-05-08T00:00:00.000000000",
                    "2020-05-11T00:00:00.000000000",
                    "2020-05-12T00:00:00.000000000",
                    "2020-05-13T00:00:00.000000000",
                    "2020-05-14T00:00:00.000000000",
                    "2020-05-15T00:00:00.000000000",
                    "2020-05-18T00:00:00.000000000",
                    "2020-05-19T00:00:00.000000000",
                    "2020-05-20T00:00:00.000000000",
                    "2020-05-21T00:00:00.000000000",
                    "2020-05-22T00:00:00.000000000",
                    "2020-05-26T00:00:00.000000000",
                    "2020-05-27T00:00:00.000000000",
                    "2020-05-28T00:00:00.000000000",
                    "2020-05-29T00:00:00.000000000",
                    "2020-06-01T00:00:00.000000000",
                    "2020-06-02T00:00:00.000000000",
                    "2020-06-03T00:00:00.000000000",
                    "2020-06-04T00:00:00.000000000",
                    "2020-06-05T00:00:00.000000000",
                    "2020-06-08T00:00:00.000000000",
                    "2020-06-09T00:00:00.000000000",
                    "2020-06-10T00:00:00.000000000",
                    "2020-06-11T00:00:00.000000000",
                    "2020-06-12T00:00:00.000000000",
                    "2020-06-15T00:00:00.000000000",
                    "2020-06-16T00:00:00.000000000",
                    "2020-06-17T00:00:00.000000000",
                    "2020-06-18T00:00:00.000000000",
                    "2020-06-19T00:00:00.000000000",
                    "2020-06-22T00:00:00.000000000",
                    "2020-06-23T00:00:00.000000000",
                    "2020-06-24T00:00:00.000000000",
                    "2020-06-25T00:00:00.000000000",
                    "2020-06-26T00:00:00.000000000",
                    "2020-06-29T00:00:00.000000000",
                    "2020-06-30T00:00:00.000000000",
                    "2020-07-01T00:00:00.000000000",
                    "2020-07-02T00:00:00.000000000",
                    "2020-07-06T00:00:00.000000000",
                    "2020-07-07T00:00:00.000000000",
                    "2020-07-08T00:00:00.000000000",
                    "2020-07-09T00:00:00.000000000",
                    "2020-07-10T00:00:00.000000000",
                    "2020-07-13T00:00:00.000000000",
                    "2020-07-14T00:00:00.000000000",
                    "2020-07-15T00:00:00.000000000",
                    "2020-07-16T00:00:00.000000000",
                    "2020-07-17T00:00:00.000000000",
                    "2020-07-20T00:00:00.000000000",
                    "2020-07-21T00:00:00.000000000",
                    "2020-07-22T00:00:00.000000000",
                    "2020-07-23T00:00:00.000000000",
                    "2020-07-24T00:00:00.000000000",
                    "2020-07-27T00:00:00.000000000",
                    "2020-07-28T00:00:00.000000000",
                    "2020-07-29T00:00:00.000000000",
                    "2020-07-30T00:00:00.000000000",
                    "2020-07-31T00:00:00.000000000",
                    "2020-08-03T00:00:00.000000000",
                    "2020-08-04T00:00:00.000000000",
                    "2020-08-05T00:00:00.000000000",
                    "2020-08-06T00:00:00.000000000",
                    "2020-08-07T00:00:00.000000000",
                    "2020-08-10T00:00:00.000000000",
                    "2020-08-11T00:00:00.000000000",
                    "2020-08-12T00:00:00.000000000",
                    "2020-08-13T00:00:00.000000000",
                    "2020-08-14T00:00:00.000000000",
                    "2020-08-17T00:00:00.000000000",
                    "2020-08-18T00:00:00.000000000",
                    "2020-08-19T00:00:00.000000000",
                    "2020-08-20T00:00:00.000000000",
                    "2020-08-21T00:00:00.000000000",
                    "2020-08-24T00:00:00.000000000",
                    "2020-08-25T00:00:00.000000000",
                    "2020-08-26T00:00:00.000000000",
                    "2020-08-27T00:00:00.000000000",
                    "2020-08-28T00:00:00.000000000",
                    "2020-08-31T00:00:00.000000000",
                    "2020-09-01T00:00:00.000000000",
                    "2020-09-02T00:00:00.000000000",
                    "2020-09-03T00:00:00.000000000",
                    "2020-09-04T00:00:00.000000000",
                    "2020-09-08T00:00:00.000000000",
                    "2020-09-09T00:00:00.000000000",
                    "2020-09-10T00:00:00.000000000",
                    "2020-09-11T00:00:00.000000000",
                    "2020-09-14T00:00:00.000000000",
                    "2020-09-15T00:00:00.000000000",
                    "2020-09-16T00:00:00.000000000",
                    "2020-09-17T00:00:00.000000000",
                    "2020-09-18T00:00:00.000000000",
                    "2020-09-21T00:00:00.000000000",
                    "2020-09-22T00:00:00.000000000",
                    "2020-09-23T00:00:00.000000000",
                    "2020-09-24T00:00:00.000000000",
                    "2020-09-25T00:00:00.000000000",
                    "2020-09-28T00:00:00.000000000",
                    "2020-09-29T00:00:00.000000000",
                    "2020-09-30T00:00:00.000000000",
                    "2020-10-01T00:00:00.000000000",
                    "2020-10-02T00:00:00.000000000",
                    "2020-10-05T00:00:00.000000000",
                    "2020-10-06T00:00:00.000000000",
                    "2020-10-07T00:00:00.000000000",
                    "2020-10-08T00:00:00.000000000",
                    "2020-10-09T00:00:00.000000000",
                    "2020-10-12T00:00:00.000000000",
                    "2020-10-13T00:00:00.000000000",
                    "2020-10-14T00:00:00.000000000",
                    "2020-10-15T00:00:00.000000000",
                    "2020-10-16T00:00:00.000000000",
                    "2020-10-19T00:00:00.000000000",
                    "2020-10-20T00:00:00.000000000",
                    "2020-10-21T00:00:00.000000000",
                    "2020-10-22T00:00:00.000000000",
                    "2020-10-23T00:00:00.000000000",
                    "2020-10-26T00:00:00.000000000",
                    "2020-10-27T00:00:00.000000000",
                    "2020-10-28T00:00:00.000000000",
                    "2020-10-29T00:00:00.000000000",
                    "2020-10-30T00:00:00.000000000",
                    "2020-11-02T00:00:00.000000000",
                    "2020-11-03T00:00:00.000000000",
                    "2020-11-04T00:00:00.000000000",
                    "2020-11-05T00:00:00.000000000",
                    "2020-11-06T00:00:00.000000000",
                    "2020-11-09T00:00:00.000000000",
                    "2020-11-10T00:00:00.000000000",
                    "2020-11-11T00:00:00.000000000",
                    "2020-11-12T00:00:00.000000000",
                    "2020-11-13T00:00:00.000000000",
                    "2020-11-16T00:00:00.000000000",
                    "2020-11-17T00:00:00.000000000",
                    "2020-11-18T00:00:00.000000000",
                    "2020-11-19T00:00:00.000000000",
                    "2020-11-20T00:00:00.000000000",
                    "2020-11-23T00:00:00.000000000",
                    "2020-11-24T00:00:00.000000000",
                    "2020-11-25T00:00:00.000000000",
                    "2020-11-27T00:00:00.000000000",
                    "2020-11-30T00:00:00.000000000",
                    "2020-12-01T00:00:00.000000000",
                    "2020-12-02T00:00:00.000000000",
                    "2020-12-03T00:00:00.000000000",
                    "2020-12-04T00:00:00.000000000",
                    "2020-12-07T00:00:00.000000000",
                    "2020-12-08T00:00:00.000000000",
                    "2020-12-09T00:00:00.000000000",
                    "2020-12-10T00:00:00.000000000",
                    "2020-12-11T00:00:00.000000000",
                    "2020-12-14T00:00:00.000000000",
                    "2020-12-15T00:00:00.000000000",
                    "2020-12-16T00:00:00.000000000",
                    "2020-12-17T00:00:00.000000000",
                    "2020-12-18T00:00:00.000000000",
                    "2020-12-21T00:00:00.000000000",
                    "2020-12-22T00:00:00.000000000",
                    "2020-12-23T00:00:00.000000000",
                    "2020-12-24T00:00:00.000000000",
                    "2020-12-28T00:00:00.000000000",
                    "2020-12-29T00:00:00.000000000",
                    "2020-12-30T00:00:00.000000000",
                    "2020-12-31T00:00:00.000000000",
                    "2021-01-04T00:00:00.000000000",
                    "2021-01-05T00:00:00.000000000",
                    "2021-01-06T00:00:00.000000000",
                    "2021-01-07T00:00:00.000000000",
                    "2021-01-08T00:00:00.000000000",
                    "2021-01-11T00:00:00.000000000",
                    "2021-01-12T00:00:00.000000000",
                    "2021-01-13T00:00:00.000000000",
                    "2021-01-14T00:00:00.000000000",
                    "2021-01-15T00:00:00.000000000",
                    "2021-01-19T00:00:00.000000000",
                    "2021-01-20T00:00:00.000000000",
                    "2021-01-21T00:00:00.000000000",
                    "2021-01-22T00:00:00.000000000",
                    "2021-01-25T00:00:00.000000000",
                    "2021-01-26T00:00:00.000000000",
                    "2021-01-27T00:00:00.000000000",
                    "2021-01-28T00:00:00.000000000",
                    "2021-01-29T00:00:00.000000000",
                    "2021-02-01T00:00:00.000000000",
                    "2021-02-02T00:00:00.000000000",
                    "2021-02-03T00:00:00.000000000",
                    "2021-02-04T00:00:00.000000000",
                    "2021-02-05T00:00:00.000000000",
                    "2021-02-08T00:00:00.000000000",
                    "2021-02-09T00:00:00.000000000",
                    "2021-02-10T00:00:00.000000000",
                    "2021-02-11T00:00:00.000000000",
                    "2021-02-12T00:00:00.000000000",
                    "2021-02-16T00:00:00.000000000",
                    "2021-02-17T00:00:00.000000000",
                    "2021-02-18T00:00:00.000000000",
                    "2021-02-19T00:00:00.000000000",
                    "2021-02-22T00:00:00.000000000",
                    "2021-02-23T00:00:00.000000000",
                    "2021-02-24T00:00:00.000000000",
                    "2021-02-25T00:00:00.000000000",
                    "2021-02-26T00:00:00.000000000",
                    "2021-03-01T00:00:00.000000000",
                    "2021-03-02T00:00:00.000000000",
                    "2021-03-03T00:00:00.000000000",
                    "2021-03-04T00:00:00.000000000",
                    "2021-03-05T00:00:00.000000000",
                    "2021-03-08T00:00:00.000000000",
                    "2021-03-09T00:00:00.000000000",
                    "2021-03-10T00:00:00.000000000",
                    "2021-03-11T00:00:00.000000000",
                    "2021-03-12T00:00:00.000000000",
                    "2021-03-15T00:00:00.000000000",
                    "2021-03-16T00:00:00.000000000",
                    "2021-03-17T00:00:00.000000000",
                    "2021-03-18T00:00:00.000000000",
                    "2021-03-19T00:00:00.000000000",
                    "2021-03-22T00:00:00.000000000",
                    "2021-03-23T00:00:00.000000000",
                    "2021-03-24T00:00:00.000000000",
                    "2021-03-25T00:00:00.000000000",
                    "2021-03-26T00:00:00.000000000",
                    "2021-03-29T00:00:00.000000000",
                    "2021-03-30T00:00:00.000000000",
                    "2021-03-31T00:00:00.000000000",
                    "2021-04-01T00:00:00.000000000",
                    "2021-04-05T00:00:00.000000000",
                    "2021-04-06T00:00:00.000000000",
                    "2021-04-07T00:00:00.000000000",
                    "2021-04-08T00:00:00.000000000",
                    "2021-04-09T00:00:00.000000000",
                    "2021-04-12T00:00:00.000000000",
                    "2021-04-13T00:00:00.000000000",
                    "2021-04-14T00:00:00.000000000",
                    "2021-04-15T00:00:00.000000000",
                    "2021-04-16T00:00:00.000000000",
                    "2021-04-19T00:00:00.000000000",
                    "2021-04-20T00:00:00.000000000",
                    "2021-04-21T00:00:00.000000000",
                    "2021-04-22T00:00:00.000000000",
                    "2021-04-23T00:00:00.000000000",
                    "2021-04-26T00:00:00.000000000",
                    "2021-04-27T00:00:00.000000000",
                    "2021-04-28T00:00:00.000000000",
                    "2021-04-29T00:00:00.000000000",
                    "2021-04-30T00:00:00.000000000",
                    "2021-05-03T00:00:00.000000000",
                    "2021-05-04T00:00:00.000000000",
                    "2021-05-05T00:00:00.000000000",
                    "2021-05-06T00:00:00.000000000",
                    "2021-05-07T00:00:00.000000000",
                    "2021-05-10T00:00:00.000000000",
                    "2021-05-11T00:00:00.000000000",
                    "2021-05-12T00:00:00.000000000",
                    "2021-05-13T00:00:00.000000000",
                    "2021-05-14T00:00:00.000000000",
                    "2021-05-17T00:00:00.000000000",
                    "2021-05-18T00:00:00.000000000",
                    "2021-05-19T00:00:00.000000000",
                    "2021-05-20T00:00:00.000000000",
                    "2021-05-21T00:00:00.000000000",
                    "2021-05-24T00:00:00.000000000",
                    "2021-05-25T00:00:00.000000000",
                    "2021-05-26T00:00:00.000000000",
                    "2021-05-27T00:00:00.000000000",
                    "2021-05-28T00:00:00.000000000",
                    "2021-06-01T00:00:00.000000000",
                    "2021-06-02T00:00:00.000000000",
                    "2021-06-03T00:00:00.000000000",
                    "2021-06-04T00:00:00.000000000",
                    "2021-06-07T00:00:00.000000000",
                    "2021-06-08T00:00:00.000000000",
                    "2021-06-09T00:00:00.000000000",
                    "2021-06-10T00:00:00.000000000",
                    "2021-06-11T00:00:00.000000000",
                    "2021-06-14T00:00:00.000000000",
                    "2021-06-15T00:00:00.000000000",
                    "2021-06-16T00:00:00.000000000",
                    "2021-06-17T00:00:00.000000000",
                    "2021-06-18T00:00:00.000000000",
                    "2021-06-21T00:00:00.000000000",
                    "2021-06-22T00:00:00.000000000",
                    "2021-06-23T00:00:00.000000000",
                    "2021-06-24T00:00:00.000000000",
                    "2021-06-25T00:00:00.000000000",
                    "2021-06-28T00:00:00.000000000",
                    "2021-06-29T00:00:00.000000000",
                    "2021-06-30T00:00:00.000000000",
                    "2021-07-01T00:00:00.000000000",
                    "2021-07-02T00:00:00.000000000",
                    "2021-07-06T00:00:00.000000000",
                    "2021-07-07T00:00:00.000000000",
                    "2021-07-08T00:00:00.000000000",
                    "2021-07-09T00:00:00.000000000",
                    "2021-07-12T00:00:00.000000000",
                    "2021-07-13T00:00:00.000000000",
                    "2021-07-14T00:00:00.000000000",
                    "2021-07-15T00:00:00.000000000",
                    "2021-07-16T00:00:00.000000000",
                    "2021-07-19T00:00:00.000000000",
                    "2021-07-20T00:00:00.000000000",
                    "2021-07-21T00:00:00.000000000",
                    "2021-07-22T00:00:00.000000000",
                    "2021-07-23T00:00:00.000000000",
                    "2021-07-26T00:00:00.000000000",
                    "2021-07-27T00:00:00.000000000",
                    "2021-07-28T00:00:00.000000000",
                    "2021-07-29T00:00:00.000000000",
                    "2021-07-30T00:00:00.000000000",
                    "2021-08-02T00:00:00.000000000",
                    "2021-08-03T00:00:00.000000000",
                    "2021-08-04T00:00:00.000000000",
                    "2021-08-05T00:00:00.000000000",
                    "2021-08-06T00:00:00.000000000",
                    "2021-08-09T00:00:00.000000000",
                    "2021-08-10T00:00:00.000000000",
                    "2021-08-11T00:00:00.000000000",
                    "2021-08-12T00:00:00.000000000",
                    "2021-08-13T00:00:00.000000000",
                    "2021-08-16T00:00:00.000000000",
                    "2021-08-17T00:00:00.000000000",
                    "2021-08-18T00:00:00.000000000",
                    "2021-08-19T00:00:00.000000000",
                    "2021-08-20T00:00:00.000000000",
                    "2021-08-23T00:00:00.000000000",
                    "2021-08-24T00:00:00.000000000",
                    "2021-08-25T00:00:00.000000000",
                    "2021-08-26T00:00:00.000000000",
                    "2021-08-27T00:00:00.000000000",
                    "2021-08-30T00:00:00.000000000",
                    "2021-08-31T00:00:00.000000000",
                    "2021-09-01T00:00:00.000000000",
                    "2021-09-02T00:00:00.000000000",
                    "2021-09-03T00:00:00.000000000",
                    "2021-09-07T00:00:00.000000000",
                    "2021-09-08T00:00:00.000000000",
                    "2021-09-09T00:00:00.000000000",
                    "2021-09-10T00:00:00.000000000",
                    "2021-09-13T00:00:00.000000000",
                    "2021-09-14T00:00:00.000000000",
                    "2021-09-15T00:00:00.000000000",
                    "2021-09-16T00:00:00.000000000",
                    "2021-09-17T00:00:00.000000000",
                    "2021-09-20T00:00:00.000000000",
                    "2021-09-21T00:00:00.000000000",
                    "2021-09-22T00:00:00.000000000",
                    "2021-09-23T00:00:00.000000000",
                    "2021-09-24T00:00:00.000000000",
                    "2021-09-27T00:00:00.000000000",
                    "2021-09-28T00:00:00.000000000",
                    "2021-09-29T00:00:00.000000000",
                    "2021-09-30T00:00:00.000000000",
                    "2021-10-01T00:00:00.000000000",
                    "2021-10-04T00:00:00.000000000",
                    "2021-10-05T00:00:00.000000000",
                    "2021-10-06T00:00:00.000000000",
                    "2021-10-07T00:00:00.000000000",
                    "2021-10-08T00:00:00.000000000",
                    "2021-10-11T00:00:00.000000000",
                    "2021-10-12T00:00:00.000000000",
                    "2021-10-13T00:00:00.000000000",
                    "2021-10-14T00:00:00.000000000",
                    "2021-10-15T00:00:00.000000000",
                    "2021-10-18T00:00:00.000000000",
                    "2021-10-19T00:00:00.000000000",
                    "2021-10-20T00:00:00.000000000",
                    "2021-10-21T00:00:00.000000000",
                    "2021-10-22T00:00:00.000000000",
                    "2021-10-25T00:00:00.000000000",
                    "2021-10-26T00:00:00.000000000",
                    "2021-10-27T00:00:00.000000000",
                    "2021-10-28T00:00:00.000000000",
                    "2021-10-29T00:00:00.000000000",
                    "2021-11-01T00:00:00.000000000",
                    "2021-11-02T00:00:00.000000000",
                    "2021-11-03T00:00:00.000000000",
                    "2021-11-04T00:00:00.000000000",
                    "2021-11-05T00:00:00.000000000",
                    "2021-11-08T00:00:00.000000000",
                    "2021-11-09T00:00:00.000000000",
                    "2021-11-10T00:00:00.000000000",
                    "2021-11-11T00:00:00.000000000",
                    "2021-11-12T00:00:00.000000000",
                    "2021-11-15T00:00:00.000000000",
                    "2021-11-16T00:00:00.000000000",
                    "2021-11-17T00:00:00.000000000",
                    "2021-11-18T00:00:00.000000000",
                    "2021-11-19T00:00:00.000000000",
                    "2021-11-22T00:00:00.000000000",
                    "2021-11-23T00:00:00.000000000",
                    "2021-11-24T00:00:00.000000000",
                    "2021-11-26T00:00:00.000000000",
                    "2021-11-29T00:00:00.000000000",
                    "2021-11-30T00:00:00.000000000",
                    "2021-12-01T00:00:00.000000000",
                    "2021-12-02T00:00:00.000000000",
                    "2021-12-03T00:00:00.000000000",
                    "2021-12-06T00:00:00.000000000",
                    "2021-12-07T00:00:00.000000000",
                    "2021-12-08T00:00:00.000000000",
                    "2021-12-09T00:00:00.000000000",
                    "2021-12-10T00:00:00.000000000",
                    "2021-12-13T00:00:00.000000000",
                    "2021-12-14T00:00:00.000000000",
                    "2021-12-15T00:00:00.000000000",
                    "2021-12-16T00:00:00.000000000",
                    "2021-12-17T00:00:00.000000000",
                    "2021-12-20T00:00:00.000000000",
                    "2021-12-21T00:00:00.000000000",
                    "2021-12-22T00:00:00.000000000",
                    "2021-12-23T00:00:00.000000000",
                    "2021-12-27T00:00:00.000000000",
                    "2021-12-28T00:00:00.000000000",
                    "2021-12-29T00:00:00.000000000",
                    "2021-12-30T00:00:00.000000000",
                    "2021-12-31T00:00:00.000000000",
                    "2022-01-03T00:00:00.000000000",
                    "2022-01-04T00:00:00.000000000",
                    "2022-01-05T00:00:00.000000000",
                    "2022-01-06T00:00:00.000000000",
                    "2022-01-07T00:00:00.000000000",
                    "2022-01-10T00:00:00.000000000",
                    "2022-01-11T00:00:00.000000000",
                    "2022-01-12T00:00:00.000000000",
                    "2022-01-13T00:00:00.000000000",
                    "2022-01-14T00:00:00.000000000",
                    "2022-01-18T00:00:00.000000000",
                    "2022-01-19T00:00:00.000000000",
                    "2022-01-20T00:00:00.000000000",
                    "2022-01-21T00:00:00.000000000",
                    "2022-01-24T00:00:00.000000000",
                    "2022-01-25T00:00:00.000000000",
                    "2022-01-26T00:00:00.000000000",
                    "2022-01-27T00:00:00.000000000",
                    "2022-01-28T00:00:00.000000000",
                    "2022-01-31T00:00:00.000000000",
                    "2022-02-01T00:00:00.000000000",
                    "2022-02-02T00:00:00.000000000",
                    "2022-02-03T00:00:00.000000000",
                    "2022-02-04T00:00:00.000000000",
                    "2022-02-07T00:00:00.000000000",
                    "2022-02-08T00:00:00.000000000",
                    "2022-02-09T00:00:00.000000000",
                    "2022-02-10T00:00:00.000000000",
                    "2022-02-11T00:00:00.000000000",
                    "2022-02-14T00:00:00.000000000",
                    "2022-02-15T00:00:00.000000000",
                    "2022-02-16T00:00:00.000000000",
                    "2022-02-17T00:00:00.000000000",
                    "2022-02-18T00:00:00.000000000",
                    "2022-02-22T00:00:00.000000000",
                    "2022-02-23T00:00:00.000000000",
                    "2022-02-24T00:00:00.000000000",
                    "2022-02-25T00:00:00.000000000",
                    "2022-02-28T00:00:00.000000000",
                    "2022-03-01T00:00:00.000000000",
                    "2022-03-02T00:00:00.000000000",
                    "2022-03-03T00:00:00.000000000",
                    "2022-03-04T00:00:00.000000000",
                    "2022-03-07T00:00:00.000000000",
                    "2022-03-08T00:00:00.000000000",
                    "2022-03-09T00:00:00.000000000",
                    "2022-03-10T00:00:00.000000000",
                    "2022-03-11T00:00:00.000000000",
                    "2022-03-14T00:00:00.000000000",
                    "2022-03-15T00:00:00.000000000",
                    "2022-03-16T00:00:00.000000000",
                    "2022-03-17T00:00:00.000000000",
                    "2022-03-18T00:00:00.000000000",
                    "2022-03-21T00:00:00.000000000",
                    "2022-03-22T00:00:00.000000000",
                    "2022-03-23T00:00:00.000000000",
                    "2022-03-24T00:00:00.000000000",
                    "2022-03-25T00:00:00.000000000",
                    "2022-03-28T00:00:00.000000000",
                    "2022-03-29T00:00:00.000000000",
                    "2022-03-30T00:00:00.000000000",
                    "2022-03-31T00:00:00.000000000",
                    "2022-04-01T00:00:00.000000000",
                    "2022-04-04T00:00:00.000000000",
                    "2022-04-05T00:00:00.000000000",
                    "2022-04-06T00:00:00.000000000",
                    "2022-04-07T00:00:00.000000000",
                    "2022-04-08T00:00:00.000000000",
                    "2022-04-11T00:00:00.000000000",
                    "2022-04-12T00:00:00.000000000",
                    "2022-04-13T00:00:00.000000000",
                    "2022-04-14T00:00:00.000000000",
                    "2022-04-18T00:00:00.000000000",
                    "2022-04-19T00:00:00.000000000",
                    "2022-04-20T00:00:00.000000000",
                    "2022-04-21T00:00:00.000000000",
                    "2022-04-22T00:00:00.000000000",
                    "2022-04-25T00:00:00.000000000",
                    "2022-04-26T00:00:00.000000000",
                    "2022-04-27T00:00:00.000000000",
                    "2022-04-28T00:00:00.000000000",
                    "2022-04-29T00:00:00.000000000",
                    "2022-05-02T00:00:00.000000000",
                    "2022-05-03T00:00:00.000000000",
                    "2022-05-04T00:00:00.000000000",
                    "2022-05-05T00:00:00.000000000",
                    "2022-05-06T00:00:00.000000000",
                    "2022-05-09T00:00:00.000000000",
                    "2022-05-10T00:00:00.000000000",
                    "2022-05-11T00:00:00.000000000",
                    "2022-05-12T00:00:00.000000000",
                    "2022-05-13T00:00:00.000000000",
                    "2022-05-16T00:00:00.000000000",
                    "2022-05-17T00:00:00.000000000",
                    "2022-05-18T00:00:00.000000000",
                    "2022-05-19T00:00:00.000000000",
                    "2022-05-20T00:00:00.000000000",
                    "2022-05-23T00:00:00.000000000",
                    "2022-05-24T00:00:00.000000000",
                    "2022-05-25T00:00:00.000000000",
                    "2022-05-26T00:00:00.000000000",
                    "2022-05-27T00:00:00.000000000",
                    "2022-05-31T00:00:00.000000000",
                    "2022-06-01T00:00:00.000000000",
                    "2022-06-02T00:00:00.000000000",
                    "2022-06-03T00:00:00.000000000",
                    "2022-06-06T00:00:00.000000000",
                    "2022-06-07T00:00:00.000000000",
                    "2022-06-08T00:00:00.000000000",
                    "2022-06-09T00:00:00.000000000",
                    "2022-06-10T00:00:00.000000000",
                    "2022-06-13T00:00:00.000000000",
                    "2022-06-14T00:00:00.000000000",
                    "2022-06-15T00:00:00.000000000",
                    "2022-06-16T00:00:00.000000000",
                    "2022-06-17T00:00:00.000000000",
                    "2022-06-21T00:00:00.000000000",
                    "2022-06-22T00:00:00.000000000",
                    "2022-06-23T00:00:00.000000000",
                    "2022-06-24T00:00:00.000000000",
                    "2022-06-27T00:00:00.000000000",
                    "2022-06-28T00:00:00.000000000",
                    "2022-06-29T00:00:00.000000000",
                    "2022-06-30T00:00:00.000000000",
                    "2022-07-01T00:00:00.000000000",
                    "2022-07-05T00:00:00.000000000",
                    "2022-07-06T00:00:00.000000000",
                    "2022-07-07T00:00:00.000000000",
                    "2022-07-08T00:00:00.000000000",
                    "2022-07-11T00:00:00.000000000",
                    "2022-07-12T00:00:00.000000000",
                    "2022-07-13T00:00:00.000000000",
                    "2022-07-14T00:00:00.000000000",
                    "2022-07-15T00:00:00.000000000",
                    "2022-07-18T00:00:00.000000000",
                    "2022-07-19T00:00:00.000000000",
                    "2022-07-20T00:00:00.000000000",
                    "2022-07-21T00:00:00.000000000",
                    "2022-07-22T00:00:00.000000000",
                    "2022-07-25T00:00:00.000000000",
                    "2022-07-26T00:00:00.000000000",
                    "2022-07-27T00:00:00.000000000",
                    "2022-07-28T00:00:00.000000000",
                    "2022-07-29T00:00:00.000000000",
                    "2022-08-01T00:00:00.000000000",
                    "2022-08-02T00:00:00.000000000",
                    "2022-08-03T00:00:00.000000000",
                    "2022-08-04T00:00:00.000000000",
                    "2022-08-05T00:00:00.000000000",
                    "2022-08-08T00:00:00.000000000",
                    "2022-08-09T00:00:00.000000000",
                    "2022-08-10T00:00:00.000000000",
                    "2022-08-11T00:00:00.000000000",
                    "2022-08-12T00:00:00.000000000",
                    "2022-08-15T00:00:00.000000000",
                    "2022-08-16T00:00:00.000000000",
                    "2022-08-17T00:00:00.000000000",
                    "2022-08-18T00:00:00.000000000",
                    "2022-08-19T00:00:00.000000000",
                    "2022-08-22T00:00:00.000000000",
                    "2022-08-23T00:00:00.000000000",
                    "2022-08-24T00:00:00.000000000",
                    "2022-08-25T00:00:00.000000000",
                    "2022-08-26T00:00:00.000000000",
                    "2022-08-29T00:00:00.000000000",
                    "2022-08-30T00:00:00.000000000",
                    "2022-08-31T00:00:00.000000000",
                    "2022-09-01T00:00:00.000000000",
                    "2022-09-02T00:00:00.000000000",
                    "2022-09-06T00:00:00.000000000",
                    "2022-09-07T00:00:00.000000000",
                    "2022-09-08T00:00:00.000000000",
                    "2022-09-09T00:00:00.000000000",
                    "2022-09-12T00:00:00.000000000",
                    "2022-09-13T00:00:00.000000000",
                    "2022-09-14T00:00:00.000000000",
                    "2022-09-15T00:00:00.000000000",
                    "2022-09-16T00:00:00.000000000",
                    "2022-09-19T00:00:00.000000000",
                    "2022-09-20T00:00:00.000000000",
                    "2022-09-21T00:00:00.000000000",
                    "2022-09-22T00:00:00.000000000",
                    "2022-09-23T00:00:00.000000000",
                    "2022-09-26T00:00:00.000000000",
                    "2022-09-27T00:00:00.000000000",
                    "2022-09-28T00:00:00.000000000",
                    "2022-09-29T00:00:00.000000000",
                    "2022-09-30T00:00:00.000000000",
                    "2022-10-03T00:00:00.000000000",
                    "2022-10-04T00:00:00.000000000",
                    "2022-10-05T00:00:00.000000000",
                    "2022-10-06T00:00:00.000000000",
                    "2022-10-07T00:00:00.000000000",
                    "2022-10-10T00:00:00.000000000",
                    "2022-10-11T00:00:00.000000000",
                    "2022-10-12T00:00:00.000000000",
                    "2022-10-13T00:00:00.000000000",
                    "2022-10-14T00:00:00.000000000",
                    "2022-10-17T00:00:00.000000000",
                    "2022-10-18T00:00:00.000000000",
                    "2022-10-19T00:00:00.000000000",
                    "2022-10-20T00:00:00.000000000",
                    "2022-10-21T00:00:00.000000000",
                    "2022-10-24T00:00:00.000000000",
                    "2022-10-25T00:00:00.000000000",
                    "2022-10-26T00:00:00.000000000",
                    "2022-10-27T00:00:00.000000000",
                    "2022-10-28T00:00:00.000000000",
                    "2022-10-31T00:00:00.000000000",
                    "2022-11-01T00:00:00.000000000",
                    "2022-11-02T00:00:00.000000000",
                    "2022-11-03T00:00:00.000000000",
                    "2022-11-04T00:00:00.000000000",
                    "2022-11-07T00:00:00.000000000",
                    "2022-11-08T00:00:00.000000000",
                    "2022-11-09T00:00:00.000000000",
                    "2022-11-10T00:00:00.000000000",
                    "2022-11-11T00:00:00.000000000",
                    "2022-11-14T00:00:00.000000000",
                    "2022-11-15T00:00:00.000000000",
                    "2022-11-16T00:00:00.000000000",
                    "2022-11-17T00:00:00.000000000",
                    "2022-11-18T00:00:00.000000000",
                    "2022-11-21T00:00:00.000000000",
                    "2022-11-22T00:00:00.000000000",
                    "2022-11-23T00:00:00.000000000",
                    "2022-11-25T00:00:00.000000000",
                    "2022-11-28T00:00:00.000000000",
                    "2022-11-29T00:00:00.000000000",
                    "2022-11-30T00:00:00.000000000",
                    "2022-12-01T00:00:00.000000000",
                    "2022-12-02T00:00:00.000000000",
                    "2022-12-05T00:00:00.000000000",
                    "2022-12-06T00:00:00.000000000",
                    "2022-12-07T00:00:00.000000000",
                    "2022-12-08T00:00:00.000000000",
                    "2022-12-09T00:00:00.000000000",
                    "2022-12-12T00:00:00.000000000",
                    "2022-12-13T00:00:00.000000000",
                    "2022-12-14T00:00:00.000000000",
                    "2022-12-15T00:00:00.000000000",
                    "2022-12-16T00:00:00.000000000",
                    "2022-12-19T00:00:00.000000000",
                    "2022-12-20T00:00:00.000000000",
                    "2022-12-21T00:00:00.000000000",
                    "2022-12-22T00:00:00.000000000",
                    "2022-12-23T00:00:00.000000000",
                    "2022-12-27T00:00:00.000000000",
                    "2022-12-28T00:00:00.000000000",
                    "2022-12-29T00:00:00.000000000",
                    "2022-12-30T00:00:00.000000000",
                    "2023-01-03T00:00:00.000000000",
                    "2023-01-04T00:00:00.000000000",
                    "2023-01-05T00:00:00.000000000",
                    "2023-01-06T00:00:00.000000000",
                    "2023-01-09T00:00:00.000000000",
                    "2023-01-10T00:00:00.000000000",
                    "2023-01-11T00:00:00.000000000",
                    "2023-01-12T00:00:00.000000000",
                    "2023-01-13T00:00:00.000000000",
                    "2023-01-17T00:00:00.000000000",
                    "2023-01-18T00:00:00.000000000",
                    "2023-01-19T00:00:00.000000000",
                    "2023-01-20T00:00:00.000000000",
                    "2023-01-23T00:00:00.000000000",
                    "2023-01-24T00:00:00.000000000",
                    "2023-01-25T00:00:00.000000000",
                    "2023-01-26T00:00:00.000000000",
                    "2023-01-27T00:00:00.000000000",
                    "2023-01-30T00:00:00.000000000",
                    "2023-01-31T00:00:00.000000000",
                    "2023-02-01T00:00:00.000000000",
                    "2023-02-02T00:00:00.000000000",
                    "2023-02-03T00:00:00.000000000",
                    "2023-02-06T00:00:00.000000000",
                    "2023-02-07T00:00:00.000000000",
                    "2023-02-08T00:00:00.000000000",
                    "2023-02-09T00:00:00.000000000",
                    "2023-02-10T00:00:00.000000000",
                    "2023-02-13T00:00:00.000000000",
                    "2023-02-14T00:00:00.000000000",
                    "2023-02-15T00:00:00.000000000",
                    "2023-02-16T00:00:00.000000000",
                    "2023-02-17T00:00:00.000000000",
                    "2023-02-21T00:00:00.000000000",
                    "2023-02-22T00:00:00.000000000",
                    "2023-02-23T00:00:00.000000000",
                    "2023-02-24T00:00:00.000000000",
                    "2023-02-27T00:00:00.000000000",
                    "2023-02-28T00:00:00.000000000",
                    "2023-03-01T00:00:00.000000000",
                    "2023-03-02T00:00:00.000000000",
                    "2023-03-03T00:00:00.000000000",
                    "2023-03-06T00:00:00.000000000",
                    "2023-03-07T00:00:00.000000000",
                    "2023-03-08T00:00:00.000000000",
                    "2023-03-09T00:00:00.000000000",
                    "2023-03-10T00:00:00.000000000",
                    "2023-03-13T00:00:00.000000000",
                    "2023-03-14T00:00:00.000000000",
                    "2023-03-15T00:00:00.000000000",
                    "2023-03-16T00:00:00.000000000",
                    "2023-03-17T00:00:00.000000000",
                    "2023-03-20T00:00:00.000000000",
                    "2023-03-21T00:00:00.000000000",
                    "2023-03-22T00:00:00.000000000",
                    "2023-03-23T00:00:00.000000000",
                    "2023-03-24T00:00:00.000000000",
                    "2023-03-27T00:00:00.000000000",
                    "2023-03-28T00:00:00.000000000",
                    "2023-03-29T00:00:00.000000000",
                    "2023-03-30T00:00:00.000000000",
                    "2023-03-31T00:00:00.000000000",
                    "2023-04-03T00:00:00.000000000",
                    "2023-04-04T00:00:00.000000000",
                    "2023-04-05T00:00:00.000000000",
                    "2023-04-06T00:00:00.000000000",
                    "2023-04-10T00:00:00.000000000",
                    "2023-04-11T00:00:00.000000000",
                    "2023-04-12T00:00:00.000000000",
                    "2023-04-13T00:00:00.000000000",
                    "2023-04-14T00:00:00.000000000",
                    "2023-04-17T00:00:00.000000000",
                    "2023-04-18T00:00:00.000000000",
                    "2023-04-19T00:00:00.000000000",
                    "2023-04-20T00:00:00.000000000",
                    "2023-04-21T00:00:00.000000000",
                    "2023-04-24T00:00:00.000000000",
                    "2023-04-25T00:00:00.000000000",
                    "2023-04-26T00:00:00.000000000",
                    "2023-04-27T00:00:00.000000000",
                    "2023-04-28T00:00:00.000000000",
                    "2023-05-01T00:00:00.000000000",
                    "2023-05-02T00:00:00.000000000",
                    "2023-05-03T00:00:00.000000000",
                    "2023-05-04T00:00:00.000000000",
                    "2023-05-05T00:00:00.000000000",
                    "2023-05-08T00:00:00.000000000",
                    "2023-05-09T00:00:00.000000000",
                    "2023-05-10T00:00:00.000000000",
                    "2023-05-11T00:00:00.000000000",
                    "2023-05-12T00:00:00.000000000",
                    "2023-05-15T00:00:00.000000000",
                    "2023-05-16T00:00:00.000000000",
                    "2023-05-17T00:00:00.000000000",
                    "2023-05-18T00:00:00.000000000",
                    "2023-05-19T00:00:00.000000000",
                    "2023-05-22T00:00:00.000000000",
                    "2023-05-23T00:00:00.000000000",
                    "2023-05-24T00:00:00.000000000",
                    "2023-05-25T00:00:00.000000000",
                    "2023-05-26T00:00:00.000000000",
                    "2023-05-30T00:00:00.000000000",
                    "2023-05-31T00:00:00.000000000",
                    "2023-06-01T00:00:00.000000000",
                    "2023-06-02T00:00:00.000000000",
                    "2023-06-05T00:00:00.000000000",
                    "2023-06-06T00:00:00.000000000",
                    "2023-06-07T00:00:00.000000000",
                    "2023-06-08T00:00:00.000000000",
                    "2023-06-09T00:00:00.000000000",
                    "2023-06-12T00:00:00.000000000",
                    "2023-06-13T00:00:00.000000000",
                    "2023-06-14T00:00:00.000000000",
                    "2023-06-15T00:00:00.000000000",
                    "2023-06-16T00:00:00.000000000",
                    "2023-06-20T00:00:00.000000000",
                    "2023-06-21T00:00:00.000000000",
                    "2023-06-22T00:00:00.000000000",
                    "2023-06-23T00:00:00.000000000",
                    "2023-06-26T00:00:00.000000000",
                    "2023-06-27T00:00:00.000000000",
                    "2023-06-28T00:00:00.000000000",
                    "2023-06-29T00:00:00.000000000",
                    "2023-06-30T00:00:00.000000000",
                    "2023-07-03T00:00:00.000000000",
                    "2023-07-05T00:00:00.000000000",
                    "2023-07-06T00:00:00.000000000",
                    "2023-07-07T00:00:00.000000000",
                    "2023-07-10T00:00:00.000000000",
                    "2023-07-11T00:00:00.000000000",
                    "2023-07-12T00:00:00.000000000",
                    "2023-07-13T00:00:00.000000000",
                    "2023-07-14T00:00:00.000000000",
                    "2023-07-17T00:00:00.000000000",
                    "2023-07-18T00:00:00.000000000",
                    "2023-07-19T00:00:00.000000000",
                    "2023-07-20T00:00:00.000000000",
                    "2023-07-21T00:00:00.000000000",
                    "2023-07-24T00:00:00.000000000",
                    "2023-07-25T00:00:00.000000000",
                    "2023-07-26T00:00:00.000000000",
                    "2023-07-27T00:00:00.000000000",
                    "2023-07-28T00:00:00.000000000",
                    "2023-07-31T00:00:00.000000000",
                    "2023-08-01T00:00:00.000000000",
                    "2023-08-02T00:00:00.000000000",
                    "2023-08-03T00:00:00.000000000",
                    "2023-08-04T00:00:00.000000000",
                    "2023-08-07T00:00:00.000000000",
                    "2023-08-08T00:00:00.000000000",
                    "2023-08-09T00:00:00.000000000",
                    "2023-08-10T00:00:00.000000000",
                    "2023-08-11T00:00:00.000000000",
                    "2023-08-14T00:00:00.000000000",
                    "2023-08-15T00:00:00.000000000",
                    "2023-08-16T00:00:00.000000000",
                    "2023-08-17T00:00:00.000000000",
                    "2023-08-18T00:00:00.000000000",
                    "2023-08-21T00:00:00.000000000",
                    "2023-08-22T00:00:00.000000000",
                    "2023-08-23T00:00:00.000000000",
                    "2023-08-24T00:00:00.000000000",
                    "2023-08-25T00:00:00.000000000",
                    "2023-08-28T00:00:00.000000000",
                    "2023-08-29T00:00:00.000000000",
                    "2023-08-30T00:00:00.000000000",
                    "2023-08-31T00:00:00.000000000",
                    "2023-09-01T00:00:00.000000000",
                    "2023-09-05T00:00:00.000000000",
                    "2023-09-06T00:00:00.000000000",
                    "2023-09-07T00:00:00.000000000",
                    "2023-09-08T00:00:00.000000000",
                    "2023-09-11T00:00:00.000000000",
                    "2023-09-12T00:00:00.000000000",
                    "2023-09-13T00:00:00.000000000",
                    "2023-09-14T00:00:00.000000000",
                    "2023-09-15T00:00:00.000000000",
                    "2023-09-18T00:00:00.000000000",
                    "2023-09-19T00:00:00.000000000",
                    "2023-09-20T00:00:00.000000000",
                    "2023-09-21T00:00:00.000000000",
                    "2023-09-22T00:00:00.000000000",
                    "2023-09-25T00:00:00.000000000",
                    "2023-09-26T00:00:00.000000000",
                    "2023-09-27T00:00:00.000000000",
                    "2023-09-28T00:00:00.000000000",
                    "2023-09-29T00:00:00.000000000",
                    "2023-10-02T00:00:00.000000000",
                    "2023-10-03T00:00:00.000000000",
                    "2023-10-04T00:00:00.000000000",
                    "2023-10-05T00:00:00.000000000",
                    "2023-10-06T00:00:00.000000000",
                    "2023-10-09T00:00:00.000000000",
                    "2023-10-10T00:00:00.000000000",
                    "2023-10-11T00:00:00.000000000",
                    "2023-10-12T00:00:00.000000000",
                    "2023-10-13T00:00:00.000000000",
                    "2023-10-16T00:00:00.000000000",
                    "2023-10-17T00:00:00.000000000",
                    "2023-10-18T00:00:00.000000000",
                    "2023-10-19T00:00:00.000000000",
                    "2023-10-20T00:00:00.000000000",
                    "2023-10-23T00:00:00.000000000",
                    "2023-10-24T00:00:00.000000000",
                    "2023-10-25T00:00:00.000000000",
                    "2023-10-26T00:00:00.000000000",
                    "2023-10-27T00:00:00.000000000",
                    "2023-10-30T00:00:00.000000000",
                    "2023-10-31T00:00:00.000000000",
                    "2023-11-01T00:00:00.000000000",
                    "2023-11-02T00:00:00.000000000",
                    "2023-11-03T00:00:00.000000000",
                    "2023-11-06T00:00:00.000000000",
                    "2023-11-07T00:00:00.000000000",
                    "2023-11-08T00:00:00.000000000",
                    "2023-11-09T00:00:00.000000000",
                    "2023-11-10T00:00:00.000000000",
                    "2023-11-13T00:00:00.000000000",
                    "2023-11-14T00:00:00.000000000",
                    "2023-11-15T00:00:00.000000000",
                    "2023-11-16T00:00:00.000000000",
                    "2023-11-17T00:00:00.000000000",
                    "2023-11-20T00:00:00.000000000",
                    "2023-11-21T00:00:00.000000000",
                    "2023-11-22T00:00:00.000000000",
                    "2023-11-24T00:00:00.000000000",
                    "2023-11-27T00:00:00.000000000",
                    "2023-11-28T00:00:00.000000000",
                    "2023-11-29T00:00:00.000000000",
                    "2023-11-30T00:00:00.000000000",
                    "2023-12-01T00:00:00.000000000",
                    "2023-12-04T00:00:00.000000000",
                    "2023-12-05T00:00:00.000000000",
                    "2023-12-06T00:00:00.000000000",
                    "2023-12-07T00:00:00.000000000",
                    "2023-12-08T00:00:00.000000000",
                    "2023-12-11T00:00:00.000000000",
                    "2023-12-12T00:00:00.000000000",
                    "2023-12-13T00:00:00.000000000",
                    "2023-12-14T00:00:00.000000000",
                    "2023-12-15T00:00:00.000000000",
                    "2023-12-18T00:00:00.000000000",
                    "2023-12-19T00:00:00.000000000",
                    "2023-12-20T00:00:00.000000000",
                    "2023-12-21T00:00:00.000000000",
                    "2023-12-22T00:00:00.000000000",
                    "2023-12-26T00:00:00.000000000",
                    "2023-12-27T00:00:00.000000000",
                    "2023-12-28T00:00:00.000000000",
                    "2023-12-29T00:00:00.000000000",
                    "2024-01-02T00:00:00.000000000",
                    "2024-01-03T00:00:00.000000000",
                    "2024-01-04T00:00:00.000000000",
                    "2024-01-05T00:00:00.000000000",
                    "2024-01-08T00:00:00.000000000",
                    "2024-01-09T00:00:00.000000000",
                    "2024-01-10T00:00:00.000000000",
                    "2024-01-11T00:00:00.000000000",
                    "2024-01-12T00:00:00.000000000",
                    "2024-01-16T00:00:00.000000000",
                    "2024-01-17T00:00:00.000000000",
                    "2024-01-18T00:00:00.000000000",
                    "2024-01-19T00:00:00.000000000",
                    "2024-01-22T00:00:00.000000000",
                    "2024-01-23T00:00:00.000000000",
                    "2024-01-24T00:00:00.000000000",
                    "2024-01-25T00:00:00.000000000",
                    "2024-01-26T00:00:00.000000000",
                    "2024-01-29T00:00:00.000000000",
                    "2024-01-30T00:00:00.000000000",
                    "2024-01-31T00:00:00.000000000",
                    "2024-02-01T00:00:00.000000000",
                    "2024-02-02T00:00:00.000000000",
                    "2024-02-05T00:00:00.000000000",
                    "2024-02-06T00:00:00.000000000",
                    "2024-02-07T00:00:00.000000000",
                    "2024-02-08T00:00:00.000000000",
                    "2024-02-09T00:00:00.000000000",
                    "2024-02-12T00:00:00.000000000",
                    "2024-02-13T00:00:00.000000000",
                    "2024-02-14T00:00:00.000000000",
                    "2024-02-15T00:00:00.000000000",
                    "2024-02-16T00:00:00.000000000",
                    "2024-02-20T00:00:00.000000000",
                    "2024-02-21T00:00:00.000000000",
                    "2024-02-22T00:00:00.000000000",
                    "2024-02-23T00:00:00.000000000",
                    "2024-02-26T00:00:00.000000000",
                    "2024-02-27T00:00:00.000000000",
                    "2024-02-28T00:00:00.000000000",
                    "2024-02-29T00:00:00.000000000",
                    "2024-03-01T00:00:00.000000000",
                    "2024-03-04T00:00:00.000000000",
                    "2024-03-05T00:00:00.000000000",
                    "2024-03-06T00:00:00.000000000",
                    "2024-03-07T00:00:00.000000000",
                    "2024-03-08T00:00:00.000000000",
                    "2024-03-11T00:00:00.000000000",
                    "2024-03-12T00:00:00.000000000",
                    "2024-03-13T00:00:00.000000000",
                    "2024-03-14T00:00:00.000000000",
                    "2024-03-15T00:00:00.000000000",
                    "2024-03-18T00:00:00.000000000",
                    "2024-03-19T00:00:00.000000000",
                    "2024-03-20T00:00:00.000000000",
                    "2024-03-21T00:00:00.000000000",
                    "2024-03-22T00:00:00.000000000",
                    "2024-03-25T00:00:00.000000000",
                    "2024-03-26T00:00:00.000000000",
                    "2024-03-27T00:00:00.000000000",
                    "2024-03-28T00:00:00.000000000",
                    "2024-04-01T00:00:00.000000000",
                    "2024-04-02T00:00:00.000000000",
                    "2024-04-03T00:00:00.000000000",
                    "2024-04-04T00:00:00.000000000",
                    "2024-04-05T00:00:00.000000000",
                    "2024-04-08T00:00:00.000000000",
                    "2024-04-09T00:00:00.000000000",
                    "2024-04-10T00:00:00.000000000",
                    "2024-04-11T00:00:00.000000000",
                    "2024-04-12T00:00:00.000000000",
                    "2024-04-15T00:00:00.000000000",
                    "2024-04-16T00:00:00.000000000",
                    "2024-04-17T00:00:00.000000000",
                    "2024-04-18T00:00:00.000000000",
                    "2024-04-19T00:00:00.000000000",
                    "2024-04-22T00:00:00.000000000",
                    "2024-04-23T00:00:00.000000000",
                    "2024-04-24T00:00:00.000000000",
                    "2024-04-25T00:00:00.000000000",
                    "2024-04-26T00:00:00.000000000",
                    "2024-04-29T00:00:00.000000000",
                    "2024-04-30T00:00:00.000000000",
                    "2024-05-01T00:00:00.000000000",
                    "2024-05-02T00:00:00.000000000",
                    "2024-05-03T00:00:00.000000000",
                    "2024-05-06T00:00:00.000000000",
                    "2024-05-07T00:00:00.000000000",
                    "2024-05-08T00:00:00.000000000",
                    "2024-05-09T00:00:00.000000000",
                    "2024-05-10T00:00:00.000000000",
                    "2024-05-13T00:00:00.000000000",
                    "2024-05-14T00:00:00.000000000",
                    "2024-05-15T00:00:00.000000000",
                    "2024-05-16T00:00:00.000000000",
                    "2024-05-17T00:00:00.000000000",
                    "2024-05-20T00:00:00.000000000",
                    "2024-05-21T00:00:00.000000000",
                    "2024-05-22T00:00:00.000000000",
                    "2024-05-23T00:00:00.000000000",
                    "2024-05-24T00:00:00.000000000",
                    "2024-05-28T00:00:00.000000000",
                    "2024-05-29T00:00:00.000000000",
                    "2024-05-30T00:00:00.000000000",
                    "2024-05-31T00:00:00.000000000",
                    "2024-06-03T00:00:00.000000000",
                    "2024-06-04T00:00:00.000000000",
                    "2024-06-05T00:00:00.000000000",
                    "2024-06-06T00:00:00.000000000",
                    "2024-06-07T00:00:00.000000000",
                    "2024-06-10T00:00:00.000000000",
                    "2024-06-11T00:00:00.000000000",
                    "2024-06-12T00:00:00.000000000",
                    "2024-06-13T00:00:00.000000000",
                    "2024-06-14T00:00:00.000000000",
                    "2024-06-17T00:00:00.000000000",
                    "2024-06-18T00:00:00.000000000",
                    "2024-06-20T00:00:00.000000000",
                    "2024-06-21T00:00:00.000000000",
                    "2024-06-24T00:00:00.000000000",
                    "2024-06-25T00:00:00.000000000",
                    "2024-06-26T00:00:00.000000000",
                    "2024-06-27T00:00:00.000000000",
                    "2024-06-28T00:00:00.000000000",
                    "2024-07-01T00:00:00.000000000",
                    "2024-07-02T00:00:00.000000000",
                    "2024-07-03T00:00:00.000000000",
                    "2024-07-05T00:00:00.000000000",
                    "2024-07-08T00:00:00.000000000",
                    "2024-07-09T00:00:00.000000000",
                    "2024-07-10T00:00:00.000000000",
                    "2024-07-11T00:00:00.000000000",
                    "2024-07-12T00:00:00.000000000",
                    "2024-07-15T00:00:00.000000000",
                    "2024-07-16T00:00:00.000000000",
                    "2024-07-17T00:00:00.000000000",
                    "2024-07-18T00:00:00.000000000",
                    "2024-07-19T00:00:00.000000000",
                    "2024-07-22T00:00:00.000000000",
                    "2024-07-23T00:00:00.000000000",
                    "2024-07-24T00:00:00.000000000",
                    "2024-07-25T00:00:00.000000000",
                    "2024-07-26T00:00:00.000000000",
                    "2024-07-29T00:00:00.000000000",
                    "2024-07-30T00:00:00.000000000",
                    "2024-07-31T00:00:00.000000000",
                    "2024-08-01T00:00:00.000000000",
                    "2024-08-02T00:00:00.000000000",
                    "2024-08-05T00:00:00.000000000",
                    "2024-08-06T00:00:00.000000000",
                    "2024-08-07T00:00:00.000000000",
                    "2024-08-08T00:00:00.000000000",
                    "2024-08-09T00:00:00.000000000",
                    "2024-08-12T00:00:00.000000000",
                    "2024-08-13T00:00:00.000000000",
                    "2024-08-14T00:00:00.000000000",
                    "2024-08-15T00:00:00.000000000",
                    "2024-08-16T00:00:00.000000000",
                    "2024-08-19T00:00:00.000000000",
                    "2024-08-20T00:00:00.000000000",
                    "2024-08-21T00:00:00.000000000",
                    "2024-08-22T00:00:00.000000000",
                    "2024-08-23T00:00:00.000000000",
                    "2024-08-26T00:00:00.000000000",
                    "2024-08-27T00:00:00.000000000",
                    "2024-08-28T00:00:00.000000000",
                    "2024-08-29T00:00:00.000000000",
                    "2024-08-30T00:00:00.000000000",
                    "2024-09-03T00:00:00.000000000",
                    "2024-09-04T00:00:00.000000000",
                    "2024-09-05T00:00:00.000000000",
                    "2024-09-06T00:00:00.000000000",
                    "2024-09-09T00:00:00.000000000",
                    "2024-09-10T00:00:00.000000000",
                    "2024-09-11T00:00:00.000000000",
                    "2024-09-12T00:00:00.000000000",
                    "2024-09-13T00:00:00.000000000",
                    "2024-09-16T00:00:00.000000000",
                    "2024-09-17T00:00:00.000000000",
                    "2024-09-18T00:00:00.000000000",
                    "2024-09-19T00:00:00.000000000",
                    "2024-09-20T00:00:00.000000000",
                    "2024-09-23T00:00:00.000000000",
                    "2024-09-24T00:00:00.000000000",
                    "2024-09-25T00:00:00.000000000",
                    "2024-09-26T00:00:00.000000000",
                    "2024-09-27T00:00:00.000000000",
                    "2024-09-30T00:00:00.000000000",
                    "2024-10-01T00:00:00.000000000",
                    "2024-10-02T00:00:00.000000000",
                    "2024-10-03T00:00:00.000000000",
                    "2024-10-04T00:00:00.000000000",
                    "2024-10-07T00:00:00.000000000",
                    "2024-10-08T00:00:00.000000000",
                    "2024-10-09T00:00:00.000000000",
                    "2024-10-10T00:00:00.000000000",
                    "2024-10-11T00:00:00.000000000",
                    "2024-10-14T00:00:00.000000000",
                    "2024-10-15T00:00:00.000000000",
                    "2024-10-16T00:00:00.000000000",
                    "2024-10-17T00:00:00.000000000",
                    "2024-10-18T00:00:00.000000000",
                    "2024-10-21T00:00:00.000000000",
                    "2024-10-22T00:00:00.000000000",
                    "2024-10-23T00:00:00.000000000",
                    "2024-10-24T00:00:00.000000000",
                    "2024-10-25T00:00:00.000000000",
                    "2024-10-28T00:00:00.000000000",
                    "2024-10-29T00:00:00.000000000",
                    "2024-10-30T00:00:00.000000000",
                    "2024-10-31T00:00:00.000000000",
                    "2024-11-01T00:00:00.000000000",
                    "2024-11-04T00:00:00.000000000",
                    "2024-11-05T00:00:00.000000000",
                    "2024-11-06T00:00:00.000000000",
                    "2024-11-07T00:00:00.000000000",
                    "2024-11-08T00:00:00.000000000",
                    "2024-11-11T00:00:00.000000000",
                    "2024-11-12T00:00:00.000000000",
                    "2024-11-13T00:00:00.000000000",
                    "2024-11-14T00:00:00.000000000",
                    "2024-11-15T00:00:00.000000000",
                    "2024-11-18T00:00:00.000000000",
                    "2024-11-19T00:00:00.000000000",
                    "2024-11-20T00:00:00.000000000",
                    "2024-11-21T00:00:00.000000000",
                    "2024-11-22T00:00:00.000000000",
                    "2024-11-25T00:00:00.000000000",
                    "2024-11-26T00:00:00.000000000",
                    "2024-11-27T00:00:00.000000000",
                    "2024-11-29T00:00:00.000000000",
                    "2024-12-02T00:00:00.000000000",
                    "2024-12-03T00:00:00.000000000",
                    "2024-12-04T00:00:00.000000000",
                    "2024-12-05T00:00:00.000000000",
                    "2024-12-06T00:00:00.000000000",
                    "2024-12-09T00:00:00.000000000",
                    "2024-12-10T00:00:00.000000000",
                    "2024-12-11T00:00:00.000000000",
                    "2024-12-12T00:00:00.000000000",
                    "2024-12-13T00:00:00.000000000",
                    "2024-12-16T00:00:00.000000000",
                    "2024-12-17T00:00:00.000000000",
                    "2024-12-18T00:00:00.000000000",
                    "2024-12-19T00:00:00.000000000",
                    "2024-12-20T00:00:00.000000000",
                    "2024-12-23T00:00:00.000000000",
                    "2024-12-24T00:00:00.000000000",
                    "2024-12-26T00:00:00.000000000",
                    "2024-12-27T00:00:00.000000000",
                    "2024-12-30T00:00:00.000000000",
                    "2024-12-31T00:00:00.000000000",
                    "2025-01-02T00:00:00.000000000",
                    "2025-01-03T00:00:00.000000000",
                    "2025-01-06T00:00:00.000000000",
                    "2025-01-07T00:00:00.000000000",
                    "2025-01-08T00:00:00.000000000",
                    "2025-01-10T00:00:00.000000000",
                    "2025-01-13T00:00:00.000000000",
                    "2025-01-14T00:00:00.000000000",
                    "2025-01-15T00:00:00.000000000",
                    "2025-01-16T00:00:00.000000000",
                    "2025-01-17T00:00:00.000000000",
                    "2025-01-21T00:00:00.000000000",
                    "2025-01-22T00:00:00.000000000",
                    "2025-01-23T00:00:00.000000000",
                    "2025-01-24T00:00:00.000000000",
                    "2025-01-27T00:00:00.000000000",
                    "2025-01-28T00:00:00.000000000",
                    "2025-01-29T00:00:00.000000000",
                    "2025-01-30T00:00:00.000000000",
                    "2025-01-31T00:00:00.000000000",
                    "2025-02-03T00:00:00.000000000",
                    "2025-02-04T00:00:00.000000000",
                    "2025-02-05T00:00:00.000000000",
                    "2025-02-06T00:00:00.000000000",
                    "2025-02-07T00:00:00.000000000",
                    "2025-02-10T00:00:00.000000000",
                    "2025-02-11T00:00:00.000000000",
                    "2025-02-12T00:00:00.000000000",
                    "2025-02-13T00:00:00.000000000",
                    "2025-02-14T00:00:00.000000000",
                    "2025-02-18T00:00:00.000000000",
                    "2025-02-19T00:00:00.000000000",
                    "2025-02-20T00:00:00.000000000",
                    "2025-02-21T00:00:00.000000000",
                    "2025-02-24T00:00:00.000000000",
                    "2025-02-25T00:00:00.000000000",
                    "2025-02-26T00:00:00.000000000",
                    "2025-02-27T00:00:00.000000000",
                    "2025-02-28T00:00:00.000000000",
                    "2025-03-03T00:00:00.000000000",
                    "2025-03-04T00:00:00.000000000",
                    "2025-03-05T00:00:00.000000000",
                    "2025-03-06T00:00:00.000000000",
                    "2025-03-07T00:00:00.000000000",
                    "2025-03-10T00:00:00.000000000",
                    "2025-03-11T00:00:00.000000000",
                    "2025-03-12T00:00:00.000000000",
                    "2025-03-13T00:00:00.000000000",
                    "2025-03-14T00:00:00.000000000",
                    "2025-03-17T00:00:00.000000000",
                    "2025-03-18T00:00:00.000000000",
                    "2025-03-19T00:00:00.000000000",
                    "2025-03-20T00:00:00.000000000",
                    "2025-03-21T00:00:00.000000000",
                    "2025-03-24T00:00:00.000000000",
                    "2025-03-25T00:00:00.000000000",
                    "2025-03-26T00:00:00.000000000",
                    "2025-03-27T00:00:00.000000000",
                    "2025-03-28T00:00:00.000000000",
                    "2025-03-31T00:00:00.000000000",
                    "2025-04-01T00:00:00.000000000",
                    "2025-04-02T00:00:00.000000000",
                    "2025-04-03T00:00:00.000000000",
                    "2025-04-04T00:00:00.000000000",
                    "2025-04-07T00:00:00.000000000",
                    "2025-04-08T00:00:00.000000000",
                    "2025-04-09T00:00:00.000000000",
                    "2025-04-10T00:00:00.000000000",
                    "2025-04-11T00:00:00.000000000",
                    "2025-04-14T00:00:00.000000000",
                    "2025-04-15T00:00:00.000000000",
                    "2025-04-16T00:00:00.000000000",
                    "2025-04-17T00:00:00.000000000",
                    "2025-04-21T00:00:00.000000000",
                    "2025-04-22T00:00:00.000000000",
                    "2025-04-23T00:00:00.000000000",
                    "2025-04-24T00:00:00.000000000",
                    "2025-04-25T00:00:00.000000000",
                    "2025-04-28T00:00:00.000000000",
                    "2025-04-29T00:00:00.000000000",
                    "2025-04-30T00:00:00.000000000",
                    "2025-05-01T00:00:00.000000000",
                    "2025-05-02T00:00:00.000000000",
                    "2025-05-05T00:00:00.000000000",
                    "2025-05-06T00:00:00.000000000",
                    "2025-05-07T00:00:00.000000000",
                    "2025-05-08T00:00:00.000000000",
                    "2025-05-09T00:00:00.000000000",
                    "2025-05-12T00:00:00.000000000",
                    "2025-05-13T00:00:00.000000000",
                    "2025-05-14T00:00:00.000000000",
                    "2025-05-15T00:00:00.000000000",
                    "2025-05-16T00:00:00.000000000",
                    "2025-05-19T00:00:00.000000000",
                    "2025-05-20T00:00:00.000000000",
                    "2025-05-21T00:00:00.000000000",
                    "2025-05-22T00:00:00.000000000",
                    "2025-05-23T00:00:00.000000000",
                    "2025-05-27T00:00:00.000000000",
                    "2025-05-28T00:00:00.000000000",
                    "2025-05-29T00:00:00.000000000",
                    "2025-05-30T00:00:00.000000000",
                    "2025-06-02T00:00:00.000000000",
                    "2025-06-03T00:00:00.000000000",
                    "2025-06-04T00:00:00.000000000",
                    "2025-06-05T00:00:00.000000000",
                    "2025-06-06T00:00:00.000000000",
                    "2025-06-09T00:00:00.000000000",
                    "2025-06-10T00:00:00.000000000",
                    "2025-06-11T00:00:00.000000000",
                    "2025-06-12T00:00:00.000000000",
                    "2025-06-13T00:00:00.000000000",
                    "2025-06-16T00:00:00.000000000",
                    "2025-06-17T00:00:00.000000000",
                    "2025-06-18T00:00:00.000000000",
                    "2025-06-20T00:00:00.000000000",
                    "2025-06-23T00:00:00.000000000",
                    "2025-06-24T00:00:00.000000000",
                    "2025-06-25T00:00:00.000000000",
                    "2025-06-26T00:00:00.000000000",
                    "2025-06-27T00:00:00.000000000",
                    "2025-06-30T00:00:00.000000000",
                    "2025-07-01T00:00:00.000000000",
                    "2025-07-02T00:00:00.000000000",
                    "2025-07-03T00:00:00.000000000",
                    "2025-07-07T00:00:00.000000000",
                    "2025-07-08T00:00:00.000000000",
                    "2025-07-09T00:00:00.000000000",
                    "2025-07-10T00:00:00.000000000",
                    "2025-07-11T00:00:00.000000000",
                    "2025-07-14T00:00:00.000000000",
                    "2025-07-15T00:00:00.000000000",
                    "2025-07-16T00:00:00.000000000",
                    "2025-07-17T00:00:00.000000000",
                    "2025-07-18T00:00:00.000000000",
                    "2025-07-21T00:00:00.000000000",
                    "2025-07-22T00:00:00.000000000",
                    "2025-07-23T00:00:00.000000000",
                    "2025-07-24T00:00:00.000000000",
                    "2025-07-25T00:00:00.000000000",
                    "2025-07-28T00:00:00.000000000",
                    "2025-07-29T00:00:00.000000000",
                    "2025-07-30T00:00:00.000000000",
                    "2025-07-31T00:00:00.000000000",
                    "2025-08-01T00:00:00.000000000",
                    "2025-08-04T00:00:00.000000000",
                    "2025-08-05T00:00:00.000000000",
                    "2025-08-06T00:00:00.000000000",
                    "2025-08-07T00:00:00.000000000",
                    "2025-08-08T00:00:00.000000000",
                    "2025-08-11T00:00:00.000000000",
                    "2025-08-12T00:00:00.000000000",
                    "2025-08-13T00:00:00.000000000",
                    "2025-08-14T00:00:00.000000000",
                    "2025-08-15T00:00:00.000000000",
                    "2025-08-18T00:00:00.000000000",
                    "2025-08-19T00:00:00.000000000",
                    "2025-08-20T00:00:00.000000000",
                    "2025-08-21T00:00:00.000000000",
                    "2025-08-22T00:00:00.000000000",
                    "2025-08-25T00:00:00.000000000",
                    "2025-08-26T00:00:00.000000000",
                    "2025-08-27T00:00:00.000000000",
                    "2025-08-28T00:00:00.000000000",
                    "2025-08-29T00:00:00.000000000",
                    "2025-09-02T00:00:00.000000000",
                    "2025-09-03T00:00:00.000000000",
                    "2025-09-04T00:00:00.000000000",
                    "2025-09-05T00:00:00.000000000",
                    "2025-09-08T00:00:00.000000000",
                    "2025-09-09T00:00:00.000000000",
                    "2025-09-10T00:00:00.000000000",
                    "2025-09-11T00:00:00.000000000",
                    "2025-09-12T00:00:00.000000000",
                    "2025-09-15T00:00:00.000000000",
                    "2025-09-16T00:00:00.000000000",
                    "2025-09-17T00:00:00.000000000",
                    "2025-09-18T00:00:00.000000000",
                    "2025-09-19T00:00:00.000000000",
                    "2025-09-22T00:00:00.000000000",
                    "2025-09-23T00:00:00.000000000",
                    "2025-09-24T00:00:00.000000000",
                    "2025-09-25T00:00:00.000000000",
                    "2025-09-26T00:00:00.000000000",
                    "2025-09-29T00:00:00.000000000",
                    "2025-09-30T00:00:00.000000000",
                    "2025-10-01T00:00:00.000000000",
                    "2025-10-02T00:00:00.000000000",
                    "2025-10-03T00:00:00.000000000",
                    "2025-10-06T00:00:00.000000000",
                    "2025-10-07T00:00:00.000000000",
                    "2025-10-08T00:00:00.000000000",
                    "2025-10-09T00:00:00.000000000",
                    "2025-10-10T00:00:00.000000000"
                  ]
                }
              ],
              "layout": {
                "template": {
                  "data": {
                    "bar": [
                      {
                        "error_x": {
                          "color": "#2a3f5f"
                        },
                        "error_y": {
                          "color": "#2a3f5f"
                        },
                        "marker": {
                          "line": {
                            "color": "#E5ECF6",
                            "width": 0.5
                          },
                          "pattern": {
                            "fillmode": "overlay",
                            "size": 10,
                            "solidity": 0.2
                          }
                        },
                        "type": "bar"
                      }
                    ],
                    "barpolar": [
                      {
                        "marker": {
                          "line": {
                            "color": "#E5ECF6",
                            "width": 0.5
                          },
                          "pattern": {
                            "fillmode": "overlay",
                            "size": 10,
                            "solidity": 0.2
                          }
                        },
                        "type": "barpolar"
                      }
                    ],
                    "carpet": [
                      {
                        "aaxis": {
                          "endlinecolor": "#2a3f5f",
                          "gridcolor": "white",
                          "linecolor": "white",
                          "minorgridcolor": "white",
                          "startlinecolor": "#2a3f5f"
                        },
                        "baxis": {
                          "endlinecolor": "#2a3f5f",
                          "gridcolor": "white",
                          "linecolor": "white",
                          "minorgridcolor": "white",
                          "startlinecolor": "#2a3f5f"
                        },
                        "type": "carpet"
                      }
                    ],
                    "choropleth": [
                      {
                        "colorbar": {
                          "outlinewidth": 0,
                          "ticks": ""
                        },
                        "type": "choropleth"
                      }
                    ],
                    "contour": [
                      {
                        "colorbar": {
                          "outlinewidth": 0,
                          "ticks": ""
                        },
                        "colorscale": [
                          [
                            0,
                            "#0d0887"
                          ],
                          [
                            0.1111111111111111,
                            "#46039f"
                          ],
                          [
                            0.2222222222222222,
                            "#7201a8"
                          ],
                          [
                            0.3333333333333333,
                            "#9c179e"
                          ],
                          [
                            0.4444444444444444,
                            "#bd3786"
                          ],
                          [
                            0.5555555555555556,
                            "#d8576b"
                          ],
                          [
                            0.6666666666666666,
                            "#ed7953"
                          ],
                          [
                            0.7777777777777778,
                            "#fb9f3a"
                          ],
                          [
                            0.8888888888888888,
                            "#fdca26"
                          ],
                          [
                            1,
                            "#f0f921"
                          ]
                        ],
                        "type": "contour"
                      }
                    ],
                    "contourcarpet": [
                      {
                        "colorbar": {
                          "outlinewidth": 0,
                          "ticks": ""
                        },
                        "type": "contourcarpet"
                      }
                    ],
                    "heatmap": [
                      {
                        "colorbar": {
                          "outlinewidth": 0,
                          "ticks": ""
                        },
                        "colorscale": [
                          [
                            0,
                            "#0d0887"
                          ],
                          [
                            0.1111111111111111,
                            "#46039f"
                          ],
                          [
                            0.2222222222222222,
                            "#7201a8"
                          ],
                          [
                            0.3333333333333333,
                            "#9c179e"
                          ],
                          [
                            0.4444444444444444,
                            "#bd3786"
                          ],
                          [
                            0.5555555555555556,
                            "#d8576b"
                          ],
                          [
                            0.6666666666666666,
                            "#ed7953"
                          ],
                          [
                            0.7777777777777778,
                            "#fb9f3a"
                          ],
                          [
                            0.8888888888888888,
                            "#fdca26"
                          ],
                          [
                            1,
                            "#f0f921"
                          ]
                        ],
                        "type": "heatmap"
                      }
                    ],
                    "histogram": [
                      {
                        "marker": {
                          "pattern": {
                            "fillmode": "overlay",
                            "size": 10,
                            "solidity": 0.2
                          }
                        },
                        "type": "histogram"
                      }
                    ],
                    "histogram2d": [
                      {
                        "colorbar": {
                          "outlinewidth": 0,
                          "ticks": ""
                        },
                        "colorscale": [
                          [
                            0,
                            "#0d0887"
                          ],
                          [
                            0.1111111111111111,
                            "#46039f"
                          ],
                          [
                            0.2222222222222222,
                            "#7201a8"
                          ],
                          [
                            0.3333333333333333,
                            "#9c179e"
                          ],
                          [
                            0.4444444444444444,
                            "#bd3786"
                          ],
                          [
                            0.5555555555555556,
                            "#d8576b"
                          ],
                          [
                            0.6666666666666666,
                            "#ed7953"
                          ],
                          [
                            0.7777777777777778,
                            "#fb9f3a"
                          ],
                          [
                            0.8888888888888888,
                            "#fdca26"
                          ],
                          [
                            1,
                            "#f0f921"
                          ]
                        ],
                        "type": "histogram2d"
                      }
                    ],
                    "histogram2dcontour": [
                      {
                        "colorbar": {
                          "outlinewidth": 0,
                          "ticks": ""
                        },
                        "colorscale": [
                          [
                            0,
                            "#0d0887"
                          ],
                          [
                            0.1111111111111111,
                            "#46039f"
                          ],
                          [
                            0.2222222222222222,
                            "#7201a8"
                          ],
                          [
                            0.3333333333333333,
                            "#9c179e"
                          ],
                          [
                            0.4444444444444444,
                            "#bd3786"
                          ],
                          [
                            0.5555555555555556,
                            "#d8576b"
                          ],
                          [
                            0.6666666666666666,
                            "#ed7953"
                          ],
                          [
                            0.7777777777777778,
                            "#fb9f3a"
                          ],
                          [
                            0.8888888888888888,
                            "#fdca26"
                          ],
                          [
                            1,
                            "#f0f921"
                          ]
                        ],
                        "type": "histogram2dcontour"
                      }
                    ],
                    "mesh3d": [
                      {
                        "colorbar": {
                          "outlinewidth": 0,
                          "ticks": ""
                        },
                        "type": "mesh3d"
                      }
                    ],
                    "parcoords": [
                      {
                        "line": {
                          "colorbar": {
                            "outlinewidth": 0,
                            "ticks": ""
                          }
                        },
                        "type": "parcoords"
                      }
                    ],
                    "pie": [
                      {
                        "automargin": true,
                        "type": "pie"
                      }
                    ],
                    "scatter": [
                      {
                        "fillpattern": {
                          "fillmode": "overlay",
                          "size": 10,
                          "solidity": 0.2
                        },
                        "type": "scatter"
                      }
                    ],
                    "scatter3d": [
                      {
                        "line": {
                          "colorbar": {
                            "outlinewidth": 0,
                            "ticks": ""
                          }
                        },
                        "marker": {
                          "colorbar": {
                            "outlinewidth": 0,
                            "ticks": ""
                          }
                        },
                        "type": "scatter3d"
                      }
                    ],
                    "scattercarpet": [
                      {
                        "marker": {
                          "colorbar": {
                            "outlinewidth": 0,
                            "ticks": ""
                          }
                        },
                        "type": "scattercarpet"
                      }
                    ],
                    "scattergeo": [
                      {
                        "marker": {
                          "colorbar": {
                            "outlinewidth": 0,
                            "ticks": ""
                          }
                        },
                        "type": "scattergeo"
                      }
                    ],
                    "scattergl": [
                      {
                        "marker": {
                          "colorbar": {
                            "outlinewidth": 0,
                            "ticks": ""
                          }
                        },
                        "type": "scattergl"
                      }
                    ],
                    "scattermap": [
                      {
                        "marker": {
                          "colorbar": {
                            "outlinewidth": 0,
                            "ticks": ""
                          }
                        },
                        "type": "scattermap"
                      }
                    ],
                    "scattermapbox": [
                      {
                        "marker": {
                          "colorbar": {
                            "outlinewidth": 0,
                            "ticks": ""
                          }
                        },
                        "type": "scattermapbox"
                      }
                    ],
                    "scatterpolar": [
                      {
                        "marker": {
                          "colorbar": {
                            "outlinewidth": 0,
                            "ticks": ""
                          }
                        },
                        "type": "scatterpolar"
                      }
                    ],
                    "scatterpolargl": [
                      {
                        "marker": {
                          "colorbar": {
                            "outlinewidth": 0,
                            "ticks": ""
                          }
                        },
                        "type": "scatterpolargl"
                      }
                    ],
                    "scatterternary": [
                      {
                        "marker": {
                          "colorbar": {
                            "outlinewidth": 0,
                            "ticks": ""
                          }
                        },
                        "type": "scatterternary"
                      }
                    ],
                    "surface": [
                      {
                        "colorbar": {
                          "outlinewidth": 0,
                          "ticks": ""
                        },
                        "colorscale": [
                          [
                            0,
                            "#0d0887"
                          ],
                          [
                            0.1111111111111111,
                            "#46039f"
                          ],
                          [
                            0.2222222222222222,
                            "#7201a8"
                          ],
                          [
                            0.3333333333333333,
                            "#9c179e"
                          ],
                          [
                            0.4444444444444444,
                            "#bd3786"
                          ],
                          [
                            0.5555555555555556,
                            "#d8576b"
                          ],
                          [
                            0.6666666666666666,
                            "#ed7953"
                          ],
                          [
                            0.7777777777777778,
                            "#fb9f3a"
                          ],
                          [
                            0.8888888888888888,
                            "#fdca26"
                          ],
                          [
                            1,
                            "#f0f921"
                          ]
                        ],
                        "type": "surface"
                      }
                    ],
                    "table": [
                      {
                        "cells": {
                          "fill": {
                            "color": "#EBF0F8"
                          },
                          "line": {
                            "color": "white"
                          }
                        },
                        "header": {
                          "fill": {
                            "color": "#C8D4E3"
                          },
                          "line": {
                            "color": "white"
                          }
                        },
                        "type": "table"
                      }
                    ]
                  },
                  "layout": {
                    "annotationdefaults": {
                      "arrowcolor": "#2a3f5f",
                      "arrowhead": 0,
                      "arrowwidth": 1
                    },
                    "autotypenumbers": "strict",
                    "coloraxis": {
                      "colorbar": {
                        "outlinewidth": 0,
                        "ticks": ""
                      }
                    },
                    "colorscale": {
                      "diverging": [
                        [
                          0,
                          "#8e0152"
                        ],
                        [
                          0.1,
                          "#c51b7d"
                        ],
                        [
                          0.2,
                          "#de77ae"
                        ],
                        [
                          0.3,
                          "#f1b6da"
                        ],
                        [
                          0.4,
                          "#fde0ef"
                        ],
                        [
                          0.5,
                          "#f7f7f7"
                        ],
                        [
                          0.6,
                          "#e6f5d0"
                        ],
                        [
                          0.7,
                          "#b8e186"
                        ],
                        [
                          0.8,
                          "#7fbc41"
                        ],
                        [
                          0.9,
                          "#4d9221"
                        ],
                        [
                          1,
                          "#276419"
                        ]
                      ],
                      "sequential": [
                        [
                          0,
                          "#0d0887"
                        ],
                        [
                          0.1111111111111111,
                          "#46039f"
                        ],
                        [
                          0.2222222222222222,
                          "#7201a8"
                        ],
                        [
                          0.3333333333333333,
                          "#9c179e"
                        ],
                        [
                          0.4444444444444444,
                          "#bd3786"
                        ],
                        [
                          0.5555555555555556,
                          "#d8576b"
                        ],
                        [
                          0.6666666666666666,
                          "#ed7953"
                        ],
                        [
                          0.7777777777777778,
                          "#fb9f3a"
                        ],
                        [
                          0.8888888888888888,
                          "#fdca26"
                        ],
                        [
                          1,
                          "#f0f921"
                        ]
                      ],
                      "sequentialminus": [
                        [
                          0,
                          "#0d0887"
                        ],
                        [
                          0.1111111111111111,
                          "#46039f"
                        ],
                        [
                          0.2222222222222222,
                          "#7201a8"
                        ],
                        [
                          0.3333333333333333,
                          "#9c179e"
                        ],
                        [
                          0.4444444444444444,
                          "#bd3786"
                        ],
                        [
                          0.5555555555555556,
                          "#d8576b"
                        ],
                        [
                          0.6666666666666666,
                          "#ed7953"
                        ],
                        [
                          0.7777777777777778,
                          "#fb9f3a"
                        ],
                        [
                          0.8888888888888888,
                          "#fdca26"
                        ],
                        [
                          1,
                          "#f0f921"
                        ]
                      ]
                    },
                    "colorway": [
                      "#636efa",
                      "#EF553B",
                      "#00cc96",
                      "#ab63fa",
                      "#FFA15A",
                      "#19d3f3",
                      "#FF6692",
                      "#B6E880",
                      "#FF97FF",
                      "#FECB52"
                    ],
                    "font": {
                      "color": "#2a3f5f"
                    },
                    "geo": {
                      "bgcolor": "white",
                      "lakecolor": "white",
                      "landcolor": "#E5ECF6",
                      "showlakes": true,
                      "showland": true,
                      "subunitcolor": "white"
                    },
                    "hoverlabel": {
                      "align": "left"
                    },
                    "hovermode": "closest",
                    "mapbox": {
                      "style": "light"
                    },
                    "paper_bgcolor": "white",
                    "plot_bgcolor": "#E5ECF6",
                    "polar": {
                      "angularaxis": {
                        "gridcolor": "white",
                        "linecolor": "white",
                        "ticks": ""
                      },
                      "bgcolor": "#E5ECF6",
                      "radialaxis": {
                        "gridcolor": "white",
                        "linecolor": "white",
                        "ticks": ""
                      }
                    },
                    "scene": {
                      "xaxis": {
                        "backgroundcolor": "#E5ECF6",
                        "gridcolor": "white",
                        "gridwidth": 2,
                        "linecolor": "white",
                        "showbackground": true,
                        "ticks": "",
                        "zerolinecolor": "white"
                      },
                      "yaxis": {
                        "backgroundcolor": "#E5ECF6",
                        "gridcolor": "white",
                        "gridwidth": 2,
                        "linecolor": "white",
                        "showbackground": true,
                        "ticks": "",
                        "zerolinecolor": "white"
                      },
                      "zaxis": {
                        "backgroundcolor": "#E5ECF6",
                        "gridcolor": "white",
                        "gridwidth": 2,
                        "linecolor": "white",
                        "showbackground": true,
                        "ticks": "",
                        "zerolinecolor": "white"
                      }
                    },
                    "shapedefaults": {
                      "line": {
                        "color": "#2a3f5f"
                      }
                    },
                    "ternary": {
                      "aaxis": {
                        "gridcolor": "white",
                        "linecolor": "white",
                        "ticks": ""
                      },
                      "baxis": {
                        "gridcolor": "white",
                        "linecolor": "white",
                        "ticks": ""
                      },
                      "bgcolor": "#E5ECF6",
                      "caxis": {
                        "gridcolor": "white",
                        "linecolor": "white",
                        "ticks": ""
                      }
                    },
                    "title": {
                      "x": 0.05
                    },
                    "xaxis": {
                      "automargin": true,
                      "gridcolor": "white",
                      "linecolor": "white",
                      "ticks": "",
                      "title": {
                        "standoff": 15
                      },
                      "zerolinecolor": "white",
                      "zerolinewidth": 2
                    },
                    "yaxis": {
                      "automargin": true,
                      "gridcolor": "white",
                      "linecolor": "white",
                      "ticks": "",
                      "title": {
                        "standoff": 15
                      },
                      "zerolinecolor": "white",
                      "zerolinewidth": 2
                    }
                  }
                }
              }
            }
          },
          "metadata": {},
          "output_type": "display_data"
        }
      ],
      "source": [
        "import plotly.graph_objects as go\n",
        "\n",
        "assert df_MSFT is not None\n",
        "\n",
        "fig = go.Figure(data=[go.Candlestick(x=df_MSFT.index,\n",
        "                open=df_MSFT['Open'],\n",
        "                high=df_MSFT['High'],\n",
        "                low=df_MSFT['Low'],\n",
        "                close=df_MSFT['Close'])])\n",
        "\n",
        "fig.show()"
      ]
    },
    {
      "attachments": {},
      "cell_type": "markdown",
      "id": "2ff41f65-b28f-49ea-874d-e1847d293d00",
      "metadata": {},
      "source": [
        "## Export the data"
      ]
    },
    {
      "attachments": {},
      "cell_type": "markdown",
      "id": "9a287b6d-fddd-4796-80ba-cdbeb4278758",
      "metadata": {},
      "source": [
        "### Microsoft data"
      ]
    },
    {
      "attachments": {},
      "cell_type": "markdown",
      "id": "f72a39da-f47e-4e8b-8399-0d5dc91497f5",
      "metadata": {},
      "source": [
        "#### Drop `Adj Close`\n",
        "\n",
        "- To not confuse the `Close` and `Adj Close`"
      ]
    },
    {
      "cell_type": "code",
      "execution_count": null,
      "id": "a0243b4a-174e-42dc-9d32-d4e726ce7caf",
      "metadata": {},
      "outputs": [],
      "source": [
        "# df_MSFT = df_MSFT.drop(columns='Adj Close')\n",
        "# MSFT does not have column named 'Adj Close'"
      ]
    },
    {
      "attachments": {},
      "cell_type": "markdown",
      "id": "70e7534d-30f4-432d-bc96-c9e6a50476a9",
      "metadata": {},
      "source": [
        "#### To Excel\n",
        "\n",
        "- Create a folder called `data`"
      ]
    },
    {
      "cell_type": "code",
      "execution_count": 31,
      "id": "75790a6f-bc11-40c2-8553-ce30e23af441",
      "metadata": {},
      "outputs": [],
      "source": [
        "assert df_MSFT is not None\n",
        "df_MSFT.to_excel('data/MSFT_stock_price_historical_daily.xlsx')"
      ]
    },
    {
      "attachments": {},
      "cell_type": "markdown",
      "id": "efd741d9-a8f4-4239-8fec-e3fcd1653130",
      "metadata": {},
      "source": [
        "#### To CSV\n",
        "\n",
        "- Less size in memory"
      ]
    },
    {
      "cell_type": "code",
      "execution_count": 32,
      "id": "c2e07e01-5da0-40da-a6c4-78a4dba5a0cb",
      "metadata": {},
      "outputs": [],
      "source": [
        "assert df_MSFT is not None\n",
        "df_MSFT.to_csv('data/MSFT.csv')"
      ]
    },
    {
      "attachments": {},
      "cell_type": "markdown",
      "id": "f9d779ac-c6df-4ee6-b86f-148509371e3c",
      "metadata": {},
      "source": [
        "### Bitcoin data altogether (step by step)"
      ]
    },
    {
      "attachments": {},
      "cell_type": "markdown",
      "id": "c1d2148c-965c-4a46-8584-656d61f6b45c",
      "metadata": {},
      "source": [
        "#### Define ticker"
      ]
    },
    {
      "cell_type": "code",
      "execution_count": null,
      "id": "a9e9f522-512e-42f8-bbd4-ae443c8b6167",
      "metadata": {},
      "outputs": [],
      "source": [
        "ticker = 'BTC-USD'\n",
        "ticker"
      ]
    },
    {
      "attachments": {},
      "cell_type": "markdown",
      "id": "816e3d92-4497-41b7-8c89-ff0127d3a316",
      "metadata": {},
      "source": [
        "#### Download OLHVC"
      ]
    },
    {
      "cell_type": "code",
      "execution_count": null,
      "id": "3e9776c3-5993-4417-b57f-bf922db21272",
      "metadata": {},
      "outputs": [],
      "source": [
        "df_ticker = yf.download(ticker, multi_level_index=False, auto_adjust=False)\n",
        "df_ticker"
      ]
    },
    {
      "attachments": {},
      "cell_type": "markdown",
      "id": "754dd8e7-b2b1-4fe3-bd90-c4ae5ca7a70d",
      "metadata": {},
      "source": [
        "#### Create file path"
      ]
    },
    {
      "cell_type": "code",
      "execution_count": null,
      "id": "cefdc858-2f92-47ce-ae55-18fb91378d54",
      "metadata": {},
      "outputs": [],
      "source": [
        "file_path = f'data/{ticker}.xlsx'\n",
        "file_path"
      ]
    },
    {
      "attachments": {},
      "cell_type": "markdown",
      "id": "a5b5638b-3c9c-43f2-9499-587843dbe79c",
      "metadata": {},
      "source": [
        "#### Export to Excel"
      ]
    },
    {
      "cell_type": "code",
      "execution_count": null,
      "id": "15af432a-11e6-47d1-bb25-37f79ba9a029",
      "metadata": {},
      "outputs": [],
      "source": [
        "df_ticker.to_excel(file_path)"
      ]
    },
    {
      "attachments": {},
      "cell_type": "markdown",
      "id": "6b378335-82fd-43ee-9333-6b5d0c9f8a9f",
      "metadata": {},
      "source": [
        "#### Export to CSV"
      ]
    },
    {
      "cell_type": "code",
      "execution_count": null,
      "id": "6fa62253-0b42-440f-91ab-6762f7d13ae4",
      "metadata": {},
      "outputs": [],
      "source": [
        "df_ticker.to_csv(f'data/{ticker}.csv')"
      ]
    },
    {
      "attachments": {},
      "cell_type": "markdown",
      "id": "5f8d2e45-4f3e-43fd-a6f0-38f7babad3b4",
      "metadata": {},
      "source": [
        "#### Snippet"
      ]
    },
    {
      "cell_type": "code",
      "execution_count": null,
      "id": "f4f73b54-a83e-4ffa-b40f-243503716165",
      "metadata": {},
      "outputs": [],
      "source": [
        "ticker = 'TSLA'\n",
        "df_ticker = yf.download(ticker, multi_level_index=False, auto_adjust=False)\n",
        "df_ticker.to_excel(f'data/{ticker}.xlsx')\n",
        "df_ticker.to_csv(f'data/{ticker}.csv')"
      ]
    },
    {
      "attachments": {},
      "cell_type": "markdown",
      "id": "b61efee3-37fe-4d3c-8119-1d05c8f262d4",
      "metadata": {},
      "source": [
        "## [ ] Data Preprocessing"
      ]
    },
    {
      "cell_type": "code",
      "execution_count": null,
      "id": "239feeb1",
      "metadata": {},
      "outputs": [],
      "source": [
        "???"
      ]
    },
    {
      "attachments": {},
      "cell_type": "markdown",
      "id": "89c3da3e-7cf8-4a13-af6e-449e00657208",
      "metadata": {},
      "source": [
        "### Load the data"
      ]
    },
    {
      "cell_type": "code",
      "execution_count": 39,
      "id": "791f30e0",
      "metadata": {},
      "outputs": [
        {
          "data": {
            "text/html": [
              "<div>\n",
              "<style scoped>\n",
              "    .dataframe tbody tr th:only-of-type {\n",
              "        vertical-align: middle;\n",
              "    }\n",
              "\n",
              "    .dataframe tbody tr th {\n",
              "        vertical-align: top;\n",
              "    }\n",
              "\n",
              "    .dataframe thead th {\n",
              "        text-align: right;\n",
              "    }\n",
              "</style>\n",
              "<table border=\"1\" class=\"dataframe\">\n",
              "  <thead>\n",
              "    <tr style=\"text-align: right;\">\n",
              "      <th></th>\n",
              "      <th>Open</th>\n",
              "      <th>High</th>\n",
              "      <th>Low</th>\n",
              "      <th>Close</th>\n",
              "      <th>Volume</th>\n",
              "    </tr>\n",
              "    <tr>\n",
              "      <th>Date</th>\n",
              "      <th></th>\n",
              "      <th></th>\n",
              "      <th></th>\n",
              "      <th></th>\n",
              "      <th></th>\n",
              "    </tr>\n",
              "  </thead>\n",
              "  <tbody>\n",
              "    <tr>\n",
              "      <th>1986-03-13</th>\n",
              "      <td>0.088542</td>\n",
              "      <td>0.101563</td>\n",
              "      <td>0.088542</td>\n",
              "      <td>0.097222</td>\n",
              "      <td>1031788800</td>\n",
              "    </tr>\n",
              "    <tr>\n",
              "      <th>1986-03-14</th>\n",
              "      <td>0.097222</td>\n",
              "      <td>0.102431</td>\n",
              "      <td>0.097222</td>\n",
              "      <td>0.100694</td>\n",
              "      <td>308160000</td>\n",
              "    </tr>\n",
              "    <tr>\n",
              "      <th>1986-03-17</th>\n",
              "      <td>0.100694</td>\n",
              "      <td>0.103299</td>\n",
              "      <td>0.100694</td>\n",
              "      <td>0.102431</td>\n",
              "      <td>133171200</td>\n",
              "    </tr>\n",
              "    <tr>\n",
              "      <th>1986-03-18</th>\n",
              "      <td>0.102431</td>\n",
              "      <td>0.103299</td>\n",
              "      <td>0.098958</td>\n",
              "      <td>0.099826</td>\n",
              "      <td>67766400</td>\n",
              "    </tr>\n",
              "    <tr>\n",
              "      <th>1986-03-19</th>\n",
              "      <td>0.099826</td>\n",
              "      <td>0.100694</td>\n",
              "      <td>0.097222</td>\n",
              "      <td>0.098090</td>\n",
              "      <td>47894400</td>\n",
              "    </tr>\n",
              "    <tr>\n",
              "      <th>...</th>\n",
              "      <td>...</td>\n",
              "      <td>...</td>\n",
              "      <td>...</td>\n",
              "      <td>...</td>\n",
              "      <td>...</td>\n",
              "    </tr>\n",
              "    <tr>\n",
              "      <th>2023-05-22</th>\n",
              "      <td>318.600006</td>\n",
              "      <td>322.589996</td>\n",
              "      <td>318.010010</td>\n",
              "      <td>321.179993</td>\n",
              "      <td>24115700</td>\n",
              "    </tr>\n",
              "    <tr>\n",
              "      <th>2023-05-23</th>\n",
              "      <td>320.029999</td>\n",
              "      <td>322.720001</td>\n",
              "      <td>315.250000</td>\n",
              "      <td>315.260010</td>\n",
              "      <td>30797200</td>\n",
              "    </tr>\n",
              "    <tr>\n",
              "      <th>2023-05-24</th>\n",
              "      <td>314.730011</td>\n",
              "      <td>316.500000</td>\n",
              "      <td>312.609985</td>\n",
              "      <td>313.850006</td>\n",
              "      <td>23384900</td>\n",
              "    </tr>\n",
              "    <tr>\n",
              "      <th>2023-05-25</th>\n",
              "      <td>323.239990</td>\n",
              "      <td>326.899994</td>\n",
              "      <td>320.000000</td>\n",
              "      <td>325.920013</td>\n",
              "      <td>43301700</td>\n",
              "    </tr>\n",
              "    <tr>\n",
              "      <th>2023-05-26</th>\n",
              "      <td>324.019989</td>\n",
              "      <td>333.399994</td>\n",
              "      <td>323.880005</td>\n",
              "      <td>332.890015</td>\n",
              "      <td>36600900</td>\n",
              "    </tr>\n",
              "  </tbody>\n",
              "</table>\n",
              "<p>9378 rows × 5 columns</p>\n",
              "</div>"
            ],
            "text/plain": [
              "                  Open        High         Low       Close      Volume\n",
              "Date                                                                  \n",
              "1986-03-13    0.088542    0.101563    0.088542    0.097222  1031788800\n",
              "1986-03-14    0.097222    0.102431    0.097222    0.100694   308160000\n",
              "1986-03-17    0.100694    0.103299    0.100694    0.102431   133171200\n",
              "1986-03-18    0.102431    0.103299    0.098958    0.099826    67766400\n",
              "1986-03-19    0.099826    0.100694    0.097222    0.098090    47894400\n",
              "...                ...         ...         ...         ...         ...\n",
              "2023-05-22  318.600006  322.589996  318.010010  321.179993    24115700\n",
              "2023-05-23  320.029999  322.720001  315.250000  315.260010    30797200\n",
              "2023-05-24  314.730011  316.500000  312.609985  313.850006    23384900\n",
              "2023-05-25  323.239990  326.899994  320.000000  325.920013    43301700\n",
              "2023-05-26  324.019989  333.399994  323.880005  332.890015    36600900\n",
              "\n",
              "[9378 rows x 5 columns]"
            ]
          },
          "execution_count": 39,
          "metadata": {},
          "output_type": "execute_result"
        }
      ],
      "source": [
        "import pandas as pd\n",
        "\n",
        "df_microsoft = pd.read_excel(\n",
        "    'data/Microsoft_Stock_Price_Historical_Daily.xlsx',\n",
        "    parse_dates=['Date'], index_col=0\n",
        ")\n",
        "\n",
        "df_microsoft"
      ]
    },
    {
      "attachments": {},
      "cell_type": "markdown",
      "id": "04cf04bc-5f89-4362-b6e7-9bd8254a86b8",
      "metadata": {},
      "source": [
        "### Filter the data"
      ]
    },
    {
      "attachments": {},
      "cell_type": "markdown",
      "id": "bae566d6-761b-4256-ac8c-5c8de59e6daf",
      "metadata": {},
      "source": [
        "![](src/Microsoft_x_LinkedIn.png)"
      ]
    },
    {
      "cell_type": "code",
      "execution_count": 41,
      "id": "dc5cd7e4",
      "metadata": {},
      "outputs": [],
      "source": [
        "microsoft_linkedin = df_microsoft.loc['2016-12-08':,:].copy()"
      ]
    },
    {
      "cell_type": "code",
      "execution_count": 43,
      "id": "b37be1ab",
      "metadata": {},
      "outputs": [
        {
          "data": {
            "text/html": [
              "<div>\n",
              "<style scoped>\n",
              "    .dataframe tbody tr th:only-of-type {\n",
              "        vertical-align: middle;\n",
              "    }\n",
              "\n",
              "    .dataframe tbody tr th {\n",
              "        vertical-align: top;\n",
              "    }\n",
              "\n",
              "    .dataframe thead th {\n",
              "        text-align: right;\n",
              "    }\n",
              "</style>\n",
              "<table border=\"1\" class=\"dataframe\">\n",
              "  <thead>\n",
              "    <tr style=\"text-align: right;\">\n",
              "      <th></th>\n",
              "      <th>Open</th>\n",
              "      <th>High</th>\n",
              "      <th>Low</th>\n",
              "      <th>Close</th>\n",
              "      <th>Volume</th>\n",
              "    </tr>\n",
              "    <tr>\n",
              "      <th>Date</th>\n",
              "      <th></th>\n",
              "      <th></th>\n",
              "      <th></th>\n",
              "      <th></th>\n",
              "      <th></th>\n",
              "    </tr>\n",
              "  </thead>\n",
              "  <tbody>\n",
              "    <tr>\n",
              "      <th>2016-12-08</th>\n",
              "      <td>61.299999</td>\n",
              "      <td>61.580002</td>\n",
              "      <td>60.840000</td>\n",
              "      <td>61.009998</td>\n",
              "      <td>21220800</td>\n",
              "    </tr>\n",
              "    <tr>\n",
              "      <th>2016-12-09</th>\n",
              "      <td>61.180000</td>\n",
              "      <td>61.990002</td>\n",
              "      <td>61.130001</td>\n",
              "      <td>61.970001</td>\n",
              "      <td>27349400</td>\n",
              "    </tr>\n",
              "    <tr>\n",
              "      <th>2016-12-12</th>\n",
              "      <td>61.820000</td>\n",
              "      <td>62.299999</td>\n",
              "      <td>61.720001</td>\n",
              "      <td>62.169998</td>\n",
              "      <td>20198100</td>\n",
              "    </tr>\n",
              "    <tr>\n",
              "      <th>2016-12-13</th>\n",
              "      <td>62.500000</td>\n",
              "      <td>63.419998</td>\n",
              "      <td>62.240002</td>\n",
              "      <td>62.980000</td>\n",
              "      <td>35718900</td>\n",
              "    </tr>\n",
              "    <tr>\n",
              "      <th>2016-12-14</th>\n",
              "      <td>63.000000</td>\n",
              "      <td>63.450001</td>\n",
              "      <td>62.529999</td>\n",
              "      <td>62.680000</td>\n",
              "      <td>30352700</td>\n",
              "    </tr>\n",
              "    <tr>\n",
              "      <th>...</th>\n",
              "      <td>...</td>\n",
              "      <td>...</td>\n",
              "      <td>...</td>\n",
              "      <td>...</td>\n",
              "      <td>...</td>\n",
              "    </tr>\n",
              "    <tr>\n",
              "      <th>2023-05-22</th>\n",
              "      <td>318.600006</td>\n",
              "      <td>322.589996</td>\n",
              "      <td>318.010010</td>\n",
              "      <td>321.179993</td>\n",
              "      <td>24115700</td>\n",
              "    </tr>\n",
              "    <tr>\n",
              "      <th>2023-05-23</th>\n",
              "      <td>320.029999</td>\n",
              "      <td>322.720001</td>\n",
              "      <td>315.250000</td>\n",
              "      <td>315.260010</td>\n",
              "      <td>30797200</td>\n",
              "    </tr>\n",
              "    <tr>\n",
              "      <th>2023-05-24</th>\n",
              "      <td>314.730011</td>\n",
              "      <td>316.500000</td>\n",
              "      <td>312.609985</td>\n",
              "      <td>313.850006</td>\n",
              "      <td>23384900</td>\n",
              "    </tr>\n",
              "    <tr>\n",
              "      <th>2023-05-25</th>\n",
              "      <td>323.239990</td>\n",
              "      <td>326.899994</td>\n",
              "      <td>320.000000</td>\n",
              "      <td>325.920013</td>\n",
              "      <td>43301700</td>\n",
              "    </tr>\n",
              "    <tr>\n",
              "      <th>2023-05-26</th>\n",
              "      <td>324.019989</td>\n",
              "      <td>333.399994</td>\n",
              "      <td>323.880005</td>\n",
              "      <td>332.890015</td>\n",
              "      <td>36600900</td>\n",
              "    </tr>\n",
              "  </tbody>\n",
              "</table>\n",
              "<p>1627 rows × 5 columns</p>\n",
              "</div>"
            ],
            "text/plain": [
              "                  Open        High         Low       Close    Volume\n",
              "Date                                                                \n",
              "2016-12-08   61.299999   61.580002   60.840000   61.009998  21220800\n",
              "2016-12-09   61.180000   61.990002   61.130001   61.970001  27349400\n",
              "2016-12-12   61.820000   62.299999   61.720001   62.169998  20198100\n",
              "2016-12-13   62.500000   63.419998   62.240002   62.980000  35718900\n",
              "2016-12-14   63.000000   63.450001   62.529999   62.680000  30352700\n",
              "...                ...         ...         ...         ...       ...\n",
              "2023-05-22  318.600006  322.589996  318.010010  321.179993  24115700\n",
              "2023-05-23  320.029999  322.720001  315.250000  315.260010  30797200\n",
              "2023-05-24  314.730011  316.500000  312.609985  313.850006  23384900\n",
              "2023-05-25  323.239990  326.899994  320.000000  325.920013  43301700\n",
              "2023-05-26  324.019989  333.399994  323.880005  332.890015  36600900\n",
              "\n",
              "[1627 rows x 5 columns]"
            ]
          },
          "execution_count": 43,
          "metadata": {},
          "output_type": "execute_result"
        }
      ],
      "source": [
        "microsoft_linkedin"
      ]
    },
    {
      "attachments": {},
      "cell_type": "markdown",
      "id": "75a182df-6d87-4ead-b31d-b39c1a6e7409",
      "metadata": {},
      "source": [
        "## Create new columns"
      ]
    },
    {
      "attachments": {},
      "cell_type": "markdown",
      "id": "9b2bb568-db35-4eb4-a7cb-6145804b9e4a",
      "metadata": {},
      "source": [
        "### Tomorrow's percentage change"
      ]
    },
    {
      "cell_type": "code",
      "execution_count": 49,
      "id": "5dac5df2",
      "metadata": {},
      "outputs": [],
      "source": [
        "microsoft_linkedin['change_tomorrow'] = microsoft_linkedin['Close'].pct_change(-1) * 100 * -1"
      ]
    },
    {
      "cell_type": "code",
      "execution_count": null,
      "id": "727442ad",
      "metadata": {},
      "outputs": [
        {
          "data": {
            "text/html": [
              "<div>\n",
              "<style scoped>\n",
              "    .dataframe tbody tr th:only-of-type {\n",
              "        vertical-align: middle;\n",
              "    }\n",
              "\n",
              "    .dataframe tbody tr th {\n",
              "        vertical-align: top;\n",
              "    }\n",
              "\n",
              "    .dataframe thead th {\n",
              "        text-align: right;\n",
              "    }\n",
              "</style>\n",
              "<table border=\"1\" class=\"dataframe\">\n",
              "  <thead>\n",
              "    <tr style=\"text-align: right;\">\n",
              "      <th></th>\n",
              "      <th>Open</th>\n",
              "      <th>High</th>\n",
              "      <th>Low</th>\n",
              "      <th>Close</th>\n",
              "      <th>Volume</th>\n",
              "      <th>change_tomorrow</th>\n",
              "    </tr>\n",
              "    <tr>\n",
              "      <th>Date</th>\n",
              "      <th></th>\n",
              "      <th></th>\n",
              "      <th></th>\n",
              "      <th></th>\n",
              "      <th></th>\n",
              "      <th></th>\n",
              "    </tr>\n",
              "  </thead>\n",
              "  <tbody>\n",
              "    <tr>\n",
              "      <th>2016-12-08</th>\n",
              "      <td>61.299999</td>\n",
              "      <td>61.580002</td>\n",
              "      <td>60.840000</td>\n",
              "      <td>61.009998</td>\n",
              "      <td>21220800</td>\n",
              "      <td>1.549141</td>\n",
              "    </tr>\n",
              "    <tr>\n",
              "      <th>2016-12-09</th>\n",
              "      <td>61.180000</td>\n",
              "      <td>61.990002</td>\n",
              "      <td>61.130001</td>\n",
              "      <td>61.970001</td>\n",
              "      <td>27349400</td>\n",
              "      <td>0.321694</td>\n",
              "    </tr>\n",
              "    <tr>\n",
              "      <th>2016-12-12</th>\n",
              "      <td>61.820000</td>\n",
              "      <td>62.299999</td>\n",
              "      <td>61.720001</td>\n",
              "      <td>62.169998</td>\n",
              "      <td>20198100</td>\n",
              "      <td>1.286125</td>\n",
              "    </tr>\n",
              "    <tr>\n",
              "      <th>2016-12-13</th>\n",
              "      <td>62.500000</td>\n",
              "      <td>63.419998</td>\n",
              "      <td>62.240002</td>\n",
              "      <td>62.980000</td>\n",
              "      <td>35718900</td>\n",
              "      <td>-0.478620</td>\n",
              "    </tr>\n",
              "    <tr>\n",
              "      <th>2016-12-14</th>\n",
              "      <td>63.000000</td>\n",
              "      <td>63.450001</td>\n",
              "      <td>62.529999</td>\n",
              "      <td>62.680000</td>\n",
              "      <td>30352700</td>\n",
              "      <td>-0.159793</td>\n",
              "    </tr>\n",
              "    <tr>\n",
              "      <th>...</th>\n",
              "      <td>...</td>\n",
              "      <td>...</td>\n",
              "      <td>...</td>\n",
              "      <td>...</td>\n",
              "      <td>...</td>\n",
              "      <td>...</td>\n",
              "    </tr>\n",
              "    <tr>\n",
              "      <th>2023-05-19</th>\n",
              "      <td>316.739990</td>\n",
              "      <td>318.750000</td>\n",
              "      <td>316.369995</td>\n",
              "      <td>318.339996</td>\n",
              "      <td>27529500</td>\n",
              "      <td>0.884238</td>\n",
              "    </tr>\n",
              "    <tr>\n",
              "      <th>2023-05-22</th>\n",
              "      <td>318.600006</td>\n",
              "      <td>322.589996</td>\n",
              "      <td>318.010010</td>\n",
              "      <td>321.179993</td>\n",
              "      <td>24115700</td>\n",
              "      <td>-1.877810</td>\n",
              "    </tr>\n",
              "    <tr>\n",
              "      <th>2023-05-23</th>\n",
              "      <td>320.029999</td>\n",
              "      <td>322.720001</td>\n",
              "      <td>315.250000</td>\n",
              "      <td>315.260010</td>\n",
              "      <td>30797200</td>\n",
              "      <td>-0.449260</td>\n",
              "    </tr>\n",
              "    <tr>\n",
              "      <th>2023-05-24</th>\n",
              "      <td>314.730011</td>\n",
              "      <td>316.500000</td>\n",
              "      <td>312.609985</td>\n",
              "      <td>313.850006</td>\n",
              "      <td>23384900</td>\n",
              "      <td>3.703365</td>\n",
              "    </tr>\n",
              "    <tr>\n",
              "      <th>2023-05-25</th>\n",
              "      <td>323.239990</td>\n",
              "      <td>326.899994</td>\n",
              "      <td>320.000000</td>\n",
              "      <td>325.920013</td>\n",
              "      <td>43301700</td>\n",
              "      <td>2.093785</td>\n",
              "    </tr>\n",
              "  </tbody>\n",
              "</table>\n",
              "<p>1626 rows × 6 columns</p>\n",
              "</div>"
            ],
            "text/plain": [
              "                  Open        High         Low       Close    Volume  \\\n",
              "Date                                                                   \n",
              "2016-12-08   61.299999   61.580002   60.840000   61.009998  21220800   \n",
              "2016-12-09   61.180000   61.990002   61.130001   61.970001  27349400   \n",
              "2016-12-12   61.820000   62.299999   61.720001   62.169998  20198100   \n",
              "2016-12-13   62.500000   63.419998   62.240002   62.980000  35718900   \n",
              "2016-12-14   63.000000   63.450001   62.529999   62.680000  30352700   \n",
              "...                ...         ...         ...         ...       ...   \n",
              "2023-05-19  316.739990  318.750000  316.369995  318.339996  27529500   \n",
              "2023-05-22  318.600006  322.589996  318.010010  321.179993  24115700   \n",
              "2023-05-23  320.029999  322.720001  315.250000  315.260010  30797200   \n",
              "2023-05-24  314.730011  316.500000  312.609985  313.850006  23384900   \n",
              "2023-05-25  323.239990  326.899994  320.000000  325.920013  43301700   \n",
              "\n",
              "            change_tomorrow  \n",
              "Date                         \n",
              "2016-12-08         1.549141  \n",
              "2016-12-09         0.321694  \n",
              "2016-12-12         1.286125  \n",
              "2016-12-13        -0.478620  \n",
              "2016-12-14        -0.159793  \n",
              "...                     ...  \n",
              "2023-05-19         0.884238  \n",
              "2023-05-22        -1.877810  \n",
              "2023-05-23        -0.449260  \n",
              "2023-05-24         3.703365  \n",
              "2023-05-25         2.093785  \n",
              "\n",
              "[1626 rows x 6 columns]"
            ]
          },
          "execution_count": 51,
          "metadata": {},
          "output_type": "execute_result"
        }
      ],
      "source": [
        "# Drop NaN values since there is no value for today\n",
        "microsoft_linkedin.dropna()"
      ]
    },
    {
      "attachments": {},
      "cell_type": "markdown",
      "id": "5b295654-d546-4cfe-a6c1-9f960750bf51",
      "metadata": {},
      "source": [
        "### Did the stock go up or down?"
      ]
    },
    {
      "cell_type": "code",
      "execution_count": 55,
      "id": "34c99d05",
      "metadata": {},
      "outputs": [],
      "source": [
        "import numpy as np\n",
        "\n",
        "microsoft_linkedin['change_tomorrow_direction'] = np.where(microsoft_linkedin['change_tomorrow'] > 0, 'UP', 'DOWN')"
      ]
    },
    {
      "cell_type": "code",
      "execution_count": 56,
      "id": "aec9c762",
      "metadata": {},
      "outputs": [
        {
          "data": {
            "text/html": [
              "<div>\n",
              "<style scoped>\n",
              "    .dataframe tbody tr th:only-of-type {\n",
              "        vertical-align: middle;\n",
              "    }\n",
              "\n",
              "    .dataframe tbody tr th {\n",
              "        vertical-align: top;\n",
              "    }\n",
              "\n",
              "    .dataframe thead th {\n",
              "        text-align: right;\n",
              "    }\n",
              "</style>\n",
              "<table border=\"1\" class=\"dataframe\">\n",
              "  <thead>\n",
              "    <tr style=\"text-align: right;\">\n",
              "      <th></th>\n",
              "      <th>Open</th>\n",
              "      <th>High</th>\n",
              "      <th>Low</th>\n",
              "      <th>Close</th>\n",
              "      <th>Volume</th>\n",
              "      <th>change_tomorrow</th>\n",
              "      <th>change_tomorrow_direction</th>\n",
              "    </tr>\n",
              "    <tr>\n",
              "      <th>Date</th>\n",
              "      <th></th>\n",
              "      <th></th>\n",
              "      <th></th>\n",
              "      <th></th>\n",
              "      <th></th>\n",
              "      <th></th>\n",
              "      <th></th>\n",
              "    </tr>\n",
              "  </thead>\n",
              "  <tbody>\n",
              "    <tr>\n",
              "      <th>2016-12-08</th>\n",
              "      <td>61.299999</td>\n",
              "      <td>61.580002</td>\n",
              "      <td>60.840000</td>\n",
              "      <td>61.009998</td>\n",
              "      <td>21220800</td>\n",
              "      <td>1.549141</td>\n",
              "      <td>UP</td>\n",
              "    </tr>\n",
              "    <tr>\n",
              "      <th>2016-12-09</th>\n",
              "      <td>61.180000</td>\n",
              "      <td>61.990002</td>\n",
              "      <td>61.130001</td>\n",
              "      <td>61.970001</td>\n",
              "      <td>27349400</td>\n",
              "      <td>0.321694</td>\n",
              "      <td>UP</td>\n",
              "    </tr>\n",
              "    <tr>\n",
              "      <th>2016-12-12</th>\n",
              "      <td>61.820000</td>\n",
              "      <td>62.299999</td>\n",
              "      <td>61.720001</td>\n",
              "      <td>62.169998</td>\n",
              "      <td>20198100</td>\n",
              "      <td>1.286125</td>\n",
              "      <td>UP</td>\n",
              "    </tr>\n",
              "    <tr>\n",
              "      <th>2016-12-13</th>\n",
              "      <td>62.500000</td>\n",
              "      <td>63.419998</td>\n",
              "      <td>62.240002</td>\n",
              "      <td>62.980000</td>\n",
              "      <td>35718900</td>\n",
              "      <td>-0.478620</td>\n",
              "      <td>DOWN</td>\n",
              "    </tr>\n",
              "    <tr>\n",
              "      <th>2016-12-14</th>\n",
              "      <td>63.000000</td>\n",
              "      <td>63.450001</td>\n",
              "      <td>62.529999</td>\n",
              "      <td>62.680000</td>\n",
              "      <td>30352700</td>\n",
              "      <td>-0.159793</td>\n",
              "      <td>DOWN</td>\n",
              "    </tr>\n",
              "    <tr>\n",
              "      <th>...</th>\n",
              "      <td>...</td>\n",
              "      <td>...</td>\n",
              "      <td>...</td>\n",
              "      <td>...</td>\n",
              "      <td>...</td>\n",
              "      <td>...</td>\n",
              "      <td>...</td>\n",
              "    </tr>\n",
              "    <tr>\n",
              "      <th>2023-05-22</th>\n",
              "      <td>318.600006</td>\n",
              "      <td>322.589996</td>\n",
              "      <td>318.010010</td>\n",
              "      <td>321.179993</td>\n",
              "      <td>24115700</td>\n",
              "      <td>-1.877810</td>\n",
              "      <td>DOWN</td>\n",
              "    </tr>\n",
              "    <tr>\n",
              "      <th>2023-05-23</th>\n",
              "      <td>320.029999</td>\n",
              "      <td>322.720001</td>\n",
              "      <td>315.250000</td>\n",
              "      <td>315.260010</td>\n",
              "      <td>30797200</td>\n",
              "      <td>-0.449260</td>\n",
              "      <td>DOWN</td>\n",
              "    </tr>\n",
              "    <tr>\n",
              "      <th>2023-05-24</th>\n",
              "      <td>314.730011</td>\n",
              "      <td>316.500000</td>\n",
              "      <td>312.609985</td>\n",
              "      <td>313.850006</td>\n",
              "      <td>23384900</td>\n",
              "      <td>3.703365</td>\n",
              "      <td>UP</td>\n",
              "    </tr>\n",
              "    <tr>\n",
              "      <th>2023-05-25</th>\n",
              "      <td>323.239990</td>\n",
              "      <td>326.899994</td>\n",
              "      <td>320.000000</td>\n",
              "      <td>325.920013</td>\n",
              "      <td>43301700</td>\n",
              "      <td>2.093785</td>\n",
              "      <td>UP</td>\n",
              "    </tr>\n",
              "    <tr>\n",
              "      <th>2023-05-26</th>\n",
              "      <td>324.019989</td>\n",
              "      <td>333.399994</td>\n",
              "      <td>323.880005</td>\n",
              "      <td>332.890015</td>\n",
              "      <td>36600900</td>\n",
              "      <td>NaN</td>\n",
              "      <td>DOWN</td>\n",
              "    </tr>\n",
              "  </tbody>\n",
              "</table>\n",
              "<p>1627 rows × 7 columns</p>\n",
              "</div>"
            ],
            "text/plain": [
              "                  Open        High         Low       Close    Volume  \\\n",
              "Date                                                                   \n",
              "2016-12-08   61.299999   61.580002   60.840000   61.009998  21220800   \n",
              "2016-12-09   61.180000   61.990002   61.130001   61.970001  27349400   \n",
              "2016-12-12   61.820000   62.299999   61.720001   62.169998  20198100   \n",
              "2016-12-13   62.500000   63.419998   62.240002   62.980000  35718900   \n",
              "2016-12-14   63.000000   63.450001   62.529999   62.680000  30352700   \n",
              "...                ...         ...         ...         ...       ...   \n",
              "2023-05-22  318.600006  322.589996  318.010010  321.179993  24115700   \n",
              "2023-05-23  320.029999  322.720001  315.250000  315.260010  30797200   \n",
              "2023-05-24  314.730011  316.500000  312.609985  313.850006  23384900   \n",
              "2023-05-25  323.239990  326.899994  320.000000  325.920013  43301700   \n",
              "2023-05-26  324.019989  333.399994  323.880005  332.890015  36600900   \n",
              "\n",
              "            change_tomorrow change_tomorrow_direction  \n",
              "Date                                                   \n",
              "2016-12-08         1.549141                        UP  \n",
              "2016-12-09         0.321694                        UP  \n",
              "2016-12-12         1.286125                        UP  \n",
              "2016-12-13        -0.478620                      DOWN  \n",
              "2016-12-14        -0.159793                      DOWN  \n",
              "...                     ...                       ...  \n",
              "2023-05-22        -1.877810                      DOWN  \n",
              "2023-05-23        -0.449260                      DOWN  \n",
              "2023-05-24         3.703365                        UP  \n",
              "2023-05-25         2.093785                        UP  \n",
              "2023-05-26              NaN                      DOWN  \n",
              "\n",
              "[1627 rows x 7 columns]"
            ]
          },
          "execution_count": 56,
          "metadata": {},
          "output_type": "execute_result"
        }
      ],
      "source": [
        "microsoft_linkedin"
      ]
    },
    {
      "cell_type": "code",
      "execution_count": 58,
      "id": "2f79c350",
      "metadata": {},
      "outputs": [
        {
          "data": {
            "text/plain": [
              "change_tomorrow_direction\n",
              "UP      869\n",
              "DOWN    758\n",
              "Name: count, dtype: int64"
            ]
          },
          "execution_count": 58,
          "metadata": {},
          "output_type": "execute_result"
        }
      ],
      "source": [
        "microsoft_linkedin['change_tomorrow_direction'].value_counts()"
      ]
    },
    {
      "cell_type": "code",
      "execution_count": 57,
      "id": "97436697",
      "metadata": {},
      "outputs": [
        {
          "data": {
            "text/plain": [
              "<Axes: xlabel='Date'>"
            ]
          },
          "execution_count": 57,
          "metadata": {},
          "output_type": "execute_result"
        },
        {
          "data": {
            "image/png": "[encoded data removed]",
            "text/plain": [
              "<Figure size 640x480 with 1 Axes>"
            ]
          },
          "metadata": {},
          "output_type": "display_data"
        }
      ],
      "source": [
        "microsoft_linkedin['Close'].plot()"
      ]
    },
    {
      "attachments": {},
      "cell_type": "markdown",
      "id": "911f9a25-0dc0-4e2d-a39a-c0c3b33547b8",
      "metadata": {},
      "source": [
        "## Export preprocessed DataFrame into an Excel"
      ]
    },
    {
      "cell_type": "code",
      "execution_count": null,
      "id": "b0c87b0f",
      "metadata": {},
      "outputs": [],
      "source": [
        "microsoft_linkedin.to_excel('data/Microsoft_LinkedIn_Processed.xlsx')"
      ]
    }
  ],
  "metadata": {
    "kernelspec": {
      "display_name": "practical-python-for-algorithmic-trading",
      "language": "python",
      "name": "python3"
    },
    "language_info": {
      "codemirror_mode": {
        "name": "ipython",
        "version": 3
      },
      "file_extension": ".py",
      "mimetype": "text/x-python",
      "name": "python",
      "nbconvert_exporter": "python",
      "pygments_lexer": "ipython3",
      "version": "3.12.7"
    }
  },
  "nbformat": 4,
  "nbformat_minor": 5
}
