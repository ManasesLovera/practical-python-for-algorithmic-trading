{
 "cells": [
  {
   "attachments": {},
   "cell_type": "markdown",
   "id": "1834c01c-a4e3-4064-9d85-dd51ca17cd3f",
   "metadata": {},
   "source": [
    "# Challenge: Backtest on Other Datasets"
   ]
  },
  {
   "attachments": {},
   "cell_type": "markdown",
   "id": "b62bbd66-36cd-4c33-a6f1-e102702923a5",
   "metadata": {},
   "source": [
    "## Download data from `yfinance`"
   ]
  },
  {
   "cell_type": "code",
   "execution_count": 26,
   "id": "6413f2e3-656e-4847-be24-fc179bec23ac",
   "metadata": {},
   "outputs": [],
   "source": [
    "import yfinance as yf\n",
    "import pandas as pd"
   ]
  },
  {
   "cell_type": "code",
   "execution_count": 28,
   "id": "a3f91d9e-1d90-4111-a92d-119a74f6ba7d",
   "metadata": {},
   "outputs": [
    {
     "name": "stderr",
     "output_type": "stream",
     "text": [
      "/tmp/ipykernel_5961/1516907722.py:1: FutureWarning: YF.download() has changed argument auto_adjust default to True\n",
      "  df_netflix: pd.DataFrame = yf.download(tickers='NFLX', start='2002-05-22') # pyright: ignore[reportAssignmentType]\n",
      "[*********************100%***********************]  1 of 1 completed\n"
     ]
    }
   ],
   "source": [
    "df_netflix: pd.DataFrame = yf.download(tickers='NFLX', start='2002-05-22') # pyright: ignore[reportAssignmentType]"
   ]
  },
  {
   "cell_type": "code",
   "execution_count": 29,
   "id": "5389f805",
   "metadata": {},
   "outputs": [],
   "source": [
    "df_netflix.columns = df_netflix.columns.droplevel(1)"
   ]
  },
  {
   "cell_type": "code",
   "execution_count": 30,
   "id": "93b541a0",
   "metadata": {},
   "outputs": [
    {
     "data": {
      "text/html": [
       "<div>\n",
       "<style scoped>\n",
       "    .dataframe tbody tr th:only-of-type {\n",
       "        vertical-align: middle;\n",
       "    }\n",
       "\n",
       "    .dataframe tbody tr th {\n",
       "        vertical-align: top;\n",
       "    }\n",
       "\n",
       "    .dataframe thead th {\n",
       "        text-align: right;\n",
       "    }\n",
       "</style>\n",
       "<table border=\"1\" class=\"dataframe\">\n",
       "  <thead>\n",
       "    <tr style=\"text-align: right;\">\n",
       "      <th>Price</th>\n",
       "      <th>Close</th>\n",
       "      <th>High</th>\n",
       "      <th>Low</th>\n",
       "      <th>Open</th>\n",
       "      <th>Volume</th>\n",
       "    </tr>\n",
       "    <tr>\n",
       "      <th>Date</th>\n",
       "      <th></th>\n",
       "      <th></th>\n",
       "      <th></th>\n",
       "      <th></th>\n",
       "      <th></th>\n",
       "    </tr>\n",
       "  </thead>\n",
       "  <tbody>\n",
       "    <tr>\n",
       "      <th>2002-05-23</th>\n",
       "      <td>1.196429</td>\n",
       "      <td>1.242857</td>\n",
       "      <td>1.145714</td>\n",
       "      <td>1.156429</td>\n",
       "      <td>104790000</td>\n",
       "    </tr>\n",
       "    <tr>\n",
       "      <th>2002-05-24</th>\n",
       "      <td>1.210000</td>\n",
       "      <td>1.225000</td>\n",
       "      <td>1.197143</td>\n",
       "      <td>1.214286</td>\n",
       "      <td>11104800</td>\n",
       "    </tr>\n",
       "    <tr>\n",
       "      <th>2002-05-28</th>\n",
       "      <td>1.157143</td>\n",
       "      <td>1.232143</td>\n",
       "      <td>1.157143</td>\n",
       "      <td>1.213571</td>\n",
       "      <td>6609400</td>\n",
       "    </tr>\n",
       "    <tr>\n",
       "      <th>2002-05-29</th>\n",
       "      <td>1.103571</td>\n",
       "      <td>1.164286</td>\n",
       "      <td>1.085714</td>\n",
       "      <td>1.164286</td>\n",
       "      <td>6757800</td>\n",
       "    </tr>\n",
       "    <tr>\n",
       "      <th>2002-05-30</th>\n",
       "      <td>1.071429</td>\n",
       "      <td>1.107857</td>\n",
       "      <td>1.071429</td>\n",
       "      <td>1.107857</td>\n",
       "      <td>10154200</td>\n",
       "    </tr>\n",
       "    <tr>\n",
       "      <th>...</th>\n",
       "      <td>...</td>\n",
       "      <td>...</td>\n",
       "      <td>...</td>\n",
       "      <td>...</td>\n",
       "      <td>...</td>\n",
       "    </tr>\n",
       "    <tr>\n",
       "      <th>2025-10-07</th>\n",
       "      <td>1191.060059</td>\n",
       "      <td>1201.369995</td>\n",
       "      <td>1177.459961</td>\n",
       "      <td>1177.790039</td>\n",
       "      <td>3309100</td>\n",
       "    </tr>\n",
       "    <tr>\n",
       "      <th>2025-10-08</th>\n",
       "      <td>1214.250000</td>\n",
       "      <td>1217.390015</td>\n",
       "      <td>1192.000000</td>\n",
       "      <td>1197.109985</td>\n",
       "      <td>2851400</td>\n",
       "    </tr>\n",
       "    <tr>\n",
       "      <th>2025-10-09</th>\n",
       "      <td>1231.069946</td>\n",
       "      <td>1237.500000</td>\n",
       "      <td>1211.819946</td>\n",
       "      <td>1214.250000</td>\n",
       "      <td>2824100</td>\n",
       "    </tr>\n",
       "    <tr>\n",
       "      <th>2025-10-10</th>\n",
       "      <td>1220.079956</td>\n",
       "      <td>1247.000000</td>\n",
       "      <td>1219.099976</td>\n",
       "      <td>1229.000000</td>\n",
       "      <td>4279800</td>\n",
       "    </tr>\n",
       "    <tr>\n",
       "      <th>2025-10-13</th>\n",
       "      <td>1219.030029</td>\n",
       "      <td>1231.119995</td>\n",
       "      <td>1206.810059</td>\n",
       "      <td>1221.349976</td>\n",
       "      <td>2458600</td>\n",
       "    </tr>\n",
       "  </tbody>\n",
       "</table>\n",
       "<p>5886 rows × 5 columns</p>\n",
       "</div>"
      ],
      "text/plain": [
       "Price             Close         High          Low         Open     Volume\n",
       "Date                                                                     \n",
       "2002-05-23     1.196429     1.242857     1.145714     1.156429  104790000\n",
       "2002-05-24     1.210000     1.225000     1.197143     1.214286   11104800\n",
       "2002-05-28     1.157143     1.232143     1.157143     1.213571    6609400\n",
       "2002-05-29     1.103571     1.164286     1.085714     1.164286    6757800\n",
       "2002-05-30     1.071429     1.107857     1.071429     1.107857   10154200\n",
       "...                 ...          ...          ...          ...        ...\n",
       "2025-10-07  1191.060059  1201.369995  1177.459961  1177.790039    3309100\n",
       "2025-10-08  1214.250000  1217.390015  1192.000000  1197.109985    2851400\n",
       "2025-10-09  1231.069946  1237.500000  1211.819946  1214.250000    2824100\n",
       "2025-10-10  1220.079956  1247.000000  1219.099976  1229.000000    4279800\n",
       "2025-10-13  1219.030029  1231.119995  1206.810059  1221.349976    2458600\n",
       "\n",
       "[5886 rows x 5 columns]"
      ]
     },
     "execution_count": 30,
     "metadata": {},
     "output_type": "execute_result"
    }
   ],
   "source": [
    "df_netflix"
   ]
  },
  {
   "attachments": {},
   "cell_type": "markdown",
   "id": "89c73f63-3a7b-4d80-9b1a-e81c905cc10c",
   "metadata": {},
   "source": [
    "## Preprocess the data"
   ]
  },
  {
   "attachments": {},
   "cell_type": "markdown",
   "id": "320cc06b-feda-4c12-a203-f4b16ff980d3",
   "metadata": {},
   "source": [
    "### Filter the date range\n",
    "\n",
    "- Since 1 year ago at least"
   ]
  },
  {
   "cell_type": "code",
   "execution_count": null,
   "id": "c2196bbb-1f78-4b6a-a6e7-fe7d476f977a",
   "metadata": {},
   "outputs": [],
   "source": []
  },
  {
   "attachments": {},
   "cell_type": "markdown",
   "id": "c33425fb-4c7b-4e22-8db9-6203c789ec44",
   "metadata": {},
   "source": [
    "### Create the target variable\n",
    "\n",
    "#### Percentage change\n",
    "\n",
    "- Percentage change on `Adj Close` for tomorrow"
   ]
  },
  {
   "cell_type": "code",
   "execution_count": null,
   "id": "3494df13-ae8d-4aa2-bd03-29af1eb34bee",
   "metadata": {},
   "outputs": [],
   "source": [
    "df_netflix.pct_change()"
   ]
  },
  {
   "attachments": {},
   "cell_type": "markdown",
   "id": "de5a655d-7bed-484f-b19b-67e356bd6802",
   "metadata": {},
   "source": [
    "#### Drop rows with any missing data"
   ]
  },
  {
   "cell_type": "code",
   "execution_count": null,
   "id": "21684b4e-ffb8-426b-a5b5-a7d96c9d2df0",
   "metadata": {},
   "outputs": [],
   "source": [
    "df_netflix.dropna()"
   ]
  },
  {
   "attachments": {},
   "cell_type": "markdown",
   "id": "c1acc712-f434-4719-acd7-fad2600c1473",
   "metadata": {},
   "source": [
    "#### Change sign\n",
    "\n",
    "Did the stock go up or down?"
   ]
  },
  {
   "cell_type": "code",
   "execution_count": null,
   "id": "03d867e6-c8c4-45b5-9b01-d6ce9761cabd",
   "metadata": {},
   "outputs": [],
   "source": []
  },
  {
   "attachments": {},
   "cell_type": "markdown",
   "id": "b3196153-c4af-4863-b1be-1017deefa2f5",
   "metadata": {},
   "source": [
    "## Compute Machine Learning model\n",
    "\n",
    "Proposal: Random Forest within `ensemble` module of `sklearn` library"
   ]
  },
  {
   "cell_type": "code",
   "execution_count": null,
   "id": "7884de1a-3f66-4af6-8c44-2b9ce486f716",
   "metadata": {},
   "outputs": [],
   "source": [
    "from sklearn.ensemble import RandomForestClassifier"
   ]
  },
  {
   "attachments": {},
   "cell_type": "markdown",
   "id": "2072c20e-d9dd-4620-a658-8aa2988aec2c",
   "metadata": {},
   "source": [
    "## Backtesting"
   ]
  },
  {
   "attachments": {},
   "cell_type": "markdown",
   "id": "88943e4c-b9bd-41d0-b679-25f1a28c0171",
   "metadata": {},
   "source": [
    "### Create the Strategy"
   ]
  },
  {
   "cell_type": "code",
   "execution_count": null,
   "id": "36846232-ac80-4759-9b09-27781888c78b",
   "metadata": {},
   "outputs": [],
   "source": [
    "from backtesting import "
   ]
  },
  {
   "attachments": {},
   "cell_type": "markdown",
   "id": "5b01b553-3322-45a5-a4d6-7599aaa81eef",
   "metadata": {},
   "source": [
    "### Run the Backtest"
   ]
  },
  {
   "cell_type": "code",
   "execution_count": null,
   "id": "8e866dee-4108-4133-af4b-9ebe36c17f82",
   "metadata": {},
   "outputs": [],
   "source": [
    "bt = Backtest(\n",
    "    ???, ???, cash=10000,\n",
    "    commission=.002, exclusive_orders=True\n",
    ")"
   ]
  },
  {
   "attachments": {},
   "cell_type": "markdown",
   "id": "8c912ebe-6f57-4b7b-bf06-469f1c339694",
   "metadata": {},
   "source": [
    "### Show the report in a DataFrame"
   ]
  },
  {
   "cell_type": "code",
   "execution_count": null,
   "id": "2cfeaf99-3afd-412e-b17e-9b1bbeae921a",
   "metadata": {},
   "outputs": [],
   "source": []
  },
  {
   "attachments": {},
   "cell_type": "markdown",
   "id": "4f7eb460-df2f-43a9-a358-67ef9e0606b1",
   "metadata": {},
   "source": [
    "## Plot the backtest report"
   ]
  },
  {
   "attachments": {},
   "cell_type": "markdown",
   "id": "310b3349-d3ab-4c84-a806-a1819faf8e4e",
   "metadata": {},
   "source": [
    "> Don't worry about this new tool just yet, we will explain in a future chapter how to interpret the following chart."
   ]
  },
  {
   "cell_type": "code",
   "execution_count": null,
   "id": "ab7d8157-3278-42a3-8cb8-6717caeb64bf",
   "metadata": {},
   "outputs": [],
   "source": []
  },
  {
   "attachments": {},
   "cell_type": "markdown",
   "id": "33366f1a",
   "metadata": {},
   "source": [
    "## How to invest based on the numerical increase?\n",
    "\n",
    "> Instead of the direction (UP or DOWN)\n",
    "\n",
    "Next chapter → [Backtesting with Regression Models]()"
   ]
  },
  {
   "attachments": {},
   "cell_type": "markdown",
   "id": "b21f8382",
   "metadata": {},
   "source": [
    "Classification Model | Regression Model\n",
    "-|-\n",
    "![](src/pred_classification.png) | ![](src/pred_regression.png)"
   ]
  },
  {
   "attachments": {},
   "cell_type": "markdown",
   "id": "c7f8eb5b",
   "metadata": {},
   "source": [
    "Classification Strategy | Regression Strategy\n",
    "-|-\n",
    "![](src/res_classification.png) | ![](src/res_regression.png)"
   ]
  }
 ],
 "metadata": {
  "kernelspec": {
   "display_name": "practical-python-for-algorithmic-trading",
   "language": "python",
   "name": "python3"
  },
  "language_info": {
   "codemirror_mode": {
    "name": "ipython",
    "version": 3
   },
   "file_extension": ".py",
   "mimetype": "text/x-python",
   "name": "python",
   "nbconvert_exporter": "python",
   "pygments_lexer": "ipython3",
   "version": "3.12.7"
  }
 },
 "nbformat": 4,
 "nbformat_minor": 5
}
